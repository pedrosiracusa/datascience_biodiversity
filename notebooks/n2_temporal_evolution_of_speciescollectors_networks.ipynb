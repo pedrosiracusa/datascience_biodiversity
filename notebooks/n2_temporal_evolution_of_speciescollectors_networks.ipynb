{
 "cells": [
  {
   "cell_type": "markdown",
   "metadata": {},
   "source": [
    "<h1><center>Temporal evolution of species-collectors networks</center></h1>\n",
    "<h2><center>University of Brasília Herbarium (UB) dataset</center></h2>\n",
    "\n",
    "<h4><center>Author: Pedro Correia de Siracusa</center></h4>\n",
    "<h4><center>Date: May 23, 2017</center></h4>\n",
    "\n",
    "---"
   ]
  },
  {
   "cell_type": "markdown",
   "metadata": {},
   "source": [
    "On section 3 of the previous notebook I explored the structure of a species-collector network at Fazenda Água Limpa and identified the top-5 collectors in terms of the number of species they have collected. Now I will take a closer look at the recording history of those collectors. Here I explore the temporal evolution of the network formed by collectors and the species they have recorded (species-collectors network)."
   ]
  },
  {
   "cell_type": "markdown",
   "metadata": {},
   "source": [
    "<h3>Table of Contents</h3>\n",
    "\n",
    "<ul>\n",
    "    <li><a href=\"#1\">1. Collectors and their records through time</a>\n",
    "        <ul>\n",
    "            <li><a href=\"#1.1\">1.1 The overlapped view</a></li>\n",
    "            <li><a href=\"#1.2\">1.2 The snapshot view</a></li>\n",
    "        </ul>     \n",
    "    </li>\n",
    "    \n",
    "    <li><a href=\"#2\">2. Who is Ratter, JA?</a>\n",
    "    </li>\n",
    "    \n",
    "    <li><a href=\"#3\">3. Who has worked with whom?</a>\n",
    "        <ul>\n",
    "            <li><a href=\"#3.1\">3.1 The species-collectors network</a></li>\n",
    "            <li><a href=\"#3.2\">3.2 Understanding the story</a></li>\n",
    "        </ul>    \n",
    "    </li>\n",
    "    \n",
    "</ul>        "
   ]
  },
  {
   "cell_type": "code",
   "execution_count": 1,
   "metadata": {
    "collapsed": false
   },
   "outputs": [],
   "source": [
    "import os,datetime, subprocess\n",
    "\n",
    "import numpy as np\n",
    "import pandas as pd\n",
    "import matplotlib as mpl\n",
    "import networkx as nx\n",
    "\n",
    "from matplotlib import pyplot as plt\n",
    "\n",
    "plt.rcParams['figure.figsize']=(10,10)\n",
    "\n",
    "animations_dir = os.path.join(os.path.curdir, 'animations')"
   ]
  },
  {
   "cell_type": "code",
   "execution_count": 2,
   "metadata": {
    "collapsed": false
   },
   "outputs": [],
   "source": [
    "colsList = ['scientificName', 'taxonRank', 'family', \n",
    "            'stateProvince', 'locality', 'municipality', \n",
    "            'hasCoordinate', 'decimalLatitude', 'decimalLongitude',\n",
    "            'recordedBy', 'identifiedBy', 'occurrenceRemarks',\n",
    "            'eventDate', 'issue']"
   ]
  },
  {
   "cell_type": "code",
   "execution_count": 3,
   "metadata": {
    "collapsed": false
   },
   "outputs": [
    {
     "name": "stderr",
     "output_type": "stream",
     "text": [
      "/home/pedro/anaconda3/lib/python3.6/site-packages/IPython/core/interactiveshell.py:2717: DtypeWarning: Columns (217) have mixed types. Specify dtype option on import or set low_memory=False.\n",
      "  interactivity=interactivity, compiler=compiler, result=result)\n"
     ]
    }
   ],
   "source": [
    "ub_dset = pd.read_csv('./0077202-160910150852091/occurrence.txt', sep='\\t', \n",
    "                 warn_bad_lines=False, \n",
    "                 error_bad_lines=False, \n",
    "                 usecols=colsList)"
   ]
  },
  {
   "cell_type": "markdown",
   "metadata": {},
   "source": [
    "For this analysis I will only use records which refer to the taxonomic resolution of `SPECIES`. Also, I will filter out records with null values for either the name of the collector (`recordedBy`) or the collection date (`eventDate`). As the records at the `eventDate` columns are retrieved from the data file as strings, I will explicitly convert them to `datetime` type."
   ]
  },
  {
   "cell_type": "code",
   "execution_count": 4,
   "metadata": {
    "collapsed": false
   },
   "outputs": [],
   "source": [
    "# filter data\n",
    "ub_dset = ub_dset[ ub_dset['recordedBy'].notnull() & ub_dset['eventDate'].notnull() ]\n",
    "ub_dset = ub_dset[ ub_dset['taxonRank']=='SPECIES' ]\n",
    "\n",
    "# convert eventDate strings to date\n",
    "ub_dset['eventDate'] = pd.to_datetime(ub_dset['eventDate'], format=\"%Y-%m-%dT%H:%MZ\")"
   ]
  },
  {
   "cell_type": "code",
   "execution_count": 5,
   "metadata": {
    "collapsed": false
   },
   "outputs": [
    {
     "data": {
      "text/html": [
       "<div>\n",
       "<table border=\"1\" class=\"dataframe\">\n",
       "  <thead>\n",
       "    <tr style=\"text-align: right;\">\n",
       "      <th></th>\n",
       "      <th>recordedBy</th>\n",
       "      <th>occurrenceRemarks</th>\n",
       "      <th>eventDate</th>\n",
       "      <th>stateProvince</th>\n",
       "      <th>municipality</th>\n",
       "      <th>locality</th>\n",
       "      <th>decimalLatitude</th>\n",
       "      <th>decimalLongitude</th>\n",
       "      <th>identifiedBy</th>\n",
       "      <th>scientificName</th>\n",
       "      <th>family</th>\n",
       "      <th>taxonRank</th>\n",
       "      <th>issue</th>\n",
       "      <th>hasCoordinate</th>\n",
       "    </tr>\n",
       "  </thead>\n",
       "  <tbody>\n",
       "    <tr>\n",
       "      <th>0</th>\n",
       "      <td>Anderson, WR; Arroyo, MTK; Hill, SR; Santos, R...</td>\n",
       "      <td>Rocky slope.; Shrub 0,5 m. Fruto green, mature...</td>\n",
       "      <td>1973-03-11 01:00:00</td>\n",
       "      <td>Goiás</td>\n",
       "      <td>NaN</td>\n",
       "      <td>8 km by road W of Monte Alegre.</td>\n",
       "      <td>0.00</td>\n",
       "      <td>0.00</td>\n",
       "      <td>Delprete, PG</td>\n",
       "      <td>Sabicea brasiliensis Wernham</td>\n",
       "      <td>Rubiaceae</td>\n",
       "      <td>SPECIES</td>\n",
       "      <td>ZERO_COORDINATE;GEODETIC_DATUM_ASSUMED_WGS84;C...</td>\n",
       "      <td>True</td>\n",
       "    </tr>\n",
       "    <tr>\n",
       "      <th>1</th>\n",
       "      <td>Irwin, HS; Souza, R; Santos, RR</td>\n",
       "      <td>Corolla white.; Shrub 1 m. Fruto green, maturi...</td>\n",
       "      <td>1965-12-03 01:00:00</td>\n",
       "      <td>Goiás</td>\n",
       "      <td>NaN</td>\n",
       "      <td>Serra de Pirineus. 20 km S. of Corumbá de Goiás.</td>\n",
       "      <td>-16.00</td>\n",
       "      <td>-49.00</td>\n",
       "      <td>Delprete, PG</td>\n",
       "      <td>Sabicea brasiliensis Wernham</td>\n",
       "      <td>Rubiaceae</td>\n",
       "      <td>SPECIES</td>\n",
       "      <td>GEODETIC_DATUM_ASSUMED_WGS84</td>\n",
       "      <td>True</td>\n",
       "    </tr>\n",
       "    <tr>\n",
       "      <th>2</th>\n",
       "      <td>Heringer, EP; Eiten, G</td>\n",
       "      <td>Soil full of quartz stones derived from quartz...</td>\n",
       "      <td>1974-12-20 01:00:00</td>\n",
       "      <td>Goiás</td>\n",
       "      <td>Caldas Novas</td>\n",
       "      <td>At headwaters of creek, Rio Quente, near hotel...</td>\n",
       "      <td>-17.80</td>\n",
       "      <td>-48.75</td>\n",
       "      <td>Delprete, PG</td>\n",
       "      <td>Sabicea brasiliensis Wernham</td>\n",
       "      <td>Rubiaceae</td>\n",
       "      <td>SPECIES</td>\n",
       "      <td>GEODETIC_DATUM_ASSUMED_WGS84</td>\n",
       "      <td>True</td>\n",
       "    </tr>\n",
       "    <tr>\n",
       "      <th>3</th>\n",
       "      <td>Anderson, WR; Hill, SR; Santos, RR; Souza, R</td>\n",
       "      <td>Shrub 0,4 m. Fruto red.; Cerrado.</td>\n",
       "      <td>1973-05-11 01:00:00</td>\n",
       "      <td>Goiás</td>\n",
       "      <td>NaN</td>\n",
       "      <td>Serra Dourada. 16 km S of Goiás Velho.</td>\n",
       "      <td>0.00</td>\n",
       "      <td>0.00</td>\n",
       "      <td>Delprete, PG</td>\n",
       "      <td>Sabicea brasiliensis Wernham</td>\n",
       "      <td>Rubiaceae</td>\n",
       "      <td>SPECIES</td>\n",
       "      <td>ZERO_COORDINATE;GEODETIC_DATUM_ASSUMED_WGS84;C...</td>\n",
       "      <td>True</td>\n",
       "    </tr>\n",
       "    <tr>\n",
       "      <th>4</th>\n",
       "      <td>Harley, RM; Giulietti, AML</td>\n",
       "      <td>Small tree 3 m; Cerrado.</td>\n",
       "      <td>1968-12-26 01:00:00</td>\n",
       "      <td>Goiás</td>\n",
       "      <td>Pirenópolis</td>\n",
       "      <td>NaN</td>\n",
       "      <td>-15.75</td>\n",
       "      <td>-48.75</td>\n",
       "      <td>Delprete, PG</td>\n",
       "      <td>Rudgea viburnoides (Cham.) Benth.</td>\n",
       "      <td>Rubiaceae</td>\n",
       "      <td>SPECIES</td>\n",
       "      <td>GEODETIC_DATUM_ASSUMED_WGS84</td>\n",
       "      <td>True</td>\n",
       "    </tr>\n",
       "  </tbody>\n",
       "</table>\n",
       "</div>"
      ],
      "text/plain": [
       "                                          recordedBy  \\\n",
       "0  Anderson, WR; Arroyo, MTK; Hill, SR; Santos, R...   \n",
       "1                    Irwin, HS; Souza, R; Santos, RR   \n",
       "2                             Heringer, EP; Eiten, G   \n",
       "3       Anderson, WR; Hill, SR; Santos, RR; Souza, R   \n",
       "4                         Harley, RM; Giulietti, AML   \n",
       "\n",
       "                                   occurrenceRemarks           eventDate  \\\n",
       "0  Rocky slope.; Shrub 0,5 m. Fruto green, mature... 1973-03-11 01:00:00   \n",
       "1  Corolla white.; Shrub 1 m. Fruto green, maturi... 1965-12-03 01:00:00   \n",
       "2  Soil full of quartz stones derived from quartz... 1974-12-20 01:00:00   \n",
       "3                  Shrub 0,4 m. Fruto red.; Cerrado. 1973-05-11 01:00:00   \n",
       "4                           Small tree 3 m; Cerrado. 1968-12-26 01:00:00   \n",
       "\n",
       "  stateProvince  municipality  \\\n",
       "0         Goiás           NaN   \n",
       "1         Goiás           NaN   \n",
       "2         Goiás  Caldas Novas   \n",
       "3         Goiás           NaN   \n",
       "4         Goiás   Pirenópolis   \n",
       "\n",
       "                                            locality  decimalLatitude  \\\n",
       "0                    8 km by road W of Monte Alegre.             0.00   \n",
       "1   Serra de Pirineus. 20 km S. of Corumbá de Goiás.           -16.00   \n",
       "2  At headwaters of creek, Rio Quente, near hotel...           -17.80   \n",
       "3             Serra Dourada. 16 km S of Goiás Velho.             0.00   \n",
       "4                                                NaN           -15.75   \n",
       "\n",
       "   decimalLongitude  identifiedBy                     scientificName  \\\n",
       "0              0.00  Delprete, PG       Sabicea brasiliensis Wernham   \n",
       "1            -49.00  Delprete, PG       Sabicea brasiliensis Wernham   \n",
       "2            -48.75  Delprete, PG       Sabicea brasiliensis Wernham   \n",
       "3              0.00  Delprete, PG       Sabicea brasiliensis Wernham   \n",
       "4            -48.75  Delprete, PG  Rudgea viburnoides (Cham.) Benth.   \n",
       "\n",
       "      family taxonRank                                              issue  \\\n",
       "0  Rubiaceae   SPECIES  ZERO_COORDINATE;GEODETIC_DATUM_ASSUMED_WGS84;C...   \n",
       "1  Rubiaceae   SPECIES                       GEODETIC_DATUM_ASSUMED_WGS84   \n",
       "2  Rubiaceae   SPECIES                       GEODETIC_DATUM_ASSUMED_WGS84   \n",
       "3  Rubiaceae   SPECIES  ZERO_COORDINATE;GEODETIC_DATUM_ASSUMED_WGS84;C...   \n",
       "4  Rubiaceae   SPECIES                       GEODETIC_DATUM_ASSUMED_WGS84   \n",
       "\n",
       "  hasCoordinate  \n",
       "0          True  \n",
       "1          True  \n",
       "2          True  \n",
       "3          True  \n",
       "4          True  "
      ]
     },
     "execution_count": 5,
     "metadata": {},
     "output_type": "execute_result"
    }
   ],
   "source": [
    "ub_dset.head()"
   ]
  },
  {
   "cell_type": "markdown",
   "metadata": {},
   "source": [
    "# 1. Collectors and their records through time\n",
    "<a name=\"1\"></a>"
   ]
  },
  {
   "cell_type": "markdown",
   "metadata": {},
   "source": [
    "On this section I develop the first routines for obtaining species-collectors networks that evolve in time. First I build a timeseries of all the records obtained by the collectors of our interest, which will be used to build a graph containing all the collectors and species they have recorded. Given a period of interest (monthly or yearly), the occurrences will be aggregated into frames, which will be displayed sequentially and compose a simple animation."
   ]
  },
  {
   "cell_type": "markdown",
   "metadata": {},
   "source": [
    "First we must define a list of collectors of interest, which will initially be used to filter the dataset. If there is only one collector of interest, it should be a list of length 1."
   ]
  },
  {
   "cell_type": "code",
   "execution_count": 6,
   "metadata": {
    "collapsed": true
   },
   "outputs": [],
   "source": [
    "collectors = ['Ratter, JA']"
   ]
  },
  {
   "cell_type": "markdown",
   "metadata": {},
   "source": [
    "By inspecting the `recordedBy` column of the dataset, however, we realize that it is not atomic. The names of the collectors which are responsible for each record are separated by semicolons. The following routine retrieves all the records in the dataset which have been recorded by the collectors passed in:"
   ]
  },
  {
   "cell_type": "code",
   "execution_count": 7,
   "metadata": {
    "collapsed": true
   },
   "outputs": [],
   "source": [
    "def getRecordsBy(df, collectors):\n",
    "    df = df[df['recordedBy'].notnull()]\n",
    "    if df.size>0:\n",
    "        col_lists = df['recordedBy'].apply( lambda row: [ c.strip() for c in row.split(';') if c.strip()!='']) \n",
    "        return df[ [ any(c in collectors for c in col_list) for col_list in col_lists ] ]\n",
    "    else:\n",
    "        return df"
   ]
  },
  {
   "cell_type": "markdown",
   "metadata": {},
   "source": [
    "Then, in order to deal with timeseries operations on the dataset optimally I will index it on the `eventDate` column. For more details on time indexing please refer to the pandas timeseries [reference](http://pandas.pydata.org/pandas-docs/stable/timeseries.html#indexing). The timeseries will be assigned to the variable `ts`."
   ]
  },
  {
   "cell_type": "code",
   "execution_count": 8,
   "metadata": {
    "collapsed": false
   },
   "outputs": [],
   "source": [
    "ts = getRecordsBy(ub_dset, collectors).sort_values('eventDate').set_index('eventDate', drop=True)"
   ]
  },
  {
   "cell_type": "markdown",
   "metadata": {},
   "source": [
    "The graph is then built using the entire timeseries. Note that the graph's layout (coordinates of each node, for visualization) will be calculated once based on all its nodes, and assigned to the variable `pos`. This early positioning guarantees that each node will not change its coordinates across each frame on the animation. "
   ]
  },
  {
   "cell_type": "code",
   "execution_count": 9,
   "metadata": {
    "collapsed": true
   },
   "outputs": [],
   "source": [
    "G = nx.Graph()\n",
    "G.add_nodes_from(collectors, bipartite=0)\n",
    "G.add_nodes_from(ts['scientificName'], bipartite=1)\n",
    "G.add_edges_from([ (col,sp) for col in collectors for sp in getRecordsBy(ts,col)['scientificName'] ])\n",
    "\n",
    "pos = nx.spring_layout(G)"
   ]
  },
  {
   "cell_type": "markdown",
   "metadata": {},
   "source": [
    "The frames set will be represented as a dictionary in which each individual frame (also represented by a `dict`) is indexed by its number. Each frame contains information that is relevant for selectively displaying nodes and edges. For building each frame the routine below converts the datetime index into a period index, which represent, in pandas, a [time interval](http://pandas.pydata.org/pandas-docs/stable/timeseries.html#time-span-representation). The frequency of the period is passed in as the argument `periodFreq` as a [string alias](http://pandas.pydata.org/pandas-docs/stable/timeseries.html#offset-aliases)."
   ]
  },
  {
   "cell_type": "code",
   "execution_count": 10,
   "metadata": {
    "collapsed": false
   },
   "outputs": [],
   "source": [
    "def buildFramesDict(ts, collectors, periodFreq='A'):\n",
    "    \n",
    "    frames = {}\n",
    "    ts = getRecordsBy(ts, collectors)\n",
    "    \n",
    "    periodRange = pd.period_range(start=ts.index[0], end=ts.index[-1], freq=periodFreq)\n",
    "    ts = ts.to_period(periodFreq)\n",
    "\n",
    "    for i,p in enumerate(periodRange):\n",
    "        ts_thisperiod = ts[str(p)]\n",
    "        ts_uptothisperiod = ts.loc[periodRange[0:i+1]]\n",
    "        \n",
    "        splist = list(ts_thisperiod['scientificName'])\n",
    "        cum_sp_counts = ts_uptothisperiod['scientificName'].value_counts()\n",
    "        \n",
    "        frames[i]={}\n",
    "        frames[i]['period'] = p\n",
    "        frames[i]['collectors'] = collectors\n",
    "        frames[i]['species'] = splist\n",
    "        frames[i]['species_counts'] = [ cum_sp_counts[sp] for sp in splist ]\n",
    "        frames[i]['edges'] = [ (col,sp) for col in collectors for sp in getRecordsBy(ts_thisperiod, col)['scientificName'] ]\n",
    "        frames[i]['collectors_k'] = [ getRecordsBy(ts_uptothisperiod, c)['scientificName'].unique().size for c in collectors ]\n",
    "               \n",
    "    return frames"
   ]
  },
  {
   "cell_type": "markdown",
   "metadata": {},
   "source": [
    "Let's get the frames for our graph, built from the history of records from *Ratter, JA*: "
   ]
  },
  {
   "cell_type": "code",
   "execution_count": 11,
   "metadata": {
    "collapsed": false
   },
   "outputs": [],
   "source": [
    "frames_dict = buildFramesDict(ts, collectors, periodFreq='A')"
   ]
  },
  {
   "cell_type": "markdown",
   "metadata": {},
   "source": [
    "To get an overview of the structure of each frame we take a look at frame 0. The key `collectors_k` refers to the cumulative degree of each collector at the specific frame. Being cumulative means that the degree is increased by the number of new species collected at new frames. The key `species_counts` is the cumulative count (since the first frame) for each species on a given frame."
   ]
  },
  {
   "cell_type": "code",
   "execution_count": 12,
   "metadata": {
    "collapsed": false
   },
   "outputs": [
    {
     "data": {
      "text/plain": [
       "{'collectors': ['Ratter, JA'],\n",
       " 'collectors_k': [4],\n",
       " 'edges': [('Ratter, JA', 'Rapanea guianensis Aubl.'),\n",
       "  ('Ratter, JA', 'Eugenia aurata O.Berg'),\n",
       "  ('Ratter, JA', 'Ocotea minarum (Nees & Mart.) Mez'),\n",
       "  ('Ratter, JA', 'Pradosia brevipes (Pierre) T.D.Penn.')],\n",
       " 'period': Period('1966', 'A-DEC'),\n",
       " 'species': ['Rapanea guianensis Aubl.',\n",
       "  'Eugenia aurata O.Berg',\n",
       "  'Ocotea minarum (Nees & Mart.) Mez',\n",
       "  'Pradosia brevipes (Pierre) T.D.Penn.'],\n",
       " 'species_counts': [1, 1, 1, 1]}"
      ]
     },
     "execution_count": 12,
     "metadata": {},
     "output_type": "execute_result"
    }
   ],
   "source": [
    "frames_dict[0]"
   ]
  },
  {
   "cell_type": "markdown",
   "metadata": {},
   "source": [
    "Now we can render the frames individually and then use *ffmpeg* to create the animations. The network evolution in time can be inspected in two distinct views. The first is the **overlapped view**, which adds new nodes to previous plots in a cumulative fashion. The second is the **snapshot view**, which plots each frame individually, clearing the plot for consecutive frames."
   ]
  },
  {
   "cell_type": "code",
   "execution_count": 13,
   "metadata": {
    "collapsed": true
   },
   "outputs": [],
   "source": [
    "def renderFrame(G, pos, frames_dict, frameNum, scalingFactor=20, overlapped=True):\n",
    "    \n",
    "    speciesAtFrame = frames_dict[frameNum]['species']\n",
    "    speciesAtFrame_sizes = [i*scalingFactor for i in frames_dict[frameNum]['species_counts'] ]\n",
    "    edgesAtFrame = frames_dict[frameNum]['edges']\n",
    "\n",
    "    # draw species nodes\n",
    "    nx.draw_networkx_nodes(G, pos=pos, \n",
    "                           nodelist=speciesAtFrame, \n",
    "                           node_size=speciesAtFrame_sizes, alpha=0.4)\n",
    "\n",
    "    # draw collector nodes\n",
    "    nx.draw_networkx_nodes(G, pos=pos, \n",
    "                           nodelist=frames_dict[frameNum]['collectors'], node_color='b', \n",
    "                           node_size=frames_dict[frameNum]['collectors_k'] )\n",
    "    \n",
    "    # draw edges\n",
    "    nx.draw_networkx_edges(G, pos=pos, edgelist=edgesAtFrame, width=0.3, alpha=0.3 )\n",
    "    \n",
    "    \n",
    "    if (overlapped==True and frameNum==0) or overlapped==False:\n",
    "        nx.draw_networkx_labels(G, pos=pos, labels=dict([ (c,c) for c in frames_dict[frameNum]['collectors']]) )\n",
    "    \n",
    "    plt.title('Period: '+str(frames_dict[frameNum]['period']))  \n",
    "    return\n",
    "    \n",
    "\n",
    "def renderFrames(saveDir, overlapped=True, **kwargs):\n",
    "    if not os.path.exists(saveDir):\n",
    "        os.makedirs(saveDir)\n",
    "        \n",
    "    for i in frames_dict.keys():\n",
    "        renderFrame(G, pos, frames_dict, frameNum=i, overlapped=overlapped)\n",
    "        \n",
    "        try: plt.xlim(kwargs['xlim'])\n",
    "        except: plt.xlim([-0.1, 1.1])\n",
    "   \n",
    "        try: plt.ylim(kwargs['ylim'])\n",
    "        except: plt.ylim([-0.1, 1.1])\n",
    "            \n",
    "        plt.savefig(os.path.join(saveDir,'fr'+str(i)+'.png'))\n",
    "        \n",
    "        if not overlapped: \n",
    "            plt.clf()\n",
    "            \n",
    "    return plt.clf()\n",
    "\n",
    "\n",
    "def buildAnimation(animName, overlapped=True, **kwargs):\n",
    "    save_dir = os.path.join(animations_dir, animName)\n",
    "    renderFrames( save_dir, overlapped=overlapped, **kwargs )\n",
    "    \n",
    "    # renders video from images\n",
    "    cmd = \"ffmpeg -r 2 -s 1024x720 -start_number 0 -i fr%d.png -vcodec libx264 ../\"+animName+\".mp4\"\n",
    "    subprocess.Popen(cmd, cwd=save_dir, shell=True, stdout=subprocess.PIPE, stderr=subprocess.STDOUT)"
   ]
  },
  {
   "cell_type": "markdown",
   "metadata": {},
   "source": [
    "## 1.1 The overlapped view\n",
    "<a name=\"1.1\"></a>"
   ]
  },
  {
   "cell_type": "markdown",
   "metadata": {},
   "source": [
    "This animation shows the temporal evolution of the species-collector network for the collector *Ratter, JA*. Each red node represents a particular species, and the number of times it was recorded by *Ratter* is represented by its size. The blue node represents *Ratter* himself, which grows according to the number of different species he has collected so far. The overlapped view allows us to have an idea of the importance of the collector in a given time, as we plot species nodes cumulatively."
   ]
  },
  {
   "cell_type": "code",
   "execution_count": 14,
   "metadata": {
    "collapsed": false
   },
   "outputs": [],
   "source": [
    "buildAnimation('n2_anim1_overlapped')"
   ]
  },
  {
   "cell_type": "code",
   "execution_count": 15,
   "metadata": {
    "collapsed": false
   },
   "outputs": [
    {
     "data": {
      "text/html": [
       "<video width=\"720\" height=\"720\" controls autoplay loop>\n",
       "  <source src=\"animations/n2_anim1_overlapped.mp4\" type=\"video/mp4\">\n",
       "</video>"
      ],
      "text/plain": [
       "<IPython.core.display.HTML object>"
      ]
     },
     "metadata": {},
     "output_type": "display_data"
    }
   ],
   "source": [
    "%%HTML\n",
    "<video width=\"720\" height=\"720\" controls autoplay loop>\n",
    "  <source src=\"animations/n2_anim1_overlapped.mp4\" type=\"video/mp4\">\n",
    "</video>"
   ]
  },
  {
   "cell_type": "markdown",
   "metadata": {},
   "source": [
    "## 1.2 The snapshot view\n",
    "<a name=\"1.2\"></a>"
   ]
  },
  {
   "cell_type": "markdown",
   "metadata": {},
   "source": [
    "This animation shows a snapshot view of the temporal evolution of the species-collector network for the collector *Ratter, JA*. This gives us a better idea of how productive the collector was at each period individually. Although we do not have anymore the information of which species have been collected up to a given period, we still have some idea of the importance of the collector on the network by inspecting his node's size, which represents his cumulative degree. From the animation note that *Ratter* has recorded many species particularly on the years of 1968 and 1976 whereas there was apparently no field work on 1970, 1988 or 1995. One limitation of this view is that it is hard to track a particular species in terms of the temporal distribution of its recordings. The total number of times it was recorded by the collectors of interest since the beginning, though, is reflected on the size of the node which represents it. "
   ]
  },
  {
   "cell_type": "code",
   "execution_count": 16,
   "metadata": {
    "collapsed": false
   },
   "outputs": [],
   "source": [
    "buildAnimation('n2_anim1_snapshot', overlapped=False)"
   ]
  },
  {
   "cell_type": "code",
   "execution_count": 17,
   "metadata": {
    "collapsed": false
   },
   "outputs": [
    {
     "data": {
      "text/html": [
       "<video width=\"720\" height=\"720\" controls autoplay loop>\n",
       "  <source src=\"animations/n2_anim1_snapshot.mp4\" type=\"video/mp4\">\n",
       "</video>"
      ],
      "text/plain": [
       "<IPython.core.display.HTML object>"
      ]
     },
     "metadata": {},
     "output_type": "display_data"
    }
   ],
   "source": [
    "%%HTML\n",
    "<video width=\"720\" height=\"720\" controls autoplay loop>\n",
    "  <source src=\"animations/n2_anim1_snapshot.mp4\" type=\"video/mp4\">\n",
    "</video>"
   ]
  },
  {
   "cell_type": "markdown",
   "metadata": {},
   "source": [
    "# 2. Who is *Ratter, JA*?\n",
    "<a name=\"2\"></a>"
   ]
  },
  {
   "cell_type": "markdown",
   "metadata": {},
   "source": [
    "After obtaining the animations above for *Ratter, JA*, \"who is *Ratter*?\", we might ask. *James Ratter* happens to be a collector of the [*Royal Botanic Garden of Edinburgh*](http://www.rbge.org.uk/science/herbarium/about-the-collections/collectors#J_ratter). Since 1966 he has been interested on the Cerrado biome and has been involved with the University of Brasilia, being appointed as one of the founders of the Ecology Department at that university. He was an assiduous visitor, and has contributed ever since to the UnB herbarium collection. From the dataset, apparently his last visit to Brazil was in 2009."
   ]
  },
  {
   "cell_type": "code",
   "execution_count": 18,
   "metadata": {
    "collapsed": false
   },
   "outputs": [
    {
     "data": {
      "text/html": [
       "<div>\n",
       "<table border=\"1\" class=\"dataframe\">\n",
       "  <thead>\n",
       "    <tr style=\"text-align: right;\">\n",
       "      <th></th>\n",
       "      <th>recordedBy</th>\n",
       "      <th>occurrenceRemarks</th>\n",
       "      <th>stateProvince</th>\n",
       "      <th>municipality</th>\n",
       "      <th>locality</th>\n",
       "      <th>decimalLatitude</th>\n",
       "      <th>decimalLongitude</th>\n",
       "      <th>identifiedBy</th>\n",
       "      <th>scientificName</th>\n",
       "      <th>family</th>\n",
       "      <th>taxonRank</th>\n",
       "      <th>issue</th>\n",
       "      <th>hasCoordinate</th>\n",
       "    </tr>\n",
       "    <tr>\n",
       "      <th>eventDate</th>\n",
       "      <th></th>\n",
       "      <th></th>\n",
       "      <th></th>\n",
       "      <th></th>\n",
       "      <th></th>\n",
       "      <th></th>\n",
       "      <th></th>\n",
       "      <th></th>\n",
       "      <th></th>\n",
       "      <th></th>\n",
       "      <th></th>\n",
       "      <th></th>\n",
       "      <th></th>\n",
       "    </tr>\n",
       "  </thead>\n",
       "  <tbody>\n",
       "    <tr>\n",
       "      <th>2000-08-09 02:00:00</th>\n",
       "      <td>Ratter, JA; Bridgewater, S; Fonsêca Filho, J; ...</td>\n",
       "      <td>Small tree , 4m tall, 10 cm dbh, with fawnish ...</td>\n",
       "      <td>Bahia</td>\n",
       "      <td>Cocos</td>\n",
       "      <td>Fazenda Trijunção</td>\n",
       "      <td>-14.816667</td>\n",
       "      <td>-45.966667</td>\n",
       "      <td>Incógnito</td>\n",
       "      <td>Neea theifera Oerst.</td>\n",
       "      <td>Nyctaginaceae</td>\n",
       "      <td>SPECIES</td>\n",
       "      <td>GEODETIC_DATUM_ASSUMED_WGS84</td>\n",
       "      <td>True</td>\n",
       "    </tr>\n",
       "    <tr>\n",
       "      <th>2003-10-18 02:00:00</th>\n",
       "      <td>Ratter, JA</td>\n",
       "      <td>Bambu em touceira formando mancha 1,2m; Cerrado.</td>\n",
       "      <td>Minas Gerais</td>\n",
       "      <td>Formoso</td>\n",
       "      <td>Em uma encosta na margem da Fazenda Trijunção ...</td>\n",
       "      <td>-14.833333</td>\n",
       "      <td>-46.000000</td>\n",
       "      <td>Filgueiras, TS</td>\n",
       "      <td>Filgueirasia arenicola (McClure) Guala</td>\n",
       "      <td>Poaceae</td>\n",
       "      <td>SPECIES</td>\n",
       "      <td>GEODETIC_DATUM_ASSUMED_WGS84</td>\n",
       "      <td>True</td>\n",
       "    </tr>\n",
       "    <tr>\n",
       "      <th>2003-11-13 01:00:00</th>\n",
       "      <td>Ratter, JA</td>\n",
       "      <td>.</td>\n",
       "      <td>Distrito Federal</td>\n",
       "      <td>Planaltina</td>\n",
       "      <td>Águas Emendadas</td>\n",
       "      <td>-15.533333</td>\n",
       "      <td>-47.550000</td>\n",
       "      <td>Proença, CEB</td>\n",
       "      <td>Erythroxylum engleri O. E. Schulz</td>\n",
       "      <td>Erythroxylaceae</td>\n",
       "      <td>SPECIES</td>\n",
       "      <td>GEODETIC_DATUM_ASSUMED_WGS84</td>\n",
       "      <td>True</td>\n",
       "    </tr>\n",
       "    <tr>\n",
       "      <th>2009-05-04 02:00:00</th>\n",
       "      <td>Ratter, JA</td>\n",
       "      <td>NaN</td>\n",
       "      <td>Mato Grosso</td>\n",
       "      <td>Vale dos Sonhos</td>\n",
       "      <td>NaN</td>\n",
       "      <td>0.000000</td>\n",
       "      <td>0.000000</td>\n",
       "      <td>Bigio, NC</td>\n",
       "      <td>Pera barbinervis Pax &amp; K.Hoffm.</td>\n",
       "      <td>Peraceae</td>\n",
       "      <td>SPECIES</td>\n",
       "      <td>ZERO_COORDINATE;GEODETIC_DATUM_ASSUMED_WGS84;C...</td>\n",
       "      <td>True</td>\n",
       "    </tr>\n",
       "  </tbody>\n",
       "</table>\n",
       "</div>"
      ],
      "text/plain": [
       "                                                            recordedBy  \\\n",
       "eventDate                                                                \n",
       "2000-08-09 02:00:00  Ratter, JA; Bridgewater, S; Fonsêca Filho, J; ...   \n",
       "2003-10-18 02:00:00                                         Ratter, JA   \n",
       "2003-11-13 01:00:00                                         Ratter, JA   \n",
       "2009-05-04 02:00:00                                         Ratter, JA   \n",
       "\n",
       "                                                     occurrenceRemarks  \\\n",
       "eventDate                                                                \n",
       "2000-08-09 02:00:00  Small tree , 4m tall, 10 cm dbh, with fawnish ...   \n",
       "2003-10-18 02:00:00   Bambu em touceira formando mancha 1,2m; Cerrado.   \n",
       "2003-11-13 01:00:00                                                  .   \n",
       "2009-05-04 02:00:00                                                NaN   \n",
       "\n",
       "                        stateProvince     municipality  \\\n",
       "eventDate                                                \n",
       "2000-08-09 02:00:00             Bahia            Cocos   \n",
       "2003-10-18 02:00:00      Minas Gerais          Formoso   \n",
       "2003-11-13 01:00:00  Distrito Federal       Planaltina   \n",
       "2009-05-04 02:00:00       Mato Grosso  Vale dos Sonhos   \n",
       "\n",
       "                                                              locality  \\\n",
       "eventDate                                                                \n",
       "2000-08-09 02:00:00                                  Fazenda Trijunção   \n",
       "2003-10-18 02:00:00  Em uma encosta na margem da Fazenda Trijunção ...   \n",
       "2003-11-13 01:00:00                                    Águas Emendadas   \n",
       "2009-05-04 02:00:00                                                NaN   \n",
       "\n",
       "                     decimalLatitude  decimalLongitude    identifiedBy  \\\n",
       "eventDate                                                                \n",
       "2000-08-09 02:00:00       -14.816667        -45.966667       Incógnito   \n",
       "2003-10-18 02:00:00       -14.833333        -46.000000  Filgueiras, TS   \n",
       "2003-11-13 01:00:00       -15.533333        -47.550000    Proença, CEB   \n",
       "2009-05-04 02:00:00         0.000000          0.000000       Bigio, NC   \n",
       "\n",
       "                                             scientificName           family  \\\n",
       "eventDate                                                                      \n",
       "2000-08-09 02:00:00                    Neea theifera Oerst.    Nyctaginaceae   \n",
       "2003-10-18 02:00:00  Filgueirasia arenicola (McClure) Guala          Poaceae   \n",
       "2003-11-13 01:00:00       Erythroxylum engleri O. E. Schulz  Erythroxylaceae   \n",
       "2009-05-04 02:00:00         Pera barbinervis Pax & K.Hoffm.         Peraceae   \n",
       "\n",
       "                    taxonRank  \\\n",
       "eventDate                       \n",
       "2000-08-09 02:00:00   SPECIES   \n",
       "2003-10-18 02:00:00   SPECIES   \n",
       "2003-11-13 01:00:00   SPECIES   \n",
       "2009-05-04 02:00:00   SPECIES   \n",
       "\n",
       "                                                                 issue  \\\n",
       "eventDate                                                                \n",
       "2000-08-09 02:00:00                       GEODETIC_DATUM_ASSUMED_WGS84   \n",
       "2003-10-18 02:00:00                       GEODETIC_DATUM_ASSUMED_WGS84   \n",
       "2003-11-13 01:00:00                       GEODETIC_DATUM_ASSUMED_WGS84   \n",
       "2009-05-04 02:00:00  ZERO_COORDINATE;GEODETIC_DATUM_ASSUMED_WGS84;C...   \n",
       "\n",
       "                    hasCoordinate  \n",
       "eventDate                          \n",
       "2000-08-09 02:00:00          True  \n",
       "2003-10-18 02:00:00          True  \n",
       "2003-11-13 01:00:00          True  \n",
       "2009-05-04 02:00:00          True  "
      ]
     },
     "execution_count": 18,
     "metadata": {},
     "output_type": "execute_result"
    }
   ],
   "source": [
    "ts.tail(4)"
   ]
  },
  {
   "cell_type": "markdown",
   "metadata": {},
   "source": [
    "It is odd, though, that he has managed to travel to Brazil only for collecting a single species once. This data seems to be inconsistent. It might be the case that the recording date is wrong for this occurrence; or that *Ratter* was not in fact the collector. Or that might even be the case that although *Ratter* was present at the field trip, he was not activelly collecting specimens. Perhaps we might try to figure out such questions by looking at the network of researches who have done field work with him."
   ]
  },
  {
   "cell_type": "markdown",
   "metadata": {},
   "source": [
    "# 3. Who has worked with whom?\n",
    "<a name=\"3\"></a>"
   ]
  },
  {
   "cell_type": "markdown",
   "metadata": {},
   "source": [
    "Here I explore the possibility of inferring scientific interactions between collectors based on the temporal analysis of the species-collectors network. This could be useful for example if we want to systematically uncover some underlying aspects of the species collectors community. Some interesting questions emerge: \n",
    "\n",
    "* What is the role of a given collector in the scientific community? Is he/she a professor? a student? a lab assistant? \n",
    "* Is a collector currently retired of field work? Was he/she a pioneer on a particular species group?\n",
    "* Does a collector hold a scientific relationship with other important collectors (e.g. advisor/advised by)? \n",
    "* Does a collector work with interdisciplinary teams (in terms of taxonomic groups)? Or they almost always perform field work with specialists on their own interest group? \n",
    "* In which context data was collected? Was it on a field class? On a survey for sampling a specific group of organism? On a generalist survey?"
   ]
  },
  {
   "cell_type": "markdown",
   "metadata": {},
   "source": [
    "Such aspects might be relevant to be considered if we were to characterize sampling bias on the occurrence data of a species or group; or if we were to identify regions that are assessible for field work and could be lacking data for a taxonomic group. "
   ]
  },
  {
   "cell_type": "markdown",
   "metadata": {},
   "source": [
    "## 3.1 The species-collectors network\n",
    "<a name=\"3.1\"></a>"
   ]
  },
  {
   "cell_type": "markdown",
   "metadata": {},
   "source": [
    "On the previous notebook I have identified a particular group of three collectors that shared a fair number of species. They were:"
   ]
  },
  {
   "cell_type": "code",
   "execution_count": 19,
   "metadata": {
    "collapsed": true
   },
   "outputs": [],
   "source": [
    "collectors = ['Munhoz, CBR', 'Eugênio, CUO', 'Amaral, AG']"
   ]
  },
  {
   "cell_type": "markdown",
   "metadata": {},
   "source": [
    "Let's get their records and build the species-collector network. Then we inspect both the overlapped and the snapshot view of the time-varying network."
   ]
  },
  {
   "cell_type": "code",
   "execution_count": 20,
   "metadata": {
    "collapsed": true
   },
   "outputs": [],
   "source": [
    "ts = getRecordsBy(ub_dset, collectors).sort_values('eventDate').set_index('eventDate', drop=True)"
   ]
  },
  {
   "cell_type": "code",
   "execution_count": 21,
   "metadata": {
    "collapsed": true
   },
   "outputs": [],
   "source": [
    "G = nx.Graph()\n",
    "G.add_nodes_from(collectors, bipartite=0)\n",
    "G.add_nodes_from(ts['scientificName'], bipartite=1)\n",
    "G.add_edges_from([ (col,sp) for col in collectors for sp in getRecordsBy(ts,col)['scientificName'] ])\n",
    "\n",
    "pos = nx.spring_layout(G)"
   ]
  },
  {
   "cell_type": "code",
   "execution_count": 22,
   "metadata": {
    "collapsed": true
   },
   "outputs": [],
   "source": [
    "frames_dict = buildFramesDict(ts, collectors, periodFreq='A')"
   ]
  },
  {
   "cell_type": "code",
   "execution_count": 23,
   "metadata": {
    "collapsed": false
   },
   "outputs": [],
   "source": [
    "buildAnimation('n2_anim2_overlapped')\n",
    "buildAnimation('n2_anim2_snapshot', overlapped=False)"
   ]
  },
  {
   "cell_type": "code",
   "execution_count": 24,
   "metadata": {
    "collapsed": false
   },
   "outputs": [
    {
     "data": {
      "text/html": [
       "<h3>Overlapped view</h3>\n",
       "<video width=\"720\" height=\"720\" controls autoplay loop>\n",
       "  <source src=\"animations/n2_anim2_overlapped.mp4\" type=\"video/mp4\">\n",
       "</video>\n",
       "\n",
       "<hr/>\n",
       "<h3>Snapshot view</h3>\n",
       "<video width=\"720\" height=\"720\" controls autoplay loop>\n",
       "  <source src=\"animations/n2_anim2_snapshot.mp4\" type=\"video/mp4\">\n",
       "</video>"
      ],
      "text/plain": [
       "<IPython.core.display.HTML object>"
      ]
     },
     "metadata": {},
     "output_type": "display_data"
    }
   ],
   "source": [
    "%%HTML\n",
    "<h3>Overlapped view</h3>\n",
    "<video width=\"720\" height=\"720\" controls autoplay loop>\n",
    "  <source src=\"animations/n2_anim2_overlapped.mp4\" type=\"video/mp4\">\n",
    "</video>\n",
    "\n",
    "<hr/>\n",
    "<h3>Snapshot view</h3>\n",
    "<video width=\"720\" height=\"720\" controls autoplay loop>\n",
    "  <source src=\"animations/n2_anim2_snapshot.mp4\" type=\"video/mp4\">\n",
    "</video>"
   ]
  },
  {
   "cell_type": "markdown",
   "metadata": {},
   "source": [
    "The animations above suggest that *Munhoz, CBR* started effectively recording species around 1992. From the snapshot view we can try to identify her most productive years in terms of species recordings as well as those years where no field work was done. The period from 1992 to 2000 seems to have two 'peaks' in terms of fieldwork effort: the first is around 1994 and the second 1997/98. From 2000 to 2005 most fieldwork is concentrated on the year of 2003. No fieldwork at all seems to having been done in 2002 and 2005."
   ]
  },
  {
   "cell_type": "markdown",
   "metadata": {},
   "source": [
    "*Amaral* and *Eugênio* have both started recording in 2006. From 2006 to 2008 *Eugênio* has done a lot of fieldwork, and many of the species recorded by him were also recorded by *Amaral* and *Munhoz* on the same years. *Amaral* has done almost no fieldwork from 2008 to 2011, though. A high number of shared species between two collectors on a given time period relatively to the number of records they have obtained alone may be an indicative that they have done fieldwork together. If we then refined the frequency of the period (say, from yearly to monthly) and still observed a high number of shared species on each frame that would increase our confidence on the hypothesis that they have worked together. So the animation suggests that *Munhoz*, *Eugênio* and *Amaral* have all worked together in 2006 and 2007. *Munhoz* and *Eugênio* (without *Amaral*) have worked together in 2008."
   ]
  },
  {
   "cell_type": "markdown",
   "metadata": {},
   "source": [
    "The years from 2010 to 2015 were not as productive for *Eugênio*. On the other hand, *Amaral* has increased her sampling effort from 2012 to 2015. In 2012 all except one species collected by *Munhoz* were also collected by *Amaral*. On the other hand *Amaral* has collected many species that were never collected by *Munhoz* (check the overlapped view in 2012). That suggests that although *Munhoz* might have done most of her 2012 fieldwork together with *Amaral*, *Amaral* has done a lot of fieldwork alone (or with other collectors not considered here). Then from 2013 to 2015 practically all species recorded by *Amaral* were also recorded by *Munhoz*."
   ]
  },
  {
   "cell_type": "markdown",
   "metadata": {},
   "source": [
    "Why have these three researchers put so much effort on the same species during small periods of time (2-3 years)? Next I will address this question by looking at the research history of these three collectors and try to find possible explanations for the observed patterns in the data."
   ]
  },
  {
   "cell_type": "markdown",
   "metadata": {},
   "source": [
    "## 3.2 Understanding the story\n",
    "<a name=\"3.2\"></a>"
   ]
  },
  {
   "cell_type": "markdown",
   "metadata": {},
   "source": [
    "On the last section we explored temporal aspects of the species-collectors network for collectors *Munhoz*, *Eugênio* and *Amaral*. Now let's try to see the big picture. I will use the [lattes platform](http://lattes.cnpq.br/) to search for for the research profile and history of each collector."
   ]
  },
  {
   "cell_type": "markdown",
   "metadata": {},
   "source": [
    "[*Cássia Beatriz Munhoz (Munhoz, CBR)*](http://buscatextual.cnpq.br/buscatextual/visualizacv.do?id=K4791009T9) is a professor at the University of Brasilia and a curator of the university herbarium. She is mostly interested on herbaceous plants (as it was suggested on the previous notebook). She started her undergraduate studies in Biology at the University of Brasilia in 1989 and got her degree in 1992. This is consistent with our analysis above, in that she might have started a more intense fieldwork around her last undergraduate semesters (or even after obtaining her degree). She was a curator at the Brasília botanical garden (JBB) from 1993 to 1994, which might have contributed for the high number of species recorded on that period. From 1995 to 1996 she was a Master's candidate (would the lower number of species recorded on 1996 be related to her commitment on analysing her data and writing her dissertation?). From 1997 to 1998 she went again to work at the Brasília botanical garden, and also got a grant from FAPDF for collecting botanical material (1998/99). From 1999 to 2003 she was a Doctoral candidate. She hasn't done much field work from 1999 to 2002. The year of 2003 was noticeably productive, although I could not find out a particular reason for that. "
   ]
  },
  {
   "cell_type": "markdown",
   "metadata": {},
   "source": [
    "[Chesterton Ulysses Orlando Eugênio (Eugênio, CUO)](http://buscatextual.cnpq.br/buscatextual/visualizacv.do?id=K4262136P6) started his undergraduate in Biology in 2004 and obtained his  degree in 2009, with a monograph on temporal dynamics of herbaceous plants. His work was advised by *Munhoz*. From 2006 to 2008 he did an internship at his university (UCB) on structural aspects of herbaceous communities at Fazenda Água Limpa. Although the author does not mention it in his profile this work was probably advised by *Munhoz* because of her expertise on the group and because she was his advisor on his monograph. The data collected during this period was probably used for his monograph. Note also that he has done no field work in 2009, which might again reflect his commitment on writing his monograph. In 2010 he participated of a floristic assessment with the ComCerrado network, which explains the high number of records for that year. *Eugênio* has published several papers with *Amaral*, which indicates that they may have done field work together in fact (or at least were interested on the same species)."
   ]
  },
  {
   "cell_type": "markdown",
   "metadata": {},
   "source": [
    "[Aryanne Gonçalves Amaral (Amaral, AG)](http://buscatextual.cnpq.br/buscatextual/visualizacv.do?id=K4750617A7) has her first records in 2006, which was when she obtained her undergraduate degree in Biology from UCB. Her monograph, also advised by *Munhoz*, was a case study on management aspects of the public park *Parque Águas Claras*. Her first records were probably obtained during her Master's degree (2006-2008) though, as the network suggests intensified field work in 2006 and 2007. Similarly to *Eugênio*, she also studied structural aspects on the communities of herbaceous plants at Fazenda Água Limpa. There was almost no field work in 2009, which might be a consequence of her commitment on writing her dissertation. She was a Doctoral candidate from 2011 to 2015. The title and description she gave for her project on her profile suggests that there was in fact intense field work during her program. Although her program started in 2011, she started collecting field data in 2012. *Munhoz* was her advisor during her Doctoral program and co-advisor during her Master program (*Jeanine Maria* was her advisor). Together with *Munhoz* and *Eugênio*, *Amaral* is has been an integrant of a research project named *Cerrados do Planalto Central: estrutura, dinâmica e processos ecológicos* since 2010."
   ]
  }
 ],
 "metadata": {
  "kernelspec": {
   "display_name": "Python 3",
   "language": "python",
   "name": "python3"
  },
  "language_info": {
   "codemirror_mode": {
    "name": "ipython",
    "version": 3
   },
   "file_extension": ".py",
   "mimetype": "text/x-python",
   "name": "python",
   "nbconvert_exporter": "python",
   "pygments_lexer": "ipython3",
   "version": "3.6.0"
  }
 },
 "nbformat": 4,
 "nbformat_minor": 2
}
