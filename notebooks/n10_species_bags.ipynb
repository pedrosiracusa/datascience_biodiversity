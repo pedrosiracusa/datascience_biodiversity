{
 "cells": [
  {
   "cell_type": "markdown",
   "metadata": {},
   "source": [
    "# <center>Species Bags in Species-collectors Networks</center>\n",
    "#### <center>Author: Pedro Correia de Siracusa</center>\n",
    "#### <center>Date:  Nov 15 2017</center>\n",
    "\n",
    "---"
   ]
  },
  {
   "cell_type": "code",
   "execution_count": 1,
   "metadata": {
    "collapsed": true
   },
   "outputs": [],
   "source": [
    "import numpy as np\n",
    "import pandas as pd\n",
    "import networkx as nx\n",
    "import matplotlib.pyplot as plt\n",
    "\n",
    "%matplotlib inline\n",
    "\n",
    "plt.rc('figure', figsize=(10,6))"
   ]
  },
  {
   "cell_type": "markdown",
   "metadata": {},
   "source": [
    "## Preparing Data"
   ]
  },
  {
   "cell_type": "markdown",
   "metadata": {},
   "source": [
    "### Loading the UB Herbarium dataset"
   ]
  },
  {
   "cell_type": "code",
   "execution_count": 2,
   "metadata": {
    "collapsed": true
   },
   "outputs": [],
   "source": [
    "dsetPath = '/home/pedro/datasets/ub_herbarium/occurrence.txt'"
   ]
  },
  {
   "cell_type": "code",
   "execution_count": 3,
   "metadata": {
    "collapsed": true
   },
   "outputs": [],
   "source": [
    "cols = ['recordedBy', 'scientificName', 'family', 'genus', 'species','taxonRank', \n",
    "        'stateProvince', 'locality', 'municipality', 'occurrenceRemarks',\n",
    "        'eventDate', 'identifiedBy']\n",
    "\n",
    "occs = pd.read_table(dsetPath, delimiter='\\t', usecols=cols, low_memory=False)"
   ]
  },
  {
   "cell_type": "markdown",
   "metadata": {},
   "source": [
    "I'll only use data with taxonomic resolution of species"
   ]
  },
  {
   "cell_type": "code",
   "execution_count": 4,
   "metadata": {
    "collapsed": true
   },
   "outputs": [],
   "source": [
    "occs.dropna(subset=['recordedBy','scientificName'], inplace=True)\n",
    "occs = occs[occs['taxonRank']=='SPECIES']"
   ]
  },
  {
   "cell_type": "code",
   "execution_count": 5,
   "metadata": {},
   "outputs": [
    {
     "data": {
      "text/html": [
       "<div>\n",
       "<style>\n",
       "    .dataframe thead tr:only-child th {\n",
       "        text-align: right;\n",
       "    }\n",
       "\n",
       "    .dataframe thead th {\n",
       "        text-align: left;\n",
       "    }\n",
       "\n",
       "    .dataframe tbody tr th {\n",
       "        vertical-align: top;\n",
       "    }\n",
       "</style>\n",
       "<table border=\"1\" class=\"dataframe\">\n",
       "  <thead>\n",
       "    <tr style=\"text-align: right;\">\n",
       "      <th></th>\n",
       "      <th>recordedBy</th>\n",
       "      <th>occurrenceRemarks</th>\n",
       "      <th>eventDate</th>\n",
       "      <th>stateProvince</th>\n",
       "      <th>municipality</th>\n",
       "      <th>locality</th>\n",
       "      <th>identifiedBy</th>\n",
       "      <th>scientificName</th>\n",
       "      <th>family</th>\n",
       "      <th>genus</th>\n",
       "      <th>taxonRank</th>\n",
       "      <th>species</th>\n",
       "    </tr>\n",
       "  </thead>\n",
       "  <tbody>\n",
       "    <tr>\n",
       "      <th>0</th>\n",
       "      <td>Irwin, HS</td>\n",
       "      <td>Ascending subshrub 0,3m. Fruit gray-green; Cer...</td>\n",
       "      <td>1972-01-16T01:00Z</td>\n",
       "      <td>Goiás</td>\n",
       "      <td>NaN</td>\n",
       "      <td>Serra dos Pireneus, ca. 20km E of Pirenópolis</td>\n",
       "      <td>NaN</td>\n",
       "      <td>Annona monticola Mart.</td>\n",
       "      <td>Annonaceae</td>\n",
       "      <td>Annona</td>\n",
       "      <td>SPECIES</td>\n",
       "      <td>Annona monticola</td>\n",
       "    </tr>\n",
       "    <tr>\n",
       "      <th>1</th>\n",
       "      <td>Ratter, JA; et al.</td>\n",
       "      <td>Coppice branches sprouting from the stump of a...</td>\n",
       "      <td>1976-06-30T01:00Z</td>\n",
       "      <td>Minas Gerais</td>\n",
       "      <td>NaN</td>\n",
       "      <td>Near Pandeiros, ca. 30.0 km W of Januária</td>\n",
       "      <td>Flora do Brasil</td>\n",
       "      <td>Myracrodruon urundeuva Allem.</td>\n",
       "      <td>Anacardiaceae</td>\n",
       "      <td>Myracrodruon</td>\n",
       "      <td>SPECIES</td>\n",
       "      <td>Myracrodruon urundeuva</td>\n",
       "    </tr>\n",
       "    <tr>\n",
       "      <th>2</th>\n",
       "      <td>Heringer, EP</td>\n",
       "      <td>NaN</td>\n",
       "      <td>1954-06-05T01:00Z</td>\n",
       "      <td>Minas Gerais</td>\n",
       "      <td>NaN</td>\n",
       "      <td>Fazenda do Rasgão. Terreno de cultura</td>\n",
       "      <td>Flora do Brasil</td>\n",
       "      <td>Myracrodruon urundeuva Allem.</td>\n",
       "      <td>Anacardiaceae</td>\n",
       "      <td>Myracrodruon</td>\n",
       "      <td>SPECIES</td>\n",
       "      <td>Myracrodruon urundeuva</td>\n",
       "    </tr>\n",
       "    <tr>\n",
       "      <th>3</th>\n",
       "      <td>Coelho, JP</td>\n",
       "      <td>Pouco frequente, sem folhas nesse período; Árv...</td>\n",
       "      <td>1964-10-15T01:00Z</td>\n",
       "      <td>Minas Gerais</td>\n",
       "      <td>NaN</td>\n",
       "      <td>IPEACO- Sete lagoas</td>\n",
       "      <td>Flora do Brasil</td>\n",
       "      <td>Myracrodruon urundeuva Allem.</td>\n",
       "      <td>Anacardiaceae</td>\n",
       "      <td>Myracrodruon</td>\n",
       "      <td>SPECIES</td>\n",
       "      <td>Myracrodruon urundeuva</td>\n",
       "    </tr>\n",
       "    <tr>\n",
       "      <th>4</th>\n",
       "      <td>Eiten, G; Eiten, LT</td>\n",
       "      <td>Tree 5.0 m. tall, 11.0 cm d.b.h. With young fr...</td>\n",
       "      <td>1963-08-17T01:00Z</td>\n",
       "      <td>Maranhão</td>\n",
       "      <td>Loreto</td>\n",
       "      <td>Ilha de Balsas region, between the Balsas and ...</td>\n",
       "      <td>Flora do Brasil</td>\n",
       "      <td>Myracrodruon urundeuva Allem.</td>\n",
       "      <td>Anacardiaceae</td>\n",
       "      <td>Myracrodruon</td>\n",
       "      <td>SPECIES</td>\n",
       "      <td>Myracrodruon urundeuva</td>\n",
       "    </tr>\n",
       "  </tbody>\n",
       "</table>\n",
       "</div>"
      ],
      "text/plain": [
       "            recordedBy                                  occurrenceRemarks  \\\n",
       "0            Irwin, HS  Ascending subshrub 0,3m. Fruit gray-green; Cer...   \n",
       "1   Ratter, JA; et al.  Coppice branches sprouting from the stump of a...   \n",
       "2         Heringer, EP                                                NaN   \n",
       "3           Coelho, JP  Pouco frequente, sem folhas nesse período; Árv...   \n",
       "4  Eiten, G; Eiten, LT  Tree 5.0 m. tall, 11.0 cm d.b.h. With young fr...   \n",
       "\n",
       "           eventDate stateProvince municipality  \\\n",
       "0  1972-01-16T01:00Z         Goiás          NaN   \n",
       "1  1976-06-30T01:00Z  Minas Gerais          NaN   \n",
       "2  1954-06-05T01:00Z  Minas Gerais          NaN   \n",
       "3  1964-10-15T01:00Z  Minas Gerais          NaN   \n",
       "4  1963-08-17T01:00Z      Maranhão       Loreto   \n",
       "\n",
       "                                            locality     identifiedBy  \\\n",
       "0      Serra dos Pireneus, ca. 20km E of Pirenópolis              NaN   \n",
       "1          Near Pandeiros, ca. 30.0 km W of Januária  Flora do Brasil   \n",
       "2              Fazenda do Rasgão. Terreno de cultura  Flora do Brasil   \n",
       "3                                IPEACO- Sete lagoas  Flora do Brasil   \n",
       "4  Ilha de Balsas region, between the Balsas and ...  Flora do Brasil   \n",
       "\n",
       "                  scientificName         family         genus taxonRank  \\\n",
       "0         Annona monticola Mart.     Annonaceae        Annona   SPECIES   \n",
       "1  Myracrodruon urundeuva Allem.  Anacardiaceae  Myracrodruon   SPECIES   \n",
       "2  Myracrodruon urundeuva Allem.  Anacardiaceae  Myracrodruon   SPECIES   \n",
       "3  Myracrodruon urundeuva Allem.  Anacardiaceae  Myracrodruon   SPECIES   \n",
       "4  Myracrodruon urundeuva Allem.  Anacardiaceae  Myracrodruon   SPECIES   \n",
       "\n",
       "                  species  \n",
       "0        Annona monticola  \n",
       "1  Myracrodruon urundeuva  \n",
       "2  Myracrodruon urundeuva  \n",
       "3  Myracrodruon urundeuva  \n",
       "4  Myracrodruon urundeuva  "
      ]
     },
     "execution_count": 5,
     "metadata": {},
     "output_type": "execute_result"
    }
   ],
   "source": [
    "occs.head()"
   ]
  },
  {
   "cell_type": "code",
   "execution_count": 6,
   "metadata": {},
   "outputs": [
    {
     "data": {
      "text/plain": [
       "SPECIES    140763\n",
       "Name: taxonRank, dtype: int64"
      ]
     },
     "execution_count": 6,
     "metadata": {},
     "output_type": "execute_result"
    }
   ],
   "source": [
    "occs['taxonRank'].value_counts()"
   ]
  },
  {
   "cell_type": "code",
   "execution_count": 7,
   "metadata": {},
   "outputs": [
    {
     "data": {
      "text/plain": [
       "'Total num of records: 140763'"
      ]
     },
     "execution_count": 7,
     "metadata": {},
     "output_type": "execute_result"
    }
   ],
   "source": [
    "\"Total num of records: \"+str(occs.shape[0])"
   ]
  },
  {
   "cell_type": "markdown",
   "metadata": {},
   "source": [
    "### Loading previously cleaned collectors identities"
   ]
  },
  {
   "cell_type": "code",
   "execution_count": 8,
   "metadata": {},
   "outputs": [
    {
     "name": "stderr",
     "output_type": "stream",
     "text": [
      "/home/pedro/datascience_biodiversity/notebooks/modules/cleaning/names.py:536: UserWarning: A names map was created without a normalization function!\n",
      "  warn(\"A names map was created without a normalization function!\")\n"
     ]
    }
   ],
   "source": [
    "from modules.cleaning.names import read_NamesMap_fromJson, NamesAtomizer, namesFromString\n",
    "\n",
    "# read a names map\n",
    "nm = read_NamesMap_fromJson('./ub_names_map_2.json')\n",
    "\n",
    "# atomizing names\n",
    "atomizingOp = lambda x: namesFromString(x)\n",
    "na = NamesAtomizer(atomizingOp)\n",
    "\n",
    "occs['recordedBy_atomized'] = na.atomize(occs['recordedBy'])\n",
    "\n",
    "# build names index\n",
    "from modules.cleaning.names import getNamesIndexes\n",
    "\n",
    "ni = getNamesIndexes(occs,'recordedBy_atomized',nm.getMap())"
   ]
  },
  {
   "cell_type": "markdown",
   "metadata": {},
   "source": [
    "---"
   ]
  },
  {
   "cell_type": "markdown",
   "metadata": {},
   "source": [
    "## Building the SCN Network model"
   ]
  },
  {
   "cell_type": "markdown",
   "metadata": {},
   "source": [
    "Remember from previous notebooks that a Species-collectors network (SCN) is defined as a bipartite graph"
   ]
  },
  {
   "cell_type": "markdown",
   "metadata": {},
   "source": [
    "$$SCN = B(S_{sp},S_{col},E)$$"
   ]
  },
  {
   "cell_type": "code",
   "execution_count": null,
   "metadata": {
    "collapsed": true
   },
   "outputs": [],
   "source": []
  },
  {
   "cell_type": "code",
   "execution_count": 9,
   "metadata": {
    "collapsed": true
   },
   "outputs": [],
   "source": [
    "from modules.models.networks import SpeciesCollectorsNetwork"
   ]
  },
  {
   "cell_type": "code",
   "execution_count": 10,
   "metadata": {
    "collapsed": true
   },
   "outputs": [],
   "source": [
    "scn = SpeciesCollectorsNetwork(species=occs['scientificName'],\n",
    "                               collectorsNames=occs['recordedBy_atomized'],\n",
    "                               namesMap=nm,\n",
    "                               weighted=True)"
   ]
  },
  {
   "cell_type": "markdown",
   "metadata": {},
   "source": [
    "First we want to filter some nodes out of the network"
   ]
  },
  {
   "cell_type": "code",
   "execution_count": 11,
   "metadata": {
    "collapsed": true
   },
   "outputs": [],
   "source": [
    "nodesToRemove = ['etal','','incognito']\n",
    "scn.remove_nodes_from(nodesToRemove)"
   ]
  },
  {
   "cell_type": "markdown",
   "metadata": {},
   "source": [
    "And then add some attributes"
   ]
  },
  {
   "cell_type": "code",
   "execution_count": 12,
   "metadata": {
    "collapsed": true
   },
   "outputs": [],
   "source": [
    "# degree\n",
    "nx.set_node_attributes(scn,'degree',nx.degree(scn))\n",
    "\n",
    "# weighted degree\n",
    "nx.set_node_attributes(scn,'degree_weighted',nx.degree(scn,weight='weight'))\n",
    "\n",
    "# set species families\n",
    "sp_families = occs[['scientificName','family']].drop_duplicates()\n",
    "sp_families_dict = dict(zip(sp_families['scientificName'],sp_families['family']))\n",
    "nx.set_node_attributes(scn, 'family', sp_families_dict)"
   ]
  },
  {
   "cell_type": "markdown",
   "metadata": {},
   "source": [
    "### Grouping an SCN by a taxonomic attribute"
   ]
  },
  {
   "cell_type": "markdown",
   "metadata": {},
   "source": [
    "Here I use the taxonomic attribute 'family' for grouping SCN nodes."
   ]
  },
  {
   "cell_type": "code",
   "execution_count": 13,
   "metadata": {
    "collapsed": true
   },
   "outputs": [],
   "source": [
    "from collections import Counter\n",
    "\n",
    "def aggregateByTaxLevel(network, level):\n",
    "    spNodes = network.getSpeciesNodes(data=True)\n",
    "    taxonMap = dict( (sp,d[level]) for sp,d in spNodes )\n",
    "    taxGroupsNames = list(set(taxonMap.values()))\n",
    "\n",
    "    edgesList = [ (taxonMap[u],v,d) for u,v,d in network.edges((n for n,d in spNodes), data=True) ]\n",
    "    edges = Counter( (u,v) for u,v,d in edgesList for i in range(d['weight']) )\n",
    "\n",
    "    net_aggr = SpeciesCollectorsNetwork()\n",
    "    net_aggr.add_nodes_from(network.getCollectorsNodes(),bipartite=0)\n",
    "    net_aggr.add_nodes_from(taxGroupsNames, bipartite=1)\n",
    "    net_aggr.add_edges_from( (u,v,{'weight':w}) for (u,v),w in edges.items() )\n",
    "    \n",
    "    return net_aggr"
   ]
  },
  {
   "cell_type": "code",
   "execution_count": 14,
   "metadata": {
    "collapsed": true
   },
   "outputs": [],
   "source": [
    "scn_family = aggregateByTaxLevel(scn,'family')\n",
    "\n",
    "nodesToRemove = ['etal','','incognito',np.nan]\n",
    "scn_family.remove_nodes_from(nodesToRemove)"
   ]
  },
  {
   "cell_type": "code",
   "execution_count": 15,
   "metadata": {
    "collapsed": true
   },
   "outputs": [],
   "source": [
    "# degree\n",
    "nx.set_node_attributes(scn_family,'degree',nx.degree(scn_family))\n",
    "\n",
    "# weighted degree\n",
    "nx.set_node_attributes(scn_family,'degree_weighted',nx.degree(scn_family,weight='weight'))"
   ]
  },
  {
   "cell_type": "markdown",
   "metadata": {},
   "source": [
    "---"
   ]
  },
  {
   "cell_type": "markdown",
   "metadata": {},
   "source": [
    "## Collectors' Species Bags"
   ]
  },
  {
   "cell_type": "markdown",
   "metadata": {},
   "source": [
    "In a SCN model each collector is linked to a set of species she has ever collected, and conversely each species is linked to the set of collectors that have ever recorded it. I define a collector's **species bag** as an array of counts of species in her collections history. Formally a species bag $ \\sigma$ of a collector $\\mu$ is represented as a vector"
   ]
  },
  {
   "cell_type": "markdown",
   "metadata": {},
   "source": [
    "$$ \n",
    "\\sigma^{(\\mu)} =  \\begin{bmatrix}\n",
    "\\sigma_1^{(\\mu)}, \\sigma_2^{(\\mu)}, \\cdots, \\sigma_n^{(\\mu)}\n",
    "\\end{bmatrix}  \\quad : \\quad \n",
    "n = |S_{sp}|\n",
    "$$"
   ]
  },
  {
   "cell_type": "markdown",
   "metadata": {},
   "source": [
    "where $n$ is the length of the species set $S_{sp}$ and $\\sigma^{(\\mu)}_i$ is the total number of records of species $i$ by collector $\\mu$."
   ]
  },
  {
   "cell_type": "markdown",
   "metadata": {},
   "source": [
    "The species bag for a collector can be calculated by using the `getSpeciesBag` method from the `SpeciesCollectorsNetwork` class. It returns a tuple containing an index with the species names and a *Scipy* sparse matrix containing the species bag vector itself. The order in which species names are placed in the index is the same as in the vector. To give an example let's retrieve the species bag from 'Munhoz,C.B.R.'."
   ]
  },
  {
   "cell_type": "code",
   "execution_count": 16,
   "metadata": {
    "collapsed": true
   },
   "outputs": [],
   "source": [
    "i,m = scn.getSpeciesBag('munhoz,cbr')"
   ]
  },
  {
   "cell_type": "markdown",
   "metadata": {},
   "source": [
    "We can unpack an ordered list with species counts by zipping both the index and the vector. I'll only retrieve the top-20 species."
   ]
  },
  {
   "cell_type": "code",
   "execution_count": 17,
   "metadata": {},
   "outputs": [
    {
     "data": {
      "text/plain": [
       "[('Syngonanthus nitens (Bong.) Ruhland', 30),\n",
       " ('Rhynchospora globosa (Kunth) Roem. & Schult.', 25),\n",
       " ('Xyris hymenachne Mart.', 23),\n",
       " ('Axonopus brasiliensis (Spreng.) Kuhlm.', 21),\n",
       " ('Trachypogon spicatus (L.f.) Kuntze', 20),\n",
       " ('Comanthera xeranthemoides (Bong.) L.R.Parra & Giul.', 19),\n",
       " ('Rhynchospora consanguinea (Kunth) Boeckeler', 19),\n",
       " ('Paepalanthus elongatus (Bong.) Körn.', 18),\n",
       " ('Xyris savanensis Miq.', 18),\n",
       " ('Curtia tenuifolia (Aubl.) Knobl.', 17),\n",
       " ('Lagenocarpus rigidus (Kunth) Nees', 17),\n",
       " ('Andropogon virgatus Desv. ex Ham.', 16),\n",
       " ('Hyptis linarioides Pohl ex Benth.', 16),\n",
       " ('Xyris schizachne Mart.', 16),\n",
       " ('Rhynchospora emaciata (Nees) Boeckeler', 15),\n",
       " ('Syngonanthus gracilis (Bong.) Ruhland', 15),\n",
       " ('Paspalum hyalinum Nees ex Trin.', 14),\n",
       " ('Trimezia juncifolia Klatt', 14),\n",
       " ('Chamaecrista desvauxii (Collad.) Killip', 13),\n",
       " ('Rhynchanthera grandiflora (Aubl.) DC.', 13)]"
      ]
     },
     "execution_count": 17,
     "metadata": {},
     "output_type": "execute_result"
    }
   ],
   "source": [
    "sorted( list(zip( i, np.array(m.todense()).flatten() )), key=lambda x: x[1], reverse=True )[:20]"
   ]
  },
  {
   "cell_type": "markdown",
   "metadata": {},
   "source": [
    "### Species Bags Similarity"
   ]
  },
  {
   "cell_type": "markdown",
   "metadata": {},
   "source": [
    "We might want to compare collectors in terms of their species bags. We calculate the **Species Bag Similarity** between collectors $\\mu_i$ and $\\mu_j$ by computing the *Cosine Similarity* of their species bags vectors:"
   ]
  },
  {
   "cell_type": "markdown",
   "metadata": {},
   "source": [
    "$$\n",
    "sim(\\sigma^{(\\mu_i)},\\sigma^{(\\mu_j)}) =\n",
    "\\cos \\theta_{\\mu_i,\\mu_j} \\equiv\n",
    "\\frac{  \\sigma^{(\\mu_i)} \\cdot \\sigma^{(\\mu_j)}  }{  ||\\sigma^{(\\mu_i)}||_2  ||\\sigma^{(\\mu_j)}||_2  }\n",
    "$$"
   ]
  },
  {
   "cell_type": "markdown",
   "metadata": {},
   "source": [
    "where the output ranges from [0,1]."
   ]
  },
  {
   "cell_type": "markdown",
   "metadata": {},
   "source": [
    "The function below calculates species bags similarity. It takes two optional collectors names in `col1` and `col2` parameters, and output type varies depending on how many collectors names are given."
   ]
  },
  {
   "cell_type": "code",
   "execution_count": 18,
   "metadata": {
    "collapsed": true
   },
   "outputs": [],
   "source": [
    "from sklearn.metrics.pairwise import cosine_similarity\n",
    "import scipy\n",
    "\n",
    "def calculateSimilarity( G, col1=None, col2=None ):\n",
    "    \"\"\"\n",
    "    Returns\n",
    "    -------\n",
    "    If neither col1 and col2 are informed, a tuple ( colsList, csr_sparse_similarityMatrix )\n",
    "    If only col1 is informed, a tuple ( colsList, similarityVector )\n",
    "    If col1 and col2 are informed, a tuple ( [col1,col2], similarity )\n",
    "    \"\"\"\n",
    "    if G._biadj_matrix is None:\n",
    "        G._buildBiadjMatrix()\n",
    "    \n",
    "    colList, spList, m = G._biadj_matrix\n",
    "    \n",
    "    if col1 is not None:\n",
    "        if col2 is not None:\n",
    "            sim = cosine_similarity( scn.getSpeciesBag(col1)[1], scn.getSpeciesBag(col2)[1] )[0][0] \n",
    "            return ([col1,col2], sim)\n",
    "        else:\n",
    "            simVector = cosine_similarity( scn.getSpeciesBag(col1)[1], m ) # set dense_output = 0\n",
    "            return ( colList, scipy.sparse.csr_matrix(simVector) )\n",
    "        \n",
    "    else:\n",
    "        return( colList, scipy.sparse.csr_matrix(cosine_similarity(m)) )"
   ]
  },
  {
   "cell_type": "markdown",
   "metadata": {},
   "source": [
    "First, if we wanted to simply retrieve the entire species bags similarity matrix we can simply call this function without passing collectors names. Note that all elements in the diagonal of the similarity matrix are ones."
   ]
  },
  {
   "cell_type": "code",
   "execution_count": 19,
   "metadata": {
    "collapsed": true
   },
   "outputs": [],
   "source": [
    "i,m = calculateSimilarity(scn)"
   ]
  },
  {
   "cell_type": "code",
   "execution_count": 20,
   "metadata": {},
   "outputs": [
    {
     "data": {
      "text/plain": [
       "['abbas,b',\n",
       " 'abdala,gc',\n",
       " 'abdo,msa',\n",
       " 'abdon',\n",
       " 'abe,lm',\n",
       " 'abrahim,ma',\n",
       " 'abreu,gx',\n",
       " 'abreu,i',\n",
       " 'abreu,lcr',\n",
       " 'abreu,mc']"
      ]
     },
     "execution_count": 20,
     "metadata": {},
     "output_type": "execute_result"
    }
   ],
   "source": [
    "i[:10]"
   ]
  },
  {
   "cell_type": "code",
   "execution_count": 21,
   "metadata": {},
   "outputs": [
    {
     "data": {
      "text/plain": [
       "matrix([[ 1.,  0.,  0., ...,  0.,  0.,  0.],\n",
       "        [ 0.,  1.,  0., ...,  0.,  0.,  0.],\n",
       "        [ 0.,  0.,  1., ...,  0.,  0.,  0.],\n",
       "        ..., \n",
       "        [ 0.,  0.,  0., ...,  1.,  0.,  0.],\n",
       "        [ 0.,  0.,  0., ...,  0.,  1.,  0.],\n",
       "        [ 0.,  0.,  0., ...,  0.,  0.,  1.]])"
      ]
     },
     "execution_count": 21,
     "metadata": {},
     "output_type": "execute_result"
    }
   ],
   "source": [
    "m.todense() # m is a csr sparse matrix"
   ]
  },
  {
   "cell_type": "markdown",
   "metadata": {},
   "source": [
    "We can also calculate a similarity vector for a given collector, which holds her similarity with all other collectors, including itself. Let's compute, for example, the similarity vector for 'munhoz,cbr'."
   ]
  },
  {
   "cell_type": "code",
   "execution_count": 22,
   "metadata": {
    "collapsed": true
   },
   "outputs": [],
   "source": [
    "i,m = calculateSimilarity(scn,'munhoz,cbr')"
   ]
  },
  {
   "cell_type": "code",
   "execution_count": 23,
   "metadata": {},
   "outputs": [
    {
     "data": {
      "text/plain": [
       "matrix([[ 0.00730726,  0.        ,  0.00353577, ...,  0.        ,\n",
       "          0.        ,  0.        ]])"
      ]
     },
     "execution_count": 23,
     "metadata": {},
     "output_type": "execute_result"
    }
   ],
   "source": [
    "m.todense()"
   ]
  },
  {
   "cell_type": "markdown",
   "metadata": {},
   "source": [
    "Who are the top-10 collectors most similar to Munhoz,CBR?"
   ]
  },
  {
   "cell_type": "code",
   "execution_count": 24,
   "metadata": {},
   "outputs": [
    {
     "data": {
      "text/plain": [
       "[('munhoz,cbr', 0.99999999999999267),\n",
       " ('amaral,ag', 0.75137262358463819),\n",
       " ('eugenio,cuo', 0.72327560020983406),\n",
       " ('emmert,p', 0.71216702601217519),\n",
       " ('mello,trb', 0.69920571204778381),\n",
       " ('chagas,ur', 0.65072933682219702),\n",
       " ('silva,dp', 0.65038200328433593),\n",
       " ('cristine,a', 0.58353717801179739),\n",
       " ('correa,acg', 0.57466387100179006),\n",
       " ('bijos,nr', 0.56124589372476164)]"
      ]
     },
     "execution_count": 24,
     "metadata": {},
     "output_type": "execute_result"
    }
   ],
   "source": [
    "sorted( list(zip(i, np.array(m.todense()).flatten())), key=lambda x:x[1], reverse=True)[:10]"
   ]
  },
  {
   "cell_type": "markdown",
   "metadata": {},
   "source": [
    "Last we can also compute the similarity for a pair of collectors:"
   ]
  },
  {
   "cell_type": "code",
   "execution_count": 25,
   "metadata": {},
   "outputs": [
    {
     "data": {
      "text/plain": [
       "'Similarity score between munhoz,cbr and proenca,ceb: 0.32207714985042757'"
      ]
     },
     "execution_count": 25,
     "metadata": {},
     "output_type": "execute_result"
    }
   ],
   "source": [
    "i,score = calculateSimilarity(scn,'munhoz,cbr','proenca,ceb')\n",
    "\"Similarity score between {} and {}: {}\".format(*i,score)"
   ]
  },
  {
   "cell_type": "markdown",
   "metadata": {},
   "source": [
    "### Visualizing the distribution of similarity values"
   ]
  },
  {
   "cell_type": "markdown",
   "metadata": {},
   "source": [
    "We have previously obtained a similarity (or correlation) matrix by comparing collectors species bags. Let's now check the distribution of the correlation values in the matrix."
   ]
  },
  {
   "cell_type": "code",
   "execution_count": 26,
   "metadata": {
    "collapsed": true
   },
   "outputs": [],
   "source": [
    "i,m = calculateSimilarity(scn)"
   ]
  },
  {
   "cell_type": "code",
   "execution_count": 27,
   "metadata": {
    "collapsed": true
   },
   "outputs": [],
   "source": [
    "# remove diagonal elements (auto correlations)\n",
    "m.setdiag(np.nan)\n",
    "d = m.toarray().flatten()\n",
    "d = d[~np.isnan(d)]"
   ]
  },
  {
   "cell_type": "code",
   "execution_count": 28,
   "metadata": {
    "scrolled": false
   },
   "outputs": [
    {
     "data": {
      "text/plain": [
       "<matplotlib.text.Text at 0x7facd3cec080>"
      ]
     },
     "execution_count": 28,
     "metadata": {},
     "output_type": "execute_result"
    },
    {
     "data": {
      "image/png": "[encoded data removed]",
      "text/plain": [
       "<matplotlib.figure.Figure at 0x7faccf561240>"
      ]
     },
     "metadata": {},
     "output_type": "display_data"
    }
   ],
   "source": [
    "plt.hist(d,log=True,normed=True,bins=200)\n",
    "plt.xlabel(\"Correlation value\")\n",
    "plt.ylabel(\"Probability\")"
   ]
  },
  {
   "cell_type": "markdown",
   "metadata": {},
   "source": [
    "**Fig.** Probability density of correlation values in the collectors' species bags similarity matrix. Species bags derived from a SCN model. Each bin has a width of $5\\times10^{-3}$ units."
   ]
  },
  {
   "cell_type": "markdown",
   "metadata": {},
   "source": [
    "The figure above shows an apparent increase in the variance of probabilities for correlation values from 0.4 to 1. The peaks might be reflecting the fact that many collectors in the network have only participated in a few collections, having recorded few species with collectors of similar profiles. These collection patterns may have originated small frequent structures in the network, with collectors species bags differing by as few as one or two species. That would lead to those nodes holding similar correlations between themselves."
   ]
  },
  {
   "cell_type": "markdown",
   "metadata": {},
   "source": [
    "We can further investigate this hypothesis by obtaining a subgraph of the original SCN, keeping only collectors with more than a minimum number of collections. Such information is retained in the nodes' `degree_weighted` attribute. Let's check what happens when we remove collectors with less than 5 records."
   ]
  },
  {
   "cell_type": "code",
   "execution_count": 29,
   "metadata": {
    "collapsed": true
   },
   "outputs": [],
   "source": [
    "# get a subgraph with collectors with >= 5 records\n",
    "min_n_records = 5\n",
    "sub_collectors = [n for n,d in scn.getCollectorsNodes(data=True) if d['degree_weighted']>=min_n_records]\n",
    "scn_sub = scn.subgraph( sub_collectors + scn.getSpeciesNodes())\n",
    "scn_sub.remove_nodes_from(nx.isolates(scn_sub))\n",
    "\n",
    "# calculate the similarity matrix\n",
    "i,m = calculateSimilarity(scn_sub)\n",
    "\n",
    "# remove diagonal elements (auto correlations)\n",
    "m.setdiag(np.nan)\n",
    "d = m.toarray().flatten()\n",
    "d = d[~np.isnan(d)]"
   ]
  },
  {
   "cell_type": "markdown",
   "metadata": {},
   "source": [
    "This filtering excluded more than half of the collectors in the original network! 64% of the collectors in the original SCN network hold less than 5 collections."
   ]
  },
  {
   "cell_type": "code",
   "execution_count": 30,
   "metadata": {},
   "outputs": [
    {
     "data": {
      "text/plain": [
       "'Subgraph removed 64.0% of collectors'"
      ]
     },
     "execution_count": 30,
     "metadata": {},
     "output_type": "execute_result"
    }
   ],
   "source": [
    "\"Subgraph removed {:.1%} of collectors\".format(1-len(scn_sub.getCollectorsNodes())/len(scn.getCollectorsNodes()))"
   ]
  },
  {
   "cell_type": "code",
   "execution_count": 31,
   "metadata": {},
   "outputs": [
    {
     "data": {
      "text/plain": [
       "<matplotlib.text.Text at 0x7facd3c26e80>"
      ]
     },
     "execution_count": 31,
     "metadata": {},
     "output_type": "execute_result"
    },
    {
     "data": {
      "image/png": "[encoded data removed]",
      "text/plain": [
       "<matplotlib.figure.Figure at 0x7facd21cd2e8>"
      ]
     },
     "metadata": {},
     "output_type": "display_data"
    }
   ],
   "source": [
    "plt.hist(d,log=True,normed=True,bins=200)\n",
    "plt.xlabel(\"Correlation value\")\n",
    "plt.ylabel(\"Probability\")"
   ]
  },
  {
   "cell_type": "markdown",
   "metadata": {},
   "source": [
    "**Fig.** Probability density of correlation values for the collectors' species bags similarity matrix. The SCN was filtered to exclude collectors with fewer than 5 records. Each bin has a width of $5\\times10^{-3}$ units."
   ]
  },
  {
   "cell_type": "markdown",
   "metadata": {},
   "source": [
    "From the figure above we can verify that simply excluding collectors with fewer than 5 collection contributes removes the peaks observed in the correlation density plot for the original SCN network."
   ]
  },
  {
   "cell_type": "markdown",
   "metadata": {},
   "source": [
    "### Filtering values from a similarity matrix"
   ]
  },
  {
   "cell_type": "markdown",
   "metadata": {},
   "source": [
    "It is useful to keep a record only of the most significant similarities in the matrix. We can define a threshold and filter out all of these element below it. I'll exemplify using rows 0 to 10 and columns 164 to 173."
   ]
  },
  {
   "cell_type": "code",
   "execution_count": 32,
   "metadata": {
    "collapsed": true
   },
   "outputs": [],
   "source": [
    "from copy import deepcopy\n",
    "\n",
    "def filterMatrix(m, thresh):\n",
    "    m_filtered = deepcopy(m)\n",
    "    m_filtered.data = np.where(m_filtered.data >= thresh, m_filtered.data, 0)\n",
    "    m_filtered.eliminate_zeros()\n",
    "    return m_filtered"
   ]
  },
  {
   "cell_type": "code",
   "execution_count": 33,
   "metadata": {
    "collapsed": true
   },
   "outputs": [],
   "source": [
    "i,m = calculateSimilarity(scn)"
   ]
  },
  {
   "cell_type": "code",
   "execution_count": 34,
   "metadata": {},
   "outputs": [
    {
     "data": {
      "text/plain": [
       "matrix([[ 0.        ,  0.03328406,  0.        ,  0.        ,  0.        ,\n",
       "          0.        ,  0.09622504,  0.        ,  0.        ,  0.        ],\n",
       "        [ 0.        ,  0.00784513,  0.        ,  0.        ,  0.        ,\n",
       "          0.        ,  0.        ,  0.        ,  0.        ,  0.        ],\n",
       "        [ 0.        ,  0.00286314,  0.        ,  0.        ,  0.        ,\n",
       "          0.        ,  0.        ,  0.        ,  0.        ,  0.        ],\n",
       "        [ 0.        ,  0.        ,  0.        ,  0.        ,  0.        ,\n",
       "          0.        ,  0.        ,  0.        ,  0.        ,  0.        ],\n",
       "        [ 0.        ,  0.        ,  0.        ,  0.        ,  0.        ,\n",
       "          0.        ,  0.        ,  0.        ,  0.        ,  0.        ],\n",
       "        [ 0.        ,  0.01921656,  0.        ,  0.        ,  0.        ,\n",
       "          0.        ,  0.        ,  0.19245009,  0.        ,  0.        ],\n",
       "        [ 0.        ,  0.        ,  0.        ,  0.        ,  0.        ,\n",
       "          0.        ,  0.        ,  0.        ,  0.        ,  0.        ],\n",
       "        [ 0.        ,  0.        ,  0.        ,  0.        ,  0.        ,\n",
       "          0.        ,  0.        ,  0.        ,  0.        ,  0.        ],\n",
       "        [ 0.        ,  0.02105069,  0.        ,  0.        ,  0.        ,\n",
       "          0.        ,  0.        ,  0.        ,  0.        ,  0.        ],\n",
       "        [ 0.        ,  0.08605835,  0.        ,  0.        ,  0.        ,\n",
       "          0.07362102,  0.03928371,  0.        ,  0.        ,  0.        ]])"
      ]
     },
     "execution_count": 34,
     "metadata": {},
     "output_type": "execute_result"
    }
   ],
   "source": [
    "m[0:10,164:174].todense()"
   ]
  },
  {
   "cell_type": "markdown",
   "metadata": {},
   "source": [
    "Now, let's filter it with a threshold of 0.05"
   ]
  },
  {
   "cell_type": "code",
   "execution_count": 35,
   "metadata": {
    "collapsed": true
   },
   "outputs": [],
   "source": [
    "m_filtered = filterMatrix(m,0.05)"
   ]
  },
  {
   "cell_type": "code",
   "execution_count": 36,
   "metadata": {},
   "outputs": [
    {
     "data": {
      "text/plain": [
       "matrix([[ 0.        ,  0.        ,  0.        ,  0.        ,  0.        ,\n",
       "          0.        ,  0.09622504,  0.        ,  0.        ,  0.        ],\n",
       "        [ 0.        ,  0.        ,  0.        ,  0.        ,  0.        ,\n",
       "          0.        ,  0.        ,  0.        ,  0.        ,  0.        ],\n",
       "        [ 0.        ,  0.        ,  0.        ,  0.        ,  0.        ,\n",
       "          0.        ,  0.        ,  0.        ,  0.        ,  0.        ],\n",
       "        [ 0.        ,  0.        ,  0.        ,  0.        ,  0.        ,\n",
       "          0.        ,  0.        ,  0.        ,  0.        ,  0.        ],\n",
       "        [ 0.        ,  0.        ,  0.        ,  0.        ,  0.        ,\n",
       "          0.        ,  0.        ,  0.        ,  0.        ,  0.        ],\n",
       "        [ 0.        ,  0.        ,  0.        ,  0.        ,  0.        ,\n",
       "          0.        ,  0.        ,  0.19245009,  0.        ,  0.        ],\n",
       "        [ 0.        ,  0.        ,  0.        ,  0.        ,  0.        ,\n",
       "          0.        ,  0.        ,  0.        ,  0.        ,  0.        ],\n",
       "        [ 0.        ,  0.        ,  0.        ,  0.        ,  0.        ,\n",
       "          0.        ,  0.        ,  0.        ,  0.        ,  0.        ],\n",
       "        [ 0.        ,  0.        ,  0.        ,  0.        ,  0.        ,\n",
       "          0.        ,  0.        ,  0.        ,  0.        ,  0.        ],\n",
       "        [ 0.        ,  0.08605835,  0.        ,  0.        ,  0.        ,\n",
       "          0.07362102,  0.        ,  0.        ,  0.        ,  0.        ]])"
      ]
     },
     "execution_count": 36,
     "metadata": {},
     "output_type": "execute_result"
    }
   ],
   "source": [
    "m_filtered[0:10,164:174].todense()"
   ]
  },
  {
   "cell_type": "markdown",
   "metadata": {},
   "source": [
    "### Creating a projected SCN Network from the similarity matrix"
   ]
  },
  {
   "cell_type": "markdown",
   "metadata": {},
   "source": [
    "The similarity matrix can be used to build a similarity graph. The similarity graph is a type of SCN projection on the collectors set. In order not to add self-loops, I will set all diagonal elements of the similarity matrix to zero."
   ]
  },
  {
   "cell_type": "code",
   "execution_count": 37,
   "metadata": {
    "collapsed": true
   },
   "outputs": [],
   "source": [
    "collNames,m = calculateSimilarity(scn)\n",
    "m.setdiag(0)\n",
    "\n",
    "m = filterMatrix(m,thresh=3)"
   ]
  },
  {
   "cell_type": "code",
   "execution_count": 38,
   "metadata": {
    "collapsed": true
   },
   "outputs": [],
   "source": [
    "G = nx.from_scipy_sparse_matrix(m)"
   ]
  },
  {
   "cell_type": "code",
   "execution_count": 39,
   "metadata": {
    "collapsed": true
   },
   "outputs": [],
   "source": [
    "# relabel nodes\n",
    "namesMap = dict( (i,n) for i,n in enumerate(collNames) )\n",
    "G = nx.relabel_nodes(G,namesMap)"
   ]
  },
  {
   "cell_type": "markdown",
   "metadata": {},
   "source": [
    "Let's now copy the attributes from the SCN to the similarity graph"
   ]
  },
  {
   "cell_type": "code",
   "execution_count": 40,
   "metadata": {
    "collapsed": true
   },
   "outputs": [],
   "source": [
    "# degree\n",
    "deg_dict = dict((n,d['degree']) for n,d in scn.getCollectorsNodes(data=True))\n",
    "nx.set_node_attributes(G, 'degree', deg_dict)\n",
    "\n",
    "# weighted degree\n",
    "degw_dict = dict((n,d['degree_weighted']) for n,d in scn.getCollectorsNodes(data=True))\n",
    "nx.set_node_attributes(G, 'degree_weighted', degw_dict)"
   ]
  },
  {
   "cell_type": "code",
   "execution_count": 41,
   "metadata": {
    "collapsed": true
   },
   "outputs": [],
   "source": [
    "nx.write_gexf(G,'./graph_similarity.gexf')"
   ]
  },
  {
   "cell_type": "markdown",
   "metadata": {},
   "source": [
    "### Threshold value and Similarity Matrix sparsity"
   ]
  },
  {
   "cell_type": "markdown",
   "metadata": {},
   "source": [
    "The **sparsity** measure $\\sigma$ for a sparse matrix is defined as the proportion of zero-valued elements in the matrix. Sparsity is strongly related to the sparse matrix **density** $\\rho$, and can be alternatively derived from the relation $\\sigma = 1 - \\rho$.\n",
    "\n",
    "The density measure $\\rho$ can be obtained from"
   ]
  },
  {
   "cell_type": "markdown",
   "metadata": {},
   "source": [
    "$$\\rho = \\frac{N^+}{(m\\times n)}$$"
   ]
  },
  {
   "cell_type": "markdown",
   "metadata": {},
   "source": [
    "where $N^+$ is the number of non-zero-valued elements in the sparse matrix; and $m$ and $n$ are, respectively, the number of rows and columns."
   ]
  },
  {
   "cell_type": "markdown",
   "metadata": {},
   "source": [
    "Now let's check how filtering the similarity matrix with increasing threshold values affect its sparsity. As similarity matrices of SCN networks can be densely connected, we would ideally only keep the most relevant associations by setting a good threshold value. One idea for finding such value is by inspecting the effect of threshold in matrix sparsity (or density). We want to find a point where increasing the threshold doesn't affect the rate at which matrix density decreases."
   ]
  },
  {
   "cell_type": "code",
   "execution_count": 42,
   "metadata": {
    "collapsed": true
   },
   "outputs": [],
   "source": [
    "calculateDensity = lambda m: len(m.data)/np.prod(m.shape)"
   ]
  },
  {
   "cell_type": "code",
   "execution_count": 43,
   "metadata": {
    "collapsed": true
   },
   "outputs": [],
   "source": [
    "m_scn = calculateSimilarity(scn)[1]\n",
    "m_scn_family = calculateSimilarity(scn_family)[1]\n",
    "\n",
    "X = np.logspace(-3,0)\n",
    "y_scn = np.array( [calculateDensity(filterMatrix(m_scn,thresh)) for thresh in X] )\n",
    "y_scn_family = np.array( [calculateDensity(filterMatrix(m_scn_family,thresh)) for thresh in X] )"
   ]
  },
  {
   "cell_type": "code",
   "execution_count": 44,
   "metadata": {},
   "outputs": [
    {
     "data": {
      "text/plain": [
       "<matplotlib.text.Text at 0x7facb4ab0828>"
      ]
     },
     "execution_count": 44,
     "metadata": {},
     "output_type": "execute_result"
    },
    {
     "data": {
      "image/png": "[encoded data removed]",
      "text/plain": [
       "<matplotlib.figure.Figure at 0x7facb4954f60>"
      ]
     },
     "metadata": {},
     "output_type": "display_data"
    }
   ],
   "source": [
    "plt.plot(X, y_scn, 'o', ls='--', markerfacecolor='none', label='SCN', markersize=10,lw=1)\n",
    "plt.plot(X,y_scn_family, 'x', ls='--', markerfacecolor='none', label='SCN aggregated by family',markersize=10,lw=1)\n",
    "plt.yscale('log')\n",
    "\n",
    "plt.legend()\n",
    "plt.xlabel('Filter threshold')\n",
    "plt.ylabel('Matrix Density')"
   ]
  },
  {
   "cell_type": "markdown",
   "metadata": {},
   "source": [
    "**Figure.** Effects of increasing filter threshold for the similarity matrices of both the original SCN and the SCN with nodes taxonomically aggregated by family."
   ]
  },
  {
   "cell_type": "markdown",
   "metadata": {},
   "source": [
    "As shown in the figure above, the SCN aggregated by family fits well to an exponential model $y=\\alpha e^{-x}$. Its similarity matrix density exponentially decreases when increasing the filter threshold. The decrease pattern of the original SCN similarity matrix, however, is not strictly exponential. The plot shows a steep decay in matrix density from threshold values ranging from 0 to 0.2, followed by a stabilization in the density exponential decreasing rate for threshold values ranging from approximately 0.4 to 1. Therefore chosing filter values within the interval $[0.4, 1)$ seems to be a good starting point."
   ]
  },
  {
   "cell_type": "code",
   "execution_count": 45,
   "metadata": {
    "collapsed": true
   },
   "outputs": [],
   "source": [
    "# TODO\n",
    "# Check real metric for matrix sparsity\n",
    "# Who is most likely to have collected species x? <- random walks?"
   ]
  },
  {
   "cell_type": "markdown",
   "metadata": {},
   "source": [
    "---"
   ]
  },
  {
   "cell_type": "markdown",
   "metadata": {},
   "source": [
    "## Species' Interest"
   ]
  },
  {
   "cell_type": "markdown",
   "metadata": {},
   "source": [
    "I define **interest** as a species attribute referring to the set of collectors that have recorded it, including its counts. This concept can be thought as the inverse of the **species bag**, which was introduced in the last section. Formally a species' interest $\\iota$ is defined as a vector"
   ]
  },
  {
   "cell_type": "markdown",
   "metadata": {},
   "source": [
    "$$ \n",
    "\\iota^{(\\psi)} =  \\begin{bmatrix}\n",
    "\\iota^{(\\psi)}_1, \\iota_2^{(\\psi)}, \\cdots, \\iota_n^{(\\psi)}\n",
    "\\end{bmatrix}  \\quad : \\quad \n",
    "n = |S_{col}|\n",
    "$$"
   ]
  },
  {
   "cell_type": "markdown",
   "metadata": {},
   "source": [
    "where $n$ is the length of the collectors set $S_{col}$ and $\\iota^{(\\psi)}_i$ is the total number of records of species $\\psi$ by collector $i$."
   ]
  },
  {
   "cell_type": "code",
   "execution_count": 166,
   "metadata": {},
   "outputs": [],
   "source": [
    "i,m = scn.getInterest('Caryocar brasiliense Cambess.')"
   ]
  },
  {
   "cell_type": "markdown",
   "metadata": {},
   "source": [
    "Let's check the top-20 collectors for species *Caryocar brasiliense*."
   ]
  },
  {
   "cell_type": "code",
   "execution_count": 122,
   "metadata": {},
   "outputs": [
    {
     "data": {
      "text/plain": [
       "[('gottsberger,is', 11),\n",
       " ('ratter,ja', 11),\n",
       " ('taxonomyclassofuniversidadedebrasilia', 7),\n",
       " ('faria,jeq', 6),\n",
       " ('proenca,ceb', 6),\n",
       " ('haridasan,m', 5),\n",
       " ('heringer,ep', 5),\n",
       " ('silva,js', 4),\n",
       " ('campos,lzo', 3),\n",
       " ('irwin,hs', 3),\n",
       " ('kirkbride-junior,jh', 3),\n",
       " ('lima,as', 3),\n",
       " ('zanatta,mrv', 3),\n",
       " ('allem,ln', 2),\n",
       " ('almeida,rf', 2),\n",
       " ('chagas-e-silva,fc', 2),\n",
       " ('eiten,g', 2),\n",
       " ('fankdecarvalho,sm', 2),\n",
       " ('felfili,jm', 2),\n",
       " ('fonseca,ml', 2)]"
      ]
     },
     "execution_count": 122,
     "metadata": {},
     "output_type": "execute_result"
    }
   ],
   "source": [
    "sorted( list(zip( i, np.array(m.todense()).flatten() )), key=lambda x: x[1], reverse=True )[:20]"
   ]
  },
  {
   "cell_type": "code",
   "execution_count": 168,
   "metadata": {},
   "outputs": [],
   "source": [
    "i,m = scn_family.getInterest('Caryocaraceae')"
   ]
  },
  {
   "cell_type": "code",
   "execution_count": 169,
   "metadata": {},
   "outputs": [
    {
     "data": {
      "text/plain": [
       "[('ratter,ja', 14),\n",
       " ('gottsberger,is', 11),\n",
       " ('minervino,js', 11),\n",
       " ('oliveira,rg', 11),\n",
       " ('proenca,ceb', 7),\n",
       " ('taxonomyclassofuniversidadedebrasilia', 7),\n",
       " ('faria,jeq', 6),\n",
       " ('mendonca,rc', 6),\n",
       " ('haridasan,m', 5),\n",
       " ('heringer,ep', 5),\n",
       " ('fonseca,ml', 4),\n",
       " ('silva,js', 4),\n",
       " ('bridgewater,s', 3),\n",
       " ('campos,lzo', 3),\n",
       " ('gomes,sm', 3),\n",
       " ('irwin,hs', 3),\n",
       " ('kirkbride-junior,jh', 3),\n",
       " ('lima,as', 3),\n",
       " ('zanatta,mrv', 3),\n",
       " ('allem,ln', 2)]"
      ]
     },
     "execution_count": 169,
     "metadata": {},
     "output_type": "execute_result"
    }
   ],
   "source": [
    "sorted( list(zip( i, np.array(m.todense()).flatten() )), key=lambda x: x[1], reverse=True )[:20]"
   ]
  },
  {
   "cell_type": "markdown",
   "metadata": {},
   "source": [
    "### Interest Similarity"
   ]
  },
  {
   "cell_type": "code",
   "execution_count": 75,
   "metadata": {
    "collapsed": true
   },
   "outputs": [],
   "source": [
    "from sklearn.metrics.pairwise import cosine_similarity\n",
    "import scipy\n",
    "\n",
    "def calculateInterestSimilarity( G, sp1=None, sp2=None ):\n",
    "    \"\"\"\n",
    "    Returns\n",
    "    -------\n",
    "    If neither sp1 and sp2 are informed, a tuple ( speciesList, csr_sparse_similarityMatrix )\n",
    "    If only sp1 is informed, a tuple ( speciesList, similarityVector )\n",
    "    If sp1 and sp2 are informed, a tuple ( [sp1,sp2], similarity )\n",
    "    \"\"\"\n",
    "    if G._biadj_matrix is None:\n",
    "        G._buildBiadjMatrix()\n",
    "    \n",
    "    colList, spList, m = G._biadj_matrix\n",
    "    m = m.transpose()\n",
    "    \n",
    "    if sp1 is not None:\n",
    "        if sp2 is not None:\n",
    "            sim = cosine_similarity( scn.getInterest(sp1)[1], scn.getInterest(sp2)[1] )[0][0] \n",
    "            return ([sp1,sp2], sim)\n",
    "        else:\n",
    "            simVector = cosine_similarity( scn.getInterest(col1)[1], m )\n",
    "            return ( spList, scipy.sparse.csr_matrix(simVector) )\n",
    "        \n",
    "    else:\n",
    "        return( spList, scipy.sparse.csr_matrix(cosine_similarity(m)) )"
   ]
  },
  {
   "cell_type": "code",
   "execution_count": 193,
   "metadata": {},
   "outputs": [],
   "source": [
    "spNames,m = calculateInterestSimilarity(scn_family)\n",
    "m.setdiag(0)\n",
    "#m = filterMatrix(m,thresh=0.6)"
   ]
  },
  {
   "cell_type": "code",
   "execution_count": 194,
   "metadata": {
    "collapsed": true
   },
   "outputs": [],
   "source": [
    "G = nx.from_scipy_sparse_matrix(m)"
   ]
  },
  {
   "cell_type": "code",
   "execution_count": 195,
   "metadata": {
    "collapsed": true
   },
   "outputs": [],
   "source": [
    "# relabel nodes\n",
    "namesMap = dict( (i,n) for i,n in enumerate(spNames) )\n",
    "G = nx.relabel_nodes(G,namesMap)"
   ]
  },
  {
   "cell_type": "code",
   "execution_count": 196,
   "metadata": {},
   "outputs": [
    {
     "data": {
      "text/plain": [
       "[('Acanthaceae', 'Acanthaceae', {'weight': 0.0}),\n",
       " ('Acanthaceae', 'Achariaceae', {'weight': 0.1942904277201592}),\n",
       " ('Acanthaceae', 'Achatocarpaceae', {'weight': 0.0045644021919801882}),\n",
       " ('Acanthaceae', 'Adoxaceae', {'weight': 0.15466297952482994}),\n",
       " ('Acanthaceae', 'Aizoaceae', {'weight': 0.074232954066274448}),\n",
       " ('Acanthaceae', 'Alismataceae', {'weight': 0.4678150039133418}),\n",
       " ('Acanthaceae', 'Alstroemeriaceae', {'weight': 0.82205307765132418}),\n",
       " ('Acanthaceae', 'Amaranthaceae', {'weight': 0.76468180801409147}),\n",
       " ('Acanthaceae', 'Amaryllidaceae', {'weight': 0.39110364187284569}),\n",
       " ('Acanthaceae', 'Amblystegiaceae', {'weight': 0.0057924655067468321}),\n",
       " ('Acanthaceae', 'Anacardiaceae', {'weight': 0.72067820044792352}),\n",
       " ('Acanthaceae', 'Anastrophyllaceae', {'weight': 0.0039841368660898232}),\n",
       " ('Acanthaceae', 'Andreaeaceae', {'weight': 0.0018380557017478015}),\n",
       " ('Acanthaceae', 'Anemiaceae', {'weight': 0.68574535294589278}),\n",
       " ('Acanthaceae', 'Aneuraceae', {'weight': 0.0055048761683905521}),\n",
       " ('Acanthaceae', 'Annonaceae', {'weight': 0.85410010199727093}),\n",
       " ('Acanthaceae', 'Anthocerotaceae', {'weight': 0.014523838839053695}),\n",
       " ('Acanthaceae', 'Apiaceae', {'weight': 0.79817145767526421}),\n",
       " ('Acanthaceae', 'Apocynaceae', {'weight': 0.92056913521377859}),\n",
       " ('Acanthaceae', 'Apodanthaceae', {'weight': 0.63661250702201655}),\n",
       " ('Acanthaceae', 'Aptandraceae', {'weight': 0.2066561687377356}),\n",
       " ('Acanthaceae', 'Aquifoliaceae', {'weight': 0.70808449617851865}),\n",
       " ('Acanthaceae', 'Araceae', {'weight': 0.13196189849194323}),\n",
       " ('Acanthaceae', 'Araliaceae', {'weight': 0.78224079201301389}),\n",
       " ('Acanthaceae', 'Arecaceae', {'weight': 0.35223481796886036}),\n",
       " ('Acanthaceae', 'Aristolochiaceae', {'weight': 0.7550815706702303}),\n",
       " ('Acanthaceae', 'Arthoniaceae', {'weight': 0.16171283908774711}),\n",
       " ('Acanthaceae', 'Asparagaceae', {'weight': 0.68455693728073097}),\n",
       " ('Acanthaceae', 'Aspleniaceae', {'weight': 0.62470795032071158}),\n",
       " ('Acanthaceae', 'Asteraceae', {'weight': 0.76746901911598864}),\n",
       " ('Acanthaceae', 'Atheliaceae', {'weight': 0.20345227869102558}),\n",
       " ('Acanthaceae', 'Balanophoraceae', {'weight': 0.4397530358174131}),\n",
       " ('Acanthaceae', 'Balantiopsidaceae', {'weight': 0.13463962508670652}),\n",
       " ('Acanthaceae', 'Bartramiaceae', {'weight': 0.034662279458275533}),\n",
       " ('Acanthaceae', 'Basellaceae', {'weight': 0.0091288043839603764}),\n",
       " ('Acanthaceae', 'Begoniaceae', {'weight': 0.77322433986850292}),\n",
       " ('Acanthaceae', 'Berberidaceae', {'weight': 0.041079619727821697}),\n",
       " ('Acanthaceae', 'Betulaceae', {'weight': 0.028577678018166887}),\n",
       " ('Acanthaceae', 'Bignoniaceae', {'weight': 0.87527463340058453}),\n",
       " ('Acanthaceae', 'Bixaceae', {'weight': 0.61521940792313967}),\n",
       " ('Acanthaceae', 'Blechnaceae', {'weight': 0.63950224400891997}),\n",
       " ('Acanthaceae', 'Bonnetiaceae', {'weight': 0.19519577100191768}),\n",
       " ('Acanthaceae', 'Boraginaceae', {'weight': 0.8328533309665187}),\n",
       " ('Acanthaceae', 'Brachytheciaceae', {'weight': 0.0059980010423705855}),\n",
       " ('Acanthaceae', 'Brassicaceae', {'weight': 0.3493817562042868}),\n",
       " ('Acanthaceae', 'Bromeliaceae', {'weight': 0.80824278031724028}),\n",
       " ('Acanthaceae', 'Bryaceae', {'weight': 0.11458284425616658}),\n",
       " ('Acanthaceae', 'Burmanniaceae', {'weight': 0.62318535848992906}),\n",
       " ('Acanthaceae', 'Burseraceae', {'weight': 0.75278176141716613}),\n",
       " ('Acanthaceae', 'Cabombaceae', {'weight': 0.10411087288681377}),\n",
       " ('Acanthaceae', 'Cactaceae', {'weight': 0.76255583882992595}),\n",
       " ('Acanthaceae', 'Calceolariaceae', {'weight': 0.03227519742011932}),\n",
       " ('Acanthaceae', 'Calophyllaceae', {'weight': 0.79689262320109777}),\n",
       " ('Acanthaceae', 'Calyceraceae', {'weight': 0.016330101724666791}),\n",
       " ('Acanthaceae', 'Calymperaceae', {'weight': 0.049672207749310728}),\n",
       " ('Acanthaceae', 'Calypogeiaceae', {'weight': 0.2231507342310044}),\n",
       " ('Acanthaceae', 'Campanulaceae', {'weight': 0.84813177497333936}),\n",
       " ('Acanthaceae', 'Candelariaceae', {'weight': 0.0030429347946534587}),\n",
       " ('Acanthaceae', 'Canellaceae', {'weight': 0.069402932329833883}),\n",
       " ('Acanthaceae', 'Cannabaceae', {'weight': 0.68537831084054313}),\n",
       " ('Acanthaceae', 'Cannaceae', {'weight': 0.64763475906719736}),\n",
       " ('Acanthaceae', 'Capparaceae', {'weight': 0.29816011731589726}),\n",
       " ('Acanthaceae', 'Caprifoliaceae', {'weight': 0.0091288043839603764}),\n",
       " ('Acanthaceae', 'Cardiopteridaceae', {'weight': 0.26473532713485087}),\n",
       " ('Acanthaceae', 'Caricaceae', {'weight': 0.56826807290153336}),\n",
       " ('Acanthaceae', 'Caryocaraceae', {'weight': 0.40905304009943461}),\n",
       " ('Acanthaceae', 'Caryophyllaceae', {'weight': 0.64054118654934522}),\n",
       " ('Acanthaceae', 'Casuarinaceae', {'weight': 0.01054103533691792}),\n",
       " ('Acanthaceae', 'Celastraceae', {'weight': 0.80961194651169599}),\n",
       " ('Acanthaceae', 'Cephaloziaceae', {'weight': 0.10243033784977919}),\n",
       " ('Acanthaceae', 'Cephaloziellaceae', {'weight': 0.3742067544605861}),\n",
       " ('Acanthaceae', 'Chloranthaceae', {'weight': 0.52417369934484259}),\n",
       " ('Acanthaceae', 'Chonecoleaceae', {'weight': 0.0052705176684589598}),\n",
       " ('Acanthaceae', 'Chrysobalanaceae', {'weight': 0.74480219378811674}),\n",
       " ('Acanthaceae', 'Cladoniaceae', {'weight': 0.25085599528425617}),\n",
       " ('Acanthaceae', 'Cleomaceae', {'weight': 0.21362182483909345}),\n",
       " ('Acanthaceae', 'Clethraceae', {'weight': 0.41508033517403831}),\n",
       " ('Acanthaceae', 'Clusiaceae', {'weight': 0.73171908780782924}),\n",
       " ('Acanthaceae', 'Coccocarpiaceae', {'weight': 0.0064550394840238653}),\n",
       " ('Acanthaceae', 'Coenogoniaceae', {'weight': 0.024343478357227666}),\n",
       " ('Acanthaceae', 'Collemataceae', {'weight': 0.0070478810731630422}),\n",
       " ('Acanthaceae', 'Combretaceae', {'weight': 0.75673961421724878}),\n",
       " ('Acanthaceae', 'Commelinaceae', {'weight': 0.5500057292561864}),\n",
       " ('Acanthaceae', 'Connaraceae', {'weight': 0.6546675021550391}),\n",
       " ('Acanthaceae', 'Convolvulaceae', {'weight': 0.88831026571836613}),\n",
       " ('Acanthaceae', 'Costaceae', {'weight': 0.55605307643612434}),\n",
       " ('Acanthaceae', 'Coulaceae', {'weight': 0.016137598710059663}),\n",
       " ('Acanthaceae', 'Crassulaceae', {'weight': 0.0020412627155833494}),\n",
       " ('Acanthaceae', 'Crocyniaceae', {'weight': 0.015707185178303034}),\n",
       " ('Acanthaceae', 'Cryphaeaceae', {'weight': 0.040272985718742008}),\n",
       " ('Acanthaceae', 'Cucurbitaceae', {'weight': 0.84813917577481179}),\n",
       " ('Acanthaceae', 'Cunoniaceae', {'weight': 0.55558191897051412}),\n",
       " ('Acanthaceae', 'Cyatheaceae', {'weight': 0.45673866537562829}),\n",
       " ('Acanthaceae', 'Cyclanthaceae', {'weight': 0.25174653987693074}),\n",
       " ('Acanthaceae', 'Cyperaceae', {'weight': 0.64098871229650722}),\n",
       " ('Acanthaceae', 'Cystopteridaceae', {'weight': 0.23058514799507945}),\n",
       " ('Acanthaceae', 'Daltoniaceae', {'weight': 0.016411136813635849}),\n",
       " ('Acanthaceae', 'Dennstaedtiaceae', {'weight': 0.27565682555816401}),\n",
       " ('Acanthaceae', 'Dichapetalaceae', {'weight': 0.36546275391412231}),\n",
       " ('Acanthaceae', 'Dicranaceae', {'weight': 0.093729780041726038}),\n",
       " ('Acanthaceae', 'Dilleniaceae', {'weight': 0.80722528350475475}),\n",
       " ('Acanthaceae', 'Dioscoreaceae', {'weight': 0.75028677881013339}),\n",
       " ('Acanthaceae', 'Ditrichaceae', {'weight': 0.0045090740600822327}),\n",
       " ('Acanthaceae', 'Droseraceae', {'weight': 0.52096620107885894}),\n",
       " ('Acanthaceae', 'Dryopteridaceae', {'weight': 0.58792606731477404}),\n",
       " ('Acanthaceae', 'Ebenaceae', {'weight': 0.68840418842309004}),\n",
       " ('Acanthaceae', 'Elaeocarpaceae', {'weight': 0.33069663818153039}),\n",
       " ('Acanthaceae', 'Entodontaceae', {'weight': 0.11168866285931582}),\n",
       " ('Acanthaceae', 'Equisetaceae', {'weight': 0.050128563358014959}),\n",
       " ('Acanthaceae', 'Ericaceae', {'weight': 0.70898640292506787}),\n",
       " ('Acanthaceae', 'Eriocaulaceae', {'weight': 0.45601240147610039}),\n",
       " ('Acanthaceae', 'Erpodiaceae', {'weight': 0.018950608657223617}),\n",
       " ('Acanthaceae', 'Erythropalaceae', {'weight': 0.33587294403580392}),\n",
       " ('Acanthaceae', 'Erythroxylaceae', {'weight': 0.72304069682233663}),\n",
       " ('Acanthaceae', 'Escalloniaceae', {'weight': 0.035446247081591872}),\n",
       " ('Acanthaceae', 'Euphorbiaceae', {'weight': 0.87295481027151534}),\n",
       " ('Acanthaceae', 'Fabaceae', {'weight': 0.90001883290992413}),\n",
       " ('Acanthaceae', 'Fabroniaceae', {'weight': 0.038619575443994969}),\n",
       " ('Acanthaceae', 'Fissidentaceae', {'weight': 0.044158497114933165}),\n",
       " ('Acanthaceae', 'Fossombroniaceae', {'weight': 0.078632408350040511}),\n",
       " ('Acanthaceae', 'Frullaniaceae', {'weight': 0.092843952258293116}),\n",
       " ('Acanthaceae', 'Funariaceae', {'weight': 0.045683695131915676}),\n",
       " ('Acanthaceae', 'Fuscideaceae', {'weight': 0.0081650508623333975}),\n",
       " ('Acanthaceae', 'Gelsemiaceae', {'weight': 0.051640315872190923}),\n",
       " ('Acanthaceae', 'Gentianaceae', {'weight': 0.79668130842892682}),\n",
       " ('Acanthaceae', 'Geocalycaceae', {'weight': 0.27660732097599366}),\n",
       " ('Acanthaceae', 'Geraniaceae', {'weight': 0.04694813683179621}),\n",
       " ('Acanthaceae', 'Gesneriaceae', {'weight': 0.77010575956003513}),\n",
       " ('Acanthaceae', 'Gleicheniaceae', {'weight': 0.53718180966959506}),\n",
       " ('Acanthaceae', 'Gomphaceae', {'weight': 0.022592638194083525}),\n",
       " ('Acanthaceae', 'Graphidaceae', {'weight': 0.0016395816685245504}),\n",
       " ('Acanthaceae', 'Grimmiaceae', {'weight': 0.00062919874953485039}),\n",
       " ('Acanthaceae', 'Griseliniaceae', {'weight': 0.0091288043839603764}),\n",
       " ('Acanthaceae', 'Haematommataceae', {'weight': 0.018446811839606357}),\n",
       " ('Acanthaceae', 'Haemodoraceae', {'weight': 0.46328624098373111}),\n",
       " ('Acanthaceae', 'Haloragaceae', {'weight': 0.035404778445442993}),\n",
       " ('Acanthaceae', 'Hedwigiaceae', {'weight': 0.0057308595499951341}),\n",
       " ('Acanthaceae', 'Heliconiaceae', {'weight': 0.20104683262790662}),\n",
       " ('Acanthaceae', 'Helicophyllaceae', {'weight': 0.099114426659611218}),\n",
       " ('Acanthaceae', 'Herbertaceae', {'weight': 0.062148911373417708}),\n",
       " ('Acanthaceae', 'Hookeriaceae', {'weight': 0.025460317956771873}),\n",
       " ('Acanthaceae', 'Humiriaceae', {'weight': 0.53333286674354741}),\n",
       " ('Acanthaceae', 'Hydrocharitaceae', {'weight': 0.13712211729536403}),\n",
       " ('Acanthaceae', 'Hydroleaceae', {'weight': 0.42081098113828302}),\n",
       " ('Acanthaceae', 'Hydropogonaceae', {'weight': 0.01970910837408868}),\n",
       " ('Acanthaceae', 'Hymenophyllaceae', {'weight': 0.62578770971223863}),\n",
       " ('Acanthaceae', 'Hypericaceae', {'weight': 0.32639399891207815}),\n",
       " ('Acanthaceae', 'Hypnaceae', {'weight': 0.060910327930378712}),\n",
       " ('Acanthaceae', 'Hypodematiaceae', {'weight': 0.30437239535350491}),\n",
       " ('Acanthaceae', 'Hypoxidaceae', {'weight': 0.63168902808279348}),\n",
       " ('Acanthaceae', 'Icacinaceae', {'weight': 0.6940527001975807}),\n",
       " ('Acanthaceae', 'Iridaceae', {'weight': 0.76013317275859704}),\n",
       " ('Acanthaceae', 'Isoetaceae', {'weight': 0.030618940733750238}),\n",
       " ('Acanthaceae', 'Jamesoniellaceae', {'weight': 0.0076139491886526127}),\n",
       " ('Acanthaceae', 'Juncaceae', {'weight': 0.53685384265525982}),\n",
       " ('Acanthaceae', 'Krameriaceae', {'weight': 0.55836470677312511}),\n",
       " ('Acanthaceae', 'Lacistemataceae', {'weight': 0.27532383971873714}),\n",
       " ('Acanthaceae', 'Lamiaceae', {'weight': 0.86650036617626591}),\n",
       " ('Acanthaceae', 'Lauraceae', {'weight': 0.72468179480182005}),\n",
       " ('Acanthaceae', 'Lecythidaceae', {'weight': 0.67025870222351924}),\n",
       " ('Acanthaceae', 'Lejeuneaceae', {'weight': 0.072299972756282999}),\n",
       " ('Acanthaceae', 'Lembophyllaceae', {'weight': 0.02176110984246098}),\n",
       " ('Acanthaceae', 'Lentibulariaceae', {'weight': 0.6609990316648513}),\n",
       " ('Acanthaceae', 'Lepidolaenaceae', {'weight': 0.0091288043839603764}),\n",
       " ('Acanthaceae', 'Lepidoziaceae', {'weight': 0.13448239811148474}),\n",
       " ('Acanthaceae', 'Lepyrodontaceae', {'weight': 0.0064550394840238662}),\n",
       " ('Acanthaceae', 'Leskeaceae', {'weight': 0.0025877728036409297}),\n",
       " ('Acanthaceae', 'Leucodontaceae', {'weight': 0.00086259093454697669}),\n",
       " ('Acanthaceae', 'Linaceae', {'weight': 0.0072169535418612658}),\n",
       " ('Acanthaceae', 'Linderniaceae', {'weight': 0.31027193276866905}),\n",
       " ('Acanthaceae', 'Lindsaeaceae', {'weight': 0.57180219636525853}),\n",
       " ('Acanthaceae', 'Loasaceae', {'weight': 0.1917048920631679}),\n",
       " ('Acanthaceae', 'Lobariaceae', {'weight': 0.01186744569914849}),\n",
       " ('Acanthaceae', 'Loganiaceae', {'weight': 0.79569241745868857}),\n",
       " ('Acanthaceae', 'Lophocoleaceae', {'weight': 0.10072449726330758}),\n",
       " ('Acanthaceae', 'Loranthaceae', {'weight': 0.65712590978960395}),\n",
       " ('Acanthaceae', 'Lycopodiaceae', {'weight': 0.68138603889838001}),\n",
       " ('Acanthaceae', 'Lygodiaceae', {'weight': 0.5284712760181276}),\n",
       " ('Acanthaceae', 'Lythraceae', {'weight': 0.8498388887853433}),\n",
       " ('Acanthaceae', 'Magnoliaceae', {'weight': 0.62241848072457118}),\n",
       " ('Acanthaceae', 'Malpighiaceae', {'weight': 0.86737771820467069}),\n",
       " ('Acanthaceae', 'Malvaceae', {'weight': 0.90504262329664886}),\n",
       " ('Acanthaceae', 'Marantaceae', {'weight': 0.43403824345839709}),\n",
       " ('Acanthaceae', 'Marcgraviaceae', {'weight': 0.56544663501452896}),\n",
       " ('Acanthaceae', 'Marchantiaceae', {'weight': 0.016137598710059663}),\n",
       " ('Acanthaceae', 'Marsileaceae', {'weight': 0.17966526563866428}),\n",
       " ('Acanthaceae', 'Mayacaceae', {'weight': 0.3228192071931113}),\n",
       " ('Acanthaceae', 'Meesiaceae', {'weight': 0.0020412627155833494}),\n",
       " ('Acanthaceae', 'Melastomataceae', {'weight': 0.80557098936117011}),\n",
       " ('Acanthaceae', 'Meliaceae', {'weight': 0.61583727765179108}),\n",
       " ('Acanthaceae', 'Menispermaceae', {'weight': 0.78644232920746915}),\n",
       " ('Acanthaceae', 'Menyanthaceae', {'weight': 0.22157126577771974}),\n",
       " ('Acanthaceae', 'Metaxyaceae', {'weight': 0.17194312628636399}),\n",
       " ('Acanthaceae', 'Meteoriaceae', {'weight': 0.053408160770605687}),\n",
       " ('Acanthaceae', 'Metzgeriaceae', {'weight': 0.047874876173177004}),\n",
       " ('Acanthaceae', 'Microteaceae', {'weight': 0.21638060825100244}),\n",
       " ('Acanthaceae', 'Mniaceae', {'weight': 0.00039357070351189971}),\n",
       " ('Acanthaceae', 'Molluginaceae', {'weight': 0.17808348852294889}),\n",
       " ('Acanthaceae', 'Monimiaceae', {'weight': 0.50951943996838944}),\n",
       " ('Acanthaceae', 'Monoblastiaceae', {'weight': 0.0052705176684589598}),\n",
       " ('Acanthaceae', 'Moraceae', {'weight': 0.80688105991682568}),\n",
       " ('Acanthaceae', 'Myristicaceae', {'weight': 0.65429171572852307}),\n",
       " ('Acanthaceae', 'Myrtaceae', {'weight': 0.59508462683138796}),\n",
       " ('Acanthaceae', 'Neckeraceae', {'weight': 0.063974921663652484}),\n",
       " ('Acanthaceae', 'Nephrolepidaceae', {'weight': 0.49802495065836355}),\n",
       " ('Acanthaceae', 'Notothyladaceae', {'weight': 0.018977000560033486}),\n",
       " ('Acanthaceae', 'Nyctaginaceae', {'weight': 0.63731992699017859}),\n",
       " ('Acanthaceae', 'Nymphaeaceae', {'weight': 0.051640315872190923}),\n",
       " ('Acanthaceae', 'Ochnaceae', {'weight': 0.84689873826259698}),\n",
       " ('Acanthaceae', 'Ochrolechiaceae', {'weight': 0.0064550394840238653}),\n",
       " ('Acanthaceae', 'Olacaceae', {'weight': 0.2391451037664222}),\n",
       " ('Acanthaceae', 'Oleaceae', {'weight': 0.22343795035360586}),\n",
       " ('Acanthaceae', 'Oleandraceae', {'weight': 0.44378396452664065}),\n",
       " ('Acanthaceae', 'Onagraceae', {'weight': 0.74129706172636101}),\n",
       " ('Acanthaceae', 'Ophioglossaceae', {'weight': 0.1490121782375845}),\n",
       " ('Acanthaceae', 'Opiliaceae', {'weight': 0.47513651009260893}),\n",
       " ('Acanthaceae', 'Orchidaceae', {'weight': 0.73279409980418331}),\n",
       " ('Acanthaceae', 'Orobanchaceae', {'weight': 0.80468123179315543}),\n",
       " ('Acanthaceae', 'Orthotrichaceae', {'weight': 0.11789369010036162}),\n",
       " ('Acanthaceae', 'Osmundaceae', {'weight': 0.35012059877609281}),\n",
       " ('Acanthaceae', 'Oxalidaceae', {'weight': 0.39978919614939079}),\n",
       " ('Acanthaceae', 'Pallaviciniaceae', {'weight': 0.3337534766168222}),\n",
       " ('Acanthaceae', 'Papaveraceae', {'weight': 0.15498421939687726}),\n",
       " ('Acanthaceae', 'Parmeliaceae', {'weight': 0.056706735418352812}),\n",
       " ('Acanthaceae', 'Passifloraceae', {'weight': 0.78244472736263326}),\n",
       " ('Acanthaceae', 'Pedaliaceae', {'weight': 0.32179035453460325}),\n",
       " ('Acanthaceae', 'Pelliaceae', {'weight': 0.02494939513829509}),\n",
       " ('Acanthaceae', 'Pentaphylacaceae', {'weight': 0.30822684964137276}),\n",
       " ('Acanthaceae', 'Peraceae', {'weight': 0.58455243270668145}),\n",
       " ('Acanthaceae', 'Pertusariaceae', {'weight': 0.022592638194083525}),\n",
       " ('Acanthaceae', 'Phyllanthaceae', {'weight': 0.77847408064903212}),\n",
       " ('Acanthaceae', 'Phyllodrepaniaceae', {'weight': 0.026352588342294796}),\n",
       " ('Acanthaceae', 'Phyllogoniaceae', {'weight': 0.039912591961125628}),\n",
       " ('Acanthaceae', 'Physciaceae', {'weight': 0.037717816393721487}),\n",
       " ('Acanthaceae', 'Phytolaccaceae', {'weight': 0.45661149419124647}),\n",
       " ('Acanthaceae', 'Picramniaceae', {'weight': 0.44478210872761742}),\n",
       " ('Acanthaceae', 'Picrodendraceae', {'weight': 0.19686338756806465}),\n",
       " ('Acanthaceae', 'Pinaceae', {'weight': 0.031950815343861315}),\n",
       " ('Acanthaceae', 'Piperaceae', {'weight': 0.66693439985887948}),\n",
       " ('Acanthaceae', 'Plagiochilaceae', {'weight': 0.068600298140189336}),\n",
       " ('Acanthaceae', 'Plagiotheciaceae', {'weight': 0.0029881026495673672}),\n",
       " ('Acanthaceae', 'Plantaginaceae', {'weight': 0.75774293667950265}),\n",
       " ('Acanthaceae', 'Plumbaginaceae', {'weight': 0.1789278059333364}),\n",
       " ('Acanthaceae', 'Poaceae', {'weight': 0.59738355833034529}),\n",
       " ('Acanthaceae', 'Podocarpaceae', {'weight': 0.048709326096161423}),\n",
       " ('Acanthaceae', 'Podostemaceae', {'weight': 0.12298501986311779}),\n",
       " ('Acanthaceae', 'Polygalaceae', {'weight': 0.7909450483818885}),\n",
       " ('Acanthaceae', 'Polygonaceae', {'weight': 0.65909105996819817}),\n",
       " ('Acanthaceae', 'Polypodiaceae', {'weight': 0.68998995158248844}),\n",
       " ('Acanthaceae', 'Polytrichaceae', {'weight': 0.04035491907593107}),\n",
       " ('Acanthaceae', 'Pontederiaceae', {'weight': 0.39915654195922251}),\n",
       " ('Acanthaceae', 'Porellaceae', {'weight': 0.019864010860474009}),\n",
       " ('Acanthaceae', 'Portulacaceae', {'weight': 0.61083159889272565}),\n",
       " ('Acanthaceae', 'Potamogetonaceae', {'weight': 0.02282201095990094}),\n",
       " ('Acanthaceae', 'Pottiaceae', {'weight': 0.046293217525227061}),\n",
       " ('Acanthaceae', 'Primulaceae', {'weight': 0.7167216362103731}),\n",
       " ('Acanthaceae', 'Prionodontaceae', {'weight': 0.02387038057012442}),\n",
       " ('Acanthaceae', 'Proteaceae', {'weight': 0.55415699738587532}),\n",
       " ('Acanthaceae', 'Psilotaceae', {'weight': 0.021433258513625167}),\n",
       " ('Acanthaceae', 'Pteridaceae', {'weight': 0.73877746809128042}),\n",
       " ('Acanthaceae', 'Pterobryaceae', {'weight': 0.097506193707720137}),\n",
       " ('Acanthaceae', 'Ptychomitriaceae', {'weight': 0.026352588342294796}),\n",
       " ('Acanthaceae', 'Quiinaceae', {'weight': 0.10650271781287105}),\n",
       " ('Acanthaceae', 'Quillajaceae', {'weight': 0.042164141347671678}),\n",
       " ('Acanthaceae', 'Racopilaceae', {'weight': 0.085763050791616918}),\n",
       " ('Acanthaceae', 'Radulaceae', {'weight': 0.011600448180279829}),\n",
       " ('Acanthaceae', 'Ramalinaceae', {'weight': 0.040535043932291182}),\n",
       " ('Acanthaceae', 'Ranunculaceae', {'weight': 0.42571185538256201}),\n",
       " ('Acanthaceae', 'Rapateaceae', {'weight': 0.20667859212088077}),\n",
       " ('Acanthaceae', 'Regmatodontaceae', {'weight': 0.014288839009083443}),\n",
       " ('Acanthaceae', 'Rhabdodendraceae', {'weight': 0.041957756646155128}),\n",
       " ('Acanthaceae', 'Rhachitheciaceae', {'weight': 0.0071001811875247367}),\n",
       " ('Acanthaceae', 'Rhamnaceae', {'weight': 0.69451045819325152}),\n",
       " ('Acanthaceae', 'Rhizogoniaceae', {'weight': 0.035394706055772662}),\n",
       " ('Acanthaceae', 'Rhizophoraceae', {'weight': 0.15317842488830771}),\n",
       " ('Acanthaceae', 'Ricciaceae', {'weight': 0.0050186743165162905}),\n",
       " ('Acanthaceae', 'Roccellaceae', {'weight': 0.0079877038359653287}),\n",
       " ('Acanthaceae', 'Rosaceae', {'weight': 0.71962839191884698}),\n",
       " ('Acanthaceae', 'Rubiaceae', {'weight': 0.81700763685686739}),\n",
       " ('Acanthaceae', 'Rutaceae', {'weight': 0.83881430861912143}),\n",
       " ('Acanthaceae', 'Sabiaceae', {'weight': 0.03499375013851478}),\n",
       " ('Acanthaceae', 'Saccolomataceae', {'weight': 0.020978878323077564}),\n",
       " ('Acanthaceae', 'Salicaceae', {'weight': 0.79973926500988313}),\n",
       " ('Acanthaceae', 'Salviniaceae', {'weight': 0.064532946429367036}),\n",
       " ('Acanthaceae', 'Santalaceae', {'weight': 0.45394832018574216}),\n",
       " ('Acanthaceae', 'Sapindaceae', {'weight': 0.79422550960721083}),\n",
       " ('Acanthaceae', 'Sapotaceae', {'weight': 0.74373001428039431}),\n",
       " ('Acanthaceae', 'Schizaeaceae', {'weight': 0.2955485935185212}),\n",
       " ('Acanthaceae', 'Schlegeliaceae', {'weight': 0.19626929425514808}),\n",
       " ('Acanthaceae', 'Schoepfiaceae', {'weight': 0.22484870360524523}),\n",
       " ('Acanthaceae', 'Scrophulariaceae', {'weight': 0.60333961815375581}),\n",
       " ('Acanthaceae', 'Selaginellaceae', {'weight': 0.6100377901296532}),\n",
       " ('Acanthaceae', 'Sematophyllaceae', {'weight': 0.067573626902024231}),\n",
       " ('Acanthaceae', 'Simaroubaceae', {'weight': 0.46897265120886411}),\n",
       " ('Acanthaceae', 'Siparunaceae', {'weight': 0.80392158577575856}),\n",
       " ('Acanthaceae', 'Smilacaceae', {'weight': 0.77870362871610632}),\n",
       " ('Acanthaceae', 'Solanaceae', {'weight': 0.80613495685863523}),\n",
       " ('Acanthaceae', 'Sphagnaceae', {'weight': 0.11251512466179971}),\n",
       " ('Acanthaceae', 'Sphenocleaceae', {'weight': 0.0064550394840238653}),\n",
       " ('Acanthaceae', 'Splachnaceae', {'weight': 0.0052705176684589598}),\n",
       " ('Acanthaceae', 'Splachnobryaceae', {'weight': 0.0096410042076481225}),\n",
       " ('Acanthaceae', 'Stereophyllaceae', {'weight': 0.062734095641490767}),\n",
       " ('Acanthaceae', 'Stictidaceae', {'weight': 0.0064550394840238653}),\n",
       " ('Acanthaceae', 'Strombosiaceae', {'weight': 0.06532040689866718}),\n",
       " ('Acanthaceae', 'Styracaceae', {'weight': 0.79641934522951441}),\n",
       " ('Acanthaceae', 'Surianaceae', {'weight': 0.13878334890651309}),\n",
       " ('Acanthaceae', 'Symplocaceae', {'weight': 0.56992804605652614}),\n",
       " ('Acanthaceae', 'Talinaceae', {'weight': 0.094939565593187919}),\n",
       " ('Acanthaceae', 'Tectariaceae', {'weight': 0.19366106443115938}),\n",
       " ('Acanthaceae', 'Teloschistaceae', {'weight': 0.38211253096327458}),\n",
       " ('Acanthaceae', 'Theaceae', {'weight': 0.50251266682968809}),\n",
       " ('Acanthaceae', 'Thelypteridaceae', {'weight': 0.64146133940347716}),\n",
       " ('Acanthaceae', 'Thuidiaceae', {'weight': 0.086735571174067702}),\n",
       " ('Acanthaceae', 'Thurniaceae', {'weight': 0.026352588342294796}),\n",
       " ('Acanthaceae', 'Thymelaeaceae', {'weight': 0.023717329508065318}),\n",
       " ('Acanthaceae', 'Trigoniaceae', {'weight': 0.55727713101531573}),\n",
       " ('Acanthaceae', 'Tropaeolaceae', {'weight': 0.13602888560617571}),\n",
       " ('Acanthaceae', 'Trypetheliaceae', {'weight': 0.018446811839606357}),\n",
       " ('Acanthaceae', 'Turneraceae', {'weight': 0.72543884761978861}),\n",
       " ('Acanthaceae', 'Typhaceae', {'weight': 0.15492094761657274}),\n",
       " ('Acanthaceae', 'Urticaceae', {'weight': 0.766974326607058}),\n",
       " ('Acanthaceae', 'Velloziaceae', {'weight': 0.77052737744748712}),\n",
       " ('Acanthaceae', 'Verbenaceae', {'weight': 0.83619605737901115}),\n",
       " ('Acanthaceae', 'Violaceae', {'weight': 0.66632638556931678}),\n",
       " ('Acanthaceae', 'Vitaceae', {'weight': 0.75702249927106491}),\n",
       " ('Acanthaceae', 'Vivianiaceae', {'weight': 0.0091288043839603764}),\n",
       " ('Acanthaceae', 'Vochysiaceae', {'weight': 0.77254476557751761}),\n",
       " ('Acanthaceae', 'Winteraceae', {'weight': 0.28271488610829387}),\n",
       " ('Acanthaceae', 'Ximeniaceae', {'weight': 0.36515365730417143}),\n",
       " ('Acanthaceae', 'Xyridaceae', {'weight': 0.32058862712761849}),\n",
       " ('Acanthaceae', 'Zingiberaceae', {'weight': 0.61028308619198601}),\n",
       " ('Achariaceae', 'Achariaceae', {'weight': 0.0}),\n",
       " ('Achariaceae', 'Aizoaceae', {'weight': 0.1270001270001905}),\n",
       " ('Achariaceae', 'Alismataceae', {'weight': 0.034327493150204204}),\n",
       " ('Achariaceae', 'Alstroemeriaceae', {'weight': 0.044257181002857374}),\n",
       " ('Achariaceae', 'Amaranthaceae', {'weight': 0.15810184803168198}),\n",
       " ('Achariaceae', 'Amaryllidaceae', {'weight': 0.0051869201408186556}),\n",
       " ('Achariaceae', 'Anacardiaceae', {'weight': 0.17168209894069805}),\n",
       " ('Achariaceae', 'Anemiaceae', {'weight': 0.018821157412251224}),\n",
       " ('Achariaceae', 'Annonaceae', {'weight': 0.095865959941146217}),\n",
       " ('Achariaceae', 'Apiaceae', {'weight': 0.035007089653554965}),\n",
       " ('Achariaceae', 'Apocynaceae', {'weight': 0.090837503618063573}),\n",
       " ('Achariaceae', 'Aptandraceae', {'weight': 0.15401027590842434}),\n",
       " ('Achariaceae', 'Aquifoliaceae', {'weight': 0.0050220829400933562}),\n",
       " ('Achariaceae', 'Araceae', {'weight': 0.028039170041176713}),\n",
       " ('Achariaceae', 'Araliaceae', {'weight': 0.056062707177716359}),\n",
       " ('Achariaceae', 'Arecaceae', {'weight': 0.028357221326512916}),\n",
       " ('Achariaceae', 'Aristolochiaceae', {'weight': 0.080704876338334799}),\n",
       " ('Achariaceae', 'Asparagaceae', {'weight': 0.038100038100057146}),\n",
       " ('Achariaceae', 'Aspleniaceae', {'weight': 0.057849813506964325}),\n",
       " ('Achariaceae', 'Asteraceae', {'weight': 0.096702174569982452}),\n",
       " ('Achariaceae', 'Begoniaceae', {'weight': 0.25268812489119286}),\n",
       " ('Achariaceae', 'Bignoniaceae', {'weight': 0.12157992428228452}),\n",
       " ('Achariaceae', 'Bixaceae', {'weight': 0.015125495013558086}),\n",
       " ('Achariaceae', 'Blechnaceae', {'weight': 0.037791316596774947}),\n",
       " ('Achariaceae', 'Bonnetiaceae', {'weight': 0.75897092589864545}),\n",
       " ('Achariaceae', 'Boraginaceae', {'weight': 0.26030341745579388}),\n",
       " ('Achariaceae', 'Brassicaceae', {'weight': 0.14714847414204876}),\n",
       " ('Achariaceae', 'Bromeliaceae', {'weight': 0.10817570925778217}),\n",
       " ('Achariaceae', 'Bryaceae', {'weight': 0.0010391187852754221}),\n",
       " ('Achariaceae', 'Burmanniaceae', {'weight': 0.0052985756428925628}),\n",
       " ('Achariaceae', 'Burseraceae', {'weight': 0.10326697010990504}),\n",
       " ('Achariaceae', 'Buxaceae', {'weight': 0.17960530202677491}),\n",
       " ('Achariaceae', 'Cactaceae', {'weight': 0.18176929939175243}),\n",
       " ('Achariaceae', 'Calophyllaceae', {'weight': 0.073888257162913723}),\n",
       " ('Achariaceae', 'Campanulaceae', {'weight': 0.034803082819597167}),\n",
       " ('Achariaceae', 'Cannabaceae', {'weight': 0.079617340917573859}),\n",
       " ('Achariaceae', 'Capparaceae', {'weight': 0.60984957861664491}),\n",
       " ('Achariaceae', 'Cardiopteridaceae', {'weight': 0.089802651013387455}),\n",
       " ('Achariaceae', 'Caryocaraceae', {'weight': 0.027504930700781787}),\n",
       " ('Achariaceae', 'Caryophyllaceae', {'weight': 0.0084015816626122689}),\n",
       " ('Achariaceae', 'Celastraceae', {'weight': 0.10062298826417805}),\n",
       " ('Achariaceae', 'Chloranthaceae', {'weight': 0.09901960831901005}),\n",
       " ('Achariaceae', 'Chrysobalanaceae', {'weight': 0.30088640053553312}),\n",
       " ('Achariaceae', 'Clusiaceae', {'weight': 0.31618680558737683}),\n",
       " ('Achariaceae', 'Combretaceae', {'weight': 0.1273442431317042}),\n",
       " ('Achariaceae', 'Connaraceae', {'weight': 0.081528714965171556}),\n",
       " ('Achariaceae', 'Convolvulaceae', {'weight': 0.052377920993746475}),\n",
       " ('Achariaceae', 'Costaceae', {'weight': 0.071637733139625265}),\n",
       " ('Achariaceae', 'Coulaceae', {'weight': 0.1270001270001905}),\n",
       " ('Achariaceae', 'Cryphaeaceae', {'weight': 0.0084292944866183467}),\n",
       " ('Achariaceae', 'Cucurbitaceae', {'weight': 0.1093020110772943}),\n",
       " ('Achariaceae', 'Cunoniaceae', {'weight': 0.050279831766377799}),\n",
       " ('Achariaceae', 'Cyatheaceae', {'weight': 0.017322673545232235}),\n",
       " ('Achariaceae', 'Cyperaceae', {'weight': 0.047808954471711039}),\n",
       " ('Achariaceae', 'Dichapetalaceae', {'weight': 0.038709677419354847}),\n",
       " ('Achariaceae', 'Dilleniaceae', {'weight': 0.06945239963814015}),\n",
       " ('Achariaceae', 'Droseraceae', {'weight': 0.0038231204986419074}),\n",
       " ('Achariaceae', 'Dryopteridaceae', {'weight': 0.049107661064769013}),\n",
       " ('Achariaceae', 'Ebenaceae', {'weight': 0.0036189863676062148}),\n",
       " ('Achariaceae', 'Elaeocarpaceae', {'weight': 0.11234626619247622}),\n",
       " ('Achariaceae', 'Ericaceae', {'weight': 0.024135832513640043}),\n",
       " ('Achariaceae', 'Eriocaulaceae', {'weight': 0.026470064756694472}),\n",
       " ('Achariaceae', 'Erythropalaceae', {'weight': 0.017424273674761286}),\n",
       " ('Achariaceae', 'Erythroxylaceae', {'weight': 0.10907480044754209}),\n",
       " ('Achariaceae', 'Euphorbiaceae', {'weight': 0.07231001647251363}),\n",
       " ('Achariaceae', 'Fabaceae', {'weight': 0.14186829369419221}),\n",
       " ('Achariaceae', 'Frullaniaceae', {'weight': 0.0088138231583220848}),\n",
       " ('Achariaceae', 'Gelsemiaceae', {'weight': 0.1270001270001905}),\n",
       " ('Achariaceae', 'Gentianaceae', {'weight': 0.032361644000118532}),\n",
       " ('Achariaceae', 'Gesneriaceae', {'weight': 0.045637047504747452}),\n",
       " ('Achariaceae', 'Gleicheniaceae', {'weight': 0.055006876289331118}),\n",
       " ('Achariaceae', 'Heliconiaceae', {'weight': 0.0077218350557820333}),\n",
       " ('Achariaceae', 'Humiriaceae', {'weight': 0.53956374253471162}),\n",
       " ('Achariaceae', 'Hydroleaceae', {'weight': 0.020467923754178649}),\n",
       " ('Achariaceae', 'Hydropogonaceae', {'weight': 0.045619792334615973}),\n",
       " ('Achariaceae', 'Hymenophyllaceae', {'weight': 0.061861689648594009}),\n",
       " ('Achariaceae', 'Hypnaceae', {'weight': 0.00037690973999601795}),\n",
       " ('Achariaceae', 'Hypodematiaceae', {'weight': 0.05184758473652127}),\n",
       " ('Achariaceae', 'Icacinaceae', {'weight': 0.063218465378638747}),\n",
       " ('Achariaceae', 'Iridaceae', {'weight': 0.013252658156543019}),\n",
       " ('Achariaceae', 'Juncaceae', {'weight': 0.018827751470952857}),\n",
       " ('Achariaceae', 'Krameriaceae', {'weight': 0.086557470096766051}),\n",
       " ('Achariaceae', 'Lacistemataceae', {'weight': 0.067220825548882743}),\n",
       " ('Achariaceae', 'Lamiaceae', {'weight': 0.054418162213318903}),\n",
       " ('Achariaceae', 'Lauraceae', {'weight': 0.20645210187758142}),\n",
       " ('Achariaceae', 'Lecythidaceae', {'weight': 0.5041097141286246}),\n",
       " ('Achariaceae', 'Lentibulariaceae', {'weight': 0.0054018159095693512}),\n",
       " ('Achariaceae', 'Lindsaeaceae', {'weight': 0.035073928015871683}),\n",
       " ('Achariaceae', 'Loganiaceae', {'weight': 0.10961508956286239}),\n",
       " ('Achariaceae', 'Loranthaceae', {'weight': 0.096321625102401623}),\n",
       " ('Achariaceae', 'Lycopodiaceae', {'weight': 0.035680075360173175}),\n",
       " ('Achariaceae', 'Lygodiaceae', {'weight': 0.044173957217457566}),\n",
       " ('Achariaceae', 'Lythraceae', {'weight': 0.064264982360203143}),\n",
       " ('Achariaceae', 'Magnoliaceae', {'weight': 0.032655509459413617}),\n",
       " ('Achariaceae', 'Malpighiaceae', {'weight': 0.050124309657379407}),\n",
       " ('Achariaceae', 'Malvaceae', {'weight': 0.081026303455467588}),\n",
       " ('Achariaceae', 'Marantaceae', {'weight': 0.034784178650382677}),\n",
       " ('Achariaceae', 'Marcgraviaceae', {'weight': 0.092068299091864092}),\n",
       " ('Achariaceae', 'Marsileaceae', {'weight': 0.084666751333460341}),\n",
       " ('Achariaceae', 'Mayacaceae', {'weight': 0.077771377104781908}),\n",
       " ('Achariaceae', 'Melastomataceae', {'weight': 0.10525349682806566}),\n",
       " ('Achariaceae', 'Meliaceae', {'weight': 0.041679854509478732}),\n",
       " ('Achariaceae', 'Menispermaceae', {'weight': 0.058290595567448714}),\n",
       " ('Achariaceae', 'Metaxyaceae', {'weight': 0.045256282220142038}),\n",
       " ('Achariaceae', 'Meteoriaceae', {'weight': 0.0017425913837957347}),\n",
       " ('Achariaceae', 'Moraceae', {'weight': 0.11449109206793612}),\n",
       " ('Achariaceae', 'Myristicaceae', {'weight': 0.031667670958267675}),\n",
       " ('Achariaceae', 'Myrtaceae', {'weight': 0.072107169666660878}),\n",
       " ('Achariaceae', 'Neckeraceae', {'weight': 0.0080170642205925086}),\n",
       " ('Achariaceae', 'Nephrolepidaceae', {'weight': 0.26597249773785736}),\n",
       " ('Achariaceae', 'Nyctaginaceae', {'weight': 0.21397947891224656}),\n",
       " ('Achariaceae', 'Nymphaeaceae', {'weight': 0.15875015875023812}),\n",
       " ('Achariaceae', 'Ochnaceae', {'weight': 0.063036812976718204}),\n",
       " ('Achariaceae', 'Olacaceae', {'weight': 0.017047380849825593}),\n",
       " ('Achariaceae', 'Onagraceae', {'weight': 0.039355542450526922}),\n",
       " ('Achariaceae', 'Opiliaceae', {'weight': 0.020704555011421613}),\n",
       " ('Achariaceae', 'Orchidaceae', {'weight': 0.04017298610309919}),\n",
       " ('Achariaceae', 'Orobanchaceae', {'weight': 0.021015249422683971}),\n",
       " ('Achariaceae', 'Osmundaceae', {'weight': 0.054779103566477673}),\n",
       " ('Achariaceae', 'Oxalidaceae', {'weight': 0.052799927147357303}),\n",
       " ('Achariaceae', 'Pallaviciniaceae', {'weight': 0.016395645894598822}),\n",
       " ('Achariaceae', 'Papaveraceae', {'weight': 0.04356068418690321}),\n",
       " ('Achariaceae', 'Parmeliaceae', {'weight': 0.0077343545418001305}),\n",
       " ('Achariaceae', 'Passifloraceae', {'weight': 0.29775309936510519}),\n",
       " ('Achariaceae', 'Pentaphylacaceae', {'weight': 0.026481357066618805}),\n",
       " ('Achariaceae', 'Peraceae', {'weight': 0.50997510255903411}),\n",
       " ('Achariaceae', 'Phyllanthaceae', {'weight': 0.10202260044420221}),\n",
       " ('Achariaceae', 'Phyllogoniaceae', {'weight': 0.019509641974772972}),\n",
       " ('Achariaceae', 'Phytolaccaceae', {'weight': 0.41649820357417067}),\n",
       " ('Achariaceae', 'Picramniaceae', {'weight': 0.040049870889436831}),\n",
       " ('Achariaceae', 'Piperaceae', {'weight': 0.14964024922039557}),\n",
       " ('Achariaceae', 'Plantaginaceae', {'weight': 0.11621424523114049}),\n",
       " ('Achariaceae', 'Poaceae', {'weight': 0.010300731219992273}),\n",
       " ('Achariaceae', 'Polygalaceae', {'weight': 0.053864251722339274}),\n",
       " ('Achariaceae', 'Polygonaceae', {'weight': 0.10337528643997985}),\n",
       " ('Achariaceae', 'Polypodiaceae', {'weight': 0.16533719926011273}),\n",
       " ('Achariaceae', 'Polytrichaceae', {'weight': 0.0017772035485705002}),\n",
       " ('Achariaceae', 'Pontederiaceae', {'weight': 0.013424330557912197}),\n",
       " ('Achariaceae', 'Portulacaceae', {'weight': 0.029290395145326897}),\n",
       " ('Achariaceae', 'Primulaceae', {'weight': 0.050276339232192831}),\n",
       " ('Achariaceae', 'Proteaceae', {'weight': 0.032574845253565188}),\n",
       " ('Achariaceae', 'Psilotaceae', {'weight': 0.040160966445124943}),\n",
       " ('Achariaceae', 'Pteridaceae', {'weight': 0.078410617186128656}),\n",
       " ('Achariaceae', 'Quiinaceae', {'weight': 0.29934217004462482}),\n",
       " ('Achariaceae', 'Ranunculaceae', {'weight': 0.29604822689486909}),\n",
       " ('Achariaceae', 'Rhabdodendraceae', {'weight': 0.1270001270001905}),\n",
       " ('Achariaceae', 'Rhamnaceae', {'weight': 0.10518143009760605}),\n",
       " ('Achariaceae', 'Rhizogoniaceae', {'weight': 0.015737302291853422}),\n",
       " ('Achariaceae', 'Rhizophoraceae', {'weight': 0.54794902952538982}),\n",
       " ('Achariaceae', 'Rosaceae', {'weight': 0.035631369705085715}),\n",
       " ('Achariaceae', 'Rubiaceae', {'weight': 0.087399960497540174}),\n",
       " ('Achariaceae', 'Rutaceae', {'weight': 0.25950735596796903}),\n",
       " ('Achariaceae', 'Saccolomataceae', {'weight': 0.063500063500095252}),\n",
       " ('Achariaceae', 'Salicaceae', {'weight': 0.22273507921199145}),\n",
       " ('Achariaceae', 'Santalaceae', {'weight': 0.06615967507284097}),\n",
       " ('Achariaceae', 'Sapindaceae', {'weight': 0.10961942114521306}),\n",
       " ('Achariaceae', 'Sapotaceae', {'weight': 0.1814075656725132}),\n",
       " ('Achariaceae', 'Schizaeaceae', {'weight': 0.217714503428898}),\n",
       " ('Achariaceae', 'Schlegeliaceae', {'weight': 0.89802651013387458}),\n",
       " ('Achariaceae', 'Schoepfiaceae', {'weight': 0.33942211665106531}),\n",
       " ('Achariaceae', 'Scrophulariaceae', {'weight': 0.06558258357839529}),\n",
       " ('Achariaceae', 'Selaginellaceae', {'weight': 0.034104168448816141}),\n",
       " ('Achariaceae', 'Sematophyllaceae', {'weight': 0.0011703187158550433}),\n",
       " ('Achariaceae', 'Simaroubaceae', {'weight': 0.038652212565275373}),\n",
       " ('Achariaceae', 'Siparunaceae', {'weight': 0.077966537705499717}),\n",
       " ('Achariaceae', 'Smilacaceae', {'weight': 0.015703430263911852}),\n",
       " ('Achariaceae', 'Solanaceae', {'weight': 0.072564391517561444}),\n",
       " ('Achariaceae', 'Styracaceae', {'weight': 0.057697535701444903}),\n",
       " ('Achariaceae', 'Surianaceae', {'weight': 0.6350006350009525}),\n",
       " ('Achariaceae', 'Symplocaceae', {'weight': 0.050737960676078629}),\n",
       " ('Achariaceae', 'Tectariaceae', {'weight': 0.38486850434308906}),\n",
       " ('Achariaceae', 'Theaceae', {'weight': 0.048583394118844797}),\n",
       " ('Achariaceae', 'Thelypteridaceae', {'weight': 0.081376488148783524}),\n",
       " ('Achariaceae', 'Thuidiaceae', {'weight': 0.0024966862875771276}),\n",
       " ('Achariaceae', 'Thymelaeaceae', {'weight': 0.034565056491014177}),\n",
       " ('Achariaceae', 'Trigoniaceae', {'weight': 0.11074937367945367}),\n",
       " ('Achariaceae', 'Turneraceae', {'weight': 0.03994778976281238}),\n",
       " ('Achariaceae', 'Urticaceae', {'weight': 0.037550384365594131}),\n",
       " ('Achariaceae', 'Velloziaceae', {'weight': 0.021581315285457418}),\n",
       " ('Achariaceae', 'Verbenaceae', {'weight': 0.082874268513787333}),\n",
       " ('Achariaceae', 'Violaceae', {'weight': 0.21336576851773417}),\n",
       " ('Achariaceae', 'Vitaceae', {'weight': 0.048827568984450113}),\n",
       " ('Achariaceae', 'Vochysiaceae', {'weight': 0.043015450100730337}),\n",
       " ('Achariaceae', 'Ximeniaceae', {'weight': 0.10233961877089325}),\n",
       " ('Achariaceae', 'Xyridaceae', {'weight': 0.0098048242286673404}),\n",
       " ('Achariaceae', 'Zingiberaceae', {'weight': 0.033942211665106532}),\n",
       " ('Achatocarpaceae', 'Achatocarpaceae', {'weight': 0.0}),\n",
       " ('Achatocarpaceae', 'Anacardiaceae', {'weight': 0.0070806331275398244}),\n",
       " ('Achatocarpaceae', 'Annonaceae', {'weight': 0.0092827665281531198}),\n",
       " ('Achatocarpaceae', 'Aquifoliaceae', {'weight': 0.027961774421028408}),\n",
       " ('Achatocarpaceae', 'Bignoniaceae', {'weight': 0.0046049548956086815}),\n",
       " ('Achatocarpaceae', 'Blechnaceae', {'weight': 0.0095642338987250129}),\n",
       " ('Achatocarpaceae', 'Cannabaceae', {'weight': 0.029552706228277083}),\n",
       " ('Achatocarpaceae', 'Clethraceae', {'weight': 0.1690308509457033}),\n",
       " ('Achatocarpaceae', 'Fabaceae', {'weight': 0.0010227309838317133}),\n",
       " ('Achatocarpaceae', 'Lauraceae', {'weight': 0.061422416704255391}),\n",
       " ('Achatocarpaceae', 'Malvaceae', {'weight': 0.0022114478668196248}),\n",
       " ('Achatocarpaceae', 'Melastomataceae', {'weight': 0.0010655030340046303}),\n",
       " ('Achatocarpaceae', 'Meliaceae', {'weight': 0.030941814478108783}),\n",
       " ('Achatocarpaceae', 'Myrtaceae', {'weight': 0.025032059877551274}),\n",
       " ('Achatocarpaceae', 'Nyctaginaceae', {'weight': 0.011239502991174948}),\n",
       " ('Achatocarpaceae', 'Piperaceae', {'weight': 0.0030407359374245301}),\n",
       " ('Achatocarpaceae', 'Rhamnaceae', {'weight': 0.020915193504605287}),\n",
       " ('Achatocarpaceae', 'Rubiaceae', {'weight': 0.0041339280310639459}),\n",
       " ('Achatocarpaceae', 'Rutaceae', {'weight': 0.0094436327349719136}),\n",
       " ('Achatocarpaceae', 'Sapindaceae', {'weight': 0.018084003156336976}),\n",
       " ('Achatocarpaceae', 'Sapotaceae', {'weight': 0.021721173748369155}),\n",
       " ('Achatocarpaceae', 'Solanaceae', {'weight': 0.014963756781552729}),\n",
       " ('Achatocarpaceae', 'Symplocaceae', {'weight': 0.040356715613563091}),\n",
       " ('Achatocarpaceae', 'Thymelaeaceae', {'weight': 0.19245008972987526}),\n",
       " ('Achatocarpaceae', 'Urticaceae', {'weight': 0.029867384554474945}),\n",
       " ('Achatocarpaceae', 'Verbenaceae', {'weight': 0.0046608525134007196}),\n",
       " ('Achatocarpaceae', 'Violaceae', {'weight': 0.091382332476990763}),\n",
       " ('Adoxaceae', 'Adoxaceae', {'weight': 0.0}),\n",
       " ('Adoxaceae', 'Alismataceae', {'weight': 0.13654800506215234}),\n",
       " ('Adoxaceae', 'Alstroemeriaceae', {'weight': 0.31297128380692713}),\n",
       " ('Adoxaceae', 'Amaranthaceae', {'weight': 0.17757120130114437}),\n",
       " ('Adoxaceae', 'Amaryllidaceae', {'weight': 0.28296063731296117}),\n",
       " ('Adoxaceae', 'Anacardiaceae', {'weight': 0.19945528951067515}),\n",
       " ('Adoxaceae', 'Anemiaceae', {'weight': 0.082506331457953191}),\n",
       " ('Adoxaceae', 'Annonaceae', {'weight': 0.15727145298458775}),\n",
       " ('Adoxaceae', 'Apiaceae', {'weight': 0.040922832803816256}),\n",
       " ('Adoxaceae', 'Apocynaceae', {'weight': 0.12830426287092453}),\n",
       " ('Adoxaceae', 'Aquifoliaceae', {'weight': 0.034246039817163065}),\n",
       " ('Adoxaceae', 'Araceae', {'weight': 0.013657260559080373}),\n",
       " ('Adoxaceae', 'Araliaceae', {'weight': 0.033037985854334949}),\n",
       " ('Adoxaceae', 'Arecaceae', {'weight': 0.052061279963622649}),\n",
       " ('Adoxaceae', 'Aristolochiaceae', {'weight': 0.25400025400038106}),\n",
       " ('Adoxaceae', 'Asparagaceae', {'weight': 0.086602540378443879}),\n",
       " ('Adoxaceae', 'Aspleniaceae', {'weight': 0.1011495215057341}),\n",
       " ('Adoxaceae', 'Asteraceae', {'weight': 0.13774570196025798}),\n",
       " ('Adoxaceae', 'Balanophoraceae', {'weight': 0.043033148291193528}),\n",
       " ('Adoxaceae', 'Balsaminaceae', {'weight': 0.28867513459481292}),\n",
       " ('Adoxaceae', 'Begoniaceae', {'weight': 0.140661492242316}),\n",
       " ('Adoxaceae', 'Bignoniaceae', {'weight': 0.16355695185020336}),\n",
       " ('Adoxaceae', 'Bixaceae', {'weight': 0.13752283283450581}),\n",
       " ('Adoxaceae', 'Blechnaceae', {'weight': 0.08980538919127333}),\n",
       " ('Adoxaceae', 'Boraginaceae', {'weight': 0.084525364371630413}),\n",
       " ('Adoxaceae', 'Bromeliaceae', {'weight': 0.11571137082807437}),\n",
       " ('Adoxaceae', 'Bryaceae', {'weight': 0.0023619484663895732}),\n",
       " ('Adoxaceae', 'Burmanniaceae', {'weight': 0.012043822892165403}),\n",
       " ('Adoxaceae', 'Burseraceae', {'weight': 0.12971863041569273}),\n",
       " ('Adoxaceae', 'Cabombaceae', {'weight': 0.070014004201400498}),\n",
       " ('Adoxaceae', 'Cactaceae', {'weight': 0.12712834523274566}),\n",
       " ('Adoxaceae', 'Calophyllaceae', {'weight': 0.15244714643903748}),\n",
       " ('Adoxaceae', 'Calymperaceae', {'weight': 0.0020435929370790484}),\n",
       " ('Adoxaceae', 'Campanulaceae', {'weight': 0.16480929413503922}),\n",
       " ('Adoxaceae', 'Cannabaceae', {'weight': 0.04825936718509951}),\n",
       " ('Adoxaceae', 'Cannaceae', {'weight': 0.073323557510676665}),\n",
       " ('Adoxaceae', 'Capparaceae', {'weight': 0.033004918099222486}),\n",
       " ('Adoxaceae', 'Caricaceae', {'weight': 0.30618621784789729}),\n",
       " ('Adoxaceae', 'Caryocaraceae', {'weight': 0.075023448492053307}),\n",
       " ('Adoxaceae', 'Caryophyllaceae', {'weight': 0.038194099085590218}),\n",
       " ('Adoxaceae', 'Celastraceae', {'weight': 0.16144877609888658}),\n",
       " ('Adoxaceae', 'Chloranthaceae', {'weight': 0.067522370490951569}),\n",
       " ('Adoxaceae', 'Chrysobalanaceae', {'weight': 0.081620547749666816}),\n",
       " ('Adoxaceae', 'Clusiaceae', {'weight': 0.088728664707617033}),\n",
       " ('Adoxaceae', 'Combretaceae', {'weight': 0.082702091709301179}),\n",
       " ('Adoxaceae', 'Commelinaceae', {'weight': 0.074535599249993006}),\n",
       " ('Adoxaceae', 'Connaraceae', {'weight': 0.10669780371777178}),\n",
       " ('Adoxaceae', 'Convolvulaceae', {'weight': 0.19923757646494192}),\n",
       " ('Adoxaceae', 'Costaceae', {'weight': 0.20935894733965599}),\n",
       " ('Adoxaceae', 'Crassulaceae', {'weight': 0.36514837167011077}),\n",
       " ('Adoxaceae', 'Cucurbitaceae', {'weight': 0.1656311874353445}),\n",
       " ('Adoxaceae', 'Cunoniaceae', {'weight': 0.20571764439712251}),\n",
       " ('Adoxaceae', 'Cyatheaceae', {'weight': 0.039374961547907893}),\n",
       " ('Adoxaceae', 'Cyclanthaceae', {'weight': 0.28867513459481292}),\n",
       " ('Adoxaceae', 'Cyperaceae', {'weight': 0.047218157755390983}),\n",
       " ('Adoxaceae', 'Dennstaedtiaceae', {'weight': 0.091541729654603027}),\n",
       " ('Adoxaceae', 'Dichapetalaceae', {'weight': 0.014664711502135332}),\n",
       " ('Adoxaceae', 'Dicranaceae', {'weight': 0.0027465411355972681}),\n",
       " ('Adoxaceae', 'Dilleniaceae', {'weight': 0.098667129745482307}),\n",
       " ('Adoxaceae', 'Dioscoreaceae', {'weight': 0.068085722825088707}),\n",
       " ('Adoxaceae', 'Droseraceae', {'weight': 0.0086900686683249184}),\n",
       " ('Adoxaceae', 'Dryopteridaceae', {'weight': 0.11693859122965866}),\n",
       " ('Adoxaceae', 'Ebenaceae', {'weight': 0.049356393640328407}),\n",
       " ('Adoxaceae', 'Elaeocarpaceae', {'weight': 0.066617338752649136}),\n",
       " ('Adoxaceae', 'Entodontaceae', {'weight': 0.0088014393290482534}),\n",
       " ('Adoxaceae', 'Ericaceae', {'weight': 0.027430739102420148}),\n",
       " ('Adoxaceae', 'Eriocaulaceae', {'weight': 0.036920817888011687}),\n",
       " ('Adoxaceae', 'Erythropalaceae', {'weight': 0.059408852578600471}),\n",
       " ('Adoxaceae', 'Erythroxylaceae', {'weight': 0.11460930095320221}),\n",
       " ('Adoxaceae', 'Euphorbiaceae', {'weight': 0.12772145590873682}),\n",
       " ('Adoxaceae', 'Fabaceae', {'weight': 0.15323284050161587}),\n",
       " ('Adoxaceae', 'Funariaceae', {'weight': 0.042562826537937436}),\n",
       " ('Adoxaceae', 'Gentianaceae', {'weight': 0.08091489649591127}),\n",
       " ('Adoxaceae', 'Geraniaceae', {'weight': 0.058321184351980436}),\n",
       " ('Adoxaceae', 'Gesneriaceae', {'weight': 0.03890039662398255}),\n",
       " ('Adoxaceae', 'Gleicheniaceae', {'weight': 0.03409971697352368}),\n",
       " ('Adoxaceae', 'Haemodoraceae', {'weight': 0.10721125348377948}),\n",
       " ('Adoxaceae', 'Heliconiaceae', {'weight': 0.017551964920818383}),\n",
       " ('Adoxaceae', 'Humiriaceae', {'weight': 0.043033148291193528}),\n",
       " ('Adoxaceae', 'Hydroleaceae', {'weight': 0.046524210519923552}),\n",
       " ('Adoxaceae', 'Hymenophyllaceae', {'weight': 0.11841136329965954}),\n",
       " ('Adoxaceae', 'Hypericaceae', {'weight': 0.078406256023397514}),\n",
       " ('Adoxaceae', 'Hypnaceae', {'weight': 0.0034269090116195934}),\n",
       " ('Adoxaceae', 'Hypodematiaceae', {'weight': 0.11785113019775795}),\n",
       " ('Adoxaceae', 'Hypoxidaceae', {'weight': 0.098373875367592956}),\n",
       " ('Adoxaceae', 'Icacinaceae', {'weight': 0.092376955439837677}),\n",
       " ('Adoxaceae', 'Iridaceae', {'weight': 0.16266794391627781}),\n",
       " ('Adoxaceae', 'Krameriaceae', {'weight': 0.13116516715679061}),\n",
       " ('Adoxaceae', 'Lacistemataceae', {'weight': 0.076397486054754327}),\n",
       " ('Adoxaceae', 'Lamiaceae', {'weight': 0.15156886431378522}),\n",
       " ('Adoxaceae', 'Lauraceae', {'weight': 0.11104907072654428}),\n",
       " ('Adoxaceae', 'Lecythidaceae', {'weight': 0.22135867026615585}),\n",
       " ('Adoxaceae', 'Lejeuneaceae', {'weight': 0.0021928242768070472}),\n",
       " ('Adoxaceae', 'Lentibulariaceae', {'weight': 0.03069622786182322}),\n",
       " ('Adoxaceae', 'Linderniaceae', {'weight': 0.18257418583505539}),\n",
       " ('Adoxaceae', 'Lindsaeaceae', {'weight': 0.079724100517910096}),\n",
       " ('Adoxaceae', 'Loganiaceae', {'weight': 0.054693311275232755}),\n",
       " ('Adoxaceae', 'Loranthaceae', {'weight': 0.050174201630036733}),\n",
       " ('Adoxaceae', 'Lycopodiaceae', {'weight': 0.095847690294158586}),\n",
       " ('Adoxaceae', 'Lygodiaceae', {'weight': 0.037653278425410379}),\n",
       " ('Adoxaceae', 'Lythraceae', {'weight': 0.14773620842841229}),\n",
       " ('Adoxaceae', 'Magnoliaceae', {'weight': 0.11134044285378084}),\n",
       " ('Adoxaceae', 'Malpighiaceae', {'weight': 0.11344508631620241}),\n",
       " ('Adoxaceae', 'Malvaceae', {'weight': 0.16070192637207417}),\n",
       " ('Adoxaceae', 'Marantaceae', {'weight': 0.065112757652947981}),\n",
       " ('Adoxaceae', 'Marcgraviaceae', {'weight': 0.10463701596227337}),\n",
       " ('Adoxaceae', 'Mayacaceae', {'weight': 0.058925565098878974}),\n",
       " ('Adoxaceae', 'Melastomataceae', {'weight': 0.11179237657392758}),\n",
       " ('Adoxaceae', 'Meliaceae', {'weight': 0.08842360005176543}),\n",
       " ('Adoxaceae', 'Menispermaceae', {'weight': 0.088330859286042646}),\n",
       " ('Adoxaceae', 'Meteoriaceae', {'weight': 0.0039609629859680409}),\n",
       " ('Adoxaceae', 'Monimiaceae', {'weight': 0.062257280636469042}),\n",
       " ('Adoxaceae', 'Moraceae', {'weight': 0.14939802409127875}),\n",
       " ('Adoxaceae', 'Myristicaceae', {'weight': 0.023993858358289821}),\n",
       " ('Adoxaceae', 'Myrtaceae', {'weight': 0.057188750666800299}),\n",
       " ('Adoxaceae', 'Neckeraceae', {'weight': 0.0060743432509358297}),\n",
       " ('Adoxaceae', 'Nephrolepidaceae', {'weight': 0.024182541670333724}),\n",
       " ('Adoxaceae', 'Nyctaginaceae', {'weight': 0.11930120492707685}),\n",
       " ('Adoxaceae', 'Ochnaceae', {'weight': 0.12352119381830443}),\n",
       " ('Adoxaceae', 'Oleaceae', {'weight': 0.056613851707229795}),\n",
       " ('Adoxaceae', 'Onagraceae', {'weight': 0.11050489032547306}),\n",
       " ('Adoxaceae', 'Ophioglossaceae', {'weight': 0.18257418583505539}),\n",
       " ('Adoxaceae', 'Opiliaceae', {'weight': 0.14118624160050353}),\n",
       " ('Adoxaceae', 'Orchidaceae', {'weight': 0.25858193860859813}),\n",
       " ('Adoxaceae', 'Orobanchaceae', {'weight': 0.073489689752318232}),\n",
       " ('Adoxaceae', 'Orthotrichaceae', {'weight': 0.003199217950781407}),\n",
       " ('Adoxaceae', 'Osmundaceae', {'weight': 0.12451456127293808}),\n",
       " ('Adoxaceae', 'Oxalidaceae', {'weight': 0.084011083336048772}),\n",
       " ('Adoxaceae', 'Pallaviciniaceae', {'weight': 0.037267799624996496}),\n",
       " ('Adoxaceae', 'Papaveraceae', {'weight': 0.29704426289300234}),\n",
       " ('Adoxaceae', 'Passifloraceae', {'weight': 0.23371573352414327}),\n",
       " ('Adoxaceae', 'Pedaliaceae', {'weight': 0.20412414523193154}),\n",
       " ('Adoxaceae', 'Peraceae', {'weight': 0.069951051390048452}),\n",
       " ('Adoxaceae', 'Phyllanthaceae', {'weight': 0.09524483192652218}),\n",
       " ('Adoxaceae', 'Phytolaccaceae', {'weight': 0.1051903366076434}),\n",
       " ('Adoxaceae', 'Picramniaceae', {'weight': 0.27310370806548206}),\n",
       " ('Adoxaceae', 'Piperaceae', {'weight': 0.062068762410279824}),\n",
       " ('Adoxaceae', 'Plantaginaceae', {'weight': 0.10336636905915431}),\n",
       " ('Adoxaceae', 'Poaceae', {'weight': 0.055719092553023299}),\n",
       " ('Adoxaceae', 'Polygalaceae', {'weight': 0.067201206758377929}),\n",
       " ('Adoxaceae', 'Polygonaceae', {'weight': 0.067644363256266826}),\n",
       " ('Adoxaceae', 'Polypodiaceae', {'weight': 0.090474333154760028}),\n",
       " ('Adoxaceae', 'Pontederiaceae', {'weight': 0.12205563953947071}),\n",
       " ('Adoxaceae', 'Portulacaceae', {'weight': 0.10652472825826151}),\n",
       " ('Adoxaceae', 'Pottiaceae', {'weight': 0.0021576592600105159}),\n",
       " ('Adoxaceae', 'Primulaceae', {'weight': 0.072176615737678335}),\n",
       " ('Adoxaceae', 'Proteaceae', {'weight': 0.01480872194397731}),\n",
       " ('Adoxaceae', 'Pteridaceae', {'weight': 0.17170910830979821}),\n",
       " ('Adoxaceae', 'Racopilaceae', {'weight': 0.0066586810379270179}),\n",
       " ('Adoxaceae', 'Ranunculaceae', {'weight': 0.11215443081840888}),\n",
       " ('Adoxaceae', 'Rapateaceae', {'weight': 0.10443899828608921}),\n",
       " ('Adoxaceae', 'Rhamnaceae', {'weight': 0.068308735943807999}),\n",
       " ('Adoxaceae', 'Rosaceae', {'weight': 0.08099118235840605}),\n",
       " ('Adoxaceae', 'Rubiaceae', {'weight': 0.13597790644178998}),\n",
       " ('Adoxaceae', 'Rutaceae', {'weight': 0.15035852987301351}),\n",
       " ('Adoxaceae', 'Salicaceae', {'weight': 0.096083015201006802}),\n",
       " ('Adoxaceae', 'Salviniaceae', {'weight': 0.067115605521402444}),\n",
       " ('Adoxaceae', 'Santalaceae', {'weight': 0.031811776814828406}),\n",
       " ('Adoxaceae', 'Sapindaceae', {'weight': 0.11812421397308279}),\n",
       " ('Adoxaceae', 'Sapotaceae', {'weight': 0.075374872421942102}),\n",
       " ('Adoxaceae', 'Schizaeaceae', {'weight': 0.16495721976846453}),\n",
       " ('Adoxaceae', 'Schoepfiaceae', {'weight': 0.20573779994945587}),\n",
       " ('Adoxaceae', 'Scrophulariaceae', {'weight': 0.1863389981249825}),\n",
       " ('Adoxaceae', 'Selaginellaceae', {'weight': 0.12181684060060084}),\n",
       " ('Adoxaceae', 'Sematophyllaceae', {'weight': 0.0015961019290214244}),\n",
       " ('Adoxaceae', 'Simaroubaceae', {'weight': 0.05020437123388051}),\n",
       " ('Adoxaceae', 'Siparunaceae', {'weight': 0.15359092775180616}),\n",
       " ('Adoxaceae', 'Smilacaceae', {'weight': 0.089235931335490154}),\n",
       " ('Adoxaceae', 'Solanaceae', {'weight': 0.16646829140586686}),\n",
       " ('Adoxaceae', 'Styracaceae', {'weight': 0.098361184420579242}),\n",
       " ('Adoxaceae', 'Symplocaceae', {'weight': 0.14828004142176079}),\n",
       " ('Adoxaceae', 'Talinaceae', {'weight': 0.16329931618554525}),\n",
       " ('Adoxaceae', 'Tectariaceae', {'weight': 0.11664236870396087}),\n",
       " ('Adoxaceae', 'Theaceae', {'weight': 0.11043152607484656}),\n",
       " ('Adoxaceae', 'Thelypteridaceae', {'weight': 0.064739927655417362}),\n",
       " ('Adoxaceae', 'Trigoniaceae', {'weight': 0.05034733603559241}),\n",
       " ('Adoxaceae', 'Tropaeolaceae', {'weight': 0.16666666666666671}),\n",
       " ('Adoxaceae', 'Turneraceae', {'weight': 0.051536574408751187}),\n",
       " ('Adoxaceae', 'Urticaceae', {'weight': 0.17070632158987659}),\n",
       " ('Adoxaceae', 'Velloziaceae', {'weight': 0.14225945124278647}),\n",
       " ('Adoxaceae', 'Verbenaceae', {'weight': 0.14841723551460334}),\n",
       " ('Adoxaceae', 'Violaceae', {'weight': 0.13057338354316142}),\n",
       " ('Adoxaceae', 'Vitaceae', {'weight': 0.072715321235682737}),\n",
       " ('Adoxaceae', 'Vochysiaceae', {'weight': 0.13877801648957588}),\n",
       " ('Adoxaceae', 'Xyridaceae', {'weight': 0.032687104838073737}),\n",
       " ('Adoxaceae', 'Zingiberaceae', {'weight': 0.34718253741470684}),\n",
       " ('Aizoaceae', 'Aizoaceae', {'weight': 0.0}),\n",
       " ('Aizoaceae', 'Alismataceae', {'weight': 0.27029495135979437}),\n",
       " ('Aizoaceae', 'Alstroemeriaceae', {'weight': 0.077440309266236629}),\n",
       " ('Aizoaceae', 'Amaranthaceae', {'weight': 0.11716660671033248}),\n",
       " ('Aizoaceae', 'Anacardiaceae', {'weight': 0.080108219193240349}),\n",
       " ('Aizoaceae', 'Anemiaceae', {'weight': 0.042342269046309111}),\n",
       " ('Aizoaceae', 'Annonaceae', {'weight': 0.13127814320457148}),\n",
       " ('Aizoaceae', 'Apiaceae', {'weight': 0.039378014225475592}),\n",
       " ('Aizoaceae', 'Apocynaceae', {'weight': 0.086831394868124107}),\n",
       " ('Aizoaceae', 'Aquifoliaceae', {'weight': 0.019771960307117736}),\n",
       " ('Aizoaceae', 'Araceae', {'weight': 0.052566820401186071}),\n",
       " ('Aizoaceae', 'Araliaceae', {'weight': 0.032699125759685699}),\n",
       " ('Aizoaceae', 'Arecaceae', {'weight': 0.02576365200116057}),\n",
       " ('Aizoaceae', 'Aristolochiaceae', {'weight': 0.073323557510676637}),\n",
       " ('Aizoaceae', 'Asparagaceae', {'weight': 0.049999999999999996}),\n",
       " ('Aizoaceae', 'Aspleniaceae', {'weight': 0.14015688832736978}),\n",
       " ('Aizoaceae', 'Asteraceae', {'weight': 0.11987699537816342}),\n",
       " ('Aizoaceae', 'Atheliaceae', {'weight': 0.071795815861773818}),\n",
       " ('Aizoaceae', 'Begoniaceae', {'weight': 0.12181642561607339}),\n",
       " ('Aizoaceae', 'Betulaceae', {'weight': 0.63245553203367577}),\n",
       " ('Aizoaceae', 'Bignoniaceae', {'weight': 0.12699159851598044}),\n",
       " ('Aizoaceae', 'Bixaceae', {'weight': 0.059549133417541367}),\n",
       " ('Aizoaceae', 'Blechnaceae', {'weight': 0.10144401969964062}),\n",
       " ('Aizoaceae', 'Boraginaceae', {'weight': 0.18978066284065781}),\n",
       " ('Aizoaceae', 'Brachytheciaceae', {'weight': 0.014518697603476021}),\n",
       " ('Aizoaceae', 'Brassicaceae', {'weight': 0.082760588860236795}),\n",
       " ('Aizoaceae', 'Bromeliaceae', {'weight': 0.11691048441780633}),\n",
       " ('Aizoaceae', 'Bryaceae', {'weight': 0.0040910147486461308}),\n",
       " ('Aizoaceae', 'Burmanniaceae', {'weight': 0.020860513166591616}),\n",
       " ('Aizoaceae', 'Burseraceae', {'weight': 0.085592098502182579}),\n",
       " ('Aizoaceae', 'Cactaceae', {'weight': 0.055048188256318027}),\n",
       " ('Aizoaceae', 'Calceolariaceae', {'weight': 0.49999999999999989}),\n",
       " ('Aizoaceae', 'Calophyllaceae', {'weight': 0.089507187491968038}),\n",
       " ('Aizoaceae', 'Calyceraceae', {'weight': 0.31622776601683789}),\n",
       " ('Aizoaceae', 'Campanulaceae', {'weight': 0.045673291360232203}),\n",
       " ('Aizoaceae', 'Cannabaceae', {'weight': 0.083587675905714573}),\n",
       " ('Aizoaceae', 'Caryocaraceae', {'weight': 0.086629616364841983}),\n",
       " ('Aizoaceae', 'Caryophyllaceae', {'weight': 0.066154120165562241}),\n",
       " ('Aizoaceae', 'Celastraceae', {'weight': 0.052432028066828111}),\n",
       " ('Aizoaceae', 'Chloranthaceae', {'weight': 0.077968117558545033}),\n",
       " ('Aizoaceae', 'Chrysobalanaceae', {'weight': 0.13649607579423056}),\n",
       " ('Aizoaceae', 'Cladoniaceae', {'weight': 0.31750031750047625}),\n",
       " ('Aizoaceae', 'Cleomaceae', {'weight': 0.44721359549995793}),\n",
       " ('Aizoaceae', 'Clusiaceae', {'weight': 0.046104766608400863}),\n",
       " ('Aizoaceae', 'Coenogoniaceae', {'weight': 0.47140452079103162}),\n",
       " ('Aizoaceae', 'Combretaceae', {'weight': 0.10417761798744034}),\n",
       " ('Aizoaceae', 'Commelinaceae', {'weight': 0.12909944487358055}),\n",
       " ('Aizoaceae', 'Connaraceae', {'weight': 0.1750793846164978}),\n",
       " ('Aizoaceae', 'Convolvulaceae', {'weight': 0.088376606213384612}),\n",
       " ('Aizoaceae', 'Costaceae', {'weight': 0.080582296402538015}),\n",
       " ('Aizoaceae', 'Crocyniaceae', {'weight': 0.16222142113076252}),\n",
       " ('Aizoaceae', 'Cryphaeaceae', {'weight': 0.033186165579998594}),\n",
       " ('Aizoaceae', 'Cucurbitaceae', {'weight': 0.10245772569856444}),\n",
       " ('Aizoaceae', 'Cunoniaceae', {'weight': 0.079180758246489583}),\n",
       " ('Aizoaceae', 'Cyatheaceae', {'weight': 0.11934900940733287}),\n",
       " ('Aizoaceae', 'Cyclanthaceae', {'weight': 0.49999999999999989}),\n",
       " ('Aizoaceae', 'Cyperaceae', {'weight': 0.28023132128541944}),\n",
       " ('Aizoaceae', 'Dennstaedtiaceae', {'weight': 0.052851642258168997}),\n",
       " ('Aizoaceae', 'Dicranaceae', {'weight': 0.0047571487919323887}),\n",
       " ('Aizoaceae', 'Dilleniaceae', {'weight': 0.11962753722931604}),\n",
       " ('Aizoaceae', 'Dioscoreaceae', {'weight': 0.044222974201164611}),\n",
       " ('Aizoaceae', 'Dryopteridaceae', {'weight': 0.046032632130749325}),\n",
       " ('Aizoaceae', 'Ebenaceae', {'weight': 0.042743890731709103}),\n",
       " ('Aizoaceae', 'Elaeocarpaceae', {'weight': 0.15384615384615383}),\n",
       " ('Aizoaceae', 'Ericaceae', {'weight': 0.095022867629115979}),\n",
       " ('Aizoaceae', 'Eriocaulaceae', {'weight': 0.082896505013562688}),\n",
       " ('Aizoaceae', 'Erythropalaceae', {'weight': 0.17149858514250882}),\n",
       " ('Aizoaceae', 'Erythroxylaceae', {'weight': 0.085075342401813567}),\n",
       " ('Aizoaceae', 'Euphorbiaceae', {'weight': 0.10607682766196819}),\n",
       " ('Aizoaceae', 'Fabaceae', {'weight': 0.11932470230950395}),\n",
       " ('Aizoaceae', 'Fissidentaceae', {'weight': 0.0055707929120097123}),\n",
       " ('Aizoaceae', 'Gelsemiaceae', {'weight': 0.49999999999999989}),\n",
       " ('Aizoaceae', 'Gentianaceae', {'weight': 0.089185543885515112}),\n",
       " ('Aizoaceae', 'Gesneriaceae', {'weight': 0.044918308924879059}),\n",
       " ('Aizoaceae', 'Gleicheniaceae', {'weight': 0.098437403869769721}),\n",
       " ('Aizoaceae', 'Haematommataceae', {'weight': 0.40824829046386302}),\n",
       " ('Aizoaceae', 'Haemodoraceae', {'weight': 0.18569533817705183}),\n",
       " ('Aizoaceae', 'Heliconiaceae', {'weight': 0.015200447507762038}),\n",
       " ('Aizoaceae', 'Hookeriaceae', {'weight': 0.03984095364447978}),\n",
       " ('Aizoaceae', 'Humiriaceae', {'weight': 0.037267799624996489}),\n",
       " ('Aizoaceae', 'Hydrocharitaceae', {'weight': 0.44721359549995793}),\n",
       " ('Aizoaceae', 'Hydroleaceae', {'weight': 0.080582296402538015}),\n",
       " ('Aizoaceae', 'Hydropogonaceae', {'weight': 0.17960530202677488}),\n",
       " ('Aizoaceae', 'Hymenophyllaceae', {'weight': 0.1922760913392253}),\n",
       " ('Aizoaceae', 'Hypericaceae', {'weight': 0.090535746042518531}),\n",
       " ('Aizoaceae', 'Hypnaceae', {'weight': 0.0059355805210407784}),\n",
       " ('Aizoaceae', 'Hypodematiaceae', {'weight': 0.61237243569579447}),\n",
       " ('Aizoaceae', 'Icacinaceae', {'weight': 0.071111813453477779}),\n",
       " ('Aizoaceae', 'Iridaceae', {'weight': 0.04956697897119812}),\n",
       " ('Aizoaceae', 'Isoetaceae', {'weight': 0.47434164902525688}),\n",
       " ('Aizoaceae', 'Juncaceae', {'weight': 0.074124931666110117}),\n",
       " ('Aizoaceae', 'Lacistemataceae', {'weight': 0.088216218278246175}),\n",
       " ('Aizoaceae', 'Lamiaceae', {'weight': 0.11768360896140896}),\n",
       " ('Aizoaceae', 'Lauraceae', {'weight': 0.074455212631619749}),\n",
       " ('Aizoaceae', 'Lecythidaceae', {'weight': 0.04510640748198446}),\n",
       " ('Aizoaceae', 'Lejeuneaceae', {'weight': 0.015192332238001139}),\n",
       " ('Aizoaceae', 'Lentibulariaceae', {'weight': 0.031900455754433496}),\n",
       " ('Aizoaceae', 'Lindsaeaceae', {'weight': 0.16110055813220658}),\n",
       " ('Aizoaceae', 'Lobariaceae', {'weight': 0.1414213562373095}),\n",
       " ('Aizoaceae', 'Loganiaceae', {'weight': 0.10525732662542539}),\n",
       " ('Aizoaceae', 'Loranthaceae', {'weight': 0.1027050421710522}),\n",
       " ('Aizoaceae', 'Lycopodiaceae', {'weight': 0.16601306937760901}),\n",
       " ('Aizoaceae', 'Lygodiaceae', {'weight': 0.19565217391304346}),\n",
       " ('Aizoaceae', 'Lythraceae', {'weight': 0.074753394348376176}),\n",
       " ('Aizoaceae', 'Malpighiaceae', {'weight': 0.10840973978962724}),\n",
       " ('Aizoaceae', 'Malvaceae', {'weight': 0.13135330176096927}),\n",
       " ('Aizoaceae', 'Marantaceae', {'weight': 0.072500531448744715}),\n",
       " ('Aizoaceae', 'Marcgraviaceae', {'weight': 0.060412209333017691}),\n",
       " ('Aizoaceae', 'Marsileaceae', {'weight': 0.16666666666666666}),\n",
       " ('Aizoaceae', 'Mayacaceae', {'weight': 0.30618621784789724}),\n",
       " ('Aizoaceae', 'Melastomataceae', {'weight': 0.10020544795569544}),\n",
       " ('Aizoaceae', 'Meliaceae', {'weight': 0.021879166839686815}),\n",
       " ('Aizoaceae', 'Menispermaceae', {'weight': 0.076496768079821489}),\n",
       " ('Aizoaceae', 'Menyanthaceae', {'weight': 0.10660035817780521}),\n",
       " ('Aizoaceae', 'Metaxyaceae', {'weight': 0.08908708063747478}),\n",
       " ('Aizoaceae', 'Microteaceae', {'weight': 0.30942637387763799}),\n",
       " ('Aizoaceae', 'Molluginaceae', {'weight': 0.15075567228888179}),\n",
       " ('Aizoaceae', 'Moraceae', {'weight': 0.05008354224706333}),\n",
       " ('Aizoaceae', 'Myristicaceae', {'weight': 0.062337872619253699}),\n",
       " ('Aizoaceae', 'Myrtaceae', {'weight': 0.032677549451970836}),\n",
       " ('Aizoaceae', 'Neckeraceae', {'weight': 0.031563213399701882}),\n",
       " ('Aizoaceae', 'Nephrolepidaceae', {'weight': 0.12565617248750863}),\n",
       " ('Aizoaceae', 'Nyctaginaceae', {'weight': 0.095370345386715488}),\n",
       " ('Aizoaceae', 'Ochnaceae', {'weight': 0.10269359208233565}),\n",
       " ('Aizoaceae', 'Olacaceae', {'weight': 0.06711560552140243}),\n",
       " ('Aizoaceae', 'Onagraceae', {'weight': 0.15494292557072756}),\n",
       " ('Aizoaceae', 'Opiliaceae', {'weight': 0.040756957296961119}),\n",
       " ('Aizoaceae', 'Orchidaceae', {'weight': 0.023650273562494956}),\n",
       " ('Aizoaceae', 'Orobanchaceae', {'weight': 0.070008332065918943}),\n",
       " ('Aizoaceae', 'Orthotrichaceae', {'weight': 0.005541208035239783}),\n",
       " ('Aizoaceae', 'Osmundaceae', {'weight': 0.21566554640687682}),\n",
       " ('Aizoaceae', 'Oxalidaceae', {'weight': 0.59689396759438451}),\n",
       " ('Aizoaceae', 'Parmeliaceae', {'weight': 0.030450184281266616}),\n",
       " ('Aizoaceae', 'Passifloraceae', {'weight': 0.06746792083200745}),\n",
       " ('Aizoaceae', 'Peraceae', {'weight': 0.17308396435775061}),\n",
       " ('Aizoaceae', 'Pertusariaceae', {'weight': 0.49999999999999989}),\n",
       " ('Aizoaceae', 'Phyllanthaceae', {'weight': 0.1721414484053162}),\n",
       " ('Aizoaceae', 'Phyllogoniaceae', {'weight': 0.038404768632128425}),\n",
       " ('Aizoaceae', 'Picramniaceae', {'weight': 0.052558833122763667}),\n",
       " ('Aizoaceae', 'Pinaceae', {'weight': 0.70710678118654746}),\n",
       " ('Aizoaceae', 'Piperaceae', {'weight': 0.036552125019558818}),\n",
       " ('Aizoaceae', 'Plantaginaceae', {'weight': 0.089517901502185401}),\n",
       " ('Aizoaceae', 'Poaceae', {'weight': 0.09342824714963488}),\n",
       " ('Aizoaceae', 'Polygalaceae', {'weight': 0.051022862218280139}),\n",
       " ('Aizoaceae', 'Polygonaceae', {'weight': 0.11716347400549942}),\n",
       " ('Aizoaceae', 'Polypodiaceae', {'weight': 0.19889625690629251}),\n",
       " ('Aizoaceae', 'Polytrichaceae', {'weight': 0.020990572102748774}),\n",
       " ('Aizoaceae', 'Pontederiaceae', {'weight': 0.052851642258168997}),\n",
       " ('Aizoaceae', 'Porellaceae', {'weight': 0.12309149097933274}),\n",
       " ('Aizoaceae', 'Portulacaceae', {'weight': 0.11531640100361062}),\n",
       " ('Aizoaceae', 'Potamogetonaceae', {'weight': 0.35355339059327373}),\n",
       " ('Aizoaceae', 'Primulaceae', {'weight': 0.05208898565668095}),\n",
       " ('Aizoaceae', 'Proteaceae', {'weight': 0.17954621161490195}),\n",
       " ('Aizoaceae', 'Psilotaceae', {'weight': 0.15811388300841894}),\n",
       " ('Aizoaceae', 'Pteridaceae', {'weight': 0.14682211504913664}),\n",
       " ('Aizoaceae', 'Ptychomitriaceae', {'weight': 0.40824829046386302}),\n",
       " ('Aizoaceae', 'Quiinaceae', {'weight': 0.58925565098878963}),\n",
       " ('Aizoaceae', 'Racopilaceae', {'weight': 0.011533173869085058}),\n",
       " ('Aizoaceae', 'Ranunculaceae', {'weight': 0.097128586235726413}),\n",
       " ('Aizoaceae', 'Rapateaceae', {'weight': 0.072357460529242149}),\n",
       " ('Aizoaceae', 'Rhamnaceae', {'weight': 0.073946375784676152}),\n",
       " ('Aizoaceae', 'Rhizogoniaceae', {'weight': 0.061957821080878973}),\n",
       " ('Aizoaceae', 'Rhizophoraceae', {'weight': 0.39223227027636803}),\n",
       " ('Aizoaceae', 'Roccellaceae', {'weight': 0.17677669529663687}),\n",
       " ('Aizoaceae', 'Rosaceae', {'weight': 0.080160481605620226}),\n",
       " ('Aizoaceae', 'Rubiaceae', {'weight': 0.080594829847796631}),\n",
       " ('Aizoaceae', 'Rutaceae', {'weight': 0.06677656745933902}),\n",
       " ('Aizoaceae', 'Salicaceae', {'weight': 0.12801589544042807}),\n",
       " ('Aizoaceae', 'Santalaceae', {'weight': 0.027549806861162207}),\n",
       " ('Aizoaceae', 'Sapindaceae', {'weight': 0.079920757892780026}),\n",
       " ('Aizoaceae', 'Sapotaceae', {'weight': 0.13055310864882591}),\n",
       " ('Aizoaceae', 'Schizaeaceae', {'weight': 0.071428571428571411}),\n",
       " ('Aizoaceae', 'Scrophulariaceae', {'weight': 0.19364916731037082}),\n",
       " ('Aizoaceae', 'Selaginellaceae', {'weight': 0.2493553129809889}),\n",
       " ('Aizoaceae', 'Sematophyllaceae', {'weight': 0.0064505691486222002}),\n",
       " ('Aizoaceae', 'Simaroubaceae', {'weight': 0.043478260869565209}),\n",
       " ('Aizoaceae', 'Siparunaceae', {'weight': 0.061390913180254351}),\n",
       " ('Aizoaceae', 'Smilacaceae', {'weight': 0.061824466773518633}),\n",
       " ('Aizoaceae', 'Solanaceae', {'weight': 0.13490741712634205}),\n",
       " ('Aizoaceae', 'Sphagnaceae', {'weight': 0.015249857033260464}),\n",
       " ('Aizoaceae', 'Stereophyllaceae', {'weight': 0.009747866669123648}),\n",
       " ('Aizoaceae', 'Styracaceae', {'weight': 0.12493548386667003}),\n",
       " ('Aizoaceae', 'Symplocaceae', {'weight': 0.14268253638383741}),\n",
       " ('Aizoaceae', 'Theaceae', {'weight': 0.12751534261266764}),\n",
       " ('Aizoaceae', 'Thelypteridaceae', {'weight': 0.13616131054412695}),\n",
       " ('Aizoaceae', 'Thuidiaceae', {'weight': 0.019658927487319615}),\n",
       " ('Aizoaceae', 'Thurniaceae', {'weight': 0.40824829046386302}),\n",
       " ('Aizoaceae', 'Trypetheliaceae', {'weight': 0.40824829046386302}),\n",
       " ('Aizoaceae', 'Turneraceae', {'weight': 0.038255985138861859}),\n",
       " ('Aizoaceae', 'Urticaceae', {'weight': 0.021119430154775583}),\n",
       " ('Aizoaceae', 'Velloziaceae', {'weight': 0.067972578595689268}),\n",
       " ('Aizoaceae', 'Verbenaceae', {'weight': 0.15160313924345656}),\n",
       " ('Aizoaceae', 'Violaceae', {'weight': 0.096925600462685765}),\n",
       " ('Aizoaceae', 'Vitaceae', {'weight': 0.072916470503044242}),\n",
       " ('Aizoaceae', 'Vochysiaceae', {'weight': 0.16206803956430557}),\n",
       " ('Aizoaceae', 'Winteraceae', {'weight': 0.15811388300841894}),\n",
       " ('Aizoaceae', 'Xyridaceae', {'weight': 0.03602818948391992}),\n",
       " ('Alismataceae', 'Alismataceae', {'weight': 0.0}),\n",
       " ('Alismataceae', 'Alstroemeriaceae', {'weight': 0.28127004966731534}),\n",
       " ('Alismataceae', 'Amaranthaceae', {'weight': 0.28997424633425339}),\n",
       " ('Alismataceae', 'Amaryllidaceae', {'weight': 0.20560781678192178}),\n",
       " ('Alismataceae', 'Anacardiaceae', {'weight': 0.50342869764079212}),\n",
       " ('Alismataceae', 'Anemiaceae', {'weight': 0.12660922342271091}),\n",
       " ('Alismataceae', 'Annonaceae', {'weight': 0.41383004296042714}),\n",
       " ('Alismataceae', 'Apiaceae', {'weight': 0.29403161689727092}),\n",
       " ('Alismataceae', 'Apocynaceae', {'weight': 0.42842854917993534}),\n",
       " ('Alismataceae', 'Apodanthaceae', {'weight': 0.072975323780877344}),\n",
       " ('Alismataceae', 'Aptandraceae', {'weight': 0.11472327120137264}),\n",
       " ('Alismataceae', 'Aquifoliaceae', {'weight': 0.24182781248988283}),\n",
       " ('Alismataceae', 'Araceae', {'weight': 0.092355550062604638}),\n",
       " ('Alismataceae', 'Araliaceae', {'weight': 0.33309752436583717}),\n",
       " ('Alismataceae', 'Arecaceae', {'weight': 0.23850963845927448}),\n",
       " ('Alismataceae', 'Aristolochiaceae', {'weight': 0.32866487456368421}),\n",
       " ('Alismataceae', 'Arthoniaceae', {'weight': 0.10507467333319914}),\n",
       " ('Alismataceae', 'Asparagaceae', {'weight': 0.59127020609955006}),\n",
       " ('Alismataceae', 'Aspleniaceae', {'weight': 0.17639597492702488}),\n",
       " ('Alismataceae', 'Asteraceae', {'weight': 0.28560328597406071}),\n",
       " ('Alismataceae', 'Atheliaceae', {'weight': 0.20861500047909529}),\n",
       " ('Alismataceae', 'Balanophoraceae', {'weight': 0.20146596173849982}),\n",
       " ('Alismataceae', 'Balantiopsidaceae', {'weight': 0.016389038743053235}),\n",
       " ('Alismataceae', 'Bartramiaceae', {'weight': 0.0056751913317570069}),\n",
       " ('Alismataceae', 'Begoniaceae', {'weight': 0.20304591649311021}),\n",
       " ('Alismataceae', 'Berberidaceae', {'weight': 0.047781848256749658}),\n",
       " ('Alismataceae', 'Betulaceae', {'weight': 0.21368692158534411}),\n",
       " ('Alismataceae', 'Bignoniaceae', {'weight': 0.49133426076221914}),\n",
       " ('Alismataceae', 'Bixaceae', {'weight': 0.49897073373897977}),\n",
       " ('Alismataceae', 'Blechnaceae', {'weight': 0.15949187372148799}),\n",
       " ('Alismataceae', 'Boraginaceae', {'weight': 0.36054290679314588}),\n",
       " ('Alismataceae', 'Brachytheciaceae', {'weight': 0.0078486613250782298}),\n",
       " ('Alismataceae', 'Brassicaceae', {'weight': 0.055924423351214121}),\n",
       " ('Alismataceae', 'Bromeliaceae', {'weight': 0.2195093219459574}),\n",
       " ('Alismataceae', 'Bryaceae', {'weight': 0.030408967393681458}),\n",
       " ('Alismataceae', 'Burmanniaceae', {'weight': 0.10572171359445433}),\n",
       " ('Alismataceae', 'Burseraceae', {'weight': 0.59356021985231788}),\n",
       " ('Alismataceae', 'Cabombaceae', {'weight': 0.25403010051732516}),\n",
       " ('Alismataceae', 'Cactaceae', {'weight': 0.22690852234959091}),\n",
       " ('Alismataceae', 'Calceolariaceae', {'weight': 0.27029495135979437}),\n",
       " ('Alismataceae', 'Calophyllaceae', {'weight': 0.24163099213381628}),\n",
       " ('Alismataceae', 'Calyceraceae', {'weight': 0.10684346079267205}),\n",
       " ('Alismataceae', 'Calymperaceae', {'weight': 0.0083714561615174585}),\n",
       " ('Alismataceae', 'Calypogeiaceae', {'weight': 0.029569928086515169}),\n",
       " ('Alismataceae', 'Campanulaceae', {'weight': 0.28394098153308062}),\n",
       " ('Alismataceae', 'Canellaceae', {'weight': 0.085474768634137652}),\n",
       " ('Alismataceae', 'Cannabaceae', {'weight': 0.41656446274987174}),\n",
       " ('Alismataceae', 'Cannaceae', {'weight': 0.23171057876387841}),\n",
       " ('Alismataceae', 'Capparaceae', {'weight': 0.19314667387236661}),\n",
       " ('Alismataceae', 'Cardiopteridaceae', {'weight': 0.13140008270606154}),\n",
       " ('Alismataceae', 'Caricaceae', {'weight': 0.20307285509118603}),\n",
       " ('Alismataceae', 'Caryocaraceae', {'weight': 0.26049797085088533}),\n",
       " ('Alismataceae', 'Caryophyllaceae', {'weight': 0.1609301222316058}),\n",
       " ('Alismataceae', 'Casuarinaceae', {'weight': 0.027586862953412269}),\n",
       " ('Alismataceae', 'Celastraceae', {'weight': 0.41807731804255122}),\n",
       " ('Alismataceae', 'Cephaloziaceae', {'weight': 0.0139559038808852}),\n",
       " ('Alismataceae', 'Cephaloziellaceae', {'weight': 0.055173725906824539}),\n",
       " ('Alismataceae', 'Chloranthaceae', {'weight': 0.14488642123382395}),\n",
       " ('Alismataceae', 'Chrysobalanaceae', {'weight': 0.39529500179576099}),\n",
       " ('Alismataceae', 'Cladoniaceae', {'weight': 0.16305559246346998}),\n",
       " ('Alismataceae', 'Cleomaceae', {'weight': 0.19642931269503736}),\n",
       " ('Alismataceae', 'Clethraceae', {'weight': 0.088842671176565524}),\n",
       " ('Alismataceae', 'Clusiaceae', {'weight': 0.15265809918643677}),\n",
       " ('Alismataceae', 'Coenogoniaceae', {'weight': 0.15927282752249886}),\n",
       " ('Alismataceae', 'Combretaceae', {'weight': 0.43381972825126103}),\n",
       " ('Alismataceae', 'Commelinaceae', {'weight': 0.25008031857087987}),\n",
       " ('Alismataceae', 'Connaraceae', {'weight': 0.42393586900162861}),\n",
       " ('Alismataceae', 'Convolvulaceae', {'weight': 0.34964272871956442}),\n",
       " ('Alismataceae', 'Costaceae', {'weight': 0.35121842967117584}),\n",
       " ('Alismataceae', 'Coulaceae', {'weight': 0.033786868919974296}),\n",
       " ('Alismataceae', 'Crocyniaceae', {'weight': 0.054809538917570219}),\n",
       " ('Alismataceae', 'Cryphaeaceae', {'weight': 0.038122725297871168}),\n",
       " ('Alismataceae', 'Cucurbitaceae', {'weight': 0.32470987516390826}),\n",
       " ...]"
      ]
     },
     "execution_count": 196,
     "metadata": {},
     "output_type": "execute_result"
    }
   ],
   "source": [
    "G.edges(data=True)"
   ]
  },
  {
   "cell_type": "markdown",
   "metadata": {},
   "source": [
    "Let's now copy the attributes from the SCN to the similarity graph"
   ]
  },
  {
   "cell_type": "code",
   "execution_count": 197,
   "metadata": {
    "collapsed": true
   },
   "outputs": [],
   "source": [
    "# degree\n",
    "deg_dict = dict((n,d['degree']) for n,d in scn_family.getSpeciesNodes(data=True))\n",
    "nx.set_node_attributes(G, 'degree', deg_dict)\n",
    "\n",
    "# weighted degree\n",
    "degw_dict = dict((n,d['degree_weighted']) for n,d in scn_family.getSpeciesNodes(data=True))\n",
    "nx.set_node_attributes(G, 'degree_weighted', degw_dict)"
   ]
  },
  {
   "cell_type": "code",
   "execution_count": 198,
   "metadata": {
    "collapsed": true
   },
   "outputs": [],
   "source": [
    "nx.write_gexf(G,'./graph_similarity.gexf')"
   ]
  }
 ],
 "metadata": {
  "kernelspec": {
   "display_name": "Python 3",
   "language": "python",
   "name": "python3"
  },
  "language_info": {
   "codemirror_mode": {
    "name": "ipython",
    "version": 3
   },
   "file_extension": ".py",
   "mimetype": "text/x-python",
   "name": "python",
   "nbconvert_exporter": "python",
   "pygments_lexer": "ipython3",
   "version": "3.6.1"
  }
 },
 "nbformat": 4,
 "nbformat_minor": 2
}
