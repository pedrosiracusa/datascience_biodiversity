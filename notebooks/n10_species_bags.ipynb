{
 "cells": [
  {
   "cell_type": "markdown",
   "metadata": {},
   "source": [
    "# Species Bags in Species-collectors Networks\n",
    "#### Date: \n",
    "#### Author: Pedro C. de Siracusa\n",
    "---"
   ]
  },
  {
   "cell_type": "code",
   "execution_count": 1,
   "metadata": {
    "collapsed": true
   },
   "outputs": [],
   "source": [
    "import numpy as np\n",
    "import pandas as pd\n",
    "import networkx as nx"
   ]
  },
  {
   "cell_type": "markdown",
   "metadata": {},
   "source": [
    "## Preparing Data"
   ]
  },
  {
   "cell_type": "markdown",
   "metadata": {},
   "source": [
    "### Loading the UB Herbarium dataset"
   ]
  },
  {
   "cell_type": "code",
   "execution_count": 2,
   "metadata": {
    "collapsed": true
   },
   "outputs": [],
   "source": [
    "dsetPath = '/home/pedro/datasets/ub_herbarium/occurrence.txt'"
   ]
  },
  {
   "cell_type": "code",
   "execution_count": 3,
   "metadata": {},
   "outputs": [],
   "source": [
    "cols = ['recordedBy', 'scientificName', 'family', 'genus', 'species','taxonRank', \n",
    "        'stateProvince', 'locality', 'municipality', 'occurrenceRemarks',\n",
    "        'eventDate', 'identifiedBy']\n",
    "\n",
    "occs = pd.read_table(dsetPath, delimiter='\\t', usecols=cols, low_memory=False)"
   ]
  },
  {
   "cell_type": "markdown",
   "metadata": {},
   "source": [
    "I'll only use data with taxonomic resolution of species"
   ]
  },
  {
   "cell_type": "code",
   "execution_count": 4,
   "metadata": {},
   "outputs": [],
   "source": [
    "occs.dropna(subset=['recordedBy','scientificName'], inplace=True)\n",
    "occs = occs[occs['taxonRank']=='SPECIES']"
   ]
  },
  {
   "cell_type": "code",
   "execution_count": 5,
   "metadata": {},
   "outputs": [
    {
     "data": {
      "text/html": [
       "<div>\n",
       "<style>\n",
       "    .dataframe thead tr:only-child th {\n",
       "        text-align: right;\n",
       "    }\n",
       "\n",
       "    .dataframe thead th {\n",
       "        text-align: left;\n",
       "    }\n",
       "\n",
       "    .dataframe tbody tr th {\n",
       "        vertical-align: top;\n",
       "    }\n",
       "</style>\n",
       "<table border=\"1\" class=\"dataframe\">\n",
       "  <thead>\n",
       "    <tr style=\"text-align: right;\">\n",
       "      <th></th>\n",
       "      <th>recordedBy</th>\n",
       "      <th>occurrenceRemarks</th>\n",
       "      <th>eventDate</th>\n",
       "      <th>stateProvince</th>\n",
       "      <th>municipality</th>\n",
       "      <th>locality</th>\n",
       "      <th>identifiedBy</th>\n",
       "      <th>scientificName</th>\n",
       "      <th>family</th>\n",
       "      <th>genus</th>\n",
       "      <th>taxonRank</th>\n",
       "      <th>species</th>\n",
       "    </tr>\n",
       "  </thead>\n",
       "  <tbody>\n",
       "    <tr>\n",
       "      <th>0</th>\n",
       "      <td>Irwin, HS</td>\n",
       "      <td>Ascending subshrub 0,3m. Fruit gray-green; Cer...</td>\n",
       "      <td>1972-01-16T01:00Z</td>\n",
       "      <td>Goiás</td>\n",
       "      <td>NaN</td>\n",
       "      <td>Serra dos Pireneus, ca. 20km E of Pirenópolis</td>\n",
       "      <td>NaN</td>\n",
       "      <td>Annona monticola Mart.</td>\n",
       "      <td>Annonaceae</td>\n",
       "      <td>Annona</td>\n",
       "      <td>SPECIES</td>\n",
       "      <td>Annona monticola</td>\n",
       "    </tr>\n",
       "    <tr>\n",
       "      <th>1</th>\n",
       "      <td>Ratter, JA; et al.</td>\n",
       "      <td>Coppice branches sprouting from the stump of a...</td>\n",
       "      <td>1976-06-30T01:00Z</td>\n",
       "      <td>Minas Gerais</td>\n",
       "      <td>NaN</td>\n",
       "      <td>Near Pandeiros, ca. 30.0 km W of Januária</td>\n",
       "      <td>Flora do Brasil</td>\n",
       "      <td>Myracrodruon urundeuva Allem.</td>\n",
       "      <td>Anacardiaceae</td>\n",
       "      <td>Myracrodruon</td>\n",
       "      <td>SPECIES</td>\n",
       "      <td>Myracrodruon urundeuva</td>\n",
       "    </tr>\n",
       "    <tr>\n",
       "      <th>2</th>\n",
       "      <td>Heringer, EP</td>\n",
       "      <td>NaN</td>\n",
       "      <td>1954-06-05T01:00Z</td>\n",
       "      <td>Minas Gerais</td>\n",
       "      <td>NaN</td>\n",
       "      <td>Fazenda do Rasgão. Terreno de cultura</td>\n",
       "      <td>Flora do Brasil</td>\n",
       "      <td>Myracrodruon urundeuva Allem.</td>\n",
       "      <td>Anacardiaceae</td>\n",
       "      <td>Myracrodruon</td>\n",
       "      <td>SPECIES</td>\n",
       "      <td>Myracrodruon urundeuva</td>\n",
       "    </tr>\n",
       "    <tr>\n",
       "      <th>3</th>\n",
       "      <td>Coelho, JP</td>\n",
       "      <td>Pouco frequente, sem folhas nesse período; Árv...</td>\n",
       "      <td>1964-10-15T01:00Z</td>\n",
       "      <td>Minas Gerais</td>\n",
       "      <td>NaN</td>\n",
       "      <td>IPEACO- Sete lagoas</td>\n",
       "      <td>Flora do Brasil</td>\n",
       "      <td>Myracrodruon urundeuva Allem.</td>\n",
       "      <td>Anacardiaceae</td>\n",
       "      <td>Myracrodruon</td>\n",
       "      <td>SPECIES</td>\n",
       "      <td>Myracrodruon urundeuva</td>\n",
       "    </tr>\n",
       "    <tr>\n",
       "      <th>4</th>\n",
       "      <td>Eiten, G; Eiten, LT</td>\n",
       "      <td>Tree 5.0 m. tall, 11.0 cm d.b.h. With young fr...</td>\n",
       "      <td>1963-08-17T01:00Z</td>\n",
       "      <td>Maranhão</td>\n",
       "      <td>Loreto</td>\n",
       "      <td>Ilha de Balsas region, between the Balsas and ...</td>\n",
       "      <td>Flora do Brasil</td>\n",
       "      <td>Myracrodruon urundeuva Allem.</td>\n",
       "      <td>Anacardiaceae</td>\n",
       "      <td>Myracrodruon</td>\n",
       "      <td>SPECIES</td>\n",
       "      <td>Myracrodruon urundeuva</td>\n",
       "    </tr>\n",
       "  </tbody>\n",
       "</table>\n",
       "</div>"
      ],
      "text/plain": [
       "            recordedBy                                  occurrenceRemarks  \\\n",
       "0            Irwin, HS  Ascending subshrub 0,3m. Fruit gray-green; Cer...   \n",
       "1   Ratter, JA; et al.  Coppice branches sprouting from the stump of a...   \n",
       "2         Heringer, EP                                                NaN   \n",
       "3           Coelho, JP  Pouco frequente, sem folhas nesse período; Árv...   \n",
       "4  Eiten, G; Eiten, LT  Tree 5.0 m. tall, 11.0 cm d.b.h. With young fr...   \n",
       "\n",
       "           eventDate stateProvince municipality  \\\n",
       "0  1972-01-16T01:00Z         Goiás          NaN   \n",
       "1  1976-06-30T01:00Z  Minas Gerais          NaN   \n",
       "2  1954-06-05T01:00Z  Minas Gerais          NaN   \n",
       "3  1964-10-15T01:00Z  Minas Gerais          NaN   \n",
       "4  1963-08-17T01:00Z      Maranhão       Loreto   \n",
       "\n",
       "                                            locality     identifiedBy  \\\n",
       "0      Serra dos Pireneus, ca. 20km E of Pirenópolis              NaN   \n",
       "1          Near Pandeiros, ca. 30.0 km W of Januária  Flora do Brasil   \n",
       "2              Fazenda do Rasgão. Terreno de cultura  Flora do Brasil   \n",
       "3                                IPEACO- Sete lagoas  Flora do Brasil   \n",
       "4  Ilha de Balsas region, between the Balsas and ...  Flora do Brasil   \n",
       "\n",
       "                  scientificName         family         genus taxonRank  \\\n",
       "0         Annona monticola Mart.     Annonaceae        Annona   SPECIES   \n",
       "1  Myracrodruon urundeuva Allem.  Anacardiaceae  Myracrodruon   SPECIES   \n",
       "2  Myracrodruon urundeuva Allem.  Anacardiaceae  Myracrodruon   SPECIES   \n",
       "3  Myracrodruon urundeuva Allem.  Anacardiaceae  Myracrodruon   SPECIES   \n",
       "4  Myracrodruon urundeuva Allem.  Anacardiaceae  Myracrodruon   SPECIES   \n",
       "\n",
       "                  species  \n",
       "0        Annona monticola  \n",
       "1  Myracrodruon urundeuva  \n",
       "2  Myracrodruon urundeuva  \n",
       "3  Myracrodruon urundeuva  \n",
       "4  Myracrodruon urundeuva  "
      ]
     },
     "execution_count": 5,
     "metadata": {},
     "output_type": "execute_result"
    }
   ],
   "source": [
    "occs.head()"
   ]
  },
  {
   "cell_type": "code",
   "execution_count": 6,
   "metadata": {},
   "outputs": [
    {
     "data": {
      "text/plain": [
       "SPECIES    140763\n",
       "Name: taxonRank, dtype: int64"
      ]
     },
     "execution_count": 6,
     "metadata": {},
     "output_type": "execute_result"
    }
   ],
   "source": [
    "occs['taxonRank'].value_counts()"
   ]
  },
  {
   "cell_type": "code",
   "execution_count": 7,
   "metadata": {},
   "outputs": [
    {
     "data": {
      "text/plain": [
       "'Total num of records: 140763'"
      ]
     },
     "execution_count": 7,
     "metadata": {},
     "output_type": "execute_result"
    }
   ],
   "source": [
    "\"Total num of records: \"+str(occs.shape[0])"
   ]
  },
  {
   "cell_type": "markdown",
   "metadata": {},
   "source": [
    "### Loading previously cleaned collectors identities"
   ]
  },
  {
   "cell_type": "code",
   "execution_count": 8,
   "metadata": {},
   "outputs": [
    {
     "name": "stderr",
     "output_type": "stream",
     "text": [
      "/home/pedro/datascience_biodiversity/notebooks/modules/cleaning/names.py:536: UserWarning: A names map was created without a normalization function!\n",
      "  warn(\"A names map was created without a normalization function!\")\n"
     ]
    }
   ],
   "source": [
    "from modules.cleaning.names import read_NamesMap_fromJson, NamesAtomizer, namesFromString\n",
    "\n",
    "# read a names map\n",
    "nm = read_NamesMap_fromJson('./ub_names_map_2.json')\n",
    "\n",
    "# atomizing names\n",
    "atomizingOp = lambda x: namesFromString(x)\n",
    "na = NamesAtomizer(atomizingOp)\n",
    "\n",
    "occs['recordedBy_atomized'] = na.atomize(occs['recordedBy'])\n",
    "\n",
    "# build names index\n",
    "from modules.cleaning.names import getNamesIndexes\n",
    "\n",
    "ni = getNamesIndexes(occs,'recordedBy_atomized',nm.getMap())"
   ]
  },
  {
   "cell_type": "markdown",
   "metadata": {},
   "source": [
    "---"
   ]
  },
  {
   "cell_type": "markdown",
   "metadata": {},
   "source": [
    "## Building the SCN Network model"
   ]
  },
  {
   "cell_type": "code",
   "execution_count": 9,
   "metadata": {
    "collapsed": true
   },
   "outputs": [],
   "source": [
    "from modules.models.networks import SpeciesCollectorsNetwork"
   ]
  },
  {
   "cell_type": "code",
   "execution_count": 10,
   "metadata": {
    "collapsed": true
   },
   "outputs": [],
   "source": [
    "scn = SpeciesCollectorsNetwork(species=occs['scientificName'],\n",
    "                               collectorsNames=occs['recordedBy_atomized'],\n",
    "                               namesMap=nm,\n",
    "                               weighted=True)"
   ]
  },
  {
   "cell_type": "markdown",
   "metadata": {},
   "source": [
    "First we want to filter some nodes out of the network"
   ]
  },
  {
   "cell_type": "code",
   "execution_count": 11,
   "metadata": {},
   "outputs": [],
   "source": [
    "nodesToRemove = ['etal','','incognito']\n",
    "scn.remove_nodes_from(nodesToRemove)"
   ]
  },
  {
   "cell_type": "markdown",
   "metadata": {},
   "source": [
    "And then add some attributes"
   ]
  },
  {
   "cell_type": "code",
   "execution_count": 12,
   "metadata": {},
   "outputs": [],
   "source": [
    "# degree\n",
    "nx.set_node_attributes(scn,'degree',nx.degree(scn))\n",
    "\n",
    "# weighted degree\n",
    "nx.set_node_attributes(scn,'degree_weighted',nx.degree(scn,weight='weight'))"
   ]
  },
  {
   "cell_type": "markdown",
   "metadata": {},
   "source": [
    "---"
   ]
  },
  {
   "cell_type": "markdown",
   "metadata": {},
   "source": [
    "## Species Bags"
   ]
  },
  {
   "cell_type": "markdown",
   "metadata": {},
   "source": [
    "In a SCN model each collector is linked to a set of species she has ever collected, and conversely each species is linked to the set of collectors that have ever recorded it. I define a collector's **species bag** as an array of counts of species in her collections history. Formally a species bag $ \\sigma$ of a collector $\\mu$ is represented as a vector"
   ]
  },
  {
   "cell_type": "markdown",
   "metadata": {},
   "source": [
    "$$ \n",
    "\\sigma^{(\\mu)} =  \\begin{bmatrix}\n",
    "\\sigma_1^{(\\mu)}, \\sigma_2^{(\\mu)}, \\cdots, \\sigma_n^{(\\mu)}\n",
    "\\end{bmatrix}  \\quad : \\quad \n",
    "n = |S_{sp}|\n",
    "$$"
   ]
  },
  {
   "cell_type": "markdown",
   "metadata": {},
   "source": [
    "where $n$ is the length of the species set $S_{sp}$ and $\\sigma^{(\\mu)}_i$ is the total number of records of species $i$ by collector $\\mu$."
   ]
  },
  {
   "cell_type": "markdown",
   "metadata": {},
   "source": [
    "The species bag for a collector can be calculated by using the `getSpeciesBag` method from the `SpeciesCollectorsNetwork` class. It returns a tuple containing an index with the species names and a *Scipy* sparse matrix containing the species bag vector itself. The order in which species names are placed in the index is the same as in the vector. To give an example let's retrieve the species bag from 'Munhoz,C.B.R.'."
   ]
  },
  {
   "cell_type": "code",
   "execution_count": 21,
   "metadata": {},
   "outputs": [],
   "source": [
    "i,m = scn.getSpeciesBag('munhoz,cbr')"
   ]
  },
  {
   "cell_type": "markdown",
   "metadata": {},
   "source": [
    "We can unpack an ordered list with species counts by zipping both the index and the vector. I'll only retrieve the top-20 species."
   ]
  },
  {
   "cell_type": "code",
   "execution_count": 26,
   "metadata": {},
   "outputs": [
    {
     "data": {
      "text/plain": [
       "[('Syngonanthus nitens (Bong.) Ruhland', 30),\n",
       " ('Rhynchospora globosa (Kunth) Roem. & Schult.', 25),\n",
       " ('Xyris hymenachne Mart.', 23),\n",
       " ('Axonopus brasiliensis (Spreng.) Kuhlm.', 21),\n",
       " ('Trachypogon spicatus (L.f.) Kuntze', 20),\n",
       " ('Comanthera xeranthemoides (Bong.) L.R.Parra & Giul.', 19),\n",
       " ('Rhynchospora consanguinea (Kunth) Boeckeler', 19),\n",
       " ('Paepalanthus elongatus (Bong.) Körn.', 18),\n",
       " ('Xyris savanensis Miq.', 18),\n",
       " ('Curtia tenuifolia (Aubl.) Knobl.', 17),\n",
       " ('Lagenocarpus rigidus (Kunth) Nees', 17),\n",
       " ('Andropogon virgatus Desv. ex Ham.', 16),\n",
       " ('Hyptis linarioides Pohl ex Benth.', 16),\n",
       " ('Xyris schizachne Mart.', 16),\n",
       " ('Rhynchospora emaciata (Nees) Boeckeler', 15),\n",
       " ('Syngonanthus gracilis (Bong.) Ruhland', 15),\n",
       " ('Paspalum hyalinum Nees ex Trin.', 14),\n",
       " ('Trimezia juncifolia Klatt', 14),\n",
       " ('Chamaecrista desvauxii (Collad.) Killip', 13),\n",
       " ('Rhynchanthera grandiflora (Aubl.) DC.', 13)]"
      ]
     },
     "execution_count": 26,
     "metadata": {},
     "output_type": "execute_result"
    }
   ],
   "source": [
    "sorted( list(zip( i, np.array(m.todense()).flatten() )), key=lambda x: x[1], reverse=True )[:20]"
   ]
  },
  {
   "cell_type": "markdown",
   "metadata": {},
   "source": [
    "### Species Bags Similarity"
   ]
  },
  {
   "cell_type": "markdown",
   "metadata": {},
   "source": [
    "We might want to compare collectors in terms of their species bags. We calculate the **Species Bag Similarity** between collectors $\\mu_i$ and $\\mu_j$ by computing the *Cosine Similarity* of their species bags vectors:"
   ]
  },
  {
   "cell_type": "markdown",
   "metadata": {},
   "source": [
    "$$\n",
    "sim(\\sigma^{(\\mu_i)},\\sigma^{(\\mu_j)}) =\n",
    "\\cos \\theta_{\\mu_i,\\mu_j} \\equiv\n",
    "\\frac{  \\sigma^{(\\mu_i)} \\cdot \\sigma^{(\\mu_j)}  }{  ||\\sigma^{(\\mu_i)}||_2  ||\\sigma^{(\\mu_j)}||_2  }\n",
    "$$"
   ]
  },
  {
   "cell_type": "markdown",
   "metadata": {},
   "source": [
    "where the output ranges from [0,1]."
   ]
  },
  {
   "cell_type": "markdown",
   "metadata": {},
   "source": [
    "The function below calculates species bags similarity. It takes two optional collectors names in `col1` and `col2` parameters, and output type varies depending on how many collectors names are given."
   ]
  },
  {
   "cell_type": "code",
   "execution_count": 27,
   "metadata": {
    "collapsed": true
   },
   "outputs": [],
   "source": [
    "from sklearn.metrics.pairwise import cosine_similarity\n",
    "import scipy\n",
    "\n",
    "def calculateSimilarity( G, col1=None, col2=None ):\n",
    "    \"\"\"\n",
    "    Returns\n",
    "    -------\n",
    "    If neither col1 and col2 are informed, a tuple ( colsList, csr_sparse_similarityMatrix )\n",
    "    If only col1 is informed, a tuple ( colsList, similarityVector )\n",
    "    If col1 and col2 are informed, a tuple ( [col1,col2], similarity )\n",
    "    \"\"\"\n",
    "    colList, spList, m = G._speciesBag_matrix\n",
    "    \n",
    "    if col1 is not None:\n",
    "        if col2 is not None:\n",
    "            sim = cosine_similarity( scn.getSpeciesBag(col1)[1], scn.getSpeciesBag(col2)[1] )[0][0] \n",
    "            return ([col1,col2], sim)\n",
    "        else:\n",
    "            simVector = cosine_similarity( scn.getSpeciesBag(col1)[1], m )\n",
    "            return ( colList, scipy.sparse.csr_matrix(simVector) )\n",
    "        \n",
    "    else:\n",
    "        return( colList, scipy.sparse.csr_matrix(cosine_similarity(m)) )"
   ]
  },
  {
   "cell_type": "markdown",
   "metadata": {},
   "source": [
    "First, if we wanted to simply retrieve the entire species bags similarity matrix we can simply call this function without passing collectors names. Note that all elements in the diagonal of the similarity matrix are ones."
   ]
  },
  {
   "cell_type": "code",
   "execution_count": 29,
   "metadata": {},
   "outputs": [],
   "source": [
    "i,m = calculateSimilarity(scn)"
   ]
  },
  {
   "cell_type": "code",
   "execution_count": 32,
   "metadata": {},
   "outputs": [
    {
     "data": {
      "text/plain": [
       "['abbas,b',\n",
       " 'abdala,gc',\n",
       " 'abdo,msa',\n",
       " 'abdon',\n",
       " 'abe,lm',\n",
       " 'abrahim,ma',\n",
       " 'abreu,gx',\n",
       " 'abreu,i',\n",
       " 'abreu,lcr',\n",
       " 'abreu,mc']"
      ]
     },
     "execution_count": 32,
     "metadata": {},
     "output_type": "execute_result"
    }
   ],
   "source": [
    "i[:10]"
   ]
  },
  {
   "cell_type": "code",
   "execution_count": 31,
   "metadata": {},
   "outputs": [
    {
     "data": {
      "text/plain": [
       "matrix([[ 1.,  0.,  0., ...,  0.,  0.,  0.],\n",
       "        [ 0.,  1.,  0., ...,  0.,  0.,  0.],\n",
       "        [ 0.,  0.,  1., ...,  0.,  0.,  0.],\n",
       "        ..., \n",
       "        [ 0.,  0.,  0., ...,  1.,  0.,  0.],\n",
       "        [ 0.,  0.,  0., ...,  0.,  1.,  0.],\n",
       "        [ 0.,  0.,  0., ...,  0.,  0.,  1.]])"
      ]
     },
     "execution_count": 31,
     "metadata": {},
     "output_type": "execute_result"
    }
   ],
   "source": [
    "m.todense() # m is a csr sparse matrix"
   ]
  },
  {
   "cell_type": "markdown",
   "metadata": {},
   "source": [
    "We can also calculate a similarity vector for a given collector, which holds her similarity with all other collectors, including itself. Let's compute, for example, the similarity vector for 'munhoz,cbr'."
   ]
  },
  {
   "cell_type": "code",
   "execution_count": 98,
   "metadata": {
    "collapsed": true
   },
   "outputs": [],
   "source": [
    "i,m = calculateSimilarity(scn,'munhoz,cbr')"
   ]
  },
  {
   "cell_type": "code",
   "execution_count": 101,
   "metadata": {},
   "outputs": [
    {
     "data": {
      "text/plain": [
       "matrix([[ 0.00730726,  0.        ,  0.00353577, ...,  0.        ,\n",
       "          0.        ,  0.        ]])"
      ]
     },
     "execution_count": 101,
     "metadata": {},
     "output_type": "execute_result"
    }
   ],
   "source": [
    "m.todense()"
   ]
  },
  {
   "cell_type": "markdown",
   "metadata": {},
   "source": [
    "Who are the top-10 collectors most similar to Munhoz,CBR?"
   ]
  },
  {
   "cell_type": "code",
   "execution_count": 105,
   "metadata": {},
   "outputs": [
    {
     "data": {
      "text/plain": [
       "[('munhoz,cbr', 0.99999999999999267),\n",
       " ('amaral,ag', 0.75137262358463819),\n",
       " ('eugenio,cuo', 0.72327560020983406),\n",
       " ('emmert,p', 0.71216702601217519),\n",
       " ('mello,trb', 0.69920571204778381),\n",
       " ('chagas,ur', 0.65072933682219702),\n",
       " ('silva,dp', 0.65038200328433593),\n",
       " ('cristine,a', 0.58353717801179739),\n",
       " ('correa,acg', 0.57466387100179006),\n",
       " ('bijos,nr', 0.56124589372476164)]"
      ]
     },
     "execution_count": 105,
     "metadata": {},
     "output_type": "execute_result"
    }
   ],
   "source": [
    "sorted( list(zip(i, np.array(m.todense()).flatten())), key=lambda x:x[1], reverse=True)[:10]"
   ]
  },
  {
   "cell_type": "markdown",
   "metadata": {},
   "source": [
    "Last we can also compute the similarity for a pair of collectors:"
   ]
  },
  {
   "cell_type": "code",
   "execution_count": 106,
   "metadata": {},
   "outputs": [
    {
     "data": {
      "text/plain": [
       "'Similarity score between munhoz,cbr and proenca,ceb: 0.32207714985042757'"
      ]
     },
     "execution_count": 106,
     "metadata": {},
     "output_type": "execute_result"
    }
   ],
   "source": [
    "i,score = calculateSimilarity(scn,'munhoz,cbr','proenca,ceb')\n",
    "\"Similarity score between {} and {}: {}\".format(*i,score)"
   ]
  },
  {
   "cell_type": "markdown",
   "metadata": {},
   "source": [
    "### Filtering values from a similarity matrix"
   ]
  },
  {
   "cell_type": "markdown",
   "metadata": {},
   "source": [
    "It is useful to keep a record only of the most significant similarities in the matrix. We can define a threshold and filter out all of these element below it. I'll exemplify using rows 0 to 10 and columns 164 to 173."
   ]
  },
  {
   "cell_type": "code",
   "execution_count": 107,
   "metadata": {
    "collapsed": true
   },
   "outputs": [],
   "source": [
    "i,m = calculateSimilarity(scn)"
   ]
  },
  {
   "cell_type": "code",
   "execution_count": 108,
   "metadata": {},
   "outputs": [
    {
     "data": {
      "text/plain": [
       "matrix([[ 0.        ,  0.03328406,  0.        ,  0.        ,  0.        ,\n",
       "          0.        ,  0.09622504,  0.        ,  0.        ,  0.        ],\n",
       "        [ 0.        ,  0.00784513,  0.        ,  0.        ,  0.        ,\n",
       "          0.        ,  0.        ,  0.        ,  0.        ,  0.        ],\n",
       "        [ 0.        ,  0.00286314,  0.        ,  0.        ,  0.        ,\n",
       "          0.        ,  0.        ,  0.        ,  0.        ,  0.        ],\n",
       "        [ 0.        ,  0.        ,  0.        ,  0.        ,  0.        ,\n",
       "          0.        ,  0.        ,  0.        ,  0.        ,  0.        ],\n",
       "        [ 0.        ,  0.        ,  0.        ,  0.        ,  0.        ,\n",
       "          0.        ,  0.        ,  0.        ,  0.        ,  0.        ],\n",
       "        [ 0.        ,  0.01921656,  0.        ,  0.        ,  0.        ,\n",
       "          0.        ,  0.        ,  0.19245009,  0.        ,  0.        ],\n",
       "        [ 0.        ,  0.        ,  0.        ,  0.        ,  0.        ,\n",
       "          0.        ,  0.        ,  0.        ,  0.        ,  0.        ],\n",
       "        [ 0.        ,  0.        ,  0.        ,  0.        ,  0.        ,\n",
       "          0.        ,  0.        ,  0.        ,  0.        ,  0.        ],\n",
       "        [ 0.        ,  0.02105069,  0.        ,  0.        ,  0.        ,\n",
       "          0.        ,  0.        ,  0.        ,  0.        ,  0.        ],\n",
       "        [ 0.        ,  0.08605835,  0.        ,  0.        ,  0.        ,\n",
       "          0.07362102,  0.03928371,  0.        ,  0.        ,  0.        ]])"
      ]
     },
     "execution_count": 108,
     "metadata": {},
     "output_type": "execute_result"
    }
   ],
   "source": [
    "m[0:10,164:174].todense()"
   ]
  },
  {
   "cell_type": "markdown",
   "metadata": {},
   "source": [
    "Now, let's filter it with a threshold of 0.05"
   ]
  },
  {
   "cell_type": "code",
   "execution_count": 109,
   "metadata": {
    "collapsed": true
   },
   "outputs": [],
   "source": [
    "thresh=0.05\n",
    "\n",
    "m.data = np.where(m.data >= thresh, m.data, 0)\n",
    "m.eliminate_zeros()"
   ]
  },
  {
   "cell_type": "code",
   "execution_count": 110,
   "metadata": {},
   "outputs": [
    {
     "data": {
      "text/plain": [
       "matrix([[ 0.        ,  0.        ,  0.        ,  0.        ,  0.        ,\n",
       "          0.        ,  0.09622504,  0.        ,  0.        ,  0.        ],\n",
       "        [ 0.        ,  0.        ,  0.        ,  0.        ,  0.        ,\n",
       "          0.        ,  0.        ,  0.        ,  0.        ,  0.        ],\n",
       "        [ 0.        ,  0.        ,  0.        ,  0.        ,  0.        ,\n",
       "          0.        ,  0.        ,  0.        ,  0.        ,  0.        ],\n",
       "        [ 0.        ,  0.        ,  0.        ,  0.        ,  0.        ,\n",
       "          0.        ,  0.        ,  0.        ,  0.        ,  0.        ],\n",
       "        [ 0.        ,  0.        ,  0.        ,  0.        ,  0.        ,\n",
       "          0.        ,  0.        ,  0.        ,  0.        ,  0.        ],\n",
       "        [ 0.        ,  0.        ,  0.        ,  0.        ,  0.        ,\n",
       "          0.        ,  0.        ,  0.19245009,  0.        ,  0.        ],\n",
       "        [ 0.        ,  0.        ,  0.        ,  0.        ,  0.        ,\n",
       "          0.        ,  0.        ,  0.        ,  0.        ,  0.        ],\n",
       "        [ 0.        ,  0.        ,  0.        ,  0.        ,  0.        ,\n",
       "          0.        ,  0.        ,  0.        ,  0.        ,  0.        ],\n",
       "        [ 0.        ,  0.        ,  0.        ,  0.        ,  0.        ,\n",
       "          0.        ,  0.        ,  0.        ,  0.        ,  0.        ],\n",
       "        [ 0.        ,  0.08605835,  0.        ,  0.        ,  0.        ,\n",
       "          0.07362102,  0.        ,  0.        ,  0.        ,  0.        ]])"
      ]
     },
     "execution_count": 110,
     "metadata": {},
     "output_type": "execute_result"
    }
   ],
   "source": [
    "m[0:10,164:174].todense()"
   ]
  },
  {
   "cell_type": "markdown",
   "metadata": {},
   "source": [
    "### Creating a projected SCN Network from the similarity matrix"
   ]
  },
  {
   "cell_type": "markdown",
   "metadata": {},
   "source": [
    "The similarity matrix can be used to build a similarity graph. The similarity graph is a type of SCN projection on the collectors set. In order not to add self-loops, I will set all diagonal elements of the similarity matrix to zero."
   ]
  },
  {
   "cell_type": "code",
   "execution_count": 155,
   "metadata": {
    "collapsed": true
   },
   "outputs": [],
   "source": [
    "collNames,m = calculateSimilarity(scn)\n",
    "m.setdiag(0)\n",
    "\n",
    "thresh=0.3\n",
    "m.data = np.where(m.data >= thresh, m.data, 0)\n",
    "\n",
    "m.eliminate_zeros()"
   ]
  },
  {
   "cell_type": "code",
   "execution_count": 156,
   "metadata": {},
   "outputs": [],
   "source": [
    "G = nx.from_scipy_sparse_matrix(m)"
   ]
  },
  {
   "cell_type": "code",
   "execution_count": 157,
   "metadata": {},
   "outputs": [],
   "source": [
    "# relabel nodes\n",
    "namesMap = dict( (i,n) for i,n in enumerate(collNames) )\n",
    "G = nx.relabel_nodes(G,namesMap)"
   ]
  },
  {
   "cell_type": "markdown",
   "metadata": {},
   "source": [
    "Let's now copy the attributes from the SCN to the similarity graph"
   ]
  },
  {
   "cell_type": "code",
   "execution_count": 158,
   "metadata": {
    "collapsed": true
   },
   "outputs": [],
   "source": [
    "# degree\n",
    "deg_dict = dict((n,d['degree']) for n,d in scn.getCollectorsNodes(data=True))\n",
    "nx.set_node_attributes(G, 'degree', deg_dict)\n",
    "\n",
    "# weighted degree\n",
    "degw_dict = dict((n,d['degree_weighted']) for n,d in scn.getCollectorsNodes(data=True))\n",
    "nx.set_node_attributes(G, 'degree_weighted', degw_dict)"
   ]
  },
  {
   "cell_type": "code",
   "execution_count": 160,
   "metadata": {
    "collapsed": true
   },
   "outputs": [],
   "source": [
    "nx.write_gexf(G,'./graph_similarity.gexf')"
   ]
  },
  {
   "cell_type": "markdown",
   "metadata": {},
   "source": [
    "---"
   ]
  },
  {
   "cell_type": "markdown",
   "metadata": {},
   "source": [
    "### Calculate matrix sparsity"
   ]
  },
  {
   "cell_type": "code",
   "execution_count": 166,
   "metadata": {
    "collapsed": true
   },
   "outputs": [],
   "source": [
    "calculateSparsity = lambda m: len(m.data)/np.prod(m.shape)"
   ]
  },
  {
   "cell_type": "code",
   "execution_count": 168,
   "metadata": {},
   "outputs": [],
   "source": [
    "i,m = calculateSimilarity(scn)"
   ]
  },
  {
   "cell_type": "code",
   "execution_count": 197,
   "metadata": {
    "collapsed": true
   },
   "outputs": [],
   "source": [
    "from copy import deepcopy\n",
    "m_t = deepcopy(m)\n",
    "thresh=0.5\n",
    "m_t.data = np.where(m_t.data >= thresh, m_t.data, 0)\n",
    "\n",
    "m_t.eliminate_zeros()"
   ]
  },
  {
   "cell_type": "code",
   "execution_count": 198,
   "metadata": {},
   "outputs": [
    {
     "data": {
      "text/plain": [
       "0.00080515889947774971"
      ]
     },
     "execution_count": 198,
     "metadata": {},
     "output_type": "execute_result"
    }
   ],
   "source": [
    "calculateSparsity(m_t)"
   ]
  },
  {
   "cell_type": "code",
   "execution_count": 183,
   "metadata": {},
   "outputs": [
    {
     "data": {
      "text/plain": [
       "0.033692832405074334"
      ]
     },
     "execution_count": 183,
     "metadata": {},
     "output_type": "execute_result"
    }
   ],
   "source": [
    "calculateSparsity(m)"
   ]
  },
  {
   "cell_type": "code",
   "execution_count": 161,
   "metadata": {},
   "outputs": [
    {
     "data": {
      "text/plain": [
       "67286"
      ]
     },
     "execution_count": 161,
     "metadata": {},
     "output_type": "execute_result"
    }
   ],
   "source": [
    "len(m.data)"
   ]
  },
  {
   "cell_type": "code",
   "execution_count": 165,
   "metadata": {},
   "outputs": [
    {
     "data": {
      "text/plain": [
       "0.0015038423791883377"
      ]
     },
     "execution_count": 165,
     "metadata": {},
     "output_type": "execute_result"
    }
   ],
   "source": [
    "len(m.data)/np.prod(m.shape)"
   ]
  }
 ],
 "metadata": {
  "kernelspec": {
   "display_name": "Python 3",
   "language": "python",
   "name": "python3"
  },
  "language_info": {
   "codemirror_mode": {
    "name": "ipython",
    "version": 3
   },
   "file_extension": ".py",
   "mimetype": "text/x-python",
   "name": "python",
   "nbconvert_exporter": "python",
   "pygments_lexer": "ipython3",
   "version": "3.6.1"
  }
 },
 "nbformat": 4,
 "nbformat_minor": 2
}
