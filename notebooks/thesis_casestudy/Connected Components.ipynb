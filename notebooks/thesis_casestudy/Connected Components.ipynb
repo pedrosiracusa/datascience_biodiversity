{
 "cells": [
  {
   "cell_type": "markdown",
   "metadata": {},
   "source": [
    "### Building Network Models\n",
    "### UB Species-collectors Network\n",
    "# Connected Components"
   ]
  },
  {
   "cell_type": "markdown",
   "metadata": {},
   "source": [
    "---"
   ]
  },
  {
   "cell_type": "code",
   "execution_count": 1,
   "metadata": {
    "collapsed": true
   },
   "outputs": [],
   "source": [
    "import paths"
   ]
  },
  {
   "cell_type": "code",
   "execution_count": 2,
   "metadata": {
    "collapsed": true
   },
   "outputs": [],
   "source": [
    "import pandas as pd\n",
    "\n",
    "%matplotlib inline"
   ]
  },
  {
   "cell_type": "markdown",
   "metadata": {},
   "source": [
    "### Reading occurrences dataset"
   ]
  },
  {
   "cell_type": "code",
   "execution_count": 39,
   "metadata": {},
   "outputs": [],
   "source": [
    "dsetPath = '/home/pedro/datasets/ub_herbarium/occurrence.txt'\n",
    "cols=['recordedBy','scientificName','taxonRank','kingdom','phylum','class','order','family','genus','species',\n",
    "      'countryCode','stateProvince', 'rightsHolder', 'repatriated', 'occurrenceRemarks', 'eventDate']\n",
    "\n",
    "occs = pd.read_table(dsetPath,usecols=cols,low_memory=False)\n",
    "occs = occs[occs['recordedBy'].notnull()]\n",
    "occs = occs[occs['scientificName'].notnull()]\n",
    "occs = occs[occs['species'].notnull()]"
   ]
  },
  {
   "cell_type": "markdown",
   "metadata": {},
   "source": [
    "---"
   ]
  },
  {
   "cell_type": "markdown",
   "metadata": {},
   "source": [
    "### Building the SCN model"
   ]
  },
  {
   "cell_type": "code",
   "execution_count": 4,
   "metadata": {},
   "outputs": [],
   "source": [
    "# Names Atomization\n",
    "from caryocar.cleaning import NamesAtomizer,namesFromString\n",
    "\n",
    "names_replaces_file = '/home/pedro/caryocar/caryocar/cleaning/data/ub_collectors_replaces.json'\n",
    "na = NamesAtomizer(atomizeOp=namesFromString)\n",
    "na.read_replaces(names_replaces_file)\n",
    "occs['recordedBy_atomized']=na.atomize(occs['recordedBy'])\n",
    "\n",
    "# Names Map\n",
    "from caryocar.cleaning import normalize,read_NamesMap_fromJson\n",
    "collectors_names = list(set( n for n,st,num in na.getCachedNames()))\n",
    "\n",
    "\n",
    "nm = read_NamesMap_fromJson('/home/pedro/caryocar/caryocar/cleaning/data/ub_namesmap.json',\n",
    "                             normalizationFunc=normalize)\n",
    "nm.addNames(collectors_names)\n",
    "\n",
    "# Names index\n",
    "from caryocar.cleaning import getNamesIndexes\n",
    "ni = getNamesIndexes(occs, 'recordedBy_atomized',namesMap=nm.getMap())\n",
    "\n",
    "# Network model\n",
    "from caryocar.models import SpeciesCollectorsNetwork\n",
    "\n",
    "scn = SpeciesCollectorsNetwork(species=occs['species'],collectors=occs['recordedBy_atomized'],namesMap=nm)\n",
    "\n",
    "cols_to_filter = ['','ignorado','ilegivel','incognito','etal']\n",
    "scn.remove_nodes_from(cols_to_filter)"
   ]
  },
  {
   "cell_type": "markdown",
   "metadata": {},
   "source": [
    "---"
   ]
  },
  {
   "cell_type": "markdown",
   "metadata": {},
   "source": [
    "# Connected Components"
   ]
  },
  {
   "cell_type": "markdown",
   "metadata": {},
   "source": [
    "Obtain subgraphs from isolated components. The first one (considering the list is ordered by number of nodes) is the giant component."
   ]
  },
  {
   "cell_type": "code",
   "execution_count": 5,
   "metadata": {
    "collapsed": true
   },
   "outputs": [],
   "source": [
    "sgs = sorted( scn.connectedComponentsSubgraphs(), key=lambda g: len(g.nodes()), reverse=True )"
   ]
  },
  {
   "cell_type": "markdown",
   "metadata": {},
   "source": [
    "##### Top-10 connected components"
   ]
  },
  {
   "cell_type": "code",
   "execution_count": 6,
   "metadata": {},
   "outputs": [
    {
     "name": "stdout",
     "output_type": "stream",
     "text": [
      "Graph 0: 6334 collectors; 14757 species\n",
      "Graph 1: 3 collectors; 141 species\n",
      "Graph 2: 6 collectors; 5 species\n",
      "Graph 3: 2 collectors; 7 species\n",
      "Graph 4: 3 collectors; 5 species\n",
      "Graph 5: 1 collectors; 7 species\n",
      "Graph 6: 3 collectors; 5 species\n",
      "Graph 7: 4 collectors; 4 species\n",
      "Graph 8: 1 collectors; 7 species\n",
      "Graph 9: 3 collectors; 4 species\n"
     ]
    }
   ],
   "source": [
    "lines=[ \n",
    "    \"Graph {}: {} collectors; {} species\".format( i,len(sg.listCollectorsNodes()),len(sg.listSpeciesNodes()) ) \n",
    "                                                        for i,sg in enumerate(sgs) ]\n",
    "\n",
    "for l in lines[:10]:\n",
    "    print(l)"
   ]
  },
  {
   "cell_type": "markdown",
   "metadata": {},
   "source": [
    "* Graph 0 is the giant component\n",
    "* Graph 1 is the biggest isolated component"
   ]
  },
  {
   "cell_type": "markdown",
   "metadata": {},
   "source": [
    "### Graph 0"
   ]
  },
  {
   "cell_type": "code",
   "execution_count": 7,
   "metadata": {
    "collapsed": true
   },
   "outputs": [],
   "source": [
    "giant = sgs[0]"
   ]
  },
  {
   "cell_type": "code",
   "execution_count": 8,
   "metadata": {},
   "outputs": [],
   "source": [
    "o=occs.loc[ set( ix for col in giant.listCollectorsNodes() for ix in ni[col]) ]"
   ]
  },
  {
   "cell_type": "markdown",
   "metadata": {},
   "source": [
    "* The vast majority of records are from Brazil:"
   ]
  },
  {
   "cell_type": "code",
   "execution_count": 9,
   "metadata": {},
   "outputs": [
    {
     "data": {
      "text/plain": [
       "BR    0.951812\n",
       "US    0.007904\n",
       "AQ    0.007010\n",
       "ID    0.003495\n",
       "AU    0.002867\n",
       "ZA    0.002580\n",
       "MY    0.002505\n",
       "FI    0.002252\n",
       "PG    0.001966\n",
       "SE    0.001645\n",
       "Name: countryCode, dtype: float64"
      ]
     },
     "execution_count": 9,
     "metadata": {},
     "output_type": "execute_result"
    }
   ],
   "source": [
    "o['countryCode'].value_counts(normalize=True)[:10]"
   ]
  },
  {
   "cell_type": "markdown",
   "metadata": {},
   "source": [
    "* Records from Brazil per state"
   ]
  },
  {
   "cell_type": "code",
   "execution_count": 10,
   "metadata": {},
   "outputs": [
    {
     "data": {
      "text/plain": [
       "<matplotlib.axes._subplots.AxesSubplot at 0x7f7e81c80fd0>"
      ]
     },
     "execution_count": 10,
     "metadata": {},
     "output_type": "execute_result"
    },
    {
     "data": {
      "image/png": "[encoded data removed]",
      "text/plain": [
       "<matplotlib.figure.Figure at 0x7f7e6ddaae10>"
      ]
     },
     "metadata": {},
     "output_type": "display_data"
    }
   ],
   "source": [
    "display=7\n",
    "top5=o[o['countryCode']=='BR']['stateProvince'].value_counts(normalize=True)[:display]\n",
    "others=pd.Series( o[o['countryCode']=='BR']['stateProvince'].value_counts(normalize=True)[display:].sum(), index=['Others'] )\n",
    "pd.concat([top5,others]).plot(kind='pie',figsize=(5,5),label='',autopct='%1.0f%%',pctdistance=0.7)"
   ]
  },
  {
   "cell_type": "markdown",
   "metadata": {},
   "source": [
    "* Number of singleton species"
   ]
  },
  {
   "cell_type": "code",
   "execution_count": 43,
   "metadata": {},
   "outputs": [
    {
     "name": "stdout",
     "output_type": "stream",
     "text": [
      "Number: 4983 ; Percentage: 0.3376702581825574\n"
     ]
    }
   ],
   "source": [
    "num = len([ sp for sp,cnt in giant.listSpeciesNodes(data='count') if cnt==1 ])\n",
    "pctg=num/len(giant.listSpeciesNodes())\n",
    "\n",
    "print(\"Number: {} ; Percentage: {}\".format(num,pctg))"
   ]
  },
  {
   "cell_type": "markdown",
   "metadata": {},
   "source": [
    "\n",
    "### Why are there so many species in Graph 1?"
   ]
  },
  {
   "cell_type": "code",
   "execution_count": 12,
   "metadata": {},
   "outputs": [],
   "source": [
    "g1 = sgs[1]"
   ]
  },
  {
   "cell_type": "markdown",
   "metadata": {},
   "source": [
    "* Collectors in Graph 1"
   ]
  },
  {
   "cell_type": "code",
   "execution_count": 13,
   "metadata": {},
   "outputs": [
    {
     "name": "stdout",
     "output_type": "stream",
     "text": [
      "castelobranco,cw: k=57; num of records=2256\n",
      "grando,jv: k=57; num of records=2256\n",
      "leite,alta: k=87; num of records=2757\n"
     ]
    }
   ],
   "source": [
    "for col,cnt in g1.listCollectorsNodes(data='count'):\n",
    "    print(\"{}: k={}; num of records={}\".format(col,g1.degree(col),cnt))"
   ]
  },
  {
   "cell_type": "markdown",
   "metadata": {},
   "source": [
    "* Species in Graph 1"
   ]
  },
  {
   "cell_type": "code",
   "execution_count": 14,
   "metadata": {},
   "outputs": [
    {
     "name": "stdout",
     "output_type": "stream",
     "text": [
      "Acutodesmus acuminatus: k=2; num of records=62\n",
      "Dictyosphaerium ehrenbergianum: k=2; num of records=62\n",
      "Pediastrum duplex: k=2; num of records=76\n",
      "Monoraphidium komarkovae: k=2; num of records=40\n",
      "Coelastrum microporum: k=2; num of records=36\n",
      "Trachelomonas armata: k=2; num of records=59\n",
      "Chlorella vulgaris: k=2; num of records=83\n",
      "Anabaenopsis raciborskii: k=2; num of records=91\n",
      "Desmodesmus protuberans: k=2; num of records=61\n",
      "Sphaerocystis schroeteri: k=2; num of records=80\n",
      "Microcystis aeruginosa: k=2; num of records=58\n",
      "Stauridium tetras: k=2; num of records=46\n",
      "Desmodesmus denticulatus: k=2; num of records=51\n",
      "Staurastrum subpygmaeum: k=2; num of records=79\n",
      "Jaaginema pseudogeminatum: k=2; num of records=14\n",
      "Oocystis borgei: k=2; num of records=17\n",
      "Tetmemorus laevis: k=3; num of records=101\n",
      "Staurastrum iversenii: k=2; num of records=85\n",
      "Trachelomonas volvocinopsis: k=2; num of records=75\n",
      "Peridinium volzii: k=2; num of records=49\n",
      "Staurastrum muticum: k=3; num of records=93\n",
      "Treubaria schimidlei: k=2; num of records=27\n",
      "Mucidosphaerium pulchellum: k=2; num of records=6\n",
      "Oscillatoria simplicissima: k=2; num of records=26\n",
      "Scenedesmus armatus: k=2; num of records=27\n",
      "Kirchneriella lunaris: k=2; num of records=35\n",
      "Staurodesmus cuspidatus: k=2; num of records=81\n",
      "Staurastrum tetracerum: k=2; num of records=51\n",
      "Hariotina reticulata: k=2; num of records=51\n",
      "Coelastrum pseudomicroporum: k=2; num of records=57\n",
      "Staurastrum quadrangulare: k=3; num of records=90\n",
      "Parvodinium inconspicuum: k=2; num of records=22\n",
      "Cosmarium orthostichum: k=2; num of records=52\n",
      "Ankistrodesmus gracilis: k=2; num of records=27\n",
      "Actinastrum hantzschii: k=2; num of records=7\n",
      "Micractinium bornhemiense: k=2; num of records=28\n",
      "Oocystis lacustris: k=2; num of records=44\n",
      "Kirchneriella obesa: k=2; num of records=17\n",
      "Tetraedron gracile: k=2; num of records=5\n",
      "Aphanothece nidulans: k=2; num of records=8\n",
      "Micractinium pusillum: k=2; num of records=27\n",
      "Nephrocytium schilleri: k=2; num of records=16\n",
      "Pseudanabaena articulata: k=2; num of records=15\n",
      "Micractinium appendiculatum: k=2; num of records=4\n",
      "Monoraphidium griffithii: k=2; num of records=11\n",
      "Botryococcus braunii: k=2; num of records=44\n",
      "Dimorphococcus lunatus: k=2; num of records=43\n",
      "Acutodesmus obliquus: k=2; num of records=12\n",
      "Staurastrum setigerum: k=2; num of records=42\n",
      "Westella botryoides: k=2; num of records=21\n",
      "Aphanothece saxicola: k=2; num of records=2\n",
      "Staurodesmus mucronatus: k=2; num of records=35\n",
      "Cosmarium subprotumidum: k=2; num of records=28\n",
      "Staurodesmus dickiei: k=2; num of records=17\n",
      "Oocystis pusilla: k=2; num of records=2\n",
      "Coelastrum sphaericum: k=2; num of records=3\n",
      "Tetraedron minimum: k=2; num of records=5\n",
      "Closterium toxon: k=1; num of records=13\n",
      "Staurastrum leptacanthum: k=1; num of records=59\n",
      "Micrasterias expansa: k=1; num of records=37\n",
      "Desmidium elegans: k=1; num of records=58\n",
      "Staurastrum circulus: k=1; num of records=61\n",
      "Cosmarium punctulatum: k=1; num of records=54\n",
      "Cosmarium pseudoxanthidiforme: k=1; num of records=43\n",
      "Closterium setaceum: k=1; num of records=17\n",
      "Cosmarium isthmochondrum: k=1; num of records=22\n",
      "Staurastrum boergesenii: k=1; num of records=36\n",
      "Cosmarium distortum: k=1; num of records=30\n",
      "Staurastrum columbetoides: k=1; num of records=55\n",
      "Mateola curvata: k=1; num of records=31\n",
      "Cosmarium obsoletum: k=1; num of records=20\n",
      "Cosmarium pseudopyramidatum: k=1; num of records=112\n",
      "Micrasterias laticeps: k=1; num of records=25\n",
      "Cosmarium horridum: k=1; num of records=61\n",
      "Staurodesmus triangularis: k=1; num of records=81\n",
      "Staurastrum saltans: k=1; num of records=61\n",
      "Croasdalea marthae: k=1; num of records=52\n",
      "Hyalotheca dissiliens: k=1; num of records=29\n",
      "Cosmarium furcatum: k=1; num of records=27\n",
      "Staurastrum octodontum: k=1; num of records=63\n",
      "Staurastrum brasiliense: k=1; num of records=56\n",
      "Cosmarium ordinatum: k=1; num of records=43\n",
      "Cosmarium dimaziforme: k=1; num of records=25\n",
      "Micrasterias pinnatifida: k=1; num of records=42\n",
      "Cosmarium brebissonii: k=1; num of records=54\n",
      "Spinoclosterium cuspidatum: k=1; num of records=10\n",
      "Micrasterias tetraptera: k=1; num of records=11\n",
      "Staurodesmus extensus: k=1; num of records=45\n",
      "Staurastrum penicilliferum: k=1; num of records=62\n",
      "Octacanthium mucronulatum: k=1; num of records=19\n",
      "Micrasterias arcuata: k=1; num of records=47\n",
      "Micrasterias foliacea: k=1; num of records=42\n",
      "Cosmarium patelliforme: k=1; num of records=58\n",
      "Staurodesmus wandae: k=1; num of records=110\n",
      "Staurastrum stelliferum: k=1; num of records=60\n",
      "Desmidium graciliceps: k=1; num of records=16\n",
      "Staurodesmus selenaeus: k=1; num of records=46\n",
      "Haplotaenium minutum: k=1; num of records=57\n",
      "Micrasterias furcata: k=1; num of records=24\n",
      "Xanthidium regulare: k=1; num of records=37\n",
      "Staurastrum tohopekaligense: k=1; num of records=32\n",
      "Xanthidium mamillosum: k=1; num of records=36\n",
      "Staurastrum radians: k=1; num of records=63\n",
      "Micrasterias radiosa: k=1; num of records=14\n",
      "Triploceras gracile: k=1; num of records=62\n",
      "Staurastrum tentaculiferum: k=1; num of records=36\n",
      "Staurastrum trifidum: k=1; num of records=32\n",
      "Staurastrum teliferum: k=1; num of records=58\n",
      "Hyalotheca indica: k=1; num of records=39\n",
      "Staurastrum micron: k=1; num of records=18\n",
      "Cosmarium ornatum: k=1; num of records=27\n",
      "Teilingia granulata: k=1; num of records=14\n",
      "Euastrum foersteri: k=1; num of records=18\n",
      "Staurodesmus incus: k=1; num of records=10\n",
      "Phymatodocis alternans: k=1; num of records=53\n",
      "Spondylosium pulchrum: k=1; num of records=24\n",
      "Staurastrum spiculiferum: k=1; num of records=30\n",
      "Staurastrum clevei: k=1; num of records=32\n",
      "Euastrum evolutum: k=1; num of records=8\n",
      "Closterium lineatum: k=1; num of records=12\n",
      "Euastrum pirassunungae: k=1; num of records=16\n",
      "Groenbladia undulata: k=1; num of records=13\n",
      "Bambusina borreri: k=1; num of records=35\n",
      "Spondylosium puchellum: k=1; num of records=6\n",
      "Euastrum brasiliense: k=1; num of records=8\n",
      "Ichthyocercus longispinus: k=1; num of records=19\n",
      "Cosmarium latipyramidatum: k=1; num of records=4\n",
      "Closterium porrectum: k=1; num of records=3\n",
      "Micrasterias subaequalis: k=1; num of records=10\n",
      "Euastrum gemmatum: k=1; num of records=7\n",
      "Cosmarium kostei: k=1; num of records=18\n",
      "Euastrum sublobatum: k=1; num of records=1\n",
      "Micrasterias truncata: k=1; num of records=9\n",
      "Closterium baillyanum: k=1; num of records=3\n",
      "Closterium leiblenii: k=1; num of records=5\n",
      "Closterium closteroides: k=1; num of records=6\n",
      "Micrasterias radians: k=1; num of records=2\n",
      "Micrasterias torreyi: k=1; num of records=3\n",
      "Euastrum cuspidatum: k=1; num of records=1\n",
      "Spondylosium rectangulare: k=1; num of records=6\n",
      "Staurodesmus semilunaris: k=1; num of records=3\n"
     ]
    }
   ],
   "source": [
    "for sp,cnt in g1.listSpeciesNodes(data='count'):\n",
    "    print(\"{}: k={}; num of records={}\".format(sp,g1.degree(sp),cnt))"
   ]
  },
  {
   "cell_type": "markdown",
   "metadata": {},
   "source": [
    "##### Aggregate Graph 1 on rank 'phylum'"
   ]
  },
  {
   "cell_type": "code",
   "execution_count": 15,
   "metadata": {},
   "outputs": [],
   "source": [
    "grp = dict( (ph,set(spp)) for ph,spp in occs[['species','phylum']].groupby('phylum')['species'] )\n",
    "g1_agg = g1.taxonomicAggregation(grp)"
   ]
  },
  {
   "cell_type": "markdown",
   "metadata": {},
   "source": [
    "* Species set (aggregated on rank 'phylum')"
   ]
  },
  {
   "cell_type": "code",
   "execution_count": 16,
   "metadata": {},
   "outputs": [
    {
     "name": "stdout",
     "output_type": "stream",
     "text": [
      "Phylum Charophyta: k=3; num of records=3461\n",
      "Phylum Chlorophyta: k=2; num of records=1133\n",
      "Phylum Cyanobacteria: k=2; num of records=214\n",
      "Phylum Euglenozoa: k=2; num of records=134\n",
      "Phylum Myzozoa: k=2; num of records=71\n"
     ]
    }
   ],
   "source": [
    "for sp,cnt in g1_agg.listSpeciesNodes(data='count'):\n",
    "    print(\"Phylum {}: k={}; num of records={}\".format(sp,g1_agg.degree(sp),cnt))"
   ]
  },
  {
   "cell_type": "markdown",
   "metadata": {},
   "source": [
    "* Occurrences from this component"
   ]
  },
  {
   "cell_type": "code",
   "execution_count": 17,
   "metadata": {},
   "outputs": [],
   "source": [
    "o=occs.loc[set([ i for col in g1_agg.listCollectorsNodes() for i in ni[col] ])]"
   ]
  },
  {
   "cell_type": "code",
   "execution_count": 18,
   "metadata": {},
   "outputs": [
    {
     "data": {
      "text/html": [
       "<div>\n",
       "<style>\n",
       "    .dataframe thead tr:only-child th {\n",
       "        text-align: right;\n",
       "    }\n",
       "\n",
       "    .dataframe thead th {\n",
       "        text-align: left;\n",
       "    }\n",
       "\n",
       "    .dataframe tbody tr th {\n",
       "        vertical-align: top;\n",
       "    }\n",
       "</style>\n",
       "<table border=\"1\" class=\"dataframe\">\n",
       "  <thead>\n",
       "    <tr style=\"text-align: right;\">\n",
       "      <th></th>\n",
       "      <th>rightsHolder</th>\n",
       "      <th>recordedBy</th>\n",
       "      <th>occurrenceRemarks</th>\n",
       "      <th>countryCode</th>\n",
       "      <th>stateProvince</th>\n",
       "      <th>scientificName</th>\n",
       "      <th>kingdom</th>\n",
       "      <th>phylum</th>\n",
       "      <th>class</th>\n",
       "      <th>order</th>\n",
       "      <th>family</th>\n",
       "      <th>genus</th>\n",
       "      <th>taxonRank</th>\n",
       "      <th>species</th>\n",
       "      <th>repatriated</th>\n",
       "      <th>recordedBy_atomized</th>\n",
       "    </tr>\n",
       "  </thead>\n",
       "  <tbody>\n",
       "    <tr>\n",
       "      <th>57344</th>\n",
       "      <td>UB - Herbário da Universidade de Brasília</td>\n",
       "      <td>Leite, ALTA</td>\n",
       "      <td>NaN</td>\n",
       "      <td>BR</td>\n",
       "      <td>Distrito Federal</td>\n",
       "      <td>Phymatodocis alternans Nordstedt, 1877</td>\n",
       "      <td>Plantae</td>\n",
       "      <td>Charophyta</td>\n",
       "      <td>Zygnematophyceae</td>\n",
       "      <td>Zygnematales</td>\n",
       "      <td>Desmidiaceae</td>\n",
       "      <td>Phymatodocis</td>\n",
       "      <td>SPECIES</td>\n",
       "      <td>Phymatodocis alternans</td>\n",
       "      <td>False</td>\n",
       "      <td>[Leite, ALTA]</td>\n",
       "    </tr>\n",
       "    <tr>\n",
       "      <th>57345</th>\n",
       "      <td>UB - Herbário da Universidade de Brasília</td>\n",
       "      <td>Leite, ALTA</td>\n",
       "      <td>NaN</td>\n",
       "      <td>BR</td>\n",
       "      <td>Distrito Federal</td>\n",
       "      <td>Xanthidium mammillosum var. mammillosum</td>\n",
       "      <td>Plantae</td>\n",
       "      <td>Charophyta</td>\n",
       "      <td>Zygnematophyceae</td>\n",
       "      <td>Zygnematales</td>\n",
       "      <td>Desmidiaceae</td>\n",
       "      <td>Xanthidium</td>\n",
       "      <td>VARIETY</td>\n",
       "      <td>Xanthidium mamillosum</td>\n",
       "      <td>False</td>\n",
       "      <td>[Leite, ALTA]</td>\n",
       "    </tr>\n",
       "    <tr>\n",
       "      <th>57346</th>\n",
       "      <td>UB - Herbário da Universidade de Brasília</td>\n",
       "      <td>Leite, ALTA</td>\n",
       "      <td>NaN</td>\n",
       "      <td>BR</td>\n",
       "      <td>Distrito Federal</td>\n",
       "      <td>Triploceras gracile subsp. bidentatum Nordsted...</td>\n",
       "      <td>Plantae</td>\n",
       "      <td>Charophyta</td>\n",
       "      <td>Zygnematophyceae</td>\n",
       "      <td>Zygnematales</td>\n",
       "      <td>Desmidiaceae</td>\n",
       "      <td>Triploceras</td>\n",
       "      <td>SUBSPECIES</td>\n",
       "      <td>Triploceras gracile</td>\n",
       "      <td>False</td>\n",
       "      <td>[Leite, ALTA]</td>\n",
       "    </tr>\n",
       "    <tr>\n",
       "      <th>57347</th>\n",
       "      <td>UB - Herbário da Universidade de Brasília</td>\n",
       "      <td>Leite, ALTA</td>\n",
       "      <td>NaN</td>\n",
       "      <td>BR</td>\n",
       "      <td>Distrito Federal</td>\n",
       "      <td>Staurodesmus wandae var. wandae</td>\n",
       "      <td>Plantae</td>\n",
       "      <td>Charophyta</td>\n",
       "      <td>Zygnematophyceae</td>\n",
       "      <td>Zygnematales</td>\n",
       "      <td>Desmidiaceae</td>\n",
       "      <td>Staurodesmus</td>\n",
       "      <td>VARIETY</td>\n",
       "      <td>Staurodesmus wandae</td>\n",
       "      <td>False</td>\n",
       "      <td>[Leite, ALTA]</td>\n",
       "    </tr>\n",
       "    <tr>\n",
       "      <th>57348</th>\n",
       "      <td>UB - Herbário da Universidade de Brasília</td>\n",
       "      <td>Leite, ALTA</td>\n",
       "      <td>NaN</td>\n",
       "      <td>BR</td>\n",
       "      <td>Distrito Federal</td>\n",
       "      <td>Staurastrum stelliferum var. evolutum K.Thomasson</td>\n",
       "      <td>Plantae</td>\n",
       "      <td>Charophyta</td>\n",
       "      <td>Zygnematophyceae</td>\n",
       "      <td>Zygnematales</td>\n",
       "      <td>Desmidiaceae</td>\n",
       "      <td>Staurastrum</td>\n",
       "      <td>VARIETY</td>\n",
       "      <td>Staurastrum stelliferum</td>\n",
       "      <td>False</td>\n",
       "      <td>[Leite, ALTA]</td>\n",
       "    </tr>\n",
       "  </tbody>\n",
       "</table>\n",
       "</div>"
      ],
      "text/plain": [
       "                                    rightsHolder   recordedBy  \\\n",
       "57344  UB - Herbário da Universidade de Brasília  Leite, ALTA   \n",
       "57345  UB - Herbário da Universidade de Brasília  Leite, ALTA   \n",
       "57346  UB - Herbário da Universidade de Brasília  Leite, ALTA   \n",
       "57347  UB - Herbário da Universidade de Brasília  Leite, ALTA   \n",
       "57348  UB - Herbário da Universidade de Brasília  Leite, ALTA   \n",
       "\n",
       "      occurrenceRemarks countryCode     stateProvince  \\\n",
       "57344               NaN          BR  Distrito Federal   \n",
       "57345               NaN          BR  Distrito Federal   \n",
       "57346               NaN          BR  Distrito Federal   \n",
       "57347               NaN          BR  Distrito Federal   \n",
       "57348               NaN          BR  Distrito Federal   \n",
       "\n",
       "                                          scientificName  kingdom      phylum  \\\n",
       "57344             Phymatodocis alternans Nordstedt, 1877  Plantae  Charophyta   \n",
       "57345            Xanthidium mammillosum var. mammillosum  Plantae  Charophyta   \n",
       "57346  Triploceras gracile subsp. bidentatum Nordsted...  Plantae  Charophyta   \n",
       "57347                    Staurodesmus wandae var. wandae  Plantae  Charophyta   \n",
       "57348  Staurastrum stelliferum var. evolutum K.Thomasson  Plantae  Charophyta   \n",
       "\n",
       "                  class         order        family         genus   taxonRank  \\\n",
       "57344  Zygnematophyceae  Zygnematales  Desmidiaceae  Phymatodocis     SPECIES   \n",
       "57345  Zygnematophyceae  Zygnematales  Desmidiaceae    Xanthidium     VARIETY   \n",
       "57346  Zygnematophyceae  Zygnematales  Desmidiaceae   Triploceras  SUBSPECIES   \n",
       "57347  Zygnematophyceae  Zygnematales  Desmidiaceae  Staurodesmus     VARIETY   \n",
       "57348  Zygnematophyceae  Zygnematales  Desmidiaceae   Staurastrum     VARIETY   \n",
       "\n",
       "                       species repatriated recordedBy_atomized  \n",
       "57344   Phymatodocis alternans       False       [Leite, ALTA]  \n",
       "57345    Xanthidium mamillosum       False       [Leite, ALTA]  \n",
       "57346      Triploceras gracile       False       [Leite, ALTA]  \n",
       "57347      Staurodesmus wandae       False       [Leite, ALTA]  \n",
       "57348  Staurastrum stelliferum       False       [Leite, ALTA]  "
      ]
     },
     "execution_count": 18,
     "metadata": {},
     "output_type": "execute_result"
    }
   ],
   "source": [
    "o.head()"
   ]
  },
  {
   "cell_type": "markdown",
   "metadata": {},
   "source": [
    "* All records are from Distrito Federal (BR)"
   ]
  },
  {
   "cell_type": "code",
   "execution_count": 19,
   "metadata": {},
   "outputs": [
    {
     "data": {
      "text/plain": [
       "Distrito Federal    5013\n",
       "Name: stateProvince, dtype: int64"
      ]
     },
     "execution_count": 19,
     "metadata": {},
     "output_type": "execute_result"
    }
   ],
   "source": [
    "o['stateProvince'].value_counts()"
   ]
  },
  {
   "cell_type": "markdown",
   "metadata": {},
   "source": [
    "### Graphs 1 and beyond"
   ]
  },
  {
   "cell_type": "code",
   "execution_count": 20,
   "metadata": {
    "collapsed": true
   },
   "outputs": [],
   "source": [
    "isolatedComponents = sgs[1:]\n",
    "\n",
    "collectors = [ col for g in isolatedComponents for col in g.listCollectorsNodes() ]\n",
    "species = [ sp for g in isolatedComponents for sp in g.listSpeciesNodes() ]\n",
    "\n",
    "o = occs.loc[ set( i for c in collectors for i in ni[c] ) ]"
   ]
  },
  {
   "cell_type": "code",
   "execution_count": 21,
   "metadata": {},
   "outputs": [
    {
     "data": {
      "text/plain": [
       "BR    0.929675\n",
       "US    0.021261\n",
       "AU    0.008177\n",
       "CO    0.003089\n",
       "AR    0.002362\n",
       "ZA    0.001999\n",
       "MX    0.001817\n",
       "SE    0.001454\n",
       "ZZ    0.001454\n",
       "PS    0.001454\n",
       "Name: countryCode, dtype: float64"
      ]
     },
     "execution_count": 21,
     "metadata": {},
     "output_type": "execute_result"
    }
   ],
   "source": [
    "o['countryCode'].value_counts(normalize=True)[:10]"
   ]
  },
  {
   "cell_type": "code",
   "execution_count": 22,
   "metadata": {},
   "outputs": [
    {
     "data": {
      "text/plain": [
       "5517"
      ]
     },
     "execution_count": 22,
     "metadata": {},
     "output_type": "execute_result"
    }
   ],
   "source": [
    "o.shape[0]"
   ]
  },
  {
   "cell_type": "markdown",
   "metadata": {},
   "source": [
    "### Graphs 2 and beyond"
   ]
  },
  {
   "cell_type": "code",
   "execution_count": 23,
   "metadata": {},
   "outputs": [],
   "source": [
    "isolatedComponents = sgs[2:]"
   ]
  },
  {
   "cell_type": "code",
   "execution_count": 24,
   "metadata": {},
   "outputs": [],
   "source": [
    "collectors = [ col for g in isolatedComponents for col in g.listCollectorsNodes() ]\n",
    "species = [ sp for g in isolatedComponents for sp in g.listSpeciesNodes() ]"
   ]
  },
  {
   "cell_type": "code",
   "execution_count": 25,
   "metadata": {},
   "outputs": [],
   "source": [
    "o = occs.loc[ set( i for c in collectors for i in ni[c] ) ]"
   ]
  },
  {
   "cell_type": "markdown",
   "metadata": {},
   "source": [
    "* As opposed to the giant component, only 21% of records are from Brazil. From all countries, US holds the higher percentage."
   ]
  },
  {
   "cell_type": "code",
   "execution_count": 26,
   "metadata": {},
   "outputs": [
    {
     "data": {
      "text/plain": [
       "US    0.238776\n",
       "BR    0.210204\n",
       "AU    0.091837\n",
       "CO    0.034694\n",
       "AR    0.026531\n",
       "ZA    0.022449\n",
       "MX    0.020408\n",
       "ZZ    0.016327\n",
       "SE    0.016327\n",
       "PS    0.016327\n",
       "Name: countryCode, dtype: float64"
      ]
     },
     "execution_count": 26,
     "metadata": {},
     "output_type": "execute_result"
    }
   ],
   "source": [
    "o['countryCode'].value_counts(normalize=True)[:10]"
   ]
  },
  {
   "cell_type": "code",
   "execution_count": 27,
   "metadata": {},
   "outputs": [
    {
     "data": {
      "text/plain": [
       "São Paulo              0.310680\n",
       "Rio de Janeiro         0.135922\n",
       "Minas Gerais           0.135922\n",
       "Distrito Federal       0.077670\n",
       "Bahia                  0.067961\n",
       "Rio Grande do Sul      0.048544\n",
       "Pará                   0.048544\n",
       "Amazonas               0.029126\n",
       "Paraná                 0.029126\n",
       "Roraima                0.029126\n",
       "Mato Grosso            0.019417\n",
       "Mato Grosso do Sul     0.019417\n",
       "Rio Grande do Norte    0.019417\n",
       "Rondônia               0.009709\n",
       "Espírito Santo         0.009709\n",
       "Ceará                  0.009709\n",
       "Name: stateProvince, dtype: float64"
      ]
     },
     "execution_count": 27,
     "metadata": {},
     "output_type": "execute_result"
    }
   ],
   "source": [
    "o[o['countryCode']=='BR']['stateProvince'].value_counts(normalize=True)"
   ]
  }
 ],
 "metadata": {
  "kernelspec": {
   "display_name": "Python 3",
   "language": "python",
   "name": "python3"
  },
  "language_info": {
   "codemirror_mode": {
    "name": "ipython",
    "version": 3
   },
   "file_extension": ".py",
   "mimetype": "text/x-python",
   "name": "python",
   "nbconvert_exporter": "python",
   "pygments_lexer": "ipython3",
   "version": "3.6.3"
  }
 },
 "nbformat": 4,
 "nbformat_minor": 2
}
