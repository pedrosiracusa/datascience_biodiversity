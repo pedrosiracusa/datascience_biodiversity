{
 "cells": [
  {
   "cell_type": "markdown",
   "metadata": {},
   "source": [
    "# The NamesMap class"
   ]
  },
  {
   "cell_type": "code",
   "execution_count": 1,
   "metadata": {},
   "outputs": [],
   "source": [
    "import json\n",
    "from collections import Counter\n",
    "from copy import deepcopy\n",
    "from warnings import warn\n",
    "\n",
    "class NamesMap:\n",
    "    \"\"\"\n",
    "    The class which describes NamesMap objects. Names maps store both name primitives and normalized \n",
    "    names. Primitives are the \"original names\", as they're given as input to the class constructor. \n",
    "    When the class is instanced each name primitive is mapped to its normalized form through a\n",
    "    normalization function. Normalized maps can then be remapped to other names by following a \n",
    "    remapping index.\n",
    "    \"\"\"\n",
    "    \n",
    "    def __init__(self, names, normalizationFunc, remappingIndex=None, *args, **kwargs):\n",
    "        \"\"\"\n",
    "        The NamesMap constructor\n",
    "        \n",
    "        Parameters\n",
    "        ----------\n",
    "        names : list\n",
    "            A list with names to be normalized\n",
    "        \n",
    "        normalizationFunc : function\n",
    "            A function or expression for names normalization\n",
    "            \n",
    "        remappingIndex : dict\n",
    "            A dictionary with mapped names to initialize the instance's remapping index\n",
    "        \"\"\"\n",
    "        self._normalizationFunc = normalizationFunc\n",
    "        \n",
    "        load_map_prim_norm = kwargs.get('_map_prim_norm',None)\n",
    "        load_remappingIndex = kwargs.get('_remappingIndex',None)\n",
    "        \n",
    "        normNamesDict = lambda nlst: dict( (n,self._normalizationFunc(n)) for n in nlst )\n",
    "        self._map_prim_norm = normNamesDict(names) if load_map_prim_norm is None else load_map_prim_norm \n",
    "        self._remappingIndex = remappingIndex if load_remappingIndex is None else load_remappingIndex\n",
    "    \n",
    "\n",
    "    def _getRef(self,n):\n",
    "        \"\"\"\n",
    "        Follows all chained references for a name in the remapping index\n",
    "        \n",
    "        Parameters\n",
    "        ----------\n",
    "        n : str\n",
    "            The name to be de-referenced\n",
    "        \"\"\"\n",
    "        start=n\n",
    "        chain=[]\n",
    "        remappingKeys = self._remappingIndex.keys()\n",
    "        while n in remappingKeys:\n",
    "            chain.append(n)\n",
    "            n = self._remappingIndex[n]\n",
    "            if n in chain:\n",
    "                chain.append(n)\n",
    "                raise RuntimeError(\"Loopback detected\", start, chain)\n",
    "        return n\n",
    "    \n",
    "    \n",
    "    def _get_loopback_inconsistencies(self):\n",
    "        \"\"\"\n",
    "        Detects loopbacks in in mapping chains\n",
    "        \"\"\"\n",
    "        inconsistencies = {}\n",
    "        for k in self._remappingIndex.keys():\n",
    "            try:\n",
    "                self._getRef(k)\n",
    "                \n",
    "            except RuntimeError as e:\n",
    "                inconsistencies['mes'] = inconsistencies.get('mes',[]) + [e.args[0]]\n",
    "                inconsistencies['key'] = inconsistencies.get('key',[]) + [e.args[1]]\n",
    "                inconsistencies['chain'] = inconsistencies.get('chain',[]) + [e.args[2]]\n",
    "        \n",
    "        if len(inconsistencies)==0:\n",
    "            return None\n",
    "        else:\n",
    "            return inconsistencies\n",
    "    \n",
    "    \n",
    "    def _remove_selfloops(self):\n",
    "        keys_to_remove = [ k for k in self._remappingIndex.keys() if k==self._remappingIndex[k]]       \n",
    "        for k in keys_to_remove:\n",
    "            self._remappingIndex.pop(k)\n",
    "                  \n",
    "            \n",
    "    def getInconsistencies(self, prettyPrint=True):\n",
    "        d = {}\n",
    "        d['loopback_inconsistencies'] = self._get_loopback_inconsistencies()\n",
    "        \n",
    "        if any( True if v is not None else False for v in d.values()  ):\n",
    "            if prettyPrint:\n",
    "                mes = \"INCONSISTENCIES\\n===============\\n\"\n",
    "\n",
    "                # loopback inconsistencies\n",
    "                if d['loopback_inconsistencies'] is not None:\n",
    "                    mes += \"Loopback Inconsistencies\\n\"\n",
    "                    data = list(zip( *d['loopback_inconsistencies'].values() ))\n",
    "                    dataStr = lambda t: \"  > {}: Starting from key '{}' got chain {}\\n\".format(*t)\n",
    "                    mes += ''.join( dataStr(t) for t in data )\n",
    "                    mes += '---------------'\n",
    "\n",
    "                return mes\n",
    "            \n",
    "            return d\n",
    "        \n",
    "        return None\n",
    "                \n",
    "        \n",
    "    def getMap(self, remap=True):\n",
    "        \"\"\"\n",
    "        Returns a COPY of the names map.\n",
    "        \n",
    "        Parameters\n",
    "        ----------\n",
    "        remap : bool, default True\n",
    "            If set to True, the names map is buit by first de-referencing\n",
    "            remaps in the remapping index. Otherwise all remaps will not\n",
    "            be considered for building the names map.\n",
    "        \"\"\"\n",
    "        res = deepcopy(self._map_prim_norm)\n",
    "        if remap and self._remappingIndex is not None:\n",
    "            for s,t in self._map_prim_norm.items():\n",
    "                try:\n",
    "                    res[s] = self._getRef(t)\n",
    "                except RuntimeError as e:\n",
    "                    raise(e)\n",
    "        return res\n",
    "\n",
    "    \n",
    "    def remap(self, remaps, fromScratch=False):\n",
    "        \"\"\"\n",
    "        Updates the remapping dictionary using a list of tuples as input.\n",
    "        \n",
    "        Parameters\n",
    "        ----------\n",
    "        remaps : list of tuples\n",
    "            Remaps values from tuples (s,t), where a normalized name s remaps to a\n",
    "            normalized name t.\n",
    "        \n",
    "        fromScratch : bool\n",
    "            If set to True the remapping dict becomes the one passed in. All other previous\n",
    "            remaps are discarded.\n",
    "            \n",
    "        Note\n",
    "        ----\n",
    "        If the list of tuples passed in contains duplicated keys a warning is issued, and the\n",
    "        latest (key,value) pair is the one which will persist.\n",
    "        \"\"\"        \n",
    "        # check for duplicated keys\n",
    "        duplicatedKeys = [ s for s,cnts in Counter( s for s,t in remaps ).items() if cnts>1 ]\n",
    "        if len(duplicatedKeys)>0: \n",
    "            warningMsg = \"Some keys from input are duplicated: {}.\".format(str(duplicatedKeys))\n",
    "            warn(warningMsg)\n",
    "        \n",
    "        # update remapping index\n",
    "        if fromScratch: self._remappingIndex=None\n",
    "        if self._remappingIndex is None: self._remappingIndex={}\n",
    "        \n",
    "        for s,t in remaps:\n",
    "            self._remappingIndex[s] = t\n",
    "        \n",
    "        self._remove_selfloops()\n",
    "        return self.getInconsistencies()\n",
    "    \n",
    "    \n",
    "    def setEndpoint(self, key):\n",
    "        \"\"\"\n",
    "        This method sets a name as the endpoint of a chain. This method is used for resolving loopbacks\n",
    "        in the remapping chain. The name is set to be the latest reference in the chain, and therefore\n",
    "        does not map to any other name.\n",
    "        \n",
    "        Parameter\n",
    "        ---------\n",
    "        key : str\n",
    "            The name to be set as the latest reference.\n",
    "        \"\"\"\n",
    "        return self._remappingIndex.pop(key)\n",
    "    \n",
    "    \n",
    "    def write_toJson(self, filename, flatten=False):\n",
    "        \"\"\"\n",
    "        Creates a json file to store a NamesMap's primitive-to-normalized names map and remapping index.\n",
    "        Data is stored as json object arguments `_map_prim_norm` and `_remappingIndex`.\n",
    "        \n",
    "        Parameters\n",
    "        ----------\n",
    "        filename : str\n",
    "            Path to the file to be created.\n",
    "        \n",
    "        flatten : bool, default False\n",
    "            If set to true, all remappings are consolidated into the `_map_prim_norm` map. In other words,\n",
    "            the remapping index is used to assign each name primitive to its final reference. All references\n",
    "            are then removed from the remapping index.\n",
    "        \n",
    "        \"\"\"\n",
    "        json_dict = dict([ ('_map_prim_norm', self.getMap() if flatten else self._map_prim_norm),\n",
    "                           ('_remappingIndex', {} if flatten else self._remappingIndex) ])\n",
    "        \n",
    "        with open(filename, 'w') as output_file:\n",
    "            json.dump( json_dict, output_file, sort_keys=True, indent=4, ensure_ascii=False)\n",
    "            \n",
    "\n",
    "            \n",
    "def read_NamesMap_fromJson(filepath, normalizationFunc=None):\n",
    "    \"\"\"\n",
    "    Creates a NamesMap instance from a json file containing both a primitive-to-normalized names map\n",
    "    and a remapping index. The json object must have both attributes `map_prim_norm` and \n",
    "    `_remappingIndex`, which stores data used to instance NamesMap class.\n",
    "    \n",
    "    Parameters\n",
    "    ----------\n",
    "    filepath : str\n",
    "        Path to the json file containing the map\n",
    "        \n",
    "    normalizationFunc : function\n",
    "        A normalization function to be passed to the NamesMap constructor. If it is \n",
    "        not set a warning is issued, as the NamesMap will not be assigned to any\n",
    "        normalization rule.\n",
    "    \"\"\"\n",
    "    if normalizationFunc is None:\n",
    "        warn(\"A names map was created without a normalization function!\")\n",
    "        \n",
    "    with open(filepath,'r') as f:\n",
    "        d = json.load(f)\n",
    "        nm = NamesMap( names=None, normalizationFunc=normalizationFunc, \n",
    "                       _map_prim_norm=d['_map_prim_norm'], \n",
    "                       _remappingIndex=d['_remappingIndex'])\n",
    "    \n",
    "    return nm\n",
    "    \n",
    "    "
   ]
  },
  {
   "cell_type": "markdown",
   "metadata": {},
   "source": [
    "---"
   ]
  },
  {
   "cell_type": "markdown",
   "metadata": {},
   "source": [
    "## Examples"
   ]
  },
  {
   "cell_type": "markdown",
   "metadata": {},
   "source": [
    "### Creating a NamesMap instance"
   ]
  },
  {
   "cell_type": "markdown",
   "metadata": {},
   "source": [
    "First define a list with names and a normalization function"
   ]
  },
  {
   "cell_type": "code",
   "execution_count": 2,
   "metadata": {
    "collapsed": true
   },
   "outputs": [],
   "source": [
    "# list with names\n",
    "names = ['F.G. Alis', 'F. Alis', \n",
    "         'Mendonza', 'M.C. Mendonza', 'M.Mendonça', 'P.M.C. Mendonça',\n",
    "         'J.C. Junior', 'C. Júnior', 'C. Junio','J.Junio', 'J.Junior', \n",
    "         'Clara', \n",
    "         'Pedro']\n",
    "\n",
    "# normalization function\n",
    "import unicodedata, string\n",
    "from modules.cleaning.names import namesFromString\n",
    "def normalize(name):\n",
    "    name = name.lower()\n",
    "    name = [ s for s in (s.strip() for s in name.split('.')) if s!=''] # split names\n",
    "    initials = [ p for p in name if len(p)==1 ]\n",
    "    non_initials = list(filter(lambda x: x not in initials, name))\n",
    "  \n",
    "    non_initials_str = '-'.join(non_initials)\n",
    "    remove_accents = lambda s: ''.join( x for x in unicodedata.normalize('NFKD', s) if x in string.ascii_letters )\n",
    "    non_initials_str = '-'.join( remove_accents(n) for n in namesFromString(non_initials_str, delim=[' ','-']) )\n",
    "\n",
    "    return ''.join(initials)+\"_\"+non_initials_str "
   ]
  },
  {
   "cell_type": "markdown",
   "metadata": {},
   "source": [
    "Now create a `NamesMap` instance"
   ]
  },
  {
   "cell_type": "code",
   "execution_count": 3,
   "metadata": {},
   "outputs": [
    {
     "data": {
      "text/plain": [
       "{'C. Junio': 'c_junio',\n",
       " 'C. Júnior': 'c_junior',\n",
       " 'Clara': '_clara',\n",
       " 'F. Alis': 'f_alis',\n",
       " 'F.G. Alis': 'fg_alis',\n",
       " 'J.C. Junior': 'jc_junior',\n",
       " 'J.Junio': 'j_junio',\n",
       " 'J.Junior': 'j_junior',\n",
       " 'M.C. Mendonza': 'mc_mendonza',\n",
       " 'M.Mendonça': 'm_mendonca',\n",
       " 'Mendonza': '_mendonza',\n",
       " 'P.M.C. Mendonça': 'pmc_mendonca',\n",
       " 'Pedro': '_pedro'}"
      ]
     },
     "execution_count": 3,
     "metadata": {},
     "output_type": "execute_result"
    }
   ],
   "source": [
    "nm = NamesMap(names,normalize)\n",
    "nm.getMap()"
   ]
  },
  {
   "cell_type": "markdown",
   "metadata": {},
   "source": [
    "### Remapping"
   ]
  },
  {
   "cell_type": "markdown",
   "metadata": {},
   "source": [
    "We can pass names to be remapped as tuples (s,t), where s is remapped to t. Notice that we only specify **normalized names** to be remapped."
   ]
  },
  {
   "cell_type": "code",
   "execution_count": 4,
   "metadata": {},
   "outputs": [
    {
     "data": {
      "text/plain": [
       "{'c_junio': 'c_junior', 'f_alis': 'fg_alis', 'j_junio': 'j_junior'}"
      ]
     },
     "execution_count": 4,
     "metadata": {},
     "output_type": "execute_result"
    }
   ],
   "source": [
    "nm.remap([ ('f_alis','fg_alis'), ('j_junio', 'j_junior'), ('c_junio','c_junior') ])\n",
    "nm._remappingIndex"
   ]
  },
  {
   "cell_type": "markdown",
   "metadata": {},
   "source": [
    "And now we can check the map and verify that the name primitive of `'f_alis'` (`'F. Alis'`) is now remapped to the same primitive as `'fg_alis'` (`'F.G. Alis'`). Although we specify normalized names to be remapped the remapping dict remaps **name primitives** under the hood."
   ]
  },
  {
   "cell_type": "code",
   "execution_count": 5,
   "metadata": {},
   "outputs": [
    {
     "data": {
      "text/plain": [
       "{'C. Junio': 'c_junior',\n",
       " 'C. Júnior': 'c_junior',\n",
       " 'Clara': '_clara',\n",
       " 'F. Alis': 'fg_alis',\n",
       " 'F.G. Alis': 'fg_alis',\n",
       " 'J.C. Junior': 'jc_junior',\n",
       " 'J.Junio': 'j_junior',\n",
       " 'J.Junior': 'j_junior',\n",
       " 'M.C. Mendonza': 'mc_mendonza',\n",
       " 'M.Mendonça': 'm_mendonca',\n",
       " 'Mendonza': '_mendonza',\n",
       " 'P.M.C. Mendonça': 'pmc_mendonca',\n",
       " 'Pedro': '_pedro'}"
      ]
     },
     "execution_count": 5,
     "metadata": {},
     "output_type": "execute_result"
    }
   ],
   "source": [
    "nm.getMap()"
   ]
  },
  {
   "cell_type": "markdown",
   "metadata": {},
   "source": [
    "Let's remap one more name. Notice that this time two names mapped to `'c_junior'`, and therefore there will be two updates."
   ]
  },
  {
   "cell_type": "code",
   "execution_count": 6,
   "metadata": {
    "collapsed": true
   },
   "outputs": [],
   "source": [
    "nm.remap([('c_junior','jc_junior')])"
   ]
  },
  {
   "cell_type": "code",
   "execution_count": 7,
   "metadata": {},
   "outputs": [
    {
     "data": {
      "text/plain": [
       "{'C. Junio': 'jc_junior',\n",
       " 'C. Júnior': 'jc_junior',\n",
       " 'Clara': '_clara',\n",
       " 'F. Alis': 'fg_alis',\n",
       " 'F.G. Alis': 'fg_alis',\n",
       " 'J.C. Junior': 'jc_junior',\n",
       " 'J.Junio': 'j_junior',\n",
       " 'J.Junior': 'j_junior',\n",
       " 'M.C. Mendonza': 'mc_mendonza',\n",
       " 'M.Mendonça': 'm_mendonca',\n",
       " 'Mendonza': '_mendonza',\n",
       " 'P.M.C. Mendonça': 'pmc_mendonca',\n",
       " 'Pedro': '_pedro'}"
      ]
     },
     "execution_count": 7,
     "metadata": {},
     "output_type": "execute_result"
    }
   ],
   "source": [
    "nm.getMap()"
   ]
  },
  {
   "cell_type": "markdown",
   "metadata": {},
   "source": [
    "What if we wanted to rename a normalized name to a non-existant name, for example `'ne'`? For that we can simply remap to the new desired name:"
   ]
  },
  {
   "cell_type": "code",
   "execution_count": 8,
   "metadata": {
    "scrolled": true
   },
   "outputs": [],
   "source": [
    "nm.remap([('j_junior','ne')])"
   ]
  },
  {
   "cell_type": "code",
   "execution_count": 9,
   "metadata": {},
   "outputs": [
    {
     "data": {
      "text/plain": [
       "{'C. Junio': 'jc_junior',\n",
       " 'C. Júnior': 'jc_junior',\n",
       " 'Clara': '_clara',\n",
       " 'F. Alis': 'fg_alis',\n",
       " 'F.G. Alis': 'fg_alis',\n",
       " 'J.C. Junior': 'jc_junior',\n",
       " 'J.Junio': 'ne',\n",
       " 'J.Junior': 'ne',\n",
       " 'M.C. Mendonza': 'mc_mendonza',\n",
       " 'M.Mendonça': 'm_mendonca',\n",
       " 'Mendonza': '_mendonza',\n",
       " 'P.M.C. Mendonça': 'pmc_mendonca',\n",
       " 'Pedro': '_pedro'}"
      ]
     },
     "execution_count": 9,
     "metadata": {},
     "output_type": "execute_result"
    }
   ],
   "source": [
    "nm.getMap()"
   ]
  },
  {
   "cell_type": "markdown",
   "metadata": {},
   "source": [
    "Now let's fix this and remap those names mismapped to `'ne'` to their correct version (`'jc_junior'`): "
   ]
  },
  {
   "cell_type": "code",
   "execution_count": 10,
   "metadata": {},
   "outputs": [],
   "source": [
    "nm.remap([('ne','jc_junior')])"
   ]
  },
  {
   "cell_type": "code",
   "execution_count": 11,
   "metadata": {},
   "outputs": [
    {
     "data": {
      "text/plain": [
       "{'C. Junio': 'jc_junior',\n",
       " 'C. Júnior': 'jc_junior',\n",
       " 'Clara': '_clara',\n",
       " 'F. Alis': 'fg_alis',\n",
       " 'F.G. Alis': 'fg_alis',\n",
       " 'J.C. Junior': 'jc_junior',\n",
       " 'J.Junio': 'jc_junior',\n",
       " 'J.Junior': 'jc_junior',\n",
       " 'M.C. Mendonza': 'mc_mendonza',\n",
       " 'M.Mendonça': 'm_mendonca',\n",
       " 'Mendonza': '_mendonza',\n",
       " 'P.M.C. Mendonça': 'pmc_mendonca',\n",
       " 'Pedro': '_pedro'}"
      ]
     },
     "execution_count": 11,
     "metadata": {},
     "output_type": "execute_result"
    }
   ],
   "source": [
    "nm.getMap()"
   ]
  },
  {
   "cell_type": "markdown",
   "metadata": {},
   "source": [
    "If we wanted to update the remapping dict using repeated keys in the same operation that would throw a warning. Only the latest mapping using that key persists."
   ]
  },
  {
   "cell_type": "code",
   "execution_count": 12,
   "metadata": {},
   "outputs": [
    {
     "name": "stderr",
     "output_type": "stream",
     "text": [
      "/home/pedro/anaconda3/lib/python3.6/site-packages/ipykernel_launcher.py:154: UserWarning: Some keys from input are duplicated: ['_mendonza'].\n"
     ]
    }
   ],
   "source": [
    "nm.remap([('_mendonza','mc_mendonza'),('_mendonza', 'm_mendonca')])"
   ]
  },
  {
   "cell_type": "code",
   "execution_count": 13,
   "metadata": {},
   "outputs": [
    {
     "data": {
      "text/plain": [
       "{'_mendonza': 'm_mendonca',\n",
       " 'c_junio': 'c_junior',\n",
       " 'c_junior': 'jc_junior',\n",
       " 'f_alis': 'fg_alis',\n",
       " 'j_junio': 'j_junior',\n",
       " 'j_junior': 'ne',\n",
       " 'ne': 'jc_junior'}"
      ]
     },
     "execution_count": 13,
     "metadata": {},
     "output_type": "execute_result"
    }
   ],
   "source": [
    "nm._remappingIndex"
   ]
  },
  {
   "cell_type": "markdown",
   "metadata": {},
   "source": [
    "### Inconsistencies"
   ]
  },
  {
   "cell_type": "markdown",
   "metadata": {},
   "source": [
    "#### Loopbacks"
   ]
  },
  {
   "cell_type": "markdown",
   "metadata": {},
   "source": [
    "The simplest possible loopback is the case where `n1` remaps to `n2` and `n2` remaps to `n1`. If loopbacks are formed after a remapping operation they are reported to the user:"
   ]
  },
  {
   "cell_type": "code",
   "execution_count": 14,
   "metadata": {},
   "outputs": [
    {
     "name": "stdout",
     "output_type": "stream",
     "text": [
      "INCONSISTENCIES\n",
      "===============\n",
      "Loopback Inconsistencies\n",
      "  > Loopback detected: Starting from key 'j_junio' got chain ['j_junio', 'j_junior', 'c_junior', 'j_junior']\n",
      "  > Loopback detected: Starting from key 'c_junio' got chain ['c_junio', 'c_junior', 'j_junior', 'c_junior']\n",
      "  > Loopback detected: Starting from key 'c_junior' got chain ['c_junior', 'j_junior', 'c_junior']\n",
      "  > Loopback detected: Starting from key 'j_junior' got chain ['j_junior', 'c_junior', 'j_junior']\n",
      "---------------\n"
     ]
    }
   ],
   "source": [
    "print(nm.remap([('j_junior','c_junior'),('c_junior','j_junior')]))"
   ]
  },
  {
   "cell_type": "markdown",
   "metadata": {},
   "source": [
    "An exception is thrown if we call the `getMap()` method while there's a loopback inconsistency:"
   ]
  },
  {
   "cell_type": "code",
   "execution_count": 15,
   "metadata": {},
   "outputs": [
    {
     "name": "stdout",
     "output_type": "stream",
     "text": [
      "Loopback detected : key c_junior in ['c_junior', 'j_junior', 'c_junior']\n"
     ]
    }
   ],
   "source": [
    "try:\n",
    "    nm.getMap()\n",
    "except RuntimeError as e:\n",
    "    print(e.args[0], \": key {} in {}\".format(e.args[1],e.args[2]))"
   ]
  },
  {
   "cell_type": "markdown",
   "metadata": {},
   "source": [
    "and we must resolve this issue by setting one of the names as the endpoint of the loopback chain:"
   ]
  },
  {
   "cell_type": "code",
   "execution_count": 16,
   "metadata": {},
   "outputs": [
    {
     "name": "stdout",
     "output_type": "stream",
     "text": [
      "None\n"
     ]
    }
   ],
   "source": [
    "nm.setEndpoint('j_junior')\n",
    "print(nm.getInconsistencies())"
   ]
  },
  {
   "cell_type": "markdown",
   "metadata": {},
   "source": [
    "And now we can retrieve the map:"
   ]
  },
  {
   "cell_type": "code",
   "execution_count": 17,
   "metadata": {},
   "outputs": [
    {
     "data": {
      "text/plain": [
       "{'C. Junio': 'j_junior',\n",
       " 'C. Júnior': 'j_junior',\n",
       " 'Clara': '_clara',\n",
       " 'F. Alis': 'fg_alis',\n",
       " 'F.G. Alis': 'fg_alis',\n",
       " 'J.C. Junior': 'jc_junior',\n",
       " 'J.Junio': 'j_junior',\n",
       " 'J.Junior': 'j_junior',\n",
       " 'M.C. Mendonza': 'mc_mendonza',\n",
       " 'M.Mendonça': 'm_mendonca',\n",
       " 'Mendonza': 'm_mendonca',\n",
       " 'P.M.C. Mendonça': 'pmc_mendonca',\n",
       " 'Pedro': '_pedro'}"
      ]
     },
     "execution_count": 17,
     "metadata": {},
     "output_type": "execute_result"
    }
   ],
   "source": [
    "nm.getMap()"
   ]
  },
  {
   "cell_type": "markdown",
   "metadata": {},
   "source": [
    "There may be **transitive loopbacks**, in which the looping chain is composed by more than two elements. Consider, for example, remapping `'c_junior' -> 'j_junior' -> 'jc_junior' -> 'c_junior'`"
   ]
  },
  {
   "cell_type": "code",
   "execution_count": 18,
   "metadata": {},
   "outputs": [
    {
     "name": "stdout",
     "output_type": "stream",
     "text": [
      "INCONSISTENCIES\n",
      "===============\n",
      "Loopback Inconsistencies\n",
      "  > Loopback detected: Starting from key 'j_junio' got chain ['j_junio', 'j_junior', 'jc_junior', 'c_junior', 'j_junior']\n",
      "  > Loopback detected: Starting from key 'c_junio' got chain ['c_junio', 'c_junior', 'j_junior', 'jc_junior', 'c_junior']\n",
      "  > Loopback detected: Starting from key 'c_junior' got chain ['c_junior', 'j_junior', 'jc_junior', 'c_junior']\n",
      "  > Loopback detected: Starting from key 'ne' got chain ['ne', 'jc_junior', 'c_junior', 'j_junior', 'jc_junior']\n",
      "  > Loopback detected: Starting from key 'j_junior' got chain ['j_junior', 'jc_junior', 'c_junior', 'j_junior']\n",
      "  > Loopback detected: Starting from key 'jc_junior' got chain ['jc_junior', 'c_junior', 'j_junior', 'jc_junior']\n",
      "---------------\n"
     ]
    }
   ],
   "source": [
    "print(nm.remap([('c_junior','j_junior'),('j_junior', 'jc_junior'),('jc_junior', 'c_junior')]))"
   ]
  },
  {
   "cell_type": "markdown",
   "metadata": {},
   "source": [
    "#### Inconsistencies to a dataframe"
   ]
  },
  {
   "cell_type": "markdown",
   "metadata": {},
   "source": [
    "From an inconsistencies report the user can also build a data frame, for cleaner visualization:"
   ]
  },
  {
   "cell_type": "code",
   "execution_count": 19,
   "metadata": {},
   "outputs": [
    {
     "data": {
      "text/html": [
       "<div>\n",
       "<style>\n",
       "    .dataframe thead tr:only-child th {\n",
       "        text-align: right;\n",
       "    }\n",
       "\n",
       "    .dataframe thead th {\n",
       "        text-align: left;\n",
       "    }\n",
       "\n",
       "    .dataframe tbody tr th {\n",
       "        vertical-align: top;\n",
       "    }\n",
       "</style>\n",
       "<table border=\"1\" class=\"dataframe\">\n",
       "  <thead>\n",
       "    <tr style=\"text-align: right;\">\n",
       "      <th></th>\n",
       "      <th>chain</th>\n",
       "      <th>key</th>\n",
       "      <th>mes</th>\n",
       "    </tr>\n",
       "  </thead>\n",
       "  <tbody>\n",
       "    <tr>\n",
       "      <th>0</th>\n",
       "      <td>[j_junio, j_junior, jc_junior, c_junior, j_jun...</td>\n",
       "      <td>j_junio</td>\n",
       "      <td>Loopback detected</td>\n",
       "    </tr>\n",
       "    <tr>\n",
       "      <th>1</th>\n",
       "      <td>[c_junio, c_junior, j_junior, jc_junior, c_jun...</td>\n",
       "      <td>c_junio</td>\n",
       "      <td>Loopback detected</td>\n",
       "    </tr>\n",
       "    <tr>\n",
       "      <th>2</th>\n",
       "      <td>[c_junior, j_junior, jc_junior, c_junior]</td>\n",
       "      <td>c_junior</td>\n",
       "      <td>Loopback detected</td>\n",
       "    </tr>\n",
       "    <tr>\n",
       "      <th>3</th>\n",
       "      <td>[ne, jc_junior, c_junior, j_junior, jc_junior]</td>\n",
       "      <td>ne</td>\n",
       "      <td>Loopback detected</td>\n",
       "    </tr>\n",
       "    <tr>\n",
       "      <th>4</th>\n",
       "      <td>[j_junior, jc_junior, c_junior, j_junior]</td>\n",
       "      <td>j_junior</td>\n",
       "      <td>Loopback detected</td>\n",
       "    </tr>\n",
       "    <tr>\n",
       "      <th>5</th>\n",
       "      <td>[jc_junior, c_junior, j_junior, jc_junior]</td>\n",
       "      <td>jc_junior</td>\n",
       "      <td>Loopback detected</td>\n",
       "    </tr>\n",
       "  </tbody>\n",
       "</table>\n",
       "</div>"
      ],
      "text/plain": [
       "                                               chain        key  \\\n",
       "0  [j_junio, j_junior, jc_junior, c_junior, j_jun...    j_junio   \n",
       "1  [c_junio, c_junior, j_junior, jc_junior, c_jun...    c_junio   \n",
       "2          [c_junior, j_junior, jc_junior, c_junior]   c_junior   \n",
       "3     [ne, jc_junior, c_junior, j_junior, jc_junior]         ne   \n",
       "4          [j_junior, jc_junior, c_junior, j_junior]   j_junior   \n",
       "5         [jc_junior, c_junior, j_junior, jc_junior]  jc_junior   \n",
       "\n",
       "                 mes  \n",
       "0  Loopback detected  \n",
       "1  Loopback detected  \n",
       "2  Loopback detected  \n",
       "3  Loopback detected  \n",
       "4  Loopback detected  \n",
       "5  Loopback detected  "
      ]
     },
     "execution_count": 19,
     "metadata": {},
     "output_type": "execute_result"
    }
   ],
   "source": [
    "import pandas as pd\n",
    "\n",
    "loopback_incs = nm.getInconsistencies(prettyPrint=False)['loopback_inconsistencies']\n",
    "pd.DataFrame(loopback_incs)"
   ]
  },
  {
   "cell_type": "markdown",
   "metadata": {},
   "source": [
    "Let's now set `'jc_junior'` as the ending point and verify that the inconsistency is resolved."
   ]
  },
  {
   "cell_type": "code",
   "execution_count": 20,
   "metadata": {},
   "outputs": [
    {
     "name": "stdout",
     "output_type": "stream",
     "text": [
      "None\n"
     ]
    }
   ],
   "source": [
    "nm.setEndpoint('jc_junior')\n",
    "print(nm.getInconsistencies())"
   ]
  },
  {
   "cell_type": "code",
   "execution_count": 21,
   "metadata": {},
   "outputs": [
    {
     "data": {
      "text/plain": [
       "{'C. Junio': 'jc_junior',\n",
       " 'C. Júnior': 'jc_junior',\n",
       " 'Clara': '_clara',\n",
       " 'F. Alis': 'fg_alis',\n",
       " 'F.G. Alis': 'fg_alis',\n",
       " 'J.C. Junior': 'jc_junior',\n",
       " 'J.Junio': 'jc_junior',\n",
       " 'J.Junior': 'jc_junior',\n",
       " 'M.C. Mendonza': 'mc_mendonza',\n",
       " 'M.Mendonça': 'm_mendonca',\n",
       " 'Mendonza': 'm_mendonca',\n",
       " 'P.M.C. Mendonça': 'pmc_mendonca',\n",
       " 'Pedro': '_pedro'}"
      ]
     },
     "execution_count": 21,
     "metadata": {},
     "output_type": "execute_result"
    }
   ],
   "source": [
    "nm.getMap()"
   ]
  },
  {
   "cell_type": "markdown",
   "metadata": {},
   "source": [
    "---"
   ]
  },
  {
   "cell_type": "markdown",
   "metadata": {},
   "source": [
    "### Writing names map to JSON"
   ]
  },
  {
   "cell_type": "markdown",
   "metadata": {},
   "source": [
    "We can save a names map in a json file"
   ]
  },
  {
   "cell_type": "code",
   "execution_count": 22,
   "metadata": {
    "collapsed": true
   },
   "outputs": [],
   "source": [
    "nm.write_toJson('testNamesMap.json')"
   ]
  },
  {
   "cell_type": "code",
   "execution_count": 23,
   "metadata": {},
   "outputs": [
    {
     "name": "stdout",
     "output_type": "stream",
     "text": [
      "{\n",
      "    \"_map_prim_norm\": {\n",
      "        \"C. Junio\": \"c_junio\",\n",
      "        \"C. Júnior\": \"c_junior\",\n",
      "        \"Clara\": \"_clara\",\n",
      "        \"F. Alis\": \"f_alis\",\n",
      "        \"F.G. Alis\": \"fg_alis\",\n",
      "        \"J.C. Junior\": \"jc_junior\",\n",
      "        \"J.Junio\": \"j_junio\",\n",
      "        \"J.Junior\": \"j_junior\",\n",
      "        \"M.C. Mendonza\": \"mc_mendonza\",\n",
      "        \"M.Mendonça\": \"m_mendonca\",\n",
      "        \"Mendonza\": \"_mendonza\",\n",
      "        \"P.M.C. Mendonça\": \"pmc_mendonca\",\n",
      "        \"Pedro\": \"_pedro\"\n",
      "    },\n",
      "    \"_remappingIndex\": {\n",
      "        \"_mendonza\": \"m_mendonca\",\n",
      "        \"c_junio\": \"c_junior\",\n",
      "        \"c_junior\": \"j_junior\",\n",
      "        \"f_alis\": \"fg_alis\",\n",
      "        \"j_junio\": \"j_junior\",\n",
      "        \"j_junior\": \"jc_junior\",\n",
      "        \"ne\": \"jc_junior\"\n",
      "    }\n",
      "}"
     ]
    }
   ],
   "source": [
    "%%bash \n",
    "cat testNamesMap.json"
   ]
  },
  {
   "cell_type": "code",
   "execution_count": 24,
   "metadata": {
    "collapsed": true
   },
   "outputs": [],
   "source": [
    "nm.write_toJson('testNamesMap_flattened.json', flatten=True)"
   ]
  },
  {
   "cell_type": "code",
   "execution_count": 25,
   "metadata": {},
   "outputs": [
    {
     "name": "stdout",
     "output_type": "stream",
     "text": [
      "{\n",
      "    \"_map_prim_norm\": {\n",
      "        \"C. Junio\": \"jc_junior\",\n",
      "        \"C. Júnior\": \"jc_junior\",\n",
      "        \"Clara\": \"_clara\",\n",
      "        \"F. Alis\": \"fg_alis\",\n",
      "        \"F.G. Alis\": \"fg_alis\",\n",
      "        \"J.C. Junior\": \"jc_junior\",\n",
      "        \"J.Junio\": \"jc_junior\",\n",
      "        \"J.Junior\": \"jc_junior\",\n",
      "        \"M.C. Mendonza\": \"mc_mendonza\",\n",
      "        \"M.Mendonça\": \"m_mendonca\",\n",
      "        \"Mendonza\": \"m_mendonca\",\n",
      "        \"P.M.C. Mendonça\": \"pmc_mendonca\",\n",
      "        \"Pedro\": \"_pedro\"\n",
      "    },\n",
      "    \"_remappingIndex\": {}\n",
      "}"
     ]
    }
   ],
   "source": [
    "%%bash\n",
    "cat testNamesMap_flattened.json"
   ]
  },
  {
   "cell_type": "markdown",
   "metadata": {},
   "source": [
    "---"
   ]
  },
  {
   "cell_type": "markdown",
   "metadata": {},
   "source": [
    "### Reading names map from JSON"
   ]
  },
  {
   "cell_type": "markdown",
   "metadata": {},
   "source": [
    "We can also create a names map instance by reading a JSON file. Below I will read both the flattened and non-flattened names maps."
   ]
  },
  {
   "cell_type": "code",
   "execution_count": 26,
   "metadata": {},
   "outputs": [
    {
     "name": "stderr",
     "output_type": "stream",
     "text": [
      "/home/pedro/anaconda3/lib/python3.6/site-packages/ipykernel_launcher.py:222: UserWarning: A names map was created without a normalization function!\n"
     ]
    }
   ],
   "source": [
    "nm_r = read_NamesMap_fromJson('./testNamesMap.json')\n",
    "nm_rf = read_NamesMap_fromJson('./testNamesMap_flattened.json')"
   ]
  },
  {
   "cell_type": "markdown",
   "metadata": {},
   "source": [
    "Both instances output equal names maps:"
   ]
  },
  {
   "cell_type": "code",
   "execution_count": 27,
   "metadata": {},
   "outputs": [
    {
     "data": {
      "text/plain": [
       "True"
      ]
     },
     "execution_count": 27,
     "metadata": {},
     "output_type": "execute_result"
    }
   ],
   "source": [
    "nm_r.getMap()==nm_rf.getMap()"
   ]
  },
  {
   "cell_type": "markdown",
   "metadata": {},
   "source": [
    "However, here are the attributes for each instance:"
   ]
  },
  {
   "cell_type": "markdown",
   "metadata": {},
   "source": [
    "##### Non-flattened names map"
   ]
  },
  {
   "cell_type": "code",
   "execution_count": 28,
   "metadata": {},
   "outputs": [
    {
     "data": {
      "text/plain": [
       "{'C. Junio': 'c_junio',\n",
       " 'C. Júnior': 'c_junior',\n",
       " 'Clara': '_clara',\n",
       " 'F. Alis': 'f_alis',\n",
       " 'F.G. Alis': 'fg_alis',\n",
       " 'J.C. Junior': 'jc_junior',\n",
       " 'J.Junio': 'j_junio',\n",
       " 'J.Junior': 'j_junior',\n",
       " 'M.C. Mendonza': 'mc_mendonza',\n",
       " 'M.Mendonça': 'm_mendonca',\n",
       " 'Mendonza': '_mendonza',\n",
       " 'P.M.C. Mendonça': 'pmc_mendonca',\n",
       " 'Pedro': '_pedro'}"
      ]
     },
     "execution_count": 28,
     "metadata": {},
     "output_type": "execute_result"
    }
   ],
   "source": [
    "nm_r._map_prim_norm"
   ]
  },
  {
   "cell_type": "code",
   "execution_count": 29,
   "metadata": {},
   "outputs": [
    {
     "data": {
      "text/plain": [
       "{'_mendonza': 'm_mendonca',\n",
       " 'c_junio': 'c_junior',\n",
       " 'c_junior': 'j_junior',\n",
       " 'f_alis': 'fg_alis',\n",
       " 'j_junio': 'j_junior',\n",
       " 'j_junior': 'jc_junior',\n",
       " 'ne': 'jc_junior'}"
      ]
     },
     "execution_count": 29,
     "metadata": {},
     "output_type": "execute_result"
    }
   ],
   "source": [
    "nm_r._remappingIndex"
   ]
  },
  {
   "cell_type": "markdown",
   "metadata": {},
   "source": [
    "##### Flattened names map"
   ]
  },
  {
   "cell_type": "code",
   "execution_count": 30,
   "metadata": {},
   "outputs": [
    {
     "data": {
      "text/plain": [
       "{'C. Junio': 'jc_junior',\n",
       " 'C. Júnior': 'jc_junior',\n",
       " 'Clara': '_clara',\n",
       " 'F. Alis': 'fg_alis',\n",
       " 'F.G. Alis': 'fg_alis',\n",
       " 'J.C. Junior': 'jc_junior',\n",
       " 'J.Junio': 'jc_junior',\n",
       " 'J.Junior': 'jc_junior',\n",
       " 'M.C. Mendonza': 'mc_mendonza',\n",
       " 'M.Mendonça': 'm_mendonca',\n",
       " 'Mendonza': 'm_mendonca',\n",
       " 'P.M.C. Mendonça': 'pmc_mendonca',\n",
       " 'Pedro': '_pedro'}"
      ]
     },
     "execution_count": 30,
     "metadata": {},
     "output_type": "execute_result"
    }
   ],
   "source": [
    "nm_rf._map_prim_norm"
   ]
  },
  {
   "cell_type": "code",
   "execution_count": 31,
   "metadata": {},
   "outputs": [
    {
     "data": {
      "text/plain": [
       "{}"
      ]
     },
     "execution_count": 31,
     "metadata": {},
     "output_type": "execute_result"
    }
   ],
   "source": [
    "nm_rf._remappingIndex"
   ]
  },
  {
   "cell_type": "markdown",
   "metadata": {},
   "source": [
    "---"
   ]
  },
  {
   "cell_type": "code",
   "execution_count": 32,
   "metadata": {
    "collapsed": true
   },
   "outputs": [],
   "source": [
    "%%bash\n",
    "rm ./testNamesMap.json ./testNamesMap_flattened.json"
   ]
  }
 ],
 "metadata": {
  "kernelspec": {
   "display_name": "Python 3",
   "language": "python",
   "name": "python3"
  },
  "language_info": {
   "codemirror_mode": {
    "name": "ipython",
    "version": 3
   },
   "file_extension": ".py",
   "mimetype": "text/x-python",
   "name": "python",
   "nbconvert_exporter": "python",
   "pygments_lexer": "ipython3",
   "version": "3.6.1"
  }
 },
 "nbformat": 4,
 "nbformat_minor": 2
}
