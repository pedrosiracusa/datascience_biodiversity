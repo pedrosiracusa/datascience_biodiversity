{
 "cells": [
  {
   "cell_type": "code",
   "execution_count": 1,
   "metadata": {
    "collapsed": true
   },
   "outputs": [],
   "source": [
    "import numpy as np\n",
    "import pandas as pd\n",
    "import matplotlib.pyplot as plt\n",
    "\n",
    "%matplotlib inline"
   ]
  },
  {
   "cell_type": "markdown",
   "metadata": {},
   "source": [
    "In this notebook I will reuse the functions below, copied from notebook 5."
   ]
  },
  {
   "cell_type": "code",
   "execution_count": 1093,
   "metadata": {
    "collapsed": true
   },
   "outputs": [],
   "source": [
    "# functions defined on notebook 5\n",
    "\n",
    "import re\n",
    "import unicodedata, string\n",
    "\n",
    "def namesFromString( namesStr, splitOn=';', unique=False, preserveOrder=False ):\n",
    "    if type(splitOn)==str:\n",
    "        namesSplit = namesStr.split(splitOn)\n",
    "        \n",
    "    elif type(splitOn)==list:\n",
    "        namesSplit = re.split( '|'.join( c for c in splitOn ) ,namesStr)\n",
    "    \n",
    "    namesList = [ n for n in [ name.strip() for name in namesSplit ] if n!='' ]\n",
    "    \n",
    "    if unique:\n",
    "        if not preserveOrder: return list(set(namesList))\n",
    "        else:\n",
    "            namesCounts = dict( (n,0) for n in namesList )\n",
    "            unique_namesList = []\n",
    "            for n in namesList:\n",
    "                if namesCounts[n]: continue\n",
    "                namesCounts[n]+=1\n",
    "                unique_namesList.append(n)\n",
    "        return unique_namesList   \n",
    "    \n",
    "    return namesList\n",
    "\n",
    "\n",
    "def normalize(name, normalizationForm='NFKD'):\n",
    "    name = name.lower() # to lowecase\n",
    "    name = name.replace('.','') # remove periods\n",
    "    name_ls = tuple( part.strip() for part in name.split(',') ) # split and strip names into tuples\n",
    "\n",
    "    normalize = lambda s: ''.join( x for x in unicodedata.normalize(normalizationForm, s) if x in string.ascii_letters ) # remove accents\n",
    "    name_ls = tuple( normalize(name) for name in name_ls )\n",
    "    \n",
    "    return ','.join(name_ls)"
   ]
  },
  {
   "cell_type": "code",
   "execution_count": 2,
   "metadata": {
    "collapsed": true
   },
   "outputs": [],
   "source": [
    "datasetpath = '/home/pedro/datasets/jbrj_herbarium/occurrence.txt'"
   ]
  },
  {
   "cell_type": "code",
   "execution_count": 561,
   "metadata": {},
   "outputs": [],
   "source": [
    "colnames = ['recordedBy', 'taxonRank', 'scientificName', 'eventDate',\n",
    "            'occurrenceID', 'collectionCode', 'stateProvince', \n",
    "            'locality', 'countryCode', 'county']\n",
    "occs = pd.read_csv(datasetpath, sep='\\t', usecols=colnames)"
   ]
  },
  {
   "cell_type": "markdown",
   "metadata": {},
   "source": [
    "Here I'm interested in records from the Itatiaia municipality with information about the collectors."
   ]
  },
  {
   "cell_type": "code",
   "execution_count": 1085,
   "metadata": {},
   "outputs": [],
   "source": [
    "occs_itatiaia = occs[occs['county'].apply(lambda x: 'Itatiaia' in str(x))]\n",
    "occs_itatiaia = occs_itatiaia[occs_itatiaia['recordedBy'].notnull()]"
   ]
  },
  {
   "cell_type": "code",
   "execution_count": 1084,
   "metadata": {},
   "outputs": [
    {
     "data": {
      "text/html": [
       "<div>\n",
       "<style>\n",
       "    .dataframe thead tr:only-child th {\n",
       "        text-align: right;\n",
       "    }\n",
       "\n",
       "    .dataframe thead th {\n",
       "        text-align: left;\n",
       "    }\n",
       "\n",
       "    .dataframe tbody tr th {\n",
       "        vertical-align: top;\n",
       "    }\n",
       "</style>\n",
       "<table border=\"1\" class=\"dataframe\">\n",
       "  <thead>\n",
       "    <tr style=\"text-align: right;\">\n",
       "      <th></th>\n",
       "      <th>collectionCode</th>\n",
       "      <th>occurrenceID</th>\n",
       "      <th>recordedBy</th>\n",
       "      <th>eventDate</th>\n",
       "      <th>countryCode</th>\n",
       "      <th>stateProvince</th>\n",
       "      <th>county</th>\n",
       "      <th>locality</th>\n",
       "      <th>scientificName</th>\n",
       "      <th>taxonRank</th>\n",
       "    </tr>\n",
       "  </thead>\n",
       "  <tbody>\n",
       "    <tr>\n",
       "      <th>169</th>\n",
       "      <td>RB</td>\n",
       "      <td>urn:catalog:JBRJ:RB:327442</td>\n",
       "      <td>R.W.Kaempfe</td>\n",
       "      <td>1931-03-03</td>\n",
       "      <td>BR</td>\n",
       "      <td>Rio de Janeiro</td>\n",
       "      <td>Itatiaia</td>\n",
       "      <td>Serra da Mantiqueira.</td>\n",
       "      <td>ROSACEAE Fragaria</td>\n",
       "      <td>genus</td>\n",
       "    </tr>\n",
       "    <tr>\n",
       "      <th>225</th>\n",
       "      <td>RB</td>\n",
       "      <td>urn:catalog:JBRJ:RB:379779</td>\n",
       "      <td>P. Campos Porto</td>\n",
       "      <td>1918-08-20</td>\n",
       "      <td>BR</td>\n",
       "      <td>Rio de Janeiro</td>\n",
       "      <td>Itatiaia</td>\n",
       "      <td>Lactiferos.</td>\n",
       "      <td>SAPOTACEAE</td>\n",
       "      <td>family</td>\n",
       "    </tr>\n",
       "    <tr>\n",
       "      <th>306</th>\n",
       "      <td>ITA</td>\n",
       "      <td>urn:catalog:JBRJ:RB:477401</td>\n",
       "      <td>José Adaltro Lemes</td>\n",
       "      <td>1977-10-04</td>\n",
       "      <td>BR</td>\n",
       "      <td>Rio de Janeiro</td>\n",
       "      <td>Itatiaia</td>\n",
       "      <td>Macieiras.</td>\n",
       "      <td>SYMPLOCACEAE</td>\n",
       "      <td>family</td>\n",
       "    </tr>\n",
       "    <tr>\n",
       "      <th>310</th>\n",
       "      <td>ITA</td>\n",
       "      <td>urn:catalog:JBRJ:RB:478924</td>\n",
       "      <td>J. J. Sampaio</td>\n",
       "      <td>1942-09-25</td>\n",
       "      <td>BR</td>\n",
       "      <td>Rio de Janeiro</td>\n",
       "      <td>Itatiaia</td>\n",
       "      <td>Repouso Itatiaiai.</td>\n",
       "      <td>SOLANACEAE Solanum</td>\n",
       "      <td>genus</td>\n",
       "    </tr>\n",
       "    <tr>\n",
       "      <th>408</th>\n",
       "      <td>RUSU</td>\n",
       "      <td>urn:catalog:JBRJ:RB:679739</td>\n",
       "      <td>Camerik, A.M.</td>\n",
       "      <td>1975-04-23</td>\n",
       "      <td>BR</td>\n",
       "      <td>Rio de Janeiro</td>\n",
       "      <td>Itatiaia</td>\n",
       "      <td>NaN</td>\n",
       "      <td>AQUIFOLIACEAE Ilex</td>\n",
       "      <td>genus</td>\n",
       "    </tr>\n",
       "    <tr>\n",
       "      <th>514</th>\n",
       "      <td>RB</td>\n",
       "      <td>urn:catalog:JBRJ:RB:554980</td>\n",
       "      <td>M. Salazar Yepes</td>\n",
       "      <td>NaN</td>\n",
       "      <td>BR</td>\n",
       "      <td>Rio de Janeiro</td>\n",
       "      <td>Itatiaia</td>\n",
       "      <td>PARNA-Itatiaia, trilha três Picos.</td>\n",
       "      <td>INDETERMINADA</td>\n",
       "      <td>family</td>\n",
       "    </tr>\n",
       "    <tr>\n",
       "      <th>517</th>\n",
       "      <td>RB</td>\n",
       "      <td>urn:catalog:JBRJ:RB:560431</td>\n",
       "      <td>M. Salazar Yepes &amp; A.A. Carvalho Jr.</td>\n",
       "      <td>NaN</td>\n",
       "      <td>BR</td>\n",
       "      <td>Rio de Janeiro</td>\n",
       "      <td>Itatiaia</td>\n",
       "      <td>PARNA-Itatiaia, na estrada Portaria Principal-...</td>\n",
       "      <td>INDETERMINADA</td>\n",
       "      <td>family</td>\n",
       "    </tr>\n",
       "    <tr>\n",
       "      <th>705</th>\n",
       "      <td>RB</td>\n",
       "      <td>urn:catalog:JBRJ:RB:1006065</td>\n",
       "      <td>M. Salazar Yepes &amp; A.A. Carvalho Jr.</td>\n",
       "      <td>2007-8-7</td>\n",
       "      <td>BR</td>\n",
       "      <td>Rio de Janeiro</td>\n",
       "      <td>Itatiaia</td>\n",
       "      <td>NaN</td>\n",
       "      <td>PUCCINIALES Phakopsora rossmanii</td>\n",
       "      <td>specie</td>\n",
       "    </tr>\n",
       "    <tr>\n",
       "      <th>741</th>\n",
       "      <td>RB</td>\n",
       "      <td>urn:catalog:JBRJ:RB:145779</td>\n",
       "      <td>A. Mello</td>\n",
       "      <td>NaN</td>\n",
       "      <td>BR</td>\n",
       "      <td>Rio de Janeiro</td>\n",
       "      <td>Itatiaia</td>\n",
       "      <td>NaN</td>\n",
       "      <td>LEGUMINOSAE Melanoxylon brauna Schott</td>\n",
       "      <td>specie</td>\n",
       "    </tr>\n",
       "    <tr>\n",
       "      <th>1253</th>\n",
       "      <td>ITA</td>\n",
       "      <td>urn:catalog:JBRJ:RB:477461</td>\n",
       "      <td>P. C. Porto</td>\n",
       "      <td>1918</td>\n",
       "      <td>BR</td>\n",
       "      <td>Rio de Janeiro</td>\n",
       "      <td>Itatiaia</td>\n",
       "      <td>NaN</td>\n",
       "      <td>SAPINDACEAE</td>\n",
       "      <td>family</td>\n",
       "    </tr>\n",
       "  </tbody>\n",
       "</table>\n",
       "</div>"
      ],
      "text/plain": [
       "     collectionCode                 occurrenceID  \\\n",
       "169              RB   urn:catalog:JBRJ:RB:327442   \n",
       "225              RB   urn:catalog:JBRJ:RB:379779   \n",
       "306             ITA   urn:catalog:JBRJ:RB:477401   \n",
       "310             ITA   urn:catalog:JBRJ:RB:478924   \n",
       "408            RUSU   urn:catalog:JBRJ:RB:679739   \n",
       "514              RB   urn:catalog:JBRJ:RB:554980   \n",
       "517              RB   urn:catalog:JBRJ:RB:560431   \n",
       "705              RB  urn:catalog:JBRJ:RB:1006065   \n",
       "741              RB   urn:catalog:JBRJ:RB:145779   \n",
       "1253            ITA   urn:catalog:JBRJ:RB:477461   \n",
       "\n",
       "                                recordedBy   eventDate countryCode  \\\n",
       "169                            R.W.Kaempfe  1931-03-03          BR   \n",
       "225                        P. Campos Porto  1918-08-20          BR   \n",
       "306                     José Adaltro Lemes  1977-10-04          BR   \n",
       "310                          J. J. Sampaio  1942-09-25          BR   \n",
       "408                          Camerik, A.M.  1975-04-23          BR   \n",
       "514                       M. Salazar Yepes         NaN          BR   \n",
       "517   M. Salazar Yepes & A.A. Carvalho Jr.         NaN          BR   \n",
       "705   M. Salazar Yepes & A.A. Carvalho Jr.    2007-8-7          BR   \n",
       "741                               A. Mello         NaN          BR   \n",
       "1253                           P. C. Porto        1918          BR   \n",
       "\n",
       "       stateProvince    county  \\\n",
       "169   Rio de Janeiro  Itatiaia   \n",
       "225   Rio de Janeiro  Itatiaia   \n",
       "306   Rio de Janeiro  Itatiaia   \n",
       "310   Rio de Janeiro  Itatiaia   \n",
       "408   Rio de Janeiro  Itatiaia   \n",
       "514   Rio de Janeiro  Itatiaia   \n",
       "517   Rio de Janeiro  Itatiaia   \n",
       "705   Rio de Janeiro  Itatiaia   \n",
       "741   Rio de Janeiro  Itatiaia   \n",
       "1253  Rio de Janeiro  Itatiaia   \n",
       "\n",
       "                                               locality  \\\n",
       "169                               Serra da Mantiqueira.   \n",
       "225                                         Lactiferos.   \n",
       "306                                          Macieiras.   \n",
       "310                                  Repouso Itatiaiai.   \n",
       "408                                                 NaN   \n",
       "514                  PARNA-Itatiaia, trilha três Picos.   \n",
       "517   PARNA-Itatiaia, na estrada Portaria Principal-...   \n",
       "705                                                 NaN   \n",
       "741                                                 NaN   \n",
       "1253                                                NaN   \n",
       "\n",
       "                             scientificName taxonRank  \n",
       "169                       ROSACEAE Fragaria     genus  \n",
       "225                              SAPOTACEAE    family  \n",
       "306                            SYMPLOCACEAE    family  \n",
       "310                      SOLANACEAE Solanum     genus  \n",
       "408                      AQUIFOLIACEAE Ilex     genus  \n",
       "514                           INDETERMINADA    family  \n",
       "517                           INDETERMINADA    family  \n",
       "705        PUCCINIALES Phakopsora rossmanii    specie  \n",
       "741   LEGUMINOSAE Melanoxylon brauna Schott    specie  \n",
       "1253                            SAPINDACEAE    family  "
      ]
     },
     "execution_count": 1084,
     "metadata": {},
     "output_type": "execute_result"
    }
   ],
   "source": [
    "occs_itatiaia.head(10)"
   ]
  },
  {
   "cell_type": "markdown",
   "metadata": {},
   "source": [
    "Let's first create a `collectors_split` column, which stores the atomized collectors names as extracted by an `atomizeNames` expression."
   ]
  },
  {
   "cell_type": "markdown",
   "metadata": {},
   "source": [
    "Here I'll work only with **collaborative records**, which were obtained by more than one collector"
   ]
  },
  {
   "cell_type": "markdown",
   "metadata": {},
   "source": [
    "The percentage of collaborative records on the dataset from Itatiaia is relatively low:"
   ]
  },
  {
   "cell_type": "code",
   "execution_count": 302,
   "metadata": {},
   "outputs": [
    {
     "data": {
      "text/plain": [
       "'Percentage of collaborative records at Itatiaia: 8.03%'"
      ]
     },
     "execution_count": 302,
     "metadata": {},
     "output_type": "execute_result"
    }
   ],
   "source": [
    "\"Percentage of collaborative records at Itatiaia: {:.2%}\".format(\n",
    "    occs_itatiaia_collaborative.shape[0]/occs_itatiaia.shape[0])"
   ]
  },
  {
   "cell_type": "markdown",
   "metadata": {},
   "source": [
    "---"
   ]
  },
  {
   "cell_type": "markdown",
   "metadata": {},
   "source": [
    "Let's get a list of names of collaborative collectors in Itatiaia. I'll only show the first ten elements:"
   ]
  },
  {
   "cell_type": "markdown",
   "metadata": {},
   "source": [
    "From these names I can then build a names map, which maps each variation of a name to its normal form. I'll show the first ten elements mapped."
   ]
  },
  {
   "cell_type": "markdown",
   "metadata": {},
   "source": [
    "Now, we can inspect the names map and verify that some variations actually belong to the same entity. I'll use the function below to remap normalized names in the names map. The function takes a remapping dictionary and the names map to be modified and performs the remapping inplace."
   ]
  },
  {
   "cell_type": "markdown",
   "metadata": {},
   "source": [
    "---"
   ]
  },
  {
   "cell_type": "markdown",
   "metadata": {},
   "source": [
    "---"
   ]
  },
  {
   "cell_type": "markdown",
   "metadata": {},
   "source": [
    "## Atomizing names"
   ]
  },
  {
   "cell_type": "code",
   "execution_count": 722,
   "metadata": {
    "collapsed": true
   },
   "outputs": [],
   "source": [
    "def atomizeNames( df, colName, atomizingFunction, recordsIndex=None, atomizedColName=None  ):\n",
    "    if not atomizedColName:\n",
    "        atomizedColName = colName+\"_atomized\"\n",
    "    \n",
    "    if recordsIndex:\n",
    "        df.loc[recordsIndex,atomizedColName] = df.loc[recordsIndex,colName].apply( atomizingFunction )\n",
    "    else: # atomize the entire dataframe\n",
    "        df.loc[:,atomizedColName] = df.loc[:,colName].apply( atomizingFunction )"
   ]
  },
  {
   "cell_type": "code",
   "execution_count": 723,
   "metadata": {},
   "outputs": [
    {
     "data": {
      "text/html": [
       "<div>\n",
       "<style>\n",
       "    .dataframe thead tr:only-child th {\n",
       "        text-align: right;\n",
       "    }\n",
       "\n",
       "    .dataframe thead th {\n",
       "        text-align: left;\n",
       "    }\n",
       "\n",
       "    .dataframe tbody tr th {\n",
       "        vertical-align: top;\n",
       "    }\n",
       "</style>\n",
       "<table border=\"1\" class=\"dataframe\">\n",
       "  <thead>\n",
       "    <tr style=\"text-align: right;\">\n",
       "      <th></th>\n",
       "      <th>collectionCode</th>\n",
       "      <th>occurrenceID</th>\n",
       "      <th>recordedBy</th>\n",
       "      <th>eventDate</th>\n",
       "      <th>countryCode</th>\n",
       "      <th>stateProvince</th>\n",
       "      <th>county</th>\n",
       "      <th>locality</th>\n",
       "      <th>scientificName</th>\n",
       "      <th>taxonRank</th>\n",
       "      <th>recordedBy_atomized</th>\n",
       "    </tr>\n",
       "  </thead>\n",
       "  <tbody>\n",
       "    <tr>\n",
       "      <th>169</th>\n",
       "      <td>RB</td>\n",
       "      <td>urn:catalog:JBRJ:RB:327442</td>\n",
       "      <td>R.W.Kaempfe</td>\n",
       "      <td>1931-03-03</td>\n",
       "      <td>BR</td>\n",
       "      <td>Rio de Janeiro</td>\n",
       "      <td>Itatiaia</td>\n",
       "      <td>Serra da Mantiqueira.</td>\n",
       "      <td>ROSACEAE Fragaria</td>\n",
       "      <td>genus</td>\n",
       "      <td>[R.W.Kaempfe]</td>\n",
       "    </tr>\n",
       "    <tr>\n",
       "      <th>225</th>\n",
       "      <td>RB</td>\n",
       "      <td>urn:catalog:JBRJ:RB:379779</td>\n",
       "      <td>P. Campos Porto</td>\n",
       "      <td>1918-08-20</td>\n",
       "      <td>BR</td>\n",
       "      <td>Rio de Janeiro</td>\n",
       "      <td>Itatiaia</td>\n",
       "      <td>Lactiferos.</td>\n",
       "      <td>SAPOTACEAE</td>\n",
       "      <td>family</td>\n",
       "      <td>[P. Campos Porto]</td>\n",
       "    </tr>\n",
       "    <tr>\n",
       "      <th>306</th>\n",
       "      <td>ITA</td>\n",
       "      <td>urn:catalog:JBRJ:RB:477401</td>\n",
       "      <td>José Adaltro Lemes</td>\n",
       "      <td>1977-10-04</td>\n",
       "      <td>BR</td>\n",
       "      <td>Rio de Janeiro</td>\n",
       "      <td>Itatiaia</td>\n",
       "      <td>Macieiras.</td>\n",
       "      <td>SYMPLOCACEAE</td>\n",
       "      <td>family</td>\n",
       "      <td>[José Adaltro Lemes]</td>\n",
       "    </tr>\n",
       "    <tr>\n",
       "      <th>310</th>\n",
       "      <td>ITA</td>\n",
       "      <td>urn:catalog:JBRJ:RB:478924</td>\n",
       "      <td>J. J. Sampaio</td>\n",
       "      <td>1942-09-25</td>\n",
       "      <td>BR</td>\n",
       "      <td>Rio de Janeiro</td>\n",
       "      <td>Itatiaia</td>\n",
       "      <td>Repouso Itatiaiai.</td>\n",
       "      <td>SOLANACEAE Solanum</td>\n",
       "      <td>genus</td>\n",
       "      <td>[J. J. Sampaio]</td>\n",
       "    </tr>\n",
       "    <tr>\n",
       "      <th>408</th>\n",
       "      <td>RUSU</td>\n",
       "      <td>urn:catalog:JBRJ:RB:679739</td>\n",
       "      <td>Camerik, A.M.</td>\n",
       "      <td>1975-04-23</td>\n",
       "      <td>BR</td>\n",
       "      <td>Rio de Janeiro</td>\n",
       "      <td>Itatiaia</td>\n",
       "      <td>NaN</td>\n",
       "      <td>AQUIFOLIACEAE Ilex</td>\n",
       "      <td>genus</td>\n",
       "      <td>[Camerik, A.M.]</td>\n",
       "    </tr>\n",
       "  </tbody>\n",
       "</table>\n",
       "</div>"
      ],
      "text/plain": [
       "    collectionCode                occurrenceID          recordedBy  \\\n",
       "169             RB  urn:catalog:JBRJ:RB:327442         R.W.Kaempfe   \n",
       "225             RB  urn:catalog:JBRJ:RB:379779     P. Campos Porto   \n",
       "306            ITA  urn:catalog:JBRJ:RB:477401  José Adaltro Lemes   \n",
       "310            ITA  urn:catalog:JBRJ:RB:478924       J. J. Sampaio   \n",
       "408           RUSU  urn:catalog:JBRJ:RB:679739       Camerik, A.M.   \n",
       "\n",
       "      eventDate countryCode   stateProvince    county               locality  \\\n",
       "169  1931-03-03          BR  Rio de Janeiro  Itatiaia  Serra da Mantiqueira.   \n",
       "225  1918-08-20          BR  Rio de Janeiro  Itatiaia            Lactiferos.   \n",
       "306  1977-10-04          BR  Rio de Janeiro  Itatiaia             Macieiras.   \n",
       "310  1942-09-25          BR  Rio de Janeiro  Itatiaia     Repouso Itatiaiai.   \n",
       "408  1975-04-23          BR  Rio de Janeiro  Itatiaia                    NaN   \n",
       "\n",
       "         scientificName taxonRank   recordedBy_atomized  \n",
       "169   ROSACEAE Fragaria     genus         [R.W.Kaempfe]  \n",
       "225          SAPOTACEAE    family     [P. Campos Porto]  \n",
       "306        SYMPLOCACEAE    family  [José Adaltro Lemes]  \n",
       "310  SOLANACEAE Solanum     genus       [J. J. Sampaio]  \n",
       "408  AQUIFOLIACEAE Ilex     genus       [Camerik, A.M.]  "
      ]
     },
     "execution_count": 723,
     "metadata": {},
     "output_type": "execute_result"
    }
   ],
   "source": [
    "atomizingOperation = lambda ns: namesFromString(ns, splitOn=['&',';',' e ']) \n",
    "\n",
    "atomizeNames(occs_itatiaia, 'recordedBy', atomizingOperation)\n",
    "occs_itatiaia.head()"
   ]
  },
  {
   "cell_type": "markdown",
   "metadata": {},
   "source": [
    "## The NamesMap class"
   ]
  },
  {
   "cell_type": "code",
   "execution_count": 724,
   "metadata": {},
   "outputs": [],
   "source": [
    "from copy import deepcopy\n",
    "\n",
    "class NamesMap:\n",
    "    _map=None\n",
    "    _normalizationFunction=None\n",
    "    _remappingDict=None\n",
    "    \n",
    "    def __init__(self, names, normalizationFunction):\n",
    "        self._normalizationFunction = normalizationFunction\n",
    "        self._map = dict( (n, self._normalizationFunction(n)) for n in names )\n",
    "        return\n",
    "    \n",
    "    def clearMap(self):\n",
    "        self._map={}\n",
    "    \n",
    "    def remap(self, remappingDict):\n",
    "        if self._remappingDict is None:\n",
    "            self._remappingDict = remappingDict\n",
    "        else:\n",
    "            self._remappingDict.update(remappingDict)\n",
    "        return     \n",
    "    \n",
    "    def insertNames(self, names, normalizationFunction=None, rebuild=False):\n",
    "        # if rebuild is true, the entire map (but not the remapping dict) is rebuilt from scratch\n",
    "        if rebuild==True:\n",
    "            self.clearMap()\n",
    "        if normalizationFunction is None: \n",
    "            normalizationFunction = self._normalizationFunction\n",
    "        self._map.update( dict( (n,normalizationFunction(n)) for n in names ) )\n",
    "        return\n",
    "    \n",
    "    def removeNames(self, names):\n",
    "        # removes names from the map \n",
    "        pass\n",
    "    \n",
    "    def getMap(self, remap=True):\n",
    "        # Returns a COPY of the map\n",
    "        # If remap is set to true, some remapping occurrs\n",
    "        res = deepcopy(self._map)\n",
    "        if remap and self._remappingDict is not None:\n",
    "            getNamesPrimitives = lambda n: ( name for name,norm in self._map.items() if norm == n )\n",
    "            for n,t in ( (n,t) for s,t in self._remappingDict.items() for n in getNamesPrimitives(s) ):\n",
    "                res[n]=t\n",
    "        return res\n",
    "    \n",
    "    def getNormalizedNames(self, remap=True):\n",
    "        return sorted(list(set(self.getMap(remap=remap).values())))\n",
    "    \n",
    "    def getNamePrimitives(self, n):\n",
    "        nmap = self.getMap()\n",
    "        return [ name for name,norm in nmap.items() if norm == n ]\n",
    "        "
   ]
  },
  {
   "cell_type": "markdown",
   "metadata": {},
   "source": [
    "---"
   ]
  },
  {
   "cell_type": "code",
   "execution_count": 725,
   "metadata": {},
   "outputs": [],
   "source": [
    "occs_itatiaia_collaborative = occs_itatiaia[occs_itatiaia['recordedBy_atomized'].apply(lambda l: len(l)>1)]\n",
    "namesList = sorted(list(set( n for nlst in occs_itatiaia_collaborative['recordedBy_atomized'] for n in nlst )))\n",
    "\n",
    "# create names map\n",
    "nm = NamesMap(namesList, normalize)\n",
    "remappingDict = {\n",
    "    'aacarvalhojr': 'aacarvalho',\n",
    "    'aparicio': 'apparicio',\n",
    "    'brade': 'brade,ac',\n",
    "    'fidalgo,k': 'kauffmannfidalgo',\n",
    "    'fildalgo': 'oswaldofidalgo',\n",
    "    'fidalgo': 'oswaldofidalgo',\n",
    "    'kauffmannfidalfoeg': 'kauffmannfidalgo',\n",
    "    'mekauffmannfidalgo': 'kauffmannfidalgo',\n",
    "    'kfidalgo': 'kauffmannfidalgo',\n",
    "    'lanstsyak,l': 'lanstyak,l',\n",
    "    'fidalgo,o': 'oswaldofidalgo',\n",
    "    'ofidalgo': 'oswaldofidalgo',\n",
    "    'silveira,o': 'silveiramelo,o',\n",
    "    'tamandare': 'tamandaredetoledo',\n",
    "    'toledo': 'tamandaredetoledo',\n",
    "    'pjmmaas': 'pjmaas',\n",
    "    'pjlmaas': 'pjmaas',\n",
    "    'acbrade': 'brade,ac',\n",
    "}\n",
    "nm.remap(remappingDict)\n",
    "nm.remap({'profpilger':'pilger'})"
   ]
  },
  {
   "cell_type": "code",
   "execution_count": 726,
   "metadata": {},
   "outputs": [
    {
     "data": {
      "text/plain": [
       "{'A. C. Brade': 'brade,ac',\n",
       " 'A.A. Carvalho Jr.': 'aacarvalho',\n",
       " 'A.A.Carvalho': 'aacarvalho',\n",
       " 'A.C.Mota': 'acmota',\n",
       " 'Aparicio': 'apparicio',\n",
       " 'Apparicio': 'apparicio',\n",
       " 'Brade': 'brade,ac',\n",
       " 'Brade, A. C.': 'brade,ac',\n",
       " 'C.M. Sakuragui': 'cmsakuragui',\n",
       " 'D. P. Costa': 'dpcosta',\n",
       " 'D.P.Costa': 'dpcosta',\n",
       " 'Ed. Pereira, Egle,': 'edpereira,egle,',\n",
       " 'Edmundo': 'edmundo',\n",
       " 'F. Santoro': 'fsantoro',\n",
       " 'F. Toledo Jr.': 'ftoledojr',\n",
       " 'Fidalgo, K.': 'kauffmannfidalgo',\n",
       " 'Fidalgo, O.': 'oswaldofidalgo',\n",
       " 'Fildalgo': 'oswaldofidalgo',\n",
       " 'G. Martinelli': 'gmartinelli',\n",
       " 'Graziela': 'graziela',\n",
       " 'I. França': 'ifranca',\n",
       " 'K.Fidalgo': 'kauffmannfidalgo',\n",
       " 'Kauffmann Fidalfo Eg-07': 'kauffmannfidalgo',\n",
       " 'Kauffmann Fidalgo': 'kauffmannfidalgo',\n",
       " 'L. C. S. Giordano': 'lcsgiordano',\n",
       " 'L. S. Sylvestre': 'lssylvestre',\n",
       " 'L.A.F': 'laf',\n",
       " 'Lanstsyak, L.': 'lanstyak,l',\n",
       " 'Lanstyak, L.': 'lanstyak,l',\n",
       " 'Luiz': 'luiz',\n",
       " 'M. Barros': 'mbarros',\n",
       " 'M. Salazar Yepes': 'msalazaryepes',\n",
       " 'M. Salazar Yepes, A.A. Carvalho Jr.': 'msalazaryepes,aacarvalhojr',\n",
       " 'M.D.M.Vianna Filho 2020': 'mdmviannafilho',\n",
       " 'M.E. Kauffmann Fidalgo': 'kauffmannfidalgo',\n",
       " 'M.P.M. de Lima': 'mpmdelima',\n",
       " 'M.Salazar Yepes': 'msalazaryepes',\n",
       " 'O. Fidalgo': 'oswaldofidalgo',\n",
       " 'O.Fidalgo': 'oswaldofidalgo',\n",
       " 'O.fidalgo': 'oswaldofidalgo',\n",
       " 'Occhioni, P.': 'occhioni,p',\n",
       " 'Oswaldo Fidalgo': 'oswaldofidalgo',\n",
       " 'P.J.L. Maas': 'pjmaas',\n",
       " 'P.J.M. Maas': 'pjmaas',\n",
       " 'Prof Pilger': 'pilger',\n",
       " 'S. R. Gradstein': 'srgradstein',\n",
       " 'S. Salgado': 'ssalgado',\n",
       " 'S.R.Gradstein': 'srgradstein',\n",
       " 'Santos Filho': 'santosfilho',\n",
       " 'Silveira Melo, O.': 'silveiramelo,o',\n",
       " 'Silveira, O.': 'silveiramelo,o',\n",
       " 'Tamandaré': 'tamandaredetoledo',\n",
       " 'Tamandaré de Toledo': 'tamandaredetoledo',\n",
       " 'Toledo': 'tamandaredetoledo'}"
      ]
     },
     "execution_count": 726,
     "metadata": {},
     "output_type": "execute_result"
    }
   ],
   "source": [
    "nm.getMap()"
   ]
  },
  {
   "cell_type": "markdown",
   "metadata": {},
   "source": [
    "---"
   ]
  },
  {
   "cell_type": "markdown",
   "metadata": {},
   "source": [
    "Now let's get a **names index** which stores the ids of the rows where each normalized name appears:"
   ]
  },
  {
   "cell_type": "markdown",
   "metadata": {},
   "source": [
    "But it turns out that some of the names are still not normalized, as it is the case of `'msalazaryepes,aacarvalhojr'`:"
   ]
  },
  {
   "cell_type": "markdown",
   "metadata": {},
   "source": [
    "In that case an alternative is to renormalize some records and get another names from the updated normalized names column:"
   ]
  },
  {
   "cell_type": "markdown",
   "metadata": {},
   "source": [
    "## Reatomizing records"
   ]
  },
  {
   "cell_type": "markdown",
   "metadata": {},
   "source": [
    "### Names index"
   ]
  },
  {
   "cell_type": "code",
   "execution_count": 727,
   "metadata": {
    "collapsed": true
   },
   "outputs": [],
   "source": [
    "def getNamesIndexes( df, atomizedNamesCol, namesMap=None ):\n",
    "    # split_names_col is a column with names already split\n",
    "    namesIndexes = dict( (name,[]) for name in namesMap.values() )\n",
    "    for i,names in df[atomizedNamesCol].iteritems():\n",
    "        for name in names:\n",
    "            if namesMap is not None:\n",
    "                try:\n",
    "                    namesIndexes[namesMap[name]].append(i)\n",
    "                except KeyError:\n",
    "                    pass\n",
    "            else:\n",
    "                namesIndexes[name].append(i)\n",
    "            \n",
    "    return namesIndexes"
   ]
  },
  {
   "cell_type": "code",
   "execution_count": 728,
   "metadata": {},
   "outputs": [],
   "source": [
    "ni = getNamesIndexes(occs_itatiaia, 'recordedBy_atomized', nm.getMap())"
   ]
  },
  {
   "cell_type": "markdown",
   "metadata": {},
   "source": [
    "These records are the ones to be atomized"
   ]
  },
  {
   "cell_type": "code",
   "execution_count": 729,
   "metadata": {
    "collapsed": true
   },
   "outputs": [],
   "source": [
    "names_to_atomize = ['msalazaryepes,aacarvalhojr', 'edpereira,egle,' ]"
   ]
  },
  {
   "cell_type": "code",
   "execution_count": 730,
   "metadata": {
    "collapsed": true
   },
   "outputs": [],
   "source": [
    "atomizingOperation = lambda l: [ n for name in l for n in namesFromString(name,',')]\n",
    "\n",
    "for n in names_to_atomize:\n",
    "    atomizeNames(occs_itatiaia,'recordedBy_atomized',atomizingOperation,ni[n], 'recordedBy_atomized')"
   ]
  },
  {
   "cell_type": "markdown",
   "metadata": {},
   "source": [
    "Now we rebuild the names map, while keeping the remapping dictionary"
   ]
  },
  {
   "cell_type": "code",
   "execution_count": 731,
   "metadata": {
    "collapsed": true
   },
   "outputs": [],
   "source": [
    "occs_itatiaia_collaborative = occs_itatiaia[occs_itatiaia['recordedBy_atomized'].apply(lambda l: len(l)>1)]\n",
    "namesList = sorted(list(set( n for nlst in occs_itatiaia_collaborative['recordedBy_atomized'] for n in nlst )))"
   ]
  },
  {
   "cell_type": "code",
   "execution_count": 732,
   "metadata": {
    "collapsed": true
   },
   "outputs": [],
   "source": [
    "nm.insertNames(namesList,rebuild=True)\n",
    "ni = getNamesIndexes(occs_itatiaia, 'recordedBy_atomized', nm.getMap())"
   ]
  },
  {
   "cell_type": "markdown",
   "metadata": {},
   "source": [
    "---"
   ]
  },
  {
   "cell_type": "markdown",
   "metadata": {},
   "source": [
    "## Joining names"
   ]
  },
  {
   "cell_type": "markdown",
   "metadata": {},
   "source": [
    "Some records should not have been atomized:"
   ]
  },
  {
   "cell_type": "code",
   "execution_count": 733,
   "metadata": {},
   "outputs": [
    {
     "data": {
      "text/html": [
       "<div>\n",
       "<style>\n",
       "    .dataframe thead tr:only-child th {\n",
       "        text-align: right;\n",
       "    }\n",
       "\n",
       "    .dataframe thead th {\n",
       "        text-align: left;\n",
       "    }\n",
       "\n",
       "    .dataframe tbody tr th {\n",
       "        vertical-align: top;\n",
       "    }\n",
       "</style>\n",
       "<table border=\"1\" class=\"dataframe\">\n",
       "  <thead>\n",
       "    <tr style=\"text-align: right;\">\n",
       "      <th></th>\n",
       "      <th>collectionCode</th>\n",
       "      <th>occurrenceID</th>\n",
       "      <th>recordedBy</th>\n",
       "      <th>eventDate</th>\n",
       "      <th>countryCode</th>\n",
       "      <th>stateProvince</th>\n",
       "      <th>county</th>\n",
       "      <th>locality</th>\n",
       "      <th>scientificName</th>\n",
       "      <th>taxonRank</th>\n",
       "      <th>recordedBy_atomized</th>\n",
       "    </tr>\n",
       "  </thead>\n",
       "  <tbody>\n",
       "    <tr>\n",
       "      <th>64066</th>\n",
       "      <td>RB</td>\n",
       "      <td>urn:catalog:JBRJ:RB:573945</td>\n",
       "      <td>L.A.F; Santos Filho</td>\n",
       "      <td>2009-09-21</td>\n",
       "      <td>BR</td>\n",
       "      <td>Rio de Janeiro</td>\n",
       "      <td>Itatiaia</td>\n",
       "      <td>Em fragmento florestal no Alto dos Brejos. Par...</td>\n",
       "      <td>MELASTOMATACEAE Tibouchina</td>\n",
       "      <td>genus</td>\n",
       "      <td>[L.A.F, Santos Filho]</td>\n",
       "    </tr>\n",
       "  </tbody>\n",
       "</table>\n",
       "</div>"
      ],
      "text/plain": [
       "      collectionCode                occurrenceID           recordedBy  \\\n",
       "64066             RB  urn:catalog:JBRJ:RB:573945  L.A.F; Santos Filho   \n",
       "\n",
       "        eventDate countryCode   stateProvince    county  \\\n",
       "64066  2009-09-21          BR  Rio de Janeiro  Itatiaia   \n",
       "\n",
       "                                                locality  \\\n",
       "64066  Em fragmento florestal no Alto dos Brejos. Par...   \n",
       "\n",
       "                   scientificName taxonRank    recordedBy_atomized  \n",
       "64066  MELASTOMATACEAE Tibouchina     genus  [L.A.F, Santos Filho]  "
      ]
     },
     "execution_count": 733,
     "metadata": {},
     "output_type": "execute_result"
    }
   ],
   "source": [
    "occs_itatiaia_collaborative.loc[ni['laf']]"
   ]
  },
  {
   "cell_type": "code",
   "execution_count": 734,
   "metadata": {
    "collapsed": true
   },
   "outputs": [],
   "source": [
    "def mergeNames( df, colName, joiningFunction, recordsIndex ):\n",
    "    df.loc[recordsIndex,colName] = df.loc[recordsIndex,colName].apply(joiningFunction)"
   ]
  },
  {
   "cell_type": "code",
   "execution_count": 735,
   "metadata": {
    "collapsed": true
   },
   "outputs": [],
   "source": [
    "joinOp = lambda l: [','.join(l)]\n",
    "mergeNames( occs_itatiaia, 'recordedBy_atomized',joinOp, ni['laf'] )"
   ]
  },
  {
   "cell_type": "code",
   "execution_count": 744,
   "metadata": {
    "collapsed": true
   },
   "outputs": [],
   "source": [
    "occs_itatiaia_collaborative = occs_itatiaia[occs_itatiaia['recordedBy_atomized'].apply(lambda l: len(l)>1)]\n",
    "namesList = sorted(list(set( n for nlst in occs_itatiaia_collaborative['recordedBy_atomized'] for n in nlst )))\n",
    "nm.insertNames(namesList,rebuild=True)\n",
    "ni = getNamesIndexes(occs_itatiaia, 'recordedBy_atomized', nm.getMap())"
   ]
  },
  {
   "cell_type": "code",
   "execution_count": 747,
   "metadata": {},
   "outputs": [
    {
     "data": {
      "text/plain": [
       "['aacarvalho',\n",
       " 'acmota',\n",
       " 'apparicio',\n",
       " 'brade,ac',\n",
       " 'cmsakuragui',\n",
       " 'dpcosta',\n",
       " 'edmundo',\n",
       " 'edpereira',\n",
       " 'egle',\n",
       " 'fsantoro',\n",
       " 'ftoledojr',\n",
       " 'gmartinelli',\n",
       " 'graziela',\n",
       " 'ifranca',\n",
       " 'kauffmannfidalgo',\n",
       " 'lanstyak,l',\n",
       " 'lcsgiordano',\n",
       " 'lssylvestre',\n",
       " 'luiz',\n",
       " 'mbarros',\n",
       " 'mdmviannafilho',\n",
       " 'mpmdelima',\n",
       " 'msalazaryepes',\n",
       " 'occhioni,p',\n",
       " 'oswaldofidalgo',\n",
       " 'pilger',\n",
       " 'pjmaas',\n",
       " 'silveiramelo,o',\n",
       " 'srgradstein',\n",
       " 'ssalgado',\n",
       " 'tamandaredetoledo']"
      ]
     },
     "execution_count": 747,
     "metadata": {},
     "output_type": "execute_result"
    }
   ],
   "source": [
    "nm.getNormalizedNames()"
   ]
  },
  {
   "cell_type": "markdown",
   "metadata": {},
   "source": [
    "---"
   ]
  },
  {
   "cell_type": "markdown",
   "metadata": {},
   "source": [
    "# Building the network"
   ]
  },
  {
   "cell_type": "code",
   "execution_count": 840,
   "metadata": {},
   "outputs": [],
   "source": [
    "import networkx\n",
    "import itertools\n",
    "from collections import Counter\n",
    "\n",
    "class CoworkingNetwork(networkx.Graph):\n",
    "    \"\"\"\n",
    "    Class for coworking networks. Extends networkx Graph class.\n",
    "    \n",
    "    Parameters\n",
    "    ----------\n",
    "    namesSets : iterable\n",
    "        An iterable of iterables containing names used to compose cliques \n",
    "        in the network.\n",
    "\n",
    "    weighted : bool, default False\n",
    "        If set to True the resulting network will have weighted edges\n",
    "        \n",
    "    Examples\n",
    "    --------\n",
    "    >>> namesSets = [ ['a','b','c'], ['d','e'], ['a','c'] ]\n",
    "    >>> CoworkingNetwork( namesSets, weighted=True).edges(data=True)\n",
    "    [('b', 'a', {'weight': 1}),\n",
    "     ('b', 'c', {'weight': 1}),\n",
    "     ('a', 'c', {'weight': 2}),\n",
    "     ('e', 'd', {'weight': 1})]\n",
    "    \n",
    "    >>> CoworkingNetwork( namesSets ).edges(data=True)\n",
    "    [('b', 'a', {}), \n",
    "     ('b', 'c', {}), \n",
    "     ('a', 'c', {}), \n",
    "     ('e', 'd', {})]\n",
    "    \"\"\"\n",
    "    def __init__(self, namesSets, weighted=False):\n",
    "        super().__init__()\n",
    "        cliques = map( lambda n: itertools.combinations(n,r=2), namesSets )\n",
    "        edges = [ e for edges in cliques for e in edges ]\n",
    "        self.add_edges_from(edges)\n",
    "        \n",
    "        if weighted:\n",
    "            edges_weights = Counter(edges)\n",
    "\n",
    "            for (u,v),w in edges_weights.items():\n",
    "                try:\n",
    "                    self[u][v]['weight'] += w\n",
    "                except:\n",
    "                    self[u][v]['weight'] = w        \n",
    "        return"
   ]
  },
  {
   "cell_type": "code",
   "execution_count": 856,
   "metadata": {},
   "outputs": [],
   "source": [
    "m = nm.getMap()\n",
    "names = ([ m[n] for n in names ] for names in occs_itatiaia_collaborative['recordedBy_atomized'])\n",
    "G = CoworkingNetwork( names, weighted=True)"
   ]
  },
  {
   "cell_type": "code",
   "execution_count": 858,
   "metadata": {},
   "outputs": [
    {
     "data": {
      "text/plain": [
       "[('msalazaryepes', {}),\n",
       " ('aacarvalho', {}),\n",
       " ('cmsakuragui', {}),\n",
       " ('fsantoro', {}),\n",
       " ('ifranca', {}),\n",
       " ('brade,ac', {}),\n",
       " ('lanstyak,l', {}),\n",
       " ('edpereira', {}),\n",
       " ('egle', {}),\n",
       " ('graziela', {}),\n",
       " ('apparicio', {}),\n",
       " ('edmundo', {}),\n",
       " ('dpcosta', {}),\n",
       " ('srgradstein', {}),\n",
       " ('mdmviannafilho', {}),\n",
       " ('acmota', {}),\n",
       " ('oswaldofidalgo', {}),\n",
       " ('kauffmannfidalgo', {}),\n",
       " ('silveiramelo,o', {}),\n",
       " ('occhioni,p', {}),\n",
       " ('luiz', {}),\n",
       " ('mpmdelima', {}),\n",
       " ('mbarros', {}),\n",
       " ('pilger', {}),\n",
       " ('tamandaredetoledo', {}),\n",
       " ('pjmaas', {}),\n",
       " ('gmartinelli', {}),\n",
       " ('ftoledojr', {}),\n",
       " ('lssylvestre', {}),\n",
       " ('lcsgiordano', {}),\n",
       " ('ssalgado', {})]"
      ]
     },
     "execution_count": 858,
     "metadata": {},
     "output_type": "execute_result"
    }
   ],
   "source": [
    "G.nodes(data=True)"
   ]
  },
  {
   "cell_type": "markdown",
   "metadata": {},
   "source": [
    "Set the number of records at itatiaia as the `n_records` attribute for each collector"
   ]
  },
  {
   "cell_type": "code",
   "execution_count": 871,
   "metadata": {},
   "outputs": [],
   "source": [
    "nrecords = dict( (n,len(ix)) for n,ix in getNamesIndexes(occs_itatiaia,'recordedBy_atomized',m).items() )\n",
    "nx.set_node_attributes(G, 'n_records',nrecords)"
   ]
  },
  {
   "cell_type": "code",
   "execution_count": 875,
   "metadata": {},
   "outputs": [],
   "source": [
    "nx.write_gexf(G,'./graph.gexf')"
   ]
  },
  {
   "cell_type": "code",
   "execution_count": 876,
   "metadata": {
    "collapsed": true
   },
   "outputs": [],
   "source": []
  },
  {
   "cell_type": "code",
   "execution_count": 878,
   "metadata": {
    "collapsed": true
   },
   "outputs": [],
   "source": [
    "import matplotlib.pyplot as plt\n",
    "%matplotlib inline"
   ]
  },
  {
   "cell_type": "code",
   "execution_count": null,
   "metadata": {
    "collapsed": true
   },
   "outputs": [],
   "source": []
  },
  {
   "cell_type": "code",
   "execution_count": 982,
   "metadata": {},
   "outputs": [
    {
     "ename": "AttributeError",
     "evalue": "'list' object has no attribute 'get'",
     "output_type": "error",
     "traceback": [
      "\u001b[0;31m---------------------------------------------------------------------------\u001b[0m",
      "\u001b[0;31mAttributeError\u001b[0m                            Traceback (most recent call last)",
      "\u001b[0;32m<ipython-input-982-8b44f4626cdc>\u001b[0m in \u001b[0;36m<module>\u001b[0;34m()\u001b[0m\n\u001b[0;32m----> 1\u001b[0;31m \u001b[0mG\u001b[0m\u001b[0;34m.\u001b[0m\u001b[0mnodes\u001b[0m\u001b[0;34m(\u001b[0m\u001b[0mdata\u001b[0m\u001b[0;34m=\u001b[0m\u001b[0;32mTrue\u001b[0m\u001b[0;34m)\u001b[0m\u001b[0;34m.\u001b[0m\u001b[0mget\u001b[0m\u001b[0;34m(\u001b[0m\u001b[0;34m)\u001b[0m\u001b[0;34m\u001b[0m\u001b[0m\n\u001b[0m",
      "\u001b[0;31mAttributeError\u001b[0m: 'list' object has no attribute 'get'"
     ]
    }
   ],
   "source": [
    "G.nodes(data=True).g"
   ]
  },
  {
   "cell_type": "code",
   "execution_count": 999,
   "metadata": {},
   "outputs": [
    {
     "data": {
      "text/plain": [
       "[('msalazaryepes', {'n_records': 1215}),\n",
       " ('aacarvalho', {'n_records': 1149}),\n",
       " ('brade,ac', {'n_records': 911}),\n",
       " ('ifranca', {'n_records': 161}),\n",
       " ('oswaldofidalgo', {'n_records': 110}),\n",
       " ('dpcosta', {'n_records': 103}),\n",
       " ('fsantoro', {'n_records': 100}),\n",
       " ('cmsakuragui', {'n_records': 79}),\n",
       " ('mpmdelima', {'n_records': 67}),\n",
       " ('kauffmannfidalgo', {'n_records': 42}),\n",
       " ('lanstyak,l', {'n_records': 41}),\n",
       " ('apparicio', {'n_records': 37}),\n",
       " ('luiz', {'n_records': 37}),\n",
       " ('tamandaredetoledo', {'n_records': 34}),\n",
       " ('gmartinelli', {'n_records': 26}),\n",
       " ('edpereira', {'n_records': 25}),\n",
       " ('srgradstein', {'n_records': 21}),\n",
       " ('occhioni,p', {'n_records': 15}),\n",
       " ('pjmaas', {'n_records': 14}),\n",
       " ('graziela', {'n_records': 4}),\n",
       " ('ftoledojr', {'n_records': 4}),\n",
       " ('edmundo', {'n_records': 3}),\n",
       " ('pilger', {'n_records': 3}),\n",
       " ('silveiramelo,o', {'n_records': 2}),\n",
       " ('lssylvestre', {'n_records': 2}),\n",
       " ('egle', {'n_records': 1}),\n",
       " ('mdmviannafilho', {'n_records': 1}),\n",
       " ('acmota', {'n_records': 1}),\n",
       " ('mbarros', {'n_records': 1}),\n",
       " ('lcsgiordano', {'n_records': 1}),\n",
       " ('ssalgado', {'n_records': 1})]"
      ]
     },
     "execution_count": 999,
     "metadata": {},
     "output_type": "execute_result"
    }
   ],
   "source": [
    "sorted(tuple(G.nodes(data=True)), key=lambda x: x[1]['n_records'], reverse=True )"
   ]
  },
  {
   "cell_type": "code",
   "execution_count": 1082,
   "metadata": {},
   "outputs": [
    {
     "data": {
      "image/png": "[encoded data removed]",
      "text/plain": [
       "<matplotlib.figure.Figure at 0x7f4dbaed5be0>"
      ]
     },
     "metadata": {},
     "output_type": "display_data"
    }
   ],
   "source": [
    "lt = nx.layout.spring_layout(G)\n",
    "pos = {\n",
    " 'msalazaryepes': (0.45,0.5),\n",
    " 'aacarvalho': (0.55,0.5)\n",
    "}\n",
    "lt.update(pos)\n",
    "\n",
    "edges = G.edges()\n",
    "edges_weights = [ G.edge[u][v]['weight'] for u,v in edges ]\n",
    "nodes = G.nodes()\n",
    "nodes_sizes = [ G.node[n]['n_records'] for n in nodes ]\n",
    "\n",
    "plt.figure(figsize=(14,14))\n",
    "plt.title('Collectors co-working network for records in Itatiaia (JBRJ dataset)', fontsize=18)\n",
    "plt.axis('off')\n",
    "nx.draw_networkx_nodes(G, lt, nodes, node_size=[10 if s<=10 else s for s in nodes_sizes])\n",
    "nx.draw_networkx_labels(G, lt, font_color='k')\n",
    "nx.draw_networkx_edges(G, lt, edges, width=[ 0.3 if w<=10 else w/80 for w in edges_weights], alpha=0.4 )\n",
    "\n",
    "plt.show()"
   ]
  }
 ],
 "metadata": {
  "kernelspec": {
   "display_name": "Python 3",
   "language": "python",
   "name": "python3"
  },
  "language_info": {
   "codemirror_mode": {
    "name": "ipython",
    "version": 3
   },
   "file_extension": ".py",
   "mimetype": "text/x-python",
   "name": "python",
   "nbconvert_exporter": "python",
   "pygments_lexer": "ipython3",
   "version": "3.6.1"
  }
 },
 "nbformat": 4,
 "nbformat_minor": 2
}
