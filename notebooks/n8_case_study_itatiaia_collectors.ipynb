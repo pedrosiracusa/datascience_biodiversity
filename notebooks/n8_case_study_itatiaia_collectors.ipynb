{
 "cells": [
  {
   "cell_type": "markdown",
   "metadata": {},
   "source": [
    "# <center>Case Study: Co-working network at the Itatiaia municipality</center>\n",
    "## <center>JBRJ species occurrence dataset</center>\n",
    "\n",
    "#### <center>Author: Pedro Correia de Siracusa</center>\n",
    "#### <center>Date: Sep 26, 2017</center>"
   ]
  },
  {
   "cell_type": "markdown",
   "metadata": {},
   "source": [
    "This notebook is a case study with records from the Itatiaia municipality, at the Rio de Janeiro state, Brazil. Created on 1937 by president Getúlio Vargas, the Itatiaia National Park is the oldest national park in Brazil, and was therefore hypothesized to be one of the most thoroughly sampled regions for the JBRJ species occurrence dataset (personal communication from the JBRJ dataset curator and research team). In this notebook I will verify how suitable this subset is for assembling a collectors co-working network. "
   ]
  },
  {
   "cell_type": "markdown",
   "metadata": {},
   "source": [
    "The model's quality mostly depends on the quality of the `recordedBy` column, which stores the names of the collectors responsible for each record. Some important quality attributes for this field are:\n",
    "\n",
    "1) low number of spelling variations for each name. Some variation might exist as a result of names or surnames being misspelled or ommited;\n",
    "\n",
    "2) standardized structure of collectors' names and delimiters. Ideally, we would require a unique authorship naming standard to be used for the entire dataset, as well as using consistent delimiters for separating entities. [TDWG](http://rs.tdwg.org/dwc/) recommends using the '|' character as the delimiter.\n",
    "\n",
    "3) inclusion of the names of all collectors responsible for a record, as opposed to including non-primary collectors as *et al.* or simply omitting them;"
   ]
  },
  {
   "cell_type": "markdown",
   "metadata": {},
   "source": [
    "Moreover, in this notebook I will introduce two new classes for simplifying the routine of building a co-working network from biodiversity occurrene datasets: the `NamesIndex` class and the `CoworkingNetwork` class. I will also reuse some functions which were defined in previous notebooks."
   ]
  },
  {
   "cell_type": "code",
   "execution_count": 1,
   "metadata": {
    "collapsed": true
   },
   "outputs": [],
   "source": [
    "import numpy as np\n",
    "import pandas as pd\n",
    "import matplotlib.pyplot as plt\n",
    "import networkx as nx\n",
    "\n",
    "%matplotlib inline"
   ]
  },
  {
   "cell_type": "code",
   "execution_count": 2,
   "metadata": {
    "collapsed": true
   },
   "outputs": [],
   "source": [
    "# functions defined on notebook 5\n",
    "\n",
    "import re\n",
    "import unicodedata, string\n",
    "\n",
    "def namesFromString( namesStr, splitOn=';', unique=False, preserveOrder=False ):\n",
    "    if type(splitOn)==str:\n",
    "        namesSplit = namesStr.split(splitOn)\n",
    "        \n",
    "    elif type(splitOn)==list:\n",
    "        namesSplit = re.split( '|'.join( c for c in splitOn ) ,namesStr)\n",
    "    \n",
    "    namesList = [ n for n in [ name.strip() for name in namesSplit ] if n!='' ]\n",
    "    \n",
    "    if unique:\n",
    "        if not preserveOrder: return list(set(namesList))\n",
    "        else:\n",
    "            namesCounts = dict( (n,0) for n in namesList )\n",
    "            unique_namesList = []\n",
    "            for n in namesList:\n",
    "                if namesCounts[n]: continue\n",
    "                namesCounts[n]+=1\n",
    "                unique_namesList.append(n)\n",
    "        return unique_namesList   \n",
    "    \n",
    "    return namesList\n",
    "\n",
    "\n",
    "def normalize(name, normalizationForm='NFKD'):\n",
    "    name = name.lower() # to lowecase\n",
    "    name = name.replace('.','') # remove periods\n",
    "    name_ls = tuple( part.strip() for part in name.split(',') ) # split and strip names into tuples\n",
    "\n",
    "    normalize = lambda s: ''.join( x for x in unicodedata.normalize(normalizationForm, s) if x in string.ascii_letters ) # remove accents\n",
    "    name_ls = tuple( normalize(name) for name in name_ls )\n",
    "    \n",
    "    return ','.join(name_ls)"
   ]
  },
  {
   "cell_type": "markdown",
   "metadata": {},
   "source": [
    "---"
   ]
  },
  {
   "cell_type": "markdown",
   "metadata": {},
   "source": [
    "### The JBRJ occurrence dataset"
   ]
  },
  {
   "cell_type": "markdown",
   "metadata": {},
   "source": [
    "The dataset used in this case study is the [Rio de Janeiro Botanical Garden Herbarium Collection](http://ipt.jbrj.gov.br/jbrj/resource?r=jbrj_rb), available from the JBRJ [IPT](http://ipt.jbrj.gov.br/jbrj/)."
   ]
  },
  {
   "cell_type": "code",
   "execution_count": 3,
   "metadata": {
    "collapsed": true
   },
   "outputs": [],
   "source": [
    "datasetpath = '/home/pedro/datasets/jbrj_herbarium/occurrence.txt'"
   ]
  },
  {
   "cell_type": "code",
   "execution_count": 4,
   "metadata": {},
   "outputs": [],
   "source": [
    "colnames = ['recordedBy', 'taxonRank', 'scientificName', 'eventDate',\n",
    "            'occurrenceID', 'collectionCode', 'stateProvince', \n",
    "            'locality', 'countryCode', 'county']\n",
    "occs = pd.read_csv(datasetpath, sep='\\t', usecols=colnames)"
   ]
  },
  {
   "cell_type": "markdown",
   "metadata": {},
   "source": [
    "Here I'm specifically interested in records from the Itatiaia municipality which hold information on the collectors identities. I will therefore filter out records outside the Itatiaia municipality and those for which the `recordedBy` attribute is null. Notice that this dataset is composed by records from multiple institutions, as can be verified by inspecting the `collectionCode` column."
   ]
  },
  {
   "cell_type": "code",
   "execution_count": 5,
   "metadata": {
    "collapsed": true
   },
   "outputs": [],
   "source": [
    "occs_itatiaia = occs[occs['county'].apply(lambda x: 'Itatiaia' in str(x))]\n",
    "occs_itatiaia = occs_itatiaia[occs_itatiaia['recordedBy'].notnull()]"
   ]
  },
  {
   "cell_type": "code",
   "execution_count": 6,
   "metadata": {},
   "outputs": [
    {
     "data": {
      "text/html": [
       "<div>\n",
       "<style>\n",
       "    .dataframe thead tr:only-child th {\n",
       "        text-align: right;\n",
       "    }\n",
       "\n",
       "    .dataframe thead th {\n",
       "        text-align: left;\n",
       "    }\n",
       "\n",
       "    .dataframe tbody tr th {\n",
       "        vertical-align: top;\n",
       "    }\n",
       "</style>\n",
       "<table border=\"1\" class=\"dataframe\">\n",
       "  <thead>\n",
       "    <tr style=\"text-align: right;\">\n",
       "      <th></th>\n",
       "      <th>collectionCode</th>\n",
       "      <th>occurrenceID</th>\n",
       "      <th>recordedBy</th>\n",
       "      <th>eventDate</th>\n",
       "      <th>countryCode</th>\n",
       "      <th>stateProvince</th>\n",
       "      <th>county</th>\n",
       "      <th>locality</th>\n",
       "      <th>scientificName</th>\n",
       "      <th>taxonRank</th>\n",
       "    </tr>\n",
       "  </thead>\n",
       "  <tbody>\n",
       "    <tr>\n",
       "      <th>169</th>\n",
       "      <td>RB</td>\n",
       "      <td>urn:catalog:JBRJ:RB:327442</td>\n",
       "      <td>R.W.Kaempfe</td>\n",
       "      <td>1931-03-03</td>\n",
       "      <td>BR</td>\n",
       "      <td>Rio de Janeiro</td>\n",
       "      <td>Itatiaia</td>\n",
       "      <td>Serra da Mantiqueira.</td>\n",
       "      <td>ROSACEAE Fragaria</td>\n",
       "      <td>genus</td>\n",
       "    </tr>\n",
       "    <tr>\n",
       "      <th>225</th>\n",
       "      <td>RB</td>\n",
       "      <td>urn:catalog:JBRJ:RB:379779</td>\n",
       "      <td>P. Campos Porto</td>\n",
       "      <td>1918-08-20</td>\n",
       "      <td>BR</td>\n",
       "      <td>Rio de Janeiro</td>\n",
       "      <td>Itatiaia</td>\n",
       "      <td>Lactiferos.</td>\n",
       "      <td>SAPOTACEAE</td>\n",
       "      <td>family</td>\n",
       "    </tr>\n",
       "    <tr>\n",
       "      <th>306</th>\n",
       "      <td>ITA</td>\n",
       "      <td>urn:catalog:JBRJ:RB:477401</td>\n",
       "      <td>José Adaltro Lemes</td>\n",
       "      <td>1977-10-04</td>\n",
       "      <td>BR</td>\n",
       "      <td>Rio de Janeiro</td>\n",
       "      <td>Itatiaia</td>\n",
       "      <td>Macieiras.</td>\n",
       "      <td>SYMPLOCACEAE</td>\n",
       "      <td>family</td>\n",
       "    </tr>\n",
       "    <tr>\n",
       "      <th>310</th>\n",
       "      <td>ITA</td>\n",
       "      <td>urn:catalog:JBRJ:RB:478924</td>\n",
       "      <td>J. J. Sampaio</td>\n",
       "      <td>1942-09-25</td>\n",
       "      <td>BR</td>\n",
       "      <td>Rio de Janeiro</td>\n",
       "      <td>Itatiaia</td>\n",
       "      <td>Repouso Itatiaiai.</td>\n",
       "      <td>SOLANACEAE Solanum</td>\n",
       "      <td>genus</td>\n",
       "    </tr>\n",
       "    <tr>\n",
       "      <th>408</th>\n",
       "      <td>RUSU</td>\n",
       "      <td>urn:catalog:JBRJ:RB:679739</td>\n",
       "      <td>Camerik, A.M.</td>\n",
       "      <td>1975-04-23</td>\n",
       "      <td>BR</td>\n",
       "      <td>Rio de Janeiro</td>\n",
       "      <td>Itatiaia</td>\n",
       "      <td>NaN</td>\n",
       "      <td>AQUIFOLIACEAE Ilex</td>\n",
       "      <td>genus</td>\n",
       "    </tr>\n",
       "    <tr>\n",
       "      <th>514</th>\n",
       "      <td>RB</td>\n",
       "      <td>urn:catalog:JBRJ:RB:554980</td>\n",
       "      <td>M. Salazar Yepes</td>\n",
       "      <td>NaN</td>\n",
       "      <td>BR</td>\n",
       "      <td>Rio de Janeiro</td>\n",
       "      <td>Itatiaia</td>\n",
       "      <td>PARNA-Itatiaia, trilha três Picos.</td>\n",
       "      <td>INDETERMINADA</td>\n",
       "      <td>family</td>\n",
       "    </tr>\n",
       "    <tr>\n",
       "      <th>517</th>\n",
       "      <td>RB</td>\n",
       "      <td>urn:catalog:JBRJ:RB:560431</td>\n",
       "      <td>M. Salazar Yepes &amp; A.A. Carvalho Jr.</td>\n",
       "      <td>NaN</td>\n",
       "      <td>BR</td>\n",
       "      <td>Rio de Janeiro</td>\n",
       "      <td>Itatiaia</td>\n",
       "      <td>PARNA-Itatiaia, na estrada Portaria Principal-...</td>\n",
       "      <td>INDETERMINADA</td>\n",
       "      <td>family</td>\n",
       "    </tr>\n",
       "    <tr>\n",
       "      <th>705</th>\n",
       "      <td>RB</td>\n",
       "      <td>urn:catalog:JBRJ:RB:1006065</td>\n",
       "      <td>M. Salazar Yepes &amp; A.A. Carvalho Jr.</td>\n",
       "      <td>2007-8-7</td>\n",
       "      <td>BR</td>\n",
       "      <td>Rio de Janeiro</td>\n",
       "      <td>Itatiaia</td>\n",
       "      <td>NaN</td>\n",
       "      <td>PUCCINIALES Phakopsora rossmanii</td>\n",
       "      <td>specie</td>\n",
       "    </tr>\n",
       "    <tr>\n",
       "      <th>741</th>\n",
       "      <td>RB</td>\n",
       "      <td>urn:catalog:JBRJ:RB:145779</td>\n",
       "      <td>A. Mello</td>\n",
       "      <td>NaN</td>\n",
       "      <td>BR</td>\n",
       "      <td>Rio de Janeiro</td>\n",
       "      <td>Itatiaia</td>\n",
       "      <td>NaN</td>\n",
       "      <td>LEGUMINOSAE Melanoxylon brauna Schott</td>\n",
       "      <td>specie</td>\n",
       "    </tr>\n",
       "    <tr>\n",
       "      <th>1253</th>\n",
       "      <td>ITA</td>\n",
       "      <td>urn:catalog:JBRJ:RB:477461</td>\n",
       "      <td>P. C. Porto</td>\n",
       "      <td>1918</td>\n",
       "      <td>BR</td>\n",
       "      <td>Rio de Janeiro</td>\n",
       "      <td>Itatiaia</td>\n",
       "      <td>NaN</td>\n",
       "      <td>SAPINDACEAE</td>\n",
       "      <td>family</td>\n",
       "    </tr>\n",
       "  </tbody>\n",
       "</table>\n",
       "</div>"
      ],
      "text/plain": [
       "     collectionCode                 occurrenceID  \\\n",
       "169              RB   urn:catalog:JBRJ:RB:327442   \n",
       "225              RB   urn:catalog:JBRJ:RB:379779   \n",
       "306             ITA   urn:catalog:JBRJ:RB:477401   \n",
       "310             ITA   urn:catalog:JBRJ:RB:478924   \n",
       "408            RUSU   urn:catalog:JBRJ:RB:679739   \n",
       "514              RB   urn:catalog:JBRJ:RB:554980   \n",
       "517              RB   urn:catalog:JBRJ:RB:560431   \n",
       "705              RB  urn:catalog:JBRJ:RB:1006065   \n",
       "741              RB   urn:catalog:JBRJ:RB:145779   \n",
       "1253            ITA   urn:catalog:JBRJ:RB:477461   \n",
       "\n",
       "                                recordedBy   eventDate countryCode  \\\n",
       "169                            R.W.Kaempfe  1931-03-03          BR   \n",
       "225                        P. Campos Porto  1918-08-20          BR   \n",
       "306                     José Adaltro Lemes  1977-10-04          BR   \n",
       "310                          J. J. Sampaio  1942-09-25          BR   \n",
       "408                          Camerik, A.M.  1975-04-23          BR   \n",
       "514                       M. Salazar Yepes         NaN          BR   \n",
       "517   M. Salazar Yepes & A.A. Carvalho Jr.         NaN          BR   \n",
       "705   M. Salazar Yepes & A.A. Carvalho Jr.    2007-8-7          BR   \n",
       "741                               A. Mello         NaN          BR   \n",
       "1253                           P. C. Porto        1918          BR   \n",
       "\n",
       "       stateProvince    county  \\\n",
       "169   Rio de Janeiro  Itatiaia   \n",
       "225   Rio de Janeiro  Itatiaia   \n",
       "306   Rio de Janeiro  Itatiaia   \n",
       "310   Rio de Janeiro  Itatiaia   \n",
       "408   Rio de Janeiro  Itatiaia   \n",
       "514   Rio de Janeiro  Itatiaia   \n",
       "517   Rio de Janeiro  Itatiaia   \n",
       "705   Rio de Janeiro  Itatiaia   \n",
       "741   Rio de Janeiro  Itatiaia   \n",
       "1253  Rio de Janeiro  Itatiaia   \n",
       "\n",
       "                                               locality  \\\n",
       "169                               Serra da Mantiqueira.   \n",
       "225                                         Lactiferos.   \n",
       "306                                          Macieiras.   \n",
       "310                                  Repouso Itatiaiai.   \n",
       "408                                                 NaN   \n",
       "514                  PARNA-Itatiaia, trilha três Picos.   \n",
       "517   PARNA-Itatiaia, na estrada Portaria Principal-...   \n",
       "705                                                 NaN   \n",
       "741                                                 NaN   \n",
       "1253                                                NaN   \n",
       "\n",
       "                             scientificName taxonRank  \n",
       "169                       ROSACEAE Fragaria     genus  \n",
       "225                              SAPOTACEAE    family  \n",
       "306                            SYMPLOCACEAE    family  \n",
       "310                      SOLANACEAE Solanum     genus  \n",
       "408                      AQUIFOLIACEAE Ilex     genus  \n",
       "514                           INDETERMINADA    family  \n",
       "517                           INDETERMINADA    family  \n",
       "705        PUCCINIALES Phakopsora rossmanii    specie  \n",
       "741   LEGUMINOSAE Melanoxylon brauna Schott    specie  \n",
       "1253                            SAPINDACEAE    family  "
      ]
     },
     "execution_count": 6,
     "metadata": {},
     "output_type": "execute_result"
    }
   ],
   "source": [
    "occs_itatiaia.head(10)"
   ]
  },
  {
   "cell_type": "markdown",
   "metadata": {},
   "source": [
    "---"
   ]
  },
  {
   "cell_type": "markdown",
   "metadata": {},
   "source": [
    "## 1. Atomizing names"
   ]
  },
  {
   "cell_type": "markdown",
   "metadata": {},
   "source": [
    "The first step to obtain names from the dataset is to make them atomic. Let's create a new column named `recordedBy_atomized` which stores lists of collectors' names, as extracted by the `atomizeNames` function below. It takes as arguments a data frame, the name of the column to be atomized, an atomizing function or expression to be applied to non-atomic strings of names, the indexes of the records to be atomized and the name of the column to store atomized names. The dataframe is changed inplace."
   ]
  },
  {
   "cell_type": "code",
   "execution_count": 7,
   "metadata": {
    "collapsed": true
   },
   "outputs": [],
   "source": [
    "def atomizeNames( df, colName, atomizingFunction, recordsIndex=None, atomizedColName=None  ):\n",
    "    if not atomizedColName:\n",
    "        atomizedColName = colName+\"_atomized\"\n",
    "    \n",
    "    if recordsIndex:\n",
    "        df.loc[recordsIndex,atomizedColName] = df.loc[recordsIndex,colName].apply( atomizingFunction )\n",
    "    else: # atomize the entire dataframe\n",
    "        df.loc[:,atomizedColName] = df.loc[:,colName].apply( atomizingFunction )"
   ]
  },
  {
   "cell_type": "code",
   "execution_count": 8,
   "metadata": {},
   "outputs": [
    {
     "data": {
      "text/html": [
       "<div>\n",
       "<style>\n",
       "    .dataframe thead tr:only-child th {\n",
       "        text-align: right;\n",
       "    }\n",
       "\n",
       "    .dataframe thead th {\n",
       "        text-align: left;\n",
       "    }\n",
       "\n",
       "    .dataframe tbody tr th {\n",
       "        vertical-align: top;\n",
       "    }\n",
       "</style>\n",
       "<table border=\"1\" class=\"dataframe\">\n",
       "  <thead>\n",
       "    <tr style=\"text-align: right;\">\n",
       "      <th></th>\n",
       "      <th>collectionCode</th>\n",
       "      <th>occurrenceID</th>\n",
       "      <th>recordedBy</th>\n",
       "      <th>eventDate</th>\n",
       "      <th>countryCode</th>\n",
       "      <th>stateProvince</th>\n",
       "      <th>county</th>\n",
       "      <th>locality</th>\n",
       "      <th>scientificName</th>\n",
       "      <th>taxonRank</th>\n",
       "      <th>recordedBy_atomized</th>\n",
       "    </tr>\n",
       "  </thead>\n",
       "  <tbody>\n",
       "    <tr>\n",
       "      <th>169</th>\n",
       "      <td>RB</td>\n",
       "      <td>urn:catalog:JBRJ:RB:327442</td>\n",
       "      <td>R.W.Kaempfe</td>\n",
       "      <td>1931-03-03</td>\n",
       "      <td>BR</td>\n",
       "      <td>Rio de Janeiro</td>\n",
       "      <td>Itatiaia</td>\n",
       "      <td>Serra da Mantiqueira.</td>\n",
       "      <td>ROSACEAE Fragaria</td>\n",
       "      <td>genus</td>\n",
       "      <td>[R.W.Kaempfe]</td>\n",
       "    </tr>\n",
       "    <tr>\n",
       "      <th>225</th>\n",
       "      <td>RB</td>\n",
       "      <td>urn:catalog:JBRJ:RB:379779</td>\n",
       "      <td>P. Campos Porto</td>\n",
       "      <td>1918-08-20</td>\n",
       "      <td>BR</td>\n",
       "      <td>Rio de Janeiro</td>\n",
       "      <td>Itatiaia</td>\n",
       "      <td>Lactiferos.</td>\n",
       "      <td>SAPOTACEAE</td>\n",
       "      <td>family</td>\n",
       "      <td>[P. Campos Porto]</td>\n",
       "    </tr>\n",
       "    <tr>\n",
       "      <th>306</th>\n",
       "      <td>ITA</td>\n",
       "      <td>urn:catalog:JBRJ:RB:477401</td>\n",
       "      <td>José Adaltro Lemes</td>\n",
       "      <td>1977-10-04</td>\n",
       "      <td>BR</td>\n",
       "      <td>Rio de Janeiro</td>\n",
       "      <td>Itatiaia</td>\n",
       "      <td>Macieiras.</td>\n",
       "      <td>SYMPLOCACEAE</td>\n",
       "      <td>family</td>\n",
       "      <td>[José Adaltro Lemes]</td>\n",
       "    </tr>\n",
       "    <tr>\n",
       "      <th>310</th>\n",
       "      <td>ITA</td>\n",
       "      <td>urn:catalog:JBRJ:RB:478924</td>\n",
       "      <td>J. J. Sampaio</td>\n",
       "      <td>1942-09-25</td>\n",
       "      <td>BR</td>\n",
       "      <td>Rio de Janeiro</td>\n",
       "      <td>Itatiaia</td>\n",
       "      <td>Repouso Itatiaiai.</td>\n",
       "      <td>SOLANACEAE Solanum</td>\n",
       "      <td>genus</td>\n",
       "      <td>[J. J. Sampaio]</td>\n",
       "    </tr>\n",
       "    <tr>\n",
       "      <th>408</th>\n",
       "      <td>RUSU</td>\n",
       "      <td>urn:catalog:JBRJ:RB:679739</td>\n",
       "      <td>Camerik, A.M.</td>\n",
       "      <td>1975-04-23</td>\n",
       "      <td>BR</td>\n",
       "      <td>Rio de Janeiro</td>\n",
       "      <td>Itatiaia</td>\n",
       "      <td>NaN</td>\n",
       "      <td>AQUIFOLIACEAE Ilex</td>\n",
       "      <td>genus</td>\n",
       "      <td>[Camerik, A.M.]</td>\n",
       "    </tr>\n",
       "  </tbody>\n",
       "</table>\n",
       "</div>"
      ],
      "text/plain": [
       "    collectionCode                occurrenceID          recordedBy  \\\n",
       "169             RB  urn:catalog:JBRJ:RB:327442         R.W.Kaempfe   \n",
       "225             RB  urn:catalog:JBRJ:RB:379779     P. Campos Porto   \n",
       "306            ITA  urn:catalog:JBRJ:RB:477401  José Adaltro Lemes   \n",
       "310            ITA  urn:catalog:JBRJ:RB:478924       J. J. Sampaio   \n",
       "408           RUSU  urn:catalog:JBRJ:RB:679739       Camerik, A.M.   \n",
       "\n",
       "      eventDate countryCode   stateProvince    county               locality  \\\n",
       "169  1931-03-03          BR  Rio de Janeiro  Itatiaia  Serra da Mantiqueira.   \n",
       "225  1918-08-20          BR  Rio de Janeiro  Itatiaia            Lactiferos.   \n",
       "306  1977-10-04          BR  Rio de Janeiro  Itatiaia             Macieiras.   \n",
       "310  1942-09-25          BR  Rio de Janeiro  Itatiaia     Repouso Itatiaiai.   \n",
       "408  1975-04-23          BR  Rio de Janeiro  Itatiaia                    NaN   \n",
       "\n",
       "         scientificName taxonRank   recordedBy_atomized  \n",
       "169   ROSACEAE Fragaria     genus         [R.W.Kaempfe]  \n",
       "225          SAPOTACEAE    family     [P. Campos Porto]  \n",
       "306        SYMPLOCACEAE    family  [José Adaltro Lemes]  \n",
       "310  SOLANACEAE Solanum     genus       [J. J. Sampaio]  \n",
       "408  AQUIFOLIACEAE Ilex     genus       [Camerik, A.M.]  "
      ]
     },
     "execution_count": 8,
     "metadata": {},
     "output_type": "execute_result"
    }
   ],
   "source": [
    "atomizingOperation = lambda ns: namesFromString(ns, splitOn=['&',';',' e ']) \n",
    "\n",
    "atomizeNames(occs_itatiaia, 'recordedBy', atomizingOperation)\n",
    "occs_itatiaia.head()"
   ]
  },
  {
   "cell_type": "markdown",
   "metadata": {},
   "source": [
    "Here I'm particularly interested in **collaborative records**, those which were recorded by more than one collector. In order to get them I'll simply count the number of elements in the names list at the `recordedBy_atomized` column for each record. Records with more than one element will be considered collaborative."
   ]
  },
  {
   "cell_type": "code",
   "execution_count": 9,
   "metadata": {
    "collapsed": true
   },
   "outputs": [],
   "source": [
    "occs_itatiaia_collaborative = occs_itatiaia[occs_itatiaia['recordedBy_atomized'].apply(lambda l: len(l)>1)]"
   ]
  },
  {
   "cell_type": "markdown",
   "metadata": {},
   "source": [
    "As it turns out the percentage of collaborative records for the records at Itatiaia is relatively low:"
   ]
  },
  {
   "cell_type": "code",
   "execution_count": 10,
   "metadata": {},
   "outputs": [
    {
     "name": "stdout",
     "output_type": "stream",
     "text": [
      "Collaborative records at Itatiaia\n",
      "\tTotal number: 1192;\n",
      "\tPercentual: 8.03%\n"
     ]
    }
   ],
   "source": [
    "print(\"Collaborative records at Itatiaia\\n\\tTotal number: {};\\n\\tPercentual: {:.2%}\".format(\n",
    "    occs_itatiaia_collaborative.shape[0],\n",
    "    occs_itatiaia_collaborative.shape[0]/occs_itatiaia.shape[0]))"
   ]
  },
  {
   "cell_type": "markdown",
   "metadata": {},
   "source": [
    "Below I get a list of collaborative collectors in Itatiaia. Notice that some names are probably spelling variations of others, and therefore refer to the same entity. For example `'A.A. Carvalho Jr.'` probably refers to the same entity as `'A.A.Carvalho'`. I'll address this issue in the next section, by mapping names variants. By now let's deal with the issue that some records were not properly atomized, as it is the case of `'M. Salazar Yepes, A.A. Carvalho Jr.'` and `'Ed. Pereira, Egle,'`. After all before normalizing and mapping names variations we must ensure that names are atomic, which means they refer to a single entity."
   ]
  },
  {
   "cell_type": "code",
   "execution_count": 11,
   "metadata": {},
   "outputs": [
    {
     "data": {
      "text/plain": [
       "['A. C. Brade',\n",
       " 'A.A. Carvalho Jr.',\n",
       " 'A.A.Carvalho',\n",
       " 'A.C.Mota',\n",
       " 'Aparicio',\n",
       " 'Apparicio',\n",
       " 'Brade',\n",
       " 'Brade, A. C.',\n",
       " 'C.M. Sakuragui',\n",
       " 'D. P. Costa',\n",
       " 'D.P.Costa',\n",
       " 'Ed. Pereira, Egle,',\n",
       " 'Edmundo',\n",
       " 'F. Santoro',\n",
       " 'F. Toledo Jr.',\n",
       " 'Fidalgo, K.',\n",
       " 'Fidalgo, O.',\n",
       " 'Fildalgo',\n",
       " 'G. Martinelli',\n",
       " 'Graziela',\n",
       " 'I. França',\n",
       " 'K.Fidalgo',\n",
       " 'Kauffmann Fidalfo Eg-07',\n",
       " 'Kauffmann Fidalgo',\n",
       " 'L. C. S. Giordano',\n",
       " 'L. S. Sylvestre',\n",
       " 'L.A.F',\n",
       " 'Lanstsyak, L.',\n",
       " 'Lanstyak, L.',\n",
       " 'Luiz',\n",
       " 'M. Barros',\n",
       " 'M. Salazar Yepes',\n",
       " 'M. Salazar Yepes, A.A. Carvalho Jr.',\n",
       " 'M.D.M.Vianna Filho 2020',\n",
       " 'M.E. Kauffmann Fidalgo',\n",
       " 'M.P.M. de Lima',\n",
       " 'M.Salazar Yepes',\n",
       " 'O. Fidalgo',\n",
       " 'O.Fidalgo',\n",
       " 'O.fidalgo',\n",
       " 'Occhioni, P.',\n",
       " 'Oswaldo Fidalgo',\n",
       " 'P.J.L. Maas',\n",
       " 'P.J.M. Maas',\n",
       " 'Prof Pilger',\n",
       " 'S. R. Gradstein',\n",
       " 'S. Salgado',\n",
       " 'S.R.Gradstein',\n",
       " 'Santos Filho',\n",
       " 'Silveira Melo, O.',\n",
       " 'Silveira, O.',\n",
       " 'Tamandaré',\n",
       " 'Tamandaré de Toledo',\n",
       " 'Toledo']"
      ]
     },
     "execution_count": 11,
     "metadata": {},
     "output_type": "execute_result"
    }
   ],
   "source": [
    "namesList = lambda col: sorted(list(set( n for nlst in col for n in nlst )))\n",
    "namesList(occs_itatiaia_collaborative['recordedBy_atomized'])"
   ]
  },
  {
   "cell_type": "markdown",
   "metadata": {},
   "source": [
    "### 1.1 Reatomizing some of the names"
   ]
  },
  {
   "cell_type": "markdown",
   "metadata": {},
   "source": [
    "The routine below selectively reatomizes records for which collector names are included in the `namesToReatomize` list. This is performed by applying another **atomization rule** (the `atomizeName` operation below) to the previously atomized `recordedBy_atomized` field of the target records."
   ]
  },
  {
   "cell_type": "code",
   "execution_count": 12,
   "metadata": {
    "collapsed": true
   },
   "outputs": [],
   "source": [
    "namesToReatomize = [ 'M. Salazar Yepes, A.A. Carvalho Jr.', 'Ed. Pereira, Egle,']\n",
    "\n",
    "atomizeName = lambda n: namesFromString(n, splitOn=',') \n",
    "atomizeRow = lambda r: [n for nl in ( atomizeName(n) if n in namesToReatomize else [n] for n in r ) for n in nl ]\n",
    "\n",
    "occs_itatiaia['recordedBy_atomized'] = occs_itatiaia['recordedBy_atomized'].apply(atomizeRow)"
   ]
  },
  {
   "cell_type": "markdown",
   "metadata": {},
   "source": [
    "Now we must refilter the collaborative records"
   ]
  },
  {
   "cell_type": "code",
   "execution_count": 13,
   "metadata": {
    "collapsed": true
   },
   "outputs": [],
   "source": [
    "occs_itatiaia_collaborative = occs_itatiaia[occs_itatiaia['recordedBy_atomized'].apply(lambda l: len(l)>1)]"
   ]
  },
  {
   "cell_type": "markdown",
   "metadata": {},
   "source": [
    "And check the new names list"
   ]
  },
  {
   "cell_type": "code",
   "execution_count": 14,
   "metadata": {},
   "outputs": [
    {
     "data": {
      "text/plain": [
       "['A. C. Brade',\n",
       " 'A.A. Carvalho Jr.',\n",
       " 'A.A.Carvalho',\n",
       " 'A.C.Mota',\n",
       " 'Aparicio',\n",
       " 'Apparicio',\n",
       " 'Brade',\n",
       " 'Brade, A. C.',\n",
       " 'C.M. Sakuragui',\n",
       " 'D. P. Costa',\n",
       " 'D.P.Costa',\n",
       " 'Ed. Pereira',\n",
       " 'Edmundo',\n",
       " 'Egle',\n",
       " 'F. Santoro',\n",
       " 'F. Toledo Jr.',\n",
       " 'Fidalgo, K.',\n",
       " 'Fidalgo, O.',\n",
       " 'Fildalgo',\n",
       " 'G. Martinelli',\n",
       " 'Graziela',\n",
       " 'I. França',\n",
       " 'K.Fidalgo',\n",
       " 'Kauffmann Fidalfo Eg-07',\n",
       " 'Kauffmann Fidalgo',\n",
       " 'L. C. S. Giordano',\n",
       " 'L. S. Sylvestre',\n",
       " 'L.A.F',\n",
       " 'Lanstsyak, L.',\n",
       " 'Lanstyak, L.',\n",
       " 'Luiz',\n",
       " 'M. Barros',\n",
       " 'M. Salazar Yepes',\n",
       " 'M.D.M.Vianna Filho 2020',\n",
       " 'M.E. Kauffmann Fidalgo',\n",
       " 'M.P.M. de Lima',\n",
       " 'M.Salazar Yepes',\n",
       " 'O. Fidalgo',\n",
       " 'O.Fidalgo',\n",
       " 'O.fidalgo',\n",
       " 'Occhioni, P.',\n",
       " 'Oswaldo Fidalgo',\n",
       " 'P.J.L. Maas',\n",
       " 'P.J.M. Maas',\n",
       " 'Prof Pilger',\n",
       " 'S. R. Gradstein',\n",
       " 'S. Salgado',\n",
       " 'S.R.Gradstein',\n",
       " 'Santos Filho',\n",
       " 'Silveira Melo, O.',\n",
       " 'Silveira, O.',\n",
       " 'Tamandaré',\n",
       " 'Tamandaré de Toledo',\n",
       " 'Toledo']"
      ]
     },
     "execution_count": 14,
     "metadata": {},
     "output_type": "execute_result"
    }
   ],
   "source": [
    "namesList = lambda col: sorted(list(set( n for nlst in col for n in nlst )))\n",
    "namesList(occs_itatiaia_collaborative['recordedBy_atomized'])"
   ]
  },
  {
   "cell_type": "markdown",
   "metadata": {},
   "source": [
    "### 1.2 Joining improperly atomized names"
   ]
  },
  {
   "cell_type": "markdown",
   "metadata": {},
   "source": [
    "It might also be the case that some of the names in the atomized names column should not have been split. The name `'L.A.F'` for example might be actually name initials improperly separated from the last name with a semicolon character, which was used as a delimiter during the atomization process:"
   ]
  },
  {
   "cell_type": "code",
   "execution_count": 15,
   "metadata": {},
   "outputs": [
    {
     "data": {
      "text/html": [
       "<div>\n",
       "<style>\n",
       "    .dataframe thead tr:only-child th {\n",
       "        text-align: right;\n",
       "    }\n",
       "\n",
       "    .dataframe thead th {\n",
       "        text-align: left;\n",
       "    }\n",
       "\n",
       "    .dataframe tbody tr th {\n",
       "        vertical-align: top;\n",
       "    }\n",
       "</style>\n",
       "<table border=\"1\" class=\"dataframe\">\n",
       "  <thead>\n",
       "    <tr style=\"text-align: right;\">\n",
       "      <th></th>\n",
       "      <th>collectionCode</th>\n",
       "      <th>occurrenceID</th>\n",
       "      <th>recordedBy</th>\n",
       "      <th>eventDate</th>\n",
       "      <th>countryCode</th>\n",
       "      <th>stateProvince</th>\n",
       "      <th>county</th>\n",
       "      <th>locality</th>\n",
       "      <th>scientificName</th>\n",
       "      <th>taxonRank</th>\n",
       "      <th>recordedBy_atomized</th>\n",
       "    </tr>\n",
       "  </thead>\n",
       "  <tbody>\n",
       "    <tr>\n",
       "      <th>64066</th>\n",
       "      <td>RB</td>\n",
       "      <td>urn:catalog:JBRJ:RB:573945</td>\n",
       "      <td>L.A.F; Santos Filho</td>\n",
       "      <td>2009-09-21</td>\n",
       "      <td>BR</td>\n",
       "      <td>Rio de Janeiro</td>\n",
       "      <td>Itatiaia</td>\n",
       "      <td>Em fragmento florestal no Alto dos Brejos. Par...</td>\n",
       "      <td>MELASTOMATACEAE Tibouchina</td>\n",
       "      <td>genus</td>\n",
       "      <td>[L.A.F, Santos Filho]</td>\n",
       "    </tr>\n",
       "  </tbody>\n",
       "</table>\n",
       "</div>"
      ],
      "text/plain": [
       "      collectionCode                occurrenceID           recordedBy  \\\n",
       "64066             RB  urn:catalog:JBRJ:RB:573945  L.A.F; Santos Filho   \n",
       "\n",
       "        eventDate countryCode   stateProvince    county  \\\n",
       "64066  2009-09-21          BR  Rio de Janeiro  Itatiaia   \n",
       "\n",
       "                                                locality  \\\n",
       "64066  Em fragmento florestal no Alto dos Brejos. Par...   \n",
       "\n",
       "                   scientificName taxonRank    recordedBy_atomized  \n",
       "64066  MELASTOMATACEAE Tibouchina     genus  [L.A.F, Santos Filho]  "
      ]
     },
     "execution_count": 15,
     "metadata": {},
     "output_type": "execute_result"
    }
   ],
   "source": [
    "occs_itatiaia[occs_itatiaia['recordedBy_atomized'].apply(lambda names: 'L.A.F' in names )]"
   ]
  },
  {
   "cell_type": "markdown",
   "metadata": {},
   "source": [
    "This record might actually be referring to an entity named 'L.A.F. Santos Filho'. The `joinNames` routine below can be used to fix these cases:"
   ]
  },
  {
   "cell_type": "code",
   "execution_count": 16,
   "metadata": {
    "collapsed": true
   },
   "outputs": [],
   "source": [
    "from copy import deepcopy\n",
    "\n",
    "def joinNames(r, names):\n",
    "    \n",
    "    all_names_in_record = all( (n in r) for ntpl in names for n in ntpl )\n",
    "    \n",
    "    if all_names_in_record:\n",
    "        l = deepcopy(r)\n",
    "        for nametuple in names:\n",
    "            for part in nametuple:\n",
    "                l.remove(part)\n",
    "            l.append(\",\".join(nametuple))\n",
    "    else:\n",
    "        l = r\n",
    "    return l\n",
    "                \n",
    "        \n",
    "\n",
    "namesToJoin = [(\"L.A.F\", \"Santos Filho\")]\n",
    "occs_itatiaia['recordedBy_atomized'] = occs_itatiaia['recordedBy_atomized'].apply( joinNames, names=namesToJoin)"
   ]
  },
  {
   "cell_type": "code",
   "execution_count": 17,
   "metadata": {},
   "outputs": [
    {
     "data": {
      "text/plain": [
       "['L.A.F,Santos Filho']"
      ]
     },
     "execution_count": 17,
     "metadata": {},
     "output_type": "execute_result"
    }
   ],
   "source": [
    "occs_itatiaia['recordedBy_atomized'].loc[64066]"
   ]
  },
  {
   "cell_type": "markdown",
   "metadata": {},
   "source": [
    "Note that as the single record by 'L.A.F, Santos Filho' is not collaborative anymore, it must be removed from the `occs_itatiaia_collaborative` set. For that I'll reselect collaborative records again."
   ]
  },
  {
   "cell_type": "code",
   "execution_count": 18,
   "metadata": {},
   "outputs": [
    {
     "data": {
      "text/plain": [
       "['A. C. Brade',\n",
       " 'A.A. Carvalho Jr.',\n",
       " 'A.A.Carvalho',\n",
       " 'A.C.Mota',\n",
       " 'Aparicio',\n",
       " 'Apparicio',\n",
       " 'Brade',\n",
       " 'Brade, A. C.',\n",
       " 'C.M. Sakuragui',\n",
       " 'D. P. Costa',\n",
       " 'D.P.Costa',\n",
       " 'Ed. Pereira',\n",
       " 'Edmundo',\n",
       " 'Egle',\n",
       " 'F. Santoro',\n",
       " 'F. Toledo Jr.',\n",
       " 'Fidalgo, K.',\n",
       " 'Fidalgo, O.',\n",
       " 'Fildalgo',\n",
       " 'G. Martinelli',\n",
       " 'Graziela',\n",
       " 'I. França',\n",
       " 'K.Fidalgo',\n",
       " 'Kauffmann Fidalfo Eg-07',\n",
       " 'Kauffmann Fidalgo',\n",
       " 'L. C. S. Giordano',\n",
       " 'L. S. Sylvestre',\n",
       " 'Lanstsyak, L.',\n",
       " 'Lanstyak, L.',\n",
       " 'Luiz',\n",
       " 'M. Barros',\n",
       " 'M. Salazar Yepes',\n",
       " 'M.D.M.Vianna Filho 2020',\n",
       " 'M.E. Kauffmann Fidalgo',\n",
       " 'M.P.M. de Lima',\n",
       " 'M.Salazar Yepes',\n",
       " 'O. Fidalgo',\n",
       " 'O.Fidalgo',\n",
       " 'O.fidalgo',\n",
       " 'Occhioni, P.',\n",
       " 'Oswaldo Fidalgo',\n",
       " 'P.J.L. Maas',\n",
       " 'P.J.M. Maas',\n",
       " 'Prof Pilger',\n",
       " 'S. R. Gradstein',\n",
       " 'S. Salgado',\n",
       " 'S.R.Gradstein',\n",
       " 'Silveira Melo, O.',\n",
       " 'Silveira, O.',\n",
       " 'Tamandaré',\n",
       " 'Tamandaré de Toledo',\n",
       " 'Toledo']"
      ]
     },
     "execution_count": 18,
     "metadata": {},
     "output_type": "execute_result"
    }
   ],
   "source": [
    "occs_itatiaia_collaborative = occs_itatiaia[occs_itatiaia['recordedBy_atomized'].apply(lambda l: len(l)>1)]\n",
    "namesList = lambda col: sorted(list(set( n for nlst in col for n in nlst )))\n",
    "namesList(occs_itatiaia_collaborative['recordedBy_atomized'])"
   ]
  },
  {
   "cell_type": "markdown",
   "metadata": {},
   "source": [
    "Now that the names are properly atomized, we can address the names variants issue. For that we'll build a **names map**, which maps variations of a name to its unique **normal form**."
   ]
  },
  {
   "cell_type": "markdown",
   "metadata": {},
   "source": [
    "---"
   ]
  },
  {
   "cell_type": "markdown",
   "metadata": {},
   "source": [
    "## 2. The Names Map"
   ]
  },
  {
   "cell_type": "markdown",
   "metadata": {},
   "source": [
    "The names map will be defined as a *Python* class. When instantiated, the class constructor builds a names dictionary by applying the normalization function to each name in the list. Both the names map and the normalization function are stored as attributes of the `NamesMap` object. As the user inspects the resulting names map she is supposed to identify and indicate names variations which should be mapped to the same entity. The user can then call the object's `remap` method, passing a dictionary which is then stored as a **remapping dictionary**, also an attribute of the `NamesMap` object. The remapping is only applied to the names map when the public `getMap` method is called. This way the names map can be continuously updated without the need of performing the remapping routine over again."
   ]
  },
  {
   "cell_type": "code",
   "execution_count": 19,
   "metadata": {
    "collapsed": true
   },
   "outputs": [],
   "source": [
    "from copy import deepcopy\n",
    "\n",
    "class NamesMap:\n",
    "    _map=None\n",
    "    _normalizationFunction=None\n",
    "    _remappingDict=None\n",
    "    \n",
    "    def __init__(self, names, normalizationFunction):\n",
    "        self._normalizationFunction = normalizationFunction\n",
    "        self._map = dict( (n, self._normalizationFunction(n)) for n in names )\n",
    "        return\n",
    "    \n",
    "    def clearMap(self):\n",
    "        self._map={}\n",
    "        return\n",
    "    \n",
    "    def remap(self, remappingDict):\n",
    "        if self._remappingDict is None:\n",
    "            self._remappingDict = remappingDict\n",
    "        else:\n",
    "            self._remappingDict.update(remappingDict)\n",
    "        return     \n",
    "    \n",
    "    def insertNames(self, names, normalizationFunction=None, rebuild=False):\n",
    "        # if rebuild is true, the entire map (but not the remapping dict) is rebuilt from scratch\n",
    "        if rebuild==True:\n",
    "            self.clearMap()\n",
    "        if normalizationFunction is None: \n",
    "            normalizationFunction = self._normalizationFunction\n",
    "        self._map.update( dict( (n,normalizationFunction(n)) for n in names ) )\n",
    "        return\n",
    "    \n",
    "    def getMap(self, remap=True):\n",
    "        # Returns a COPY of the map\n",
    "        # If remap is set to true, some remapping occurrs\n",
    "        res = deepcopy(self._map)\n",
    "        if remap and self._remappingDict is not None:\n",
    "            getNamesPrimitives = lambda n: ( name for name,norm in self._map.items() if norm == n )\n",
    "            for n,t in ( (n,t) for s,t in self._remappingDict.items() for n in getNamesPrimitives(s) ):\n",
    "                res[n]=t\n",
    "        return res\n",
    "    \n",
    "    def getNormalizedNames(self, remap=True):\n",
    "        return sorted(list(set(self.getMap(remap=remap).values())))\n",
    "    \n",
    "    def getNamePrimitives(self, n):\n",
    "        nmap = self.getMap()\n",
    "        return [ name for name,norm in nmap.items() if norm == n ]\n",
    "        "
   ]
  },
  {
   "cell_type": "markdown",
   "metadata": {},
   "source": [
    "Let's create our names map. I'll use the `normalize` function from notebook 5 to get names' normal forms."
   ]
  },
  {
   "cell_type": "code",
   "execution_count": 20,
   "metadata": {},
   "outputs": [
    {
     "data": {
      "text/plain": [
       "{'A. C. Brade': 'acbrade',\n",
       " 'A.A. Carvalho Jr.': 'aacarvalhojr',\n",
       " 'A.A.Carvalho': 'aacarvalho',\n",
       " 'A.C.Mota': 'acmota',\n",
       " 'Aparicio': 'aparicio',\n",
       " 'Apparicio': 'apparicio',\n",
       " 'Brade': 'brade',\n",
       " 'Brade, A. C.': 'brade,ac',\n",
       " 'C.M. Sakuragui': 'cmsakuragui',\n",
       " 'D. P. Costa': 'dpcosta',\n",
       " 'D.P.Costa': 'dpcosta',\n",
       " 'Ed. Pereira': 'edpereira',\n",
       " 'Edmundo': 'edmundo',\n",
       " 'Egle': 'egle',\n",
       " 'F. Santoro': 'fsantoro',\n",
       " 'F. Toledo Jr.': 'ftoledojr',\n",
       " 'Fidalgo, K.': 'fidalgo,k',\n",
       " 'Fidalgo, O.': 'fidalgo,o',\n",
       " 'Fildalgo': 'fildalgo',\n",
       " 'G. Martinelli': 'gmartinelli',\n",
       " 'Graziela': 'graziela',\n",
       " 'I. França': 'ifranca',\n",
       " 'K.Fidalgo': 'kfidalgo',\n",
       " 'Kauffmann Fidalfo Eg-07': 'kauffmannfidalfoeg',\n",
       " 'Kauffmann Fidalgo': 'kauffmannfidalgo',\n",
       " 'L. C. S. Giordano': 'lcsgiordano',\n",
       " 'L. S. Sylvestre': 'lssylvestre',\n",
       " 'Lanstsyak, L.': 'lanstsyak,l',\n",
       " 'Lanstyak, L.': 'lanstyak,l',\n",
       " 'Luiz': 'luiz',\n",
       " 'M. Barros': 'mbarros',\n",
       " 'M. Salazar Yepes': 'msalazaryepes',\n",
       " 'M.D.M.Vianna Filho 2020': 'mdmviannafilho',\n",
       " 'M.E. Kauffmann Fidalgo': 'mekauffmannfidalgo',\n",
       " 'M.P.M. de Lima': 'mpmdelima',\n",
       " 'M.Salazar Yepes': 'msalazaryepes',\n",
       " 'O. Fidalgo': 'ofidalgo',\n",
       " 'O.Fidalgo': 'ofidalgo',\n",
       " 'O.fidalgo': 'ofidalgo',\n",
       " 'Occhioni, P.': 'occhioni,p',\n",
       " 'Oswaldo Fidalgo': 'oswaldofidalgo',\n",
       " 'P.J.L. Maas': 'pjlmaas',\n",
       " 'P.J.M. Maas': 'pjmmaas',\n",
       " 'Prof Pilger': 'profpilger',\n",
       " 'S. R. Gradstein': 'srgradstein',\n",
       " 'S. Salgado': 'ssalgado',\n",
       " 'S.R.Gradstein': 'srgradstein',\n",
       " 'Silveira Melo, O.': 'silveiramelo,o',\n",
       " 'Silveira, O.': 'silveira,o',\n",
       " 'Tamandaré': 'tamandare',\n",
       " 'Tamandaré de Toledo': 'tamandaredetoledo',\n",
       " 'Toledo': 'toledo'}"
      ]
     },
     "execution_count": 20,
     "metadata": {},
     "output_type": "execute_result"
    }
   ],
   "source": [
    "nm = NamesMap( namesList(occs_itatiaia_collaborative['recordedBy_atomized']), normalize )\n",
    "nm.getMap()"
   ]
  },
  {
   "cell_type": "markdown",
   "metadata": {},
   "source": [
    "Now we can perform some remapping. Notice, for example, that `'aacarvalhojr'` and `'aacarvalho'` must be remapped to the same normal name, which I'll arbitrarily choose to be the latter. Below I define my remapping dictionary and pass it to my names map's `remap()` method."
   ]
  },
  {
   "cell_type": "code",
   "execution_count": 21,
   "metadata": {
    "collapsed": true
   },
   "outputs": [],
   "source": [
    "remappingDict = {\n",
    "    'aacarvalhojr': 'aacarvalho',\n",
    "    'aparicio': 'apparicio',\n",
    "    'brade': 'brade,ac',\n",
    "    'fidalgo,k': 'kauffmannfidalgo',\n",
    "    'fildalgo': 'oswaldofidalgo',\n",
    "    'fidalgo': 'oswaldofidalgo',\n",
    "    'kauffmannfidalfoeg': 'kauffmannfidalgo',\n",
    "    'mekauffmannfidalgo': 'kauffmannfidalgo',\n",
    "    'kfidalgo': 'kauffmannfidalgo',\n",
    "    'lanstsyak,l': 'lanstyak,l',\n",
    "    'fidalgo,o': 'oswaldofidalgo',\n",
    "    'ofidalgo': 'oswaldofidalgo',\n",
    "    'silveira,o': 'silveiramelo,o',\n",
    "    'tamandare': 'tamandaredetoledo',\n",
    "    'toledo': 'tamandaredetoledo',\n",
    "    'pjmmaas': 'pjmaas',\n",
    "    'pjlmaas': 'pjmaas',\n",
    "    'acbrade': 'brade,ac',\n",
    "}\n",
    "nm.remap(remappingDict)\n",
    "nm.remap({'profpilger':'pilger'}) # remapping dicts can be updated many times..."
   ]
  },
  {
   "cell_type": "markdown",
   "metadata": {},
   "source": [
    "Now compare the remapped names map below with the original one."
   ]
  },
  {
   "cell_type": "code",
   "execution_count": 22,
   "metadata": {},
   "outputs": [
    {
     "data": {
      "text/plain": [
       "{'A. C. Brade': 'brade,ac',\n",
       " 'A.A. Carvalho Jr.': 'aacarvalho',\n",
       " 'A.A.Carvalho': 'aacarvalho',\n",
       " 'A.C.Mota': 'acmota',\n",
       " 'Aparicio': 'apparicio',\n",
       " 'Apparicio': 'apparicio',\n",
       " 'Brade': 'brade,ac',\n",
       " 'Brade, A. C.': 'brade,ac',\n",
       " 'C.M. Sakuragui': 'cmsakuragui',\n",
       " 'D. P. Costa': 'dpcosta',\n",
       " 'D.P.Costa': 'dpcosta',\n",
       " 'Ed. Pereira': 'edpereira',\n",
       " 'Edmundo': 'edmundo',\n",
       " 'Egle': 'egle',\n",
       " 'F. Santoro': 'fsantoro',\n",
       " 'F. Toledo Jr.': 'ftoledojr',\n",
       " 'Fidalgo, K.': 'kauffmannfidalgo',\n",
       " 'Fidalgo, O.': 'oswaldofidalgo',\n",
       " 'Fildalgo': 'oswaldofidalgo',\n",
       " 'G. Martinelli': 'gmartinelli',\n",
       " 'Graziela': 'graziela',\n",
       " 'I. França': 'ifranca',\n",
       " 'K.Fidalgo': 'kauffmannfidalgo',\n",
       " 'Kauffmann Fidalfo Eg-07': 'kauffmannfidalgo',\n",
       " 'Kauffmann Fidalgo': 'kauffmannfidalgo',\n",
       " 'L. C. S. Giordano': 'lcsgiordano',\n",
       " 'L. S. Sylvestre': 'lssylvestre',\n",
       " 'Lanstsyak, L.': 'lanstyak,l',\n",
       " 'Lanstyak, L.': 'lanstyak,l',\n",
       " 'Luiz': 'luiz',\n",
       " 'M. Barros': 'mbarros',\n",
       " 'M. Salazar Yepes': 'msalazaryepes',\n",
       " 'M.D.M.Vianna Filho 2020': 'mdmviannafilho',\n",
       " 'M.E. Kauffmann Fidalgo': 'kauffmannfidalgo',\n",
       " 'M.P.M. de Lima': 'mpmdelima',\n",
       " 'M.Salazar Yepes': 'msalazaryepes',\n",
       " 'O. Fidalgo': 'oswaldofidalgo',\n",
       " 'O.Fidalgo': 'oswaldofidalgo',\n",
       " 'O.fidalgo': 'oswaldofidalgo',\n",
       " 'Occhioni, P.': 'occhioni,p',\n",
       " 'Oswaldo Fidalgo': 'oswaldofidalgo',\n",
       " 'P.J.L. Maas': 'pjmaas',\n",
       " 'P.J.M. Maas': 'pjmaas',\n",
       " 'Prof Pilger': 'pilger',\n",
       " 'S. R. Gradstein': 'srgradstein',\n",
       " 'S. Salgado': 'ssalgado',\n",
       " 'S.R.Gradstein': 'srgradstein',\n",
       " 'Silveira Melo, O.': 'silveiramelo,o',\n",
       " 'Silveira, O.': 'silveiramelo,o',\n",
       " 'Tamandaré': 'tamandaredetoledo',\n",
       " 'Tamandaré de Toledo': 'tamandaredetoledo',\n",
       " 'Toledo': 'tamandaredetoledo'}"
      ]
     },
     "execution_count": 22,
     "metadata": {},
     "output_type": "execute_result"
    }
   ],
   "source": [
    "nm.getMap()"
   ]
  },
  {
   "cell_type": "markdown",
   "metadata": {},
   "source": [
    "---"
   ]
  },
  {
   "cell_type": "markdown",
   "metadata": {},
   "source": [
    "## 3. The Names Index"
   ]
  },
  {
   "cell_type": "markdown",
   "metadata": {},
   "source": [
    "The **names index** is simply a dictionary which associates each normalized name to a list of the ids of the rows where it appears. To build the names indexes we must pass to the function below the dataframe, the column where the atomized names are stored and a names map. If no names map is passed the names index is built using the non-normalized version of the names instead. Using the names index is an alternative for building dummy variables for each name, which would result in a large sparse matrix."
   ]
  },
  {
   "cell_type": "code",
   "execution_count": 23,
   "metadata": {
    "collapsed": true
   },
   "outputs": [],
   "source": [
    "def getNamesIndexes( df, atomizedNamesCol, namesMap=None ):\n",
    "    # split_names_col is a column with names already split\n",
    "    namesIndexes = dict( (name,[]) for name in namesMap.values() )\n",
    "    for i,names in df[atomizedNamesCol].iteritems():\n",
    "        for name in names:\n",
    "            if namesMap is not None:\n",
    "                try:\n",
    "                    namesIndexes[namesMap[name]].append(i)\n",
    "                except KeyError:\n",
    "                    pass\n",
    "            else:\n",
    "                namesIndexes[name].append(i)\n",
    "            \n",
    "    return namesIndexes"
   ]
  },
  {
   "cell_type": "code",
   "execution_count": 24,
   "metadata": {
    "collapsed": true
   },
   "outputs": [],
   "source": [
    "ni = getNamesIndexes(occs_itatiaia_collaborative, 'recordedBy_atomized', nm.getMap())"
   ]
  },
  {
   "cell_type": "markdown",
   "metadata": {},
   "source": [
    "If we wanted to get the records for the normalized name `'kauffmannfidalgo'` for example we could use the names index for locating the rows:"
   ]
  },
  {
   "cell_type": "code",
   "execution_count": 25,
   "metadata": {},
   "outputs": [
    {
     "data": {
      "text/html": [
       "<div>\n",
       "<style>\n",
       "    .dataframe thead tr:only-child th {\n",
       "        text-align: right;\n",
       "    }\n",
       "\n",
       "    .dataframe thead th {\n",
       "        text-align: left;\n",
       "    }\n",
       "\n",
       "    .dataframe tbody tr th {\n",
       "        vertical-align: top;\n",
       "    }\n",
       "</style>\n",
       "<table border=\"1\" class=\"dataframe\">\n",
       "  <thead>\n",
       "    <tr style=\"text-align: right;\">\n",
       "      <th></th>\n",
       "      <th>collectionCode</th>\n",
       "      <th>occurrenceID</th>\n",
       "      <th>recordedBy</th>\n",
       "      <th>eventDate</th>\n",
       "      <th>countryCode</th>\n",
       "      <th>stateProvince</th>\n",
       "      <th>county</th>\n",
       "      <th>locality</th>\n",
       "      <th>scientificName</th>\n",
       "      <th>taxonRank</th>\n",
       "      <th>recordedBy_atomized</th>\n",
       "    </tr>\n",
       "  </thead>\n",
       "  <tbody>\n",
       "    <tr>\n",
       "      <th>441307</th>\n",
       "      <td>RB</td>\n",
       "      <td>urn:catalog:JBRJ:RB:607191</td>\n",
       "      <td>Fidalgo, O. &amp; Fidalgo, K.</td>\n",
       "      <td>1955-9-4</td>\n",
       "      <td>BR</td>\n",
       "      <td>Rio de Janeiro</td>\n",
       "      <td>Itatiaia</td>\n",
       "      <td>Parque Nacional de Itatiaia. Próximo à Sede do...</td>\n",
       "      <td>POLYPODIACEAE Cochlidium serrulatum (Sw.) L.E....</td>\n",
       "      <td>specie</td>\n",
       "      <td>[Fidalgo, O., Fidalgo, K.]</td>\n",
       "    </tr>\n",
       "    <tr>\n",
       "      <th>497523</th>\n",
       "      <td>RB</td>\n",
       "      <td>urn:catalog:JBRJ:RB:684741</td>\n",
       "      <td>Fildalgo &amp; Kauffmann Fidalfo Eg-07</td>\n",
       "      <td>1955-09-06</td>\n",
       "      <td>BR</td>\n",
       "      <td>Rio de Janeiro</td>\n",
       "      <td>Itatiaia</td>\n",
       "      <td>Km 4. Itatiaia.</td>\n",
       "      <td>POLYTRICHACEAE Oligotrichum riedelianum (Mont....</td>\n",
       "      <td>specie</td>\n",
       "      <td>[Fildalgo, Kauffmann Fidalfo Eg-07]</td>\n",
       "    </tr>\n",
       "    <tr>\n",
       "      <th>582213</th>\n",
       "      <td>RB</td>\n",
       "      <td>urn:catalog:JBRJ:RB:996778</td>\n",
       "      <td>O.Fidalgo; K.Fidalgo</td>\n",
       "      <td>1955-9-3</td>\n",
       "      <td>BR</td>\n",
       "      <td>Rio de Janeiro</td>\n",
       "      <td>Itatiaia</td>\n",
       "      <td>P.N.Itatiaia.</td>\n",
       "      <td>POLYPORALES Fomes</td>\n",
       "      <td>genus</td>\n",
       "      <td>[O.Fidalgo, K.Fidalgo]</td>\n",
       "    </tr>\n",
       "    <tr>\n",
       "      <th>590494</th>\n",
       "      <td>RB</td>\n",
       "      <td>urn:catalog:JBRJ:RB:959963</td>\n",
       "      <td>Oswaldo Fidalgo e M.E. Kauffmann Fidalgo</td>\n",
       "      <td>1955-9-8</td>\n",
       "      <td>BR</td>\n",
       "      <td>Rio de Janeiro</td>\n",
       "      <td>Itatiaia</td>\n",
       "      <td>Próx/ à sede do Parque Nacional do Itatiaia.</td>\n",
       "      <td>ARTHONIALES Chiodecton</td>\n",
       "      <td>genus</td>\n",
       "      <td>[Oswaldo Fidalgo, M.E. Kauffmann Fidalgo]</td>\n",
       "    </tr>\n",
       "    <tr>\n",
       "      <th>596907</th>\n",
       "      <td>RB</td>\n",
       "      <td>urn:catalog:JBRJ:RB:996920</td>\n",
       "      <td>O. Fidalgo; K.Fidalgo</td>\n",
       "      <td>1955-9-12</td>\n",
       "      <td>BR</td>\n",
       "      <td>Rio de Janeiro</td>\n",
       "      <td>Itatiaia</td>\n",
       "      <td>Picada Barbosa Rodrigues, P.N.Itatiaia.</td>\n",
       "      <td>RUSSULALES Stereum ostrea (Blume &amp; T.Nees) Fr.</td>\n",
       "      <td>specie</td>\n",
       "      <td>[O. Fidalgo, K.Fidalgo]</td>\n",
       "    </tr>\n",
       "  </tbody>\n",
       "</table>\n",
       "</div>"
      ],
      "text/plain": [
       "       collectionCode                occurrenceID  \\\n",
       "441307             RB  urn:catalog:JBRJ:RB:607191   \n",
       "497523             RB  urn:catalog:JBRJ:RB:684741   \n",
       "582213             RB  urn:catalog:JBRJ:RB:996778   \n",
       "590494             RB  urn:catalog:JBRJ:RB:959963   \n",
       "596907             RB  urn:catalog:JBRJ:RB:996920   \n",
       "\n",
       "                                      recordedBy   eventDate countryCode  \\\n",
       "441307                 Fidalgo, O. & Fidalgo, K.    1955-9-4          BR   \n",
       "497523        Fildalgo & Kauffmann Fidalfo Eg-07  1955-09-06          BR   \n",
       "582213                      O.Fidalgo; K.Fidalgo    1955-9-3          BR   \n",
       "590494  Oswaldo Fidalgo e M.E. Kauffmann Fidalgo    1955-9-8          BR   \n",
       "596907                     O. Fidalgo; K.Fidalgo   1955-9-12          BR   \n",
       "\n",
       "         stateProvince    county  \\\n",
       "441307  Rio de Janeiro  Itatiaia   \n",
       "497523  Rio de Janeiro  Itatiaia   \n",
       "582213  Rio de Janeiro  Itatiaia   \n",
       "590494  Rio de Janeiro  Itatiaia   \n",
       "596907  Rio de Janeiro  Itatiaia   \n",
       "\n",
       "                                                 locality  \\\n",
       "441307  Parque Nacional de Itatiaia. Próximo à Sede do...   \n",
       "497523                                    Km 4. Itatiaia.   \n",
       "582213                                      P.N.Itatiaia.   \n",
       "590494       Próx/ à sede do Parque Nacional do Itatiaia.   \n",
       "596907            Picada Barbosa Rodrigues, P.N.Itatiaia.   \n",
       "\n",
       "                                           scientificName taxonRank  \\\n",
       "441307  POLYPODIACEAE Cochlidium serrulatum (Sw.) L.E....    specie   \n",
       "497523  POLYTRICHACEAE Oligotrichum riedelianum (Mont....    specie   \n",
       "582213                                  POLYPORALES Fomes     genus   \n",
       "590494                             ARTHONIALES Chiodecton     genus   \n",
       "596907     RUSSULALES Stereum ostrea (Blume & T.Nees) Fr.    specie   \n",
       "\n",
       "                              recordedBy_atomized  \n",
       "441307                 [Fidalgo, O., Fidalgo, K.]  \n",
       "497523        [Fildalgo, Kauffmann Fidalfo Eg-07]  \n",
       "582213                     [O.Fidalgo, K.Fidalgo]  \n",
       "590494  [Oswaldo Fidalgo, M.E. Kauffmann Fidalgo]  \n",
       "596907                    [O. Fidalgo, K.Fidalgo]  "
      ]
     },
     "execution_count": 25,
     "metadata": {},
     "output_type": "execute_result"
    }
   ],
   "source": [
    "occs_itatiaia_collaborative.loc[ni['kauffmannfidalgo']].head()"
   ]
  },
  {
   "cell_type": "markdown",
   "metadata": {},
   "source": [
    "Next I use the `recordedBy_atomized` column to retrieve collectors collaborations from the data frame. These entities and collaboration relationships will finally be used to build the co-working network."
   ]
  },
  {
   "cell_type": "markdown",
   "metadata": {},
   "source": [
    "---"
   ]
  },
  {
   "cell_type": "markdown",
   "metadata": {},
   "source": [
    "## 4. The Coworking Network"
   ]
  },
  {
   "cell_type": "markdown",
   "metadata": {},
   "source": [
    "The `CoworkingNetwork` class, which extends the `Graph` class from the `networkx` library, will be defined to represent collectors co-working networks. The constructor takes a set of names sets, which are included as nodes. Cliques are built from nodes that are on common sets. The coworking network can be represented either as a weighted or non-weighted graph. "
   ]
  },
  {
   "cell_type": "code",
   "execution_count": 26,
   "metadata": {
    "collapsed": true
   },
   "outputs": [],
   "source": [
    "import networkx\n",
    "import itertools\n",
    "from collections import Counter\n",
    "\n",
    "class CoworkingNetwork(networkx.Graph):\n",
    "    \"\"\"\n",
    "    Class for coworking networks. Extends networkx Graph class.\n",
    "    \n",
    "    Parameters\n",
    "    ----------\n",
    "    namesSets : iterable\n",
    "        An iterable of iterables containing names used to compose cliques \n",
    "        in the network.\n",
    "\n",
    "    weighted : bool, default False\n",
    "        If set to True the resulting network will have weighted edges\n",
    "        \n",
    "    Examples\n",
    "    --------\n",
    "    >>> namesSets = [ ['a','b','c'], ['d','e'], ['a','c'] ]\n",
    "    >>> CoworkingNetwork( namesSets, weighted=True).edges(data=True)\n",
    "    [('b', 'a', {'weight': 1}),\n",
    "     ('b', 'c', {'weight': 1}),\n",
    "     ('a', 'c', {'weight': 2}),\n",
    "     ('e', 'd', {'weight': 1})]\n",
    "    \n",
    "    >>> CoworkingNetwork( namesSets ).edges(data=True)\n",
    "    [('b', 'a', {}), \n",
    "     ('b', 'c', {}), \n",
    "     ('a', 'c', {}), \n",
    "     ('e', 'd', {})]\n",
    "    \"\"\"\n",
    "    def __init__(self, namesSets, weighted=False):\n",
    "        super().__init__()\n",
    "        cliques = map( lambda n: itertools.combinations(n,r=2), namesSets )\n",
    "        edges = [ e for edges in cliques for e in edges ]\n",
    "        self.add_edges_from(edges)\n",
    "        \n",
    "        if weighted:\n",
    "            edges_weights = Counter(edges)\n",
    "\n",
    "            for (u,v),w in edges_weights.items():\n",
    "                try:\n",
    "                    self[u][v]['weight'] += w\n",
    "                except:\n",
    "                    self[u][v]['weight'] = w        \n",
    "        return"
   ]
  },
  {
   "cell_type": "code",
   "execution_count": 27,
   "metadata": {
    "collapsed": true
   },
   "outputs": [],
   "source": [
    "m = nm.getMap()\n",
    "names = ([ m[n] for n in names ] for names in occs_itatiaia_collaborative['recordedBy_atomized'])\n",
    "G = CoworkingNetwork( names, weighted=True)"
   ]
  },
  {
   "cell_type": "markdown",
   "metadata": {},
   "source": [
    "Below I define a new node attribute `n_records`, which stores, for each collector, the total number of records she has obtained at Itatiaia."
   ]
  },
  {
   "cell_type": "code",
   "execution_count": 28,
   "metadata": {
    "collapsed": true
   },
   "outputs": [],
   "source": [
    "nrecords = dict( (n,len(ix)) for n,ix in getNamesIndexes(occs_itatiaia,'recordedBy_atomized',m).items() )\n",
    "nx.set_node_attributes(G, 'n_records',nrecords)"
   ]
  },
  {
   "cell_type": "code",
   "execution_count": 29,
   "metadata": {
    "collapsed": true
   },
   "outputs": [],
   "source": [
    "nx.write_gexf(G,'./graph.gexf')"
   ]
  },
  {
   "cell_type": "markdown",
   "metadata": {},
   "source": [
    "Below I list the collectors associated to their total number of records"
   ]
  },
  {
   "cell_type": "code",
   "execution_count": 30,
   "metadata": {},
   "outputs": [
    {
     "data": {
      "text/plain": [
       "[('msalazaryepes', {'n_records': 1215}),\n",
       " ('aacarvalho', {'n_records': 1149}),\n",
       " ('brade,ac', {'n_records': 911}),\n",
       " ('ifranca', {'n_records': 161}),\n",
       " ('oswaldofidalgo', {'n_records': 110}),\n",
       " ('dpcosta', {'n_records': 103}),\n",
       " ('fsantoro', {'n_records': 100}),\n",
       " ('cmsakuragui', {'n_records': 79}),\n",
       " ('mpmdelima', {'n_records': 67}),\n",
       " ('kauffmannfidalgo', {'n_records': 42}),\n",
       " ('lanstyak,l', {'n_records': 41}),\n",
       " ('apparicio', {'n_records': 37}),\n",
       " ('luiz', {'n_records': 37}),\n",
       " ('tamandaredetoledo', {'n_records': 34}),\n",
       " ('gmartinelli', {'n_records': 26}),\n",
       " ('edpereira', {'n_records': 25}),\n",
       " ('srgradstein', {'n_records': 21}),\n",
       " ('occhioni,p', {'n_records': 15}),\n",
       " ('pjmaas', {'n_records': 14}),\n",
       " ('graziela', {'n_records': 4}),\n",
       " ('ftoledojr', {'n_records': 4}),\n",
       " ('edmundo', {'n_records': 3}),\n",
       " ('pilger', {'n_records': 3}),\n",
       " ('silveiramelo,o', {'n_records': 2}),\n",
       " ('lssylvestre', {'n_records': 2}),\n",
       " ('egle', {'n_records': 1}),\n",
       " ('mdmviannafilho', {'n_records': 1}),\n",
       " ('acmota', {'n_records': 1}),\n",
       " ('mbarros', {'n_records': 1}),\n",
       " ('lcsgiordano', {'n_records': 1}),\n",
       " ('ssalgado', {'n_records': 1})]"
      ]
     },
     "execution_count": 30,
     "metadata": {},
     "output_type": "execute_result"
    }
   ],
   "source": [
    "sorted(tuple(G.nodes(data=True)), key=lambda x: x[1]['n_records'], reverse=True )"
   ]
  },
  {
   "cell_type": "code",
   "execution_count": 31,
   "metadata": {},
   "outputs": [
    {
     "data": {
      "image/png": "[encoded data removed]",
      "text/plain": [
       "<matplotlib.figure.Figure at 0x7f295faa6320>"
      ]
     },
     "metadata": {},
     "output_type": "display_data"
    }
   ],
   "source": [
    "lt = nx.layout.spring_layout(G)\n",
    "pos = {\n",
    " 'msalazaryepes': (0.45,0.5),\n",
    " 'aacarvalho': (0.55,0.5)\n",
    "}\n",
    "lt.update(pos)\n",
    "\n",
    "edges = G.edges()\n",
    "edges_weights = [ G.edge[u][v]['weight'] for u,v in edges ]\n",
    "nodes = G.nodes()\n",
    "nodes_sizes = [ G.node[n]['n_records'] for n in nodes ]\n",
    "\n",
    "plt.figure(figsize=(14,14))\n",
    "plt.title('Collectors co-working network for records in Itatiaia (JBRJ dataset)', fontsize=18)\n",
    "plt.axis('off')\n",
    "nx.draw_networkx_nodes(G, lt, nodes, node_size=[10 if s<=10 else s for s in nodes_sizes])\n",
    "nx.draw_networkx_labels(G, lt, font_color='k')\n",
    "nx.draw_networkx_edges(G, lt, edges, width=[ 0.3 if w<=10 else w/80 for w in edges_weights], alpha=0.4 )\n",
    "\n",
    "plt.show()"
   ]
  },
  {
   "cell_type": "markdown",
   "metadata": {},
   "source": [
    "**Figure 1. Collectors co-working network assembled with collaborative records at the Itatiaia municipality, Rio de Janeiro, Brazil. Records from the JBRJ species occurrence dataset.**"
   ]
  },
  {
   "cell_type": "markdown",
   "metadata": {},
   "source": [
    "---"
   ]
  },
  {
   "cell_type": "markdown",
   "metadata": {},
   "source": [
    "The resulting network in *Figure 1* apparently does not have sufficient size and structure for drawing any relevant inferences about collectors relationships and collaborations. This was probably due to the low percentage of collaborative records in this subset, as almost 92% of the records were only associated to a single collector. However that does not necessarily correspond to the reality. Although a whole team of collectors might be involved in field expeditions, maybe it is a common practice only to include the first collector's name in the records. Moreover, the `recordedBy` field is usually not important for most users of biodiversity occurrence data, and thus not much effort is expected to having been made for improving this column's quality. It might turn out to be hard to find suitable datasets for modeling collectors co-working networks. "
   ]
  }
 ],
 "metadata": {
  "kernelspec": {
   "display_name": "Python 3",
   "language": "python",
   "name": "python3"
  },
  "language_info": {
   "codemirror_mode": {
    "name": "ipython",
    "version": 3
   },
   "file_extension": ".py",
   "mimetype": "text/x-python",
   "name": "python",
   "nbconvert_exporter": "python",
   "pygments_lexer": "ipython3",
   "version": "3.6.1"
  }
 },
 "nbformat": 4,
 "nbformat_minor": 2
}
