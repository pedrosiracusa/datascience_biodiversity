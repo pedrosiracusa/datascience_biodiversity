{
 "cells": [
  {
   "cell_type": "code",
   "execution_count": null,
   "metadata": {
    "collapsed": true
   },
   "outputs": [],
   "source": []
  },
  {
   "cell_type": "markdown",
   "metadata": {},
   "source": [
    "# Names atomization"
   ]
  },
  {
   "cell_type": "code",
   "execution_count": 32,
   "metadata": {
    "collapsed": true
   },
   "outputs": [],
   "source": [
    "import re\n",
    "\n",
    "def namesFromString( namesStr, delim=';', unique=False, preserveOrder=False ):\n",
    "    \"\"\"\n",
    "    Atomizes names in a names string using specified delimiters. \n",
    "    \n",
    "    Parameters\n",
    "    ----------\n",
    "    namesStr : str\n",
    "        Names string to be atomized.\n",
    "        \n",
    "    delim : str or list, default ';'\n",
    "        Delimiter that is used to separate names in the names string. \n",
    "        If a list of delimiters is passed they will be concatenated\n",
    "        into a regular expression for splitting.\n",
    "    \n",
    "    unique : bool, default False\n",
    "        If set to true, returned values are unique. \n",
    "    \n",
    "    preserveOrder : bool, default False\n",
    "        If True the order in which names appear in the string is \n",
    "        guaranteed to be preserved in the list (slower).\n",
    "        \n",
    "    Returns\n",
    "    -------\n",
    "        A list with the names extracted from the string.\n",
    "    \"\"\"\n",
    "    if type(delim)==str:\n",
    "        namesSplit = namesStr.split(delim)\n",
    "        \n",
    "    elif type(delim)==list:\n",
    "        delim = [ '\\|' if i=='|' else i for i in delim ] \n",
    "        namesSplit = re.split( '|'.join( c for c in delim ), namesStr)\n",
    "    \n",
    "    namesList = [ n for n in [ name.strip() for name in namesSplit ] if n!='' ]\n",
    "    \n",
    "    if unique:\n",
    "        if not preserveOrder: return list(set(namesList))\n",
    "        else:\n",
    "            namesCounts = dict( (n,0) for n in namesList )\n",
    "            unique_namesList = []\n",
    "            for n in namesList:\n",
    "                if namesCounts[n]: continue\n",
    "                namesCounts[n]+=1\n",
    "                unique_namesList.append(n)\n",
    "        return unique_namesList   \n",
    "    \n",
    "    return namesList"
   ]
  },
  {
   "cell_type": "code",
   "execution_count": 40,
   "metadata": {
    "collapsed": true
   },
   "outputs": [],
   "source": [
    "def atomizeNames( col, operation=namesFromString, ignoreNames=None ):\n",
    "    \"\"\"\n",
    "    Applies an atomization operation on a names column, which must be a pandas Series object. \n",
    "    The atomized names at each row are stored as a list.\n",
    "    \n",
    "    Parameters\n",
    "    ----------\n",
    "    col : pd.Series\n",
    "        Names column to be atomized.\n",
    "        \n",
    "    operation : function\n",
    "        The atomization operation to be applied to the names column\n",
    "        \n",
    "    Returns\n",
    "    -------\n",
    "        A pandas Series with lists of atomized names.\n",
    "    \"\"\"\n",
    "    return col.apply( operation )"
   ]
  },
  {
   "cell_type": "markdown",
   "metadata": {},
   "source": [
    "---"
   ]
  },
  {
   "cell_type": "markdown",
   "metadata": {},
   "source": [
    "# Names normalization"
   ]
  },
  {
   "cell_type": "code",
   "execution_count": 59,
   "metadata": {
    "collapsed": true
   },
   "outputs": [],
   "source": [
    "import unicodedata, string\n",
    "\n",
    "def normalize(name, normalizationForm='NFKD'):\n",
    "    name = name.lower() # to lowecase\n",
    "    name = name.replace('.','') # remove periods\n",
    "    name_ls = tuple( part.strip() for part in name.split(',') ) # split and strip names into tuples\n",
    "\n",
    "    normalize = lambda s: ''.join( x for x in unicodedata.normalize(normalizationForm, s) if x in string.ascii_letters ) # remove accents\n",
    "    name_ls = tuple( normalize(name) for name in name_ls )\n",
    "    \n",
    "    return ','.join(name_ls)"
   ]
  },
  {
   "cell_type": "markdown",
   "metadata": {},
   "source": [
    "---"
   ]
  },
  {
   "cell_type": "markdown",
   "metadata": {},
   "source": [
    "# The Names Index"
   ]
  },
  {
   "cell_type": "code",
   "execution_count": 60,
   "metadata": {
    "collapsed": true
   },
   "outputs": [],
   "source": [
    "def getNamesIndexes( df, atomizedNamesCol, namesMap=None ):\n",
    "    # split_names_col is a column with names already split\n",
    "    namesIndexes = dict( (name,[]) for name in namesMap.values() )\n",
    "    for i,names in df[atomizedNamesCol].iteritems():\n",
    "        for name in names:\n",
    "            if namesMap is not None:\n",
    "                try:\n",
    "                    namesIndexes[namesMap[name]].append(i)\n",
    "                except KeyError:\n",
    "                    pass\n",
    "            else:\n",
    "                namesIndexes[name].append(i)\n",
    "            \n",
    "    return namesIndexes"
   ]
  },
  {
   "cell_type": "markdown",
   "metadata": {},
   "source": [
    "---"
   ]
  },
  {
   "cell_type": "markdown",
   "metadata": {},
   "source": [
    "# The Names Map class"
   ]
  },
  {
   "cell_type": "code",
   "execution_count": null,
   "metadata": {
    "collapsed": true
   },
   "outputs": [],
   "source": [
    "from copy import deepcopy\n",
    "\n",
    "class NamesMap:\n",
    "    _map=None\n",
    "    _normalizationFunction=None\n",
    "    _remappingDict=None\n",
    "    \n",
    "    def __init__(self, names, normalizationFunction):\n",
    "        self._normalizationFunction = normalizationFunction\n",
    "        self._map = dict( (n, self._normalizationFunction(n)) for n in names )\n",
    "        return\n",
    "    \n",
    "    def clearMap(self):\n",
    "        self._map={}\n",
    "        return\n",
    "    \n",
    "    def remap(self, remappingDict):\n",
    "        if self._remappingDict is None:\n",
    "            self._remappingDict = remappingDict\n",
    "        else:\n",
    "            self._remappingDict.update(remappingDict)\n",
    "        return     \n",
    "    \n",
    "    def insertNames(self, names, normalizationFunction=None, rebuild=False):\n",
    "        # if rebuild is true, the entire map (but not the remapping dict) is rebuilt from scratch\n",
    "        if rebuild==True:\n",
    "            self.clearMap()\n",
    "        if normalizationFunction is None: \n",
    "            normalizationFunction = self._normalizationFunction\n",
    "        self._map.update( dict( (n,normalizationFunction(n)) for n in names ) )\n",
    "        return\n",
    "    \n",
    "    def getMap(self, remap=True):\n",
    "        # Returns a COPY of the map\n",
    "        # If remap is set to true, some remapping occurrs\n",
    "        res = deepcopy(self._map)\n",
    "        if remap and self._remappingDict is not None:\n",
    "            getNamesPrimitives = lambda n: ( name for name,norm in self._map.items() if norm == n )\n",
    "            for n,t in ( (n,t) for s,t in self._remappingDict.items() for n in getNamesPrimitives(s) ):\n",
    "                res[n]=t\n",
    "        return res\n",
    "    \n",
    "    def getNormalizedNames(self, remap=True):\n",
    "        return sorted(list(set(self.getMap(remap=remap).values())))\n",
    "    \n",
    "    def getNamePrimitives(self, n):\n",
    "        nmap = self.getMap()\n",
    "        return [ name for name,norm in nmap.items() if norm == n ]\n",
    "        "
   ]
  }
 ],
 "metadata": {
  "kernelspec": {
   "display_name": "Python 3",
   "language": "python",
   "name": "python3"
  },
  "language_info": {
   "codemirror_mode": {
    "name": "ipython",
    "version": 3
   },
   "file_extension": ".py",
   "mimetype": "text/x-python",
   "name": "python",
   "nbconvert_exporter": "python",
   "pygments_lexer": "ipython3",
   "version": "3.6.1"
  }
 },
 "nbformat": 4,
 "nbformat_minor": 2
}
