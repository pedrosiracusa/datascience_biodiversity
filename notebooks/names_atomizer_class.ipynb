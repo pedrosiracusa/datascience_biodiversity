{
 "cells": [
  {
   "cell_type": "markdown",
   "metadata": {},
   "source": [
    "# The Names Atomizer Class"
   ]
  },
  {
   "cell_type": "code",
   "execution_count": 1,
   "metadata": {
    "collapsed": true
   },
   "outputs": [],
   "source": [
    "import numpy as np\n",
    "import pandas as pd\n",
    "\n",
    "from modules.cleaning.names import namesFromString"
   ]
  },
  {
   "cell_type": "markdown",
   "metadata": {},
   "source": [
    "## Loading the dataset"
   ]
  },
  {
   "cell_type": "code",
   "execution_count": 2,
   "metadata": {
    "collapsed": true
   },
   "outputs": [],
   "source": [
    "dsetPath = '/home/pedro/datasets/ub_herbarium/occurrence.txt'"
   ]
  },
  {
   "cell_type": "code",
   "execution_count": 3,
   "metadata": {
    "collapsed": true
   },
   "outputs": [],
   "source": [
    "cols = ['recordedBy', 'scientificName', 'collectionCode']\n",
    "occs = pd.read_csv(dsetPath, sep='\\t',usecols=cols)"
   ]
  },
  {
   "cell_type": "markdown",
   "metadata": {},
   "source": [
    "## The NamesAtomizer class"
   ]
  },
  {
   "cell_type": "code",
   "execution_count": 4,
   "metadata": {},
   "outputs": [],
   "source": [
    "import json\n",
    "from collections import Counter\n",
    "class NamesAtomizer:\n",
    "    \n",
    "    def __init__(self, atomizeOp, replaces=None):\n",
    "        \"\"\"\n",
    "        The NamesAtomizer is built with an atomizing operation to be defined\n",
    "        as the instance's default and an optional list with names to be replaced.\n",
    "        Names to be replaced must be passed in a list of tuples, in any of the \n",
    "        following ways:\n",
    "        \n",
    "        >> rep = [('n1', 'correct_n1'), ('n2', 'correct_n2')]\n",
    "        or\n",
    "        >> rep = [(['n1','n1_2], 'correct_n1'), (['n2'], 'correct_n2')]\n",
    "        or\n",
    "        >> expr1 = lambda x: x.replace(';', '_')\n",
    "        >> expr2 = lambda x: x.replace('&', '_')\n",
    "        >> rep = [(['n1;1', 'n1;2'], expr1), (['n2&1', 'n2&2'], expr2)]\n",
    "        \n",
    "        Note that if you pass an expression as the second item of the tuple this expression\n",
    "        must evaluate in a string!\n",
    "        \"\"\"\n",
    "        self._replaces = self._buildReplaces(replaces)\n",
    "        self._operation = atomizeOp\n",
    "        self._cache = None\n",
    "\n",
    "\n",
    "    def _buildReplaces(self, replacesList):\n",
    "        \"\"\"\n",
    "        Builds a replaces dict from a list. The input list must contain tuples \n",
    "        in which the first element is a list of names strings that must be replaced\n",
    "        by the string in the tuple's second element. The second element can alternatively\n",
    "        be an expression that results in a names string.\n",
    "        \"\"\"\n",
    "        res = {}\n",
    "        \n",
    "        if replacesList is None:\n",
    "            return res\n",
    "        \n",
    "        for srcs,tgt in replacesList:\n",
    "            if isinstance(srcs, str):\n",
    "                src = srcs\n",
    "                res.update( {src:tgt(src)} if callable(tgt) else {src:tgt})\n",
    "                \n",
    "            elif isinstance(srcs, (list,tuple,set)):\n",
    "                for src in srcs:\n",
    "                    res.update( {src:tgt(src)} if callable(tgt) else {src:tgt} )\n",
    "\n",
    "            else:\n",
    "                raise ValueError(\"Invalid value '{0}' in '({0},{1})'. Must be either string or iterable\".format(srcs, tgt))\n",
    "                \n",
    "        return res\n",
    "                    \n",
    "    \n",
    "    def atomize(self, col, operation=None, withReplacing=True, cacheResult=True):\n",
    "        \"\"\"\n",
    "        This method takes a column with names strings and atomizes them\n",
    "        \n",
    "        Parameters\n",
    "        ----------\n",
    "        \n",
    "        col : pandas.Series\n",
    "            A column containing names strings to be atomized.   \n",
    "        \n",
    "        operation : function\n",
    "            If an operation is passed in it is used to atomize the column instead\n",
    "            of the instance's default operation.\n",
    "        \n",
    "        withReplacing : bool, default True\n",
    "            If set to True some names replacing is performed before atomization. \n",
    "        \n",
    "        cacheResult : bool, default True\n",
    "            If set to True the resulting series is cached for later use.\n",
    "        \"\"\"\n",
    "        if operation is None:\n",
    "            operation = self._operation\n",
    "        \n",
    "        if withReplacing:\n",
    "            col=col.replace(self._replaces)\n",
    "            \n",
    "        atomizedCol = col.apply(operation)\n",
    "        if cacheResult:\n",
    "            self._cache = (col, atomizedCol)\n",
    "        return atomizedCol\n",
    "    \n",
    "    \n",
    "    def addReplaces(self, replacesList):\n",
    "        replacesDict = self._buildReplaces(replacesList)\n",
    "        self._replaces.update(replacesDict)\n",
    "    \n",
    "    def write_replaces(self, filename):\n",
    "        \"\"\"\n",
    "        Writes replaces to a json file\n",
    "        \"\"\"\n",
    "        with open(filename,'w') as f:\n",
    "            d = {'_replaces':self._replaces}\n",
    "            json.dump(d, f, sort_keys=True, indent=4, ensure_ascii=False)\n",
    "            \n",
    "    def read_replaces(self, filepath, update=True):\n",
    "        \"\"\"\n",
    "        Reads replaces from a json file\n",
    "        \"\"\"\n",
    "        with open(filepath, 'r') as f:\n",
    "            data = json.load(f)\n",
    "            if update:\n",
    "                self._replaces.update( data['_replaces'] )\n",
    "            else:\n",
    "                self._replaces = data['_replaces']\n",
    "        \n",
    "    def getCachedNames(self, namesToFilter=['et al.'], sortingExp=lambda x: [len(x[0]),-x[2]]):\n",
    "        \"\"\"\n",
    "        This method uses data in the instance's cache.\n",
    "        Returns atomized names from the instance's cache. Names are associated to \n",
    "        their original namestring as well as the number of records they appear \n",
    "        in the dataset. The result is structured as a 3-tuple, with elements in \n",
    "        the same order stated above.\n",
    "        \n",
    "        Parameters\n",
    "        ----------\n",
    "        \n",
    "        namesToFilter : list\n",
    "            Names that should be ignored by the method. By default it ignores 'et al.'.\n",
    "        \n",
    "        sortingExp : function\n",
    "            An expression to be passed as key to sort the final result.\n",
    "            \n",
    "        Returns\n",
    "        -------\n",
    "        \n",
    "        A 3-tuple (u,v,w) where:\n",
    "          u = atomized name;\n",
    "          v = original name string that was used to atomize names;\n",
    "          w = count of the total occurrences of an atomized name in the dataset.\n",
    "        \"\"\"\n",
    "        c = self._cache\n",
    "        l = [ (n,nstr) for nstr,norm in zip(c[0],c[1]) for n in norm if n not in namesToFilter ]\n",
    "        ctr = Counter(i[0] for i in l)\n",
    "        return sorted([ (u,v,ctr[u]) for u,v in set(l) ],key=sortingExp)"
   ]
  },
  {
   "cell_type": "markdown",
   "metadata": {},
   "source": [
    "## Creating a Names Atomizer"
   ]
  },
  {
   "cell_type": "code",
   "execution_count": 5,
   "metadata": {
    "collapsed": true
   },
   "outputs": [],
   "source": [
    "# create atomizer object\n",
    "na = NamesAtomizer(namesFromString)"
   ]
  },
  {
   "cell_type": "markdown",
   "metadata": {},
   "source": [
    "### Before the replacement list"
   ]
  },
  {
   "cell_type": "code",
   "execution_count": 6,
   "metadata": {},
   "outputs": [
    {
     "data": {
      "text/plain": [
       "collectionCode                     UB\n",
       "recordedBy              Barbosa; M.G.\n",
       "scientificName       Sematophyllaceae\n",
       "recordedBy_1      ['Barbosa', 'M.G.']\n",
       "Name: 123889, dtype: object"
      ]
     },
     "execution_count": 6,
     "metadata": {},
     "output_type": "execute_result"
    }
   ],
   "source": [
    "occs['recordedBy_1'] = na.atomize(occs['recordedBy'].astype(str))\n",
    "occs.iloc[123889].astype(str)"
   ]
  },
  {
   "cell_type": "markdown",
   "metadata": {},
   "source": [
    "### Using the replacement list"
   ]
  },
  {
   "cell_type": "code",
   "execution_count": 7,
   "metadata": {
    "collapsed": true
   },
   "outputs": [],
   "source": [
    "# define the replacement list\n",
    "rep = [ \n",
    "    ('Sr. Air, Sr. Milton, Rodrigo', \"Sr. Air; Sr. Milton; Rodrigo\"),\n",
    "    ('Sônia / Josefina', \"Sônia; Josefina\"),\n",
    "    ('Hatschbach, G; M.', \"Hatschbach, G; Hatschbach, M\"),\n",
    "    ('Irwin, HS; Souza, R; Santos; RR', \"Irwin, HS; Souza, R; Santos, RR\"),\n",
    "    ('Kirkbride Junior, JH; Ono; E.K.M; et al.', \"Kirkbride Junior, JH; Ono, E.K.M; et al.\"),\n",
    "    ('Carboni, M; Faraco, AG; Soares; P.G.; Sampaio, D; Breier, TB', \"Carboni, M; Faraco, AG; Soares, P.G.; Sampaio, D; Breier, TB\"),\n",
    "    ('Silva; D.R.; Colvéquia; L.P.T', \"Silva, D.R.; Colvéquia, L.P.T\"),\n",
    "    (['Quintiliano; F.J.; Colvéquia; L.P.T; Silva; D.R.'], \"Quintiliano, F.J.; Colvéquia, L.P.T; Silva, D.R.\"),\n",
    "    \n",
    "    (['Yushun.; K.', \n",
    "      'Barbosa; M.G.',\n",
    "      'Hällström; E.',\n",
    "      'Bueno; S.B.'], \n",
    "            lambda x: x.replace(';',',')\n",
    "    ),   \n",
    "]\n",
    "\n",
    "# add replaces to the Names Atomizer\n",
    "na.addReplaces(rep)\n",
    "\n",
    "# store the result in a new column in the dataframe\n",
    "occs['recordedBy_2'] = na.atomize(occs['recordedBy'].astype(str))"
   ]
  },
  {
   "cell_type": "code",
   "execution_count": 8,
   "metadata": {},
   "outputs": [
    {
     "data": {
      "text/plain": [
       "collectionCode                     UB\n",
       "recordedBy              Barbosa; M.G.\n",
       "scientificName       Sematophyllaceae\n",
       "recordedBy_1      ['Barbosa', 'M.G.']\n",
       "recordedBy_2        ['Barbosa, M.G.']\n",
       "Name: 123889, dtype: object"
      ]
     },
     "execution_count": 8,
     "metadata": {},
     "output_type": "execute_result"
    }
   ],
   "source": [
    "occs.iloc[123889].astype(str)"
   ]
  },
  {
   "cell_type": "markdown",
   "metadata": {},
   "source": [
    "## Writing a Names Atomizer replacement dict to json"
   ]
  },
  {
   "cell_type": "code",
   "execution_count": 9,
   "metadata": {
    "collapsed": true
   },
   "outputs": [],
   "source": [
    "na.write_replaces('ub_collectors_replaces.json')"
   ]
  },
  {
   "cell_type": "code",
   "execution_count": 17,
   "metadata": {},
   "outputs": [
    {
     "name": "stdout",
     "output_type": "stream",
     "text": [
      "{\n",
      "    \"_replaces\": {\n",
      "        \"Barbosa; M.G.\": \"Barbosa, M.G.\",\n",
      "        \"Bueno; S.B.\": \"Bueno, S.B.\",\n",
      "        \"Carboni, M; Faraco, AG; Soares; P.G.; Sampaio, D; Breier, TB\": \"Carboni, M; Faraco, AG; Soares, P.G.; Sampaio, D; Breier, TB\",\n",
      "        \"Hatschbach, G; M.\": \"Hatschbach, G; Hatschbach, M\",\n",
      "        \"Hällström; E.\": \"Hällström, E.\",\n",
      "        \"Irwin, HS; Souza, R; Santos; RR\": \"Irwin, HS; Souza, R; Santos, RR\",\n",
      "        \"Kirkbride Junior, JH; Ono; E.K.M; et al.\": \"Kirkbride Junior, JH; Ono, E.K.M; et al.\",\n",
      "        \"Quintiliano; F.J.; Colvéquia; L.P.T; Silva; D.R.\": \"Quintiliano, F.J.; Colvéquia, L.P.T; Silva, D.R.\",\n",
      "        \"Silva; D.R.; Colvéquia; L.P.T\": \"Silva, D.R.; Colvéquia, L.P.T\",\n",
      "        \"Sr. Air, Sr. Milton, Rodrigo\": \"Sr. Air; Sr. Milton; Rodrigo\",\n",
      "        \"Sônia / Josefina\": \"Sônia; Josefina\",\n",
      "        \"Yushun.; K.\": \"Yushun., K.\"\n",
      "    }\n",
      "}"
     ]
    }
   ],
   "source": [
    "%%bash\n",
    "cat ub_collectors_replaces.json"
   ]
  },
  {
   "cell_type": "markdown",
   "metadata": {},
   "source": [
    "## Loading a replacement dict from json"
   ]
  },
  {
   "cell_type": "code",
   "execution_count": 11,
   "metadata": {
    "collapsed": true
   },
   "outputs": [],
   "source": [
    "na2 = NamesAtomizer(namesFromString)\n",
    "na2.addReplaces([('a','correct_a')]) # this will be kept if update is set to True in read_replaces\n",
    "na2.read_replaces('./rep.json')"
   ]
  },
  {
   "cell_type": "code",
   "execution_count": 12,
   "metadata": {},
   "outputs": [
    {
     "data": {
      "text/plain": [
       "{'Barbosa; M.G.': 'Barbosa, M.G.',\n",
       " 'Bueno; S.B.': 'Bueno, S.B.',\n",
       " 'Carboni, M; Faraco, AG; Soares; P.G.; Sampaio, D; Breier, TB': 'Carboni, M; Faraco, AG; Soares, P.G.; Sampaio, D; Breier, TB',\n",
       " 'Hatschbach, G; M.': 'Hatschbach, G; Hatschbach, M',\n",
       " 'Hällström; E.': 'Hällström, E.',\n",
       " 'Irwin, HS; Souza, R; Santos; RR': 'Irwin, HS; Souza, R; Santos, RR',\n",
       " 'Kirkbride Junior, JH; Ono; E.K.M; et al.': 'Kirkbride Junior, JH; Ono, E.K.M; et al.',\n",
       " 'Quintiliano; F.J.; Colvéquia; L.P.T; Silva; D.R.': 'Quintiliano, F.J.; Colvéquia, L.P.T; Silva, D.R.',\n",
       " 'Silva; D.R.; Colvéquia; L.P.T': 'Silva, D.R.; Colvéquia, L.P.T',\n",
       " 'Sr. Air, Sr. Milton, Rodrigo': 'Sr. Air; Sr. Milton; Rodrigo',\n",
       " 'Sônia / Josefina': 'Sônia; Josefina',\n",
       " 'Yushun.; K.': 'Yushun., K.',\n",
       " 'a': 'correct_a'}"
      ]
     },
     "execution_count": 12,
     "metadata": {},
     "output_type": "execute_result"
    }
   ],
   "source": [
    "na2._replaces"
   ]
  },
  {
   "cell_type": "markdown",
   "metadata": {},
   "source": [
    "## Getting cached result from last atomizing operation"
   ]
  },
  {
   "cell_type": "code",
   "execution_count": 13,
   "metadata": {},
   "outputs": [
    {
     "name": "stdout",
     "output_type": "stream",
     "text": [
      "? in ?: 130\n",
      "S in Martins, DS; Câmara, PEAS; Amorim, PRF; Costa, DP; Faria, JEQ; Carvalho, AM; Gonzaga, RMO; S: 80\n",
      "O in Oliveira, RC; Moura, CO; Cardoso, AGT; Sonsin, J; Cordeiro, AOO; Million, JL; Antunes, LLC; O: 1\n",
      "P in Sasaki, D; Pedroga, JA; Corrêa, TR; P; Piva, JH: 1\n",
      "R in Farias, R; Carvalho, AM; Carvalho, JA; Fonsêca, LM; Proença, CEB; Potzernheim, ML; R: 1\n",
      ". in Faria, JEQ; Carvalho-Silva, M; Câmara, PEAS; .; Soares, AER; Teixeira Júnior, AQ; Benedete: 1\n",
      "F in F: 1\n",
      "Nu in Faria, JEQ; Campos, LZO; Ibrahim, M; Martins, RC; Caires, CS; Meneguzzo, TEC; Souza, LF; Nu: 20\n",
      "FO in FO: 1\n",
      "Fl in Lucas, EJ; Mazine-Capelo, FF; Kollmann, L; Brummitt, NA; Campos, OR; Fl: 1\n",
      "Si in Ratter, JA; Bridgewater, S; Cardoso, E; Lima, V; Munhoz, CBR; Oliveira, NR; Ribeiro, JF; Si: 1\n",
      "Iri in Iri: 93\n",
      "Ben in Faria, JEQ; Carvalho-Silva, M; Câmara, PEAS; Gama, R; Soares, AER; Teixeira Júnior, AQ; Ben: 68\n",
      "Car in Faria, JEQ; Câmara, PEAS; Costa, DP; Martins, DS; Amorim, PRF; Sousa, RV; Gonzaga, RMO; Car: 44\n",
      "Ana in Barroso, GM; Ana; Maria, J: 22\n",
      "Ana in José, Maria; Ana; Barroso, GM: 22\n",
      "Ana in Barroso, GM; Maria, J; Ana: 22\n",
      "Ana in Graziela; José, M; Ana: 22\n",
      "Ana in Barroso, GM; José, M; Ana: 22\n",
      "nan in nan: 9\n",
      "PLK in Márcio; PLK: 5\n",
      "PLK in PLK; Marilene: 5\n",
      "PLK in PLK: 5\n",
      "Cid in Cid; Ramos; Mota; Rosas: 1\n",
      "JJB in JJB: 1\n",
      "Edy in Benício; Nelson; Edy: 1\n",
      "Ros in Pirani, JR; Furlan, A; Cordeiro, I; Amaral, MCE; Menezes, NL; Ros: 1\n",
      "DAF in DAF: 1\n",
      "Ule in Ule: 1\n",
      "PKL in PKL; Eliana: 1\n",
      "Bid in Guedes, ML; Bid; Carla: 1\n",
      "Bw. in Bw.: 1\n",
      "Otto in Meneguzzo, TEC; Ibrahim, M; Faria, JEQ; Caires, CS; Campos, LZO; Martins, RC; Otto: 72\n",
      "Ipse in Ipse: 45\n",
      "Feep in Feep: 42\n",
      "Lóla in Meneguzzo, TEC; Ibrahim, M; Faria, JEQ; Caires, CS; Campos, LZO; Martins, RC; Lóla: 41\n",
      "Maia in Maia: 20\n",
      "Maia in Maia; Eunice: 20\n",
      "Maia in Maia; Alcina: 20\n",
      "Caio in Ana Paula; Caio; Gabriel; Maria; William: 7\n",
      "Caio in Paula, A; Maria; Gabriel; Caio; William: 7\n",
      "Caio in Paula, A; Maria; Caio; William; Gabriel: 7\n",
      "Caio in Ana Paula; Gabriel; Caio; William; Maria: 7\n",
      "Caio in Emília, M; Ana Paula; Caio; William: 7\n",
      "Caio in Paula, A; Caio; Gabriel; Maria; William: 7\n",
      "Luiz in Luiz: 5\n",
      "Erly in Barbosa, M; Erly: 4\n",
      "João in Faria, I; Eliane; João: 4\n",
      "Wong in Wong: 4\n",
      "UFJF in UFJF: 3\n",
      "Mota in Prance, GT; Amaral, IL; Pipoly, JJ; Tavares, AS; Silva, MG; Mota: 3\n",
      "Melo in Melo; França, F: 3\n",
      "Melo in Melo; França: 3\n",
      "Mota in Cid; Ramos; Mota; Rosas: 3\n",
      "JRBM in JRBM: 2\n",
      "JRBM in JRBM; Laneto, MA: 2\n",
      "Wall in Wall: 2\n",
      "Lelo in Urbanetz, C; Mariuza; Domingos; Lelo: 2\n",
      "Edna in Edna: 2\n",
      "C.M. in Lammers, TG; Rodriguez, R; Baeza, P; C.M.: 2\n",
      "Edna in Conceição, CA; Edna: 2\n",
      "C.M. in Lammers, TG; Rodriguez, R; C.M.; Baeza, P: 2\n",
      "L, D in Smith, LB; Magnanini, A; Silva, SLO; L, D: 1\n",
      "Enio in Maria; Roberto; Sandro; Enio: 1\n",
      "E.H. in E.H.: 1\n",
      "Luís in Luís: 1\n",
      "Adão in Adão: 1\n",
      "A.M. in A.M.: 1\n",
      "Igor in Tiago; Ana Clara; Igor; Tayas, C: 1\n",
      "S.B. in Seijo, GJ; S.B.: 1\n",
      "M.P. in M.P.: 1\n",
      "Moro in Moro: 1\n",
      "R.M. in Godfrey, RK; Tryon Jr.; R.M.: 1\n",
      "UFRJ in UFRJ: 1\n",
      "Neto in Neto: 1\n",
      "Gunn in Gunn: 1\n",
      "E.M. in Ribeiro, JELS; Ramos, JF; Santana f.; E.M.; Souza, SS: 1\n",
      "Tmex in Tmex: 1\n",
      "King in King: 1\n",
      "Fiek in Fiek: 1\n",
      "Sena in Sena: 1\n",
      "Ivan in Ivan: 1\n",
      "Nilo in Pires, JM; Black; Wurdack, J; Nilo: 1\n",
      "Rodri in Matos, MQ; Haidar, RF; Fagg, CW; Felfili, JM; Mendonça, RC; Proença, CEB; Farias, R; Rodri: 53\n",
      "Senna in Senna: 34\n",
      "Senna in Senna; et al.: 34\n",
      "Klein in Reitz, PR; Klein: 23\n",
      "Klein in Reitz, R; Klein: 23\n",
      "Klein in Reitz; Klein: 23\n",
      "Klein in Black, GA; Klein: 23\n",
      "Klein in Klein; Souza, S: 23\n",
      "Klein in Klein; Souza, S; Bresolin: 23\n",
      "Klein in Klein; Bresolin: 23\n",
      "Smith in Smith: 11\n",
      "Gates in Gates, B; Gates; Estabrook, GF: 11\n",
      "Gates in Gates; Estabrook: 11\n",
      "Gates in Gates; Estabrook, GF: 11\n",
      "Mitzi in Irnaldo; Mitzi; Barroso, GM: 11\n",
      "Mitzi in Graziela; Mitzi; José, M; Lima, A: 11\n",
      "Mitzi in Barroso, GM; Mitzi; José, M; Lima, A: 11\n",
      "\n"
     ]
    }
   ],
   "source": [
    "print(''.join( u+\" in \"+v+\": \"+str(w)+'\\n' for u,v,w in na.getCachedNames()[:100] ))"
   ]
  }
 ],
 "metadata": {
  "kernelspec": {
   "display_name": "Python 3",
   "language": "python",
   "name": "python3"
  },
  "language_info": {
   "codemirror_mode": {
    "name": "ipython",
    "version": 3
   },
   "file_extension": ".py",
   "mimetype": "text/x-python",
   "name": "python",
   "nbconvert_exporter": "python",
   "pygments_lexer": "ipython3",
   "version": "3.6.1"
  }
 },
 "nbformat": 4,
 "nbformat_minor": 2
}
