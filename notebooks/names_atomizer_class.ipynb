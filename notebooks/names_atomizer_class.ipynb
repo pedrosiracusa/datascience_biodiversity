{
 "cells": [
  {
   "cell_type": "markdown",
   "metadata": {},
   "source": [
    "# The Names Atomizer Class"
   ]
  },
  {
   "cell_type": "code",
   "execution_count": 1,
   "metadata": {},
   "outputs": [],
   "source": [
    "import numpy as np\n",
    "import pandas as pd\n",
    "\n",
    "from modules.cleaning.names import namesFromString"
   ]
  },
  {
   "cell_type": "markdown",
   "metadata": {},
   "source": [
    "## Loading the dataset"
   ]
  },
  {
   "cell_type": "code",
   "execution_count": 2,
   "metadata": {
    "collapsed": true
   },
   "outputs": [],
   "source": [
    "dsetPath = '/home/pedro/datasets/ub_herbarium/occurrence.txt'"
   ]
  },
  {
   "cell_type": "code",
   "execution_count": 3,
   "metadata": {
    "collapsed": true
   },
   "outputs": [],
   "source": [
    "cols = ['recordedBy', 'scientificName', 'collectionCode']\n",
    "occs = pd.read_csv(dsetPath, sep='\\t',usecols=cols)"
   ]
  },
  {
   "cell_type": "markdown",
   "metadata": {},
   "source": [
    "## The NamesAtomizer class"
   ]
  },
  {
   "cell_type": "code",
   "execution_count": 4,
   "metadata": {},
   "outputs": [],
   "source": [
    "import json\n",
    "class NamesAtomizer:\n",
    "    \n",
    "    def __init__(self, atomizeOp, replaces=None):\n",
    "        \"\"\"\n",
    "        The NamesAtomizer is built with an atomizing operation to be defined\n",
    "        as the instance's default and an optional list with names to be replaced.\n",
    "        Names to be replaced must be passed in a list of tuples, in any of the \n",
    "        following ways:\n",
    "        \n",
    "        >> rep = [('n1', 'correct_n1'), ('n2', 'correct_n2')]\n",
    "        or\n",
    "        >> rep = [(['n1','n1_2], 'correct_n1'), (['n2'], 'correct_n2')]\n",
    "        or\n",
    "        >> expr1 = lambda x: x.replace(';', '_')\n",
    "        >> expr2 = lambda x: x.replace('&', '_')\n",
    "        >> rep = [(['n1;1', 'n1;2'], expr1), (['n2&1', 'n2&2'], expr2)]\n",
    "        \n",
    "        Note that if you pass an expression as the second item of the tuple this expression\n",
    "        must evaluate in a string!\n",
    "        \"\"\"\n",
    "        self._replaces = self._buildReplaces(replaces)\n",
    "        self._operation = atomizeOp\n",
    "\n",
    "\n",
    "    def _buildReplaces(self, replacesList):\n",
    "        \"\"\"\n",
    "        Builds a replaces dict from a list. The input list must contain tuples \n",
    "        in which the first element is a list of names strings that must be replaced\n",
    "        by the string in the tuple's second element. The second element can alternatively\n",
    "        be an expression that results in a names string.\n",
    "        \"\"\"\n",
    "        res = {}\n",
    "        \n",
    "        if replacesList is None:\n",
    "            return res\n",
    "        \n",
    "        for srcs,tgt in replacesList:\n",
    "            if isinstance(srcs, str):\n",
    "                src = srcs\n",
    "                res.update( {src:tgt(src)} if callable(tgt) else {src:tgt})\n",
    "                \n",
    "            elif isinstance(srcs, (list,tuple,set)):\n",
    "                for src in srcs:\n",
    "                    res.update( {src:tgt(src)} if callable(tgt) else {src:tgt} )\n",
    "\n",
    "            else:\n",
    "                raise ValueError(\"Invalid value '{0}' in '({0},{1})'. Must be either string or iterable\".format(srcs, tgt))\n",
    "                \n",
    "        return res\n",
    "                    \n",
    "    \n",
    "    def atomize(self, col, operation=None, withReplacing=True):\n",
    "        \"\"\"\n",
    "        This method takes a column with names strings and atomizes them\n",
    "        \n",
    "        Parameters\n",
    "        ----------\n",
    "        col : pandas.Series\n",
    "            A column containing names strings to be atomized.   \n",
    "        \n",
    "        operation : function\n",
    "            If an operation is passed in it is used to atomize the column instead\n",
    "            of the instance's default operation.\n",
    "        \n",
    "        withReplacing : bool, default True\n",
    "            If set to true some names replacing is performed before atomization \n",
    "        \"\"\"\n",
    "        if operation is None:\n",
    "            operation = self._operation\n",
    "        \n",
    "        if withReplacing:\n",
    "            col=col.replace(self._replaces)\n",
    "            \n",
    "        atomizedCol = col.apply(operation)\n",
    "        return atomizedCol\n",
    "    \n",
    "    \n",
    "    def addReplaces(self, replacesList):\n",
    "        replacesDict = self._buildReplaces(replacesList)\n",
    "        self._replaces.update(replacesDict)\n",
    "    \n",
    "    def write_replaces(self, filename):\n",
    "        \"\"\"\n",
    "        Writes replaces to a json file\n",
    "        \"\"\"\n",
    "        with open(filename,'w') as f:\n",
    "            d = {'_replaces':self._replaces}\n",
    "            json.dump(d, f, sort_keys=True, indent=4, ensure_ascii=False)\n",
    "            \n",
    "    def read_replaces(self, filepath, update=True):\n",
    "        \"\"\"\n",
    "        Reads replaces from a json file\n",
    "        \"\"\"\n",
    "        with open(filepath, 'r') as f:\n",
    "            data = json.load(f)\n",
    "            if update:\n",
    "                self._replaces.update( data['_replaces'] )\n",
    "            else:\n",
    "                self._replaces = data['_replaces']\n",
    "        \n",
    "    def suggest(self):\n",
    "        pass"
   ]
  },
  {
   "cell_type": "markdown",
   "metadata": {},
   "source": [
    "## Creating a Names Atomizer"
   ]
  },
  {
   "cell_type": "code",
   "execution_count": 5,
   "metadata": {
    "collapsed": true
   },
   "outputs": [],
   "source": [
    "# create atomizer object\n",
    "na = NamesAtomizer(namesFromString)"
   ]
  },
  {
   "cell_type": "markdown",
   "metadata": {},
   "source": [
    "### Before the replacement list"
   ]
  },
  {
   "cell_type": "code",
   "execution_count": 6,
   "metadata": {},
   "outputs": [
    {
     "data": {
      "text/plain": [
       "collectionCode                     UB\n",
       "recordedBy              Barbosa; M.G.\n",
       "scientificName       Sematophyllaceae\n",
       "recordedBy_1      ['Barbosa', 'M.G.']\n",
       "Name: 123889, dtype: object"
      ]
     },
     "execution_count": 6,
     "metadata": {},
     "output_type": "execute_result"
    }
   ],
   "source": [
    "occs['recordedBy_1'] = na.atomize(occs['recordedBy'].astype(str))\n",
    "occs.iloc[123889].astype(str)"
   ]
  },
  {
   "cell_type": "markdown",
   "metadata": {},
   "source": [
    "### Using the replacement list"
   ]
  },
  {
   "cell_type": "code",
   "execution_count": 7,
   "metadata": {},
   "outputs": [],
   "source": [
    "# define the replacement list\n",
    "rep = [ \n",
    "    ('Sr. Air, Sr. Milton, Rodrigo', \"Sr. Air; Sr. Milton; Rodrigo\"),\n",
    "    ('Sônia / Josefina', \"Sônia; Josefina\"),\n",
    "    ('Hatschbach, G; M.', \"Hatschbach, G; Hatschbach, M\"),\n",
    "    ('Irwin, HS; Souza, R; Santos; RR', \"Irwin, HS; Souza, R; Santos, RR\"),\n",
    "    ('Kirkbride Junior, JH; Ono; E.K.M; et al.', \"Kirkbride Junior, JH; Ono, E.K.M; et al.\"),\n",
    "    ('Carboni, M; Faraco, AG; Soares; P.G.; Sampaio, D; Breier, TB', \"Carboni, M; Faraco, AG; Soares, P.G.; Sampaio, D; Breier, TB\"),\n",
    "    ('Silva; D.R.; Colvéquia; L.P.T', \"Silva, D.R.; Colvéquia, L.P.T\"),\n",
    "    (['Quintiliano; F.J.; Colvéquia; L.P.T; Silva; D.R.'], \"Quintiliano, F.J.; Colvéquia, L.P.T; Silva, D.R.\"),\n",
    "    \n",
    "    (['Yushun.; K.', \n",
    "      'Barbosa; M.G.',\n",
    "      'Hällström; E.',\n",
    "      'Bueno; S.B.'], \n",
    "            lambda x: x.replace(';',',')\n",
    "    ),   \n",
    "]\n",
    "\n",
    "# add replaces to the Names Atomizer\n",
    "na.addReplaces(rep)\n",
    "\n",
    "# store the result in a new column in the dataframe\n",
    "occs['recordedBy_2'] = na.atomize(occs['recordedBy'].astype(str))"
   ]
  },
  {
   "cell_type": "code",
   "execution_count": 8,
   "metadata": {},
   "outputs": [
    {
     "data": {
      "text/plain": [
       "collectionCode                     UB\n",
       "recordedBy              Barbosa; M.G.\n",
       "scientificName       Sematophyllaceae\n",
       "recordedBy_1      ['Barbosa', 'M.G.']\n",
       "recordedBy_2        ['Barbosa, M.G.']\n",
       "Name: 123889, dtype: object"
      ]
     },
     "execution_count": 8,
     "metadata": {},
     "output_type": "execute_result"
    }
   ],
   "source": [
    "occs.iloc[123889].astype(str)"
   ]
  },
  {
   "cell_type": "markdown",
   "metadata": {},
   "source": [
    "## Writing a Names Atomizer replacement dict to json"
   ]
  },
  {
   "cell_type": "code",
   "execution_count": 9,
   "metadata": {
    "collapsed": true
   },
   "outputs": [],
   "source": [
    "na.write_replaces('rep.json')"
   ]
  },
  {
   "cell_type": "code",
   "execution_count": 10,
   "metadata": {},
   "outputs": [
    {
     "name": "stdout",
     "output_type": "stream",
     "text": [
      "{\n",
      "    \"_replaces\": {\n",
      "        \"Barbosa; M.G.\": \"Barbosa, M.G.\",\n",
      "        \"Bueno; S.B.\": \"Bueno, S.B.\",\n",
      "        \"Carboni, M; Faraco, AG; Soares; P.G.; Sampaio, D; Breier, TB\": \"Carboni, M; Faraco, AG; Soares, P.G.; Sampaio, D; Breier, TB\",\n",
      "        \"Hatschbach, G; M.\": \"Hatschbach, G; Hatschbach, M\",\n",
      "        \"Hällström; E.\": \"Hällström, E.\",\n",
      "        \"Irwin, HS; Souza, R; Santos; RR\": \"Irwin, HS; Souza, R; Santos, RR\",\n",
      "        \"Kirkbride Junior, JH; Ono; E.K.M; et al.\": \"Kirkbride Junior, JH; Ono, E.K.M; et al.\",\n",
      "        \"Quintiliano; F.J.; Colvéquia; L.P.T; Silva; D.R.\": \"Quintiliano, F.J.; Colvéquia, L.P.T; Silva, D.R.\",\n",
      "        \"Silva; D.R.; Colvéquia; L.P.T\": \"Silva, D.R.; Colvéquia, L.P.T\",\n",
      "        \"Sr. Air, Sr. Milton, Rodrigo\": \"Sr. Air; Sr. Milton; Rodrigo\",\n",
      "        \"Sônia / Josefina\": \"Sônia; Josefina\",\n",
      "        \"Yushun.; K.\": \"Yushun., K.\"\n",
      "    }\n",
      "}"
     ]
    }
   ],
   "source": [
    "%%bash\n",
    "cat .rep.json"
   ]
  },
  {
   "cell_type": "markdown",
   "metadata": {},
   "source": [
    "## Loading a replacement dict from json"
   ]
  },
  {
   "cell_type": "code",
   "execution_count": 13,
   "metadata": {},
   "outputs": [],
   "source": [
    "na2 = NamesAtomizer(namesFromString)\n",
    "na2.addReplaces([('a','correct_a')]) # this will be kept if update is set to True in read_replaces\n",
    "na2.read_replaces('./rep.json')"
   ]
  },
  {
   "cell_type": "code",
   "execution_count": 14,
   "metadata": {},
   "outputs": [
    {
     "data": {
      "text/plain": [
       "{'Barbosa; M.G.': 'Barbosa, M.G.',\n",
       " 'Bueno; S.B.': 'Bueno, S.B.',\n",
       " 'Carboni, M; Faraco, AG; Soares; P.G.; Sampaio, D; Breier, TB': 'Carboni, M; Faraco, AG; Soares, P.G.; Sampaio, D; Breier, TB',\n",
       " 'Hatschbach, G; M.': 'Hatschbach, G; Hatschbach, M',\n",
       " 'Hällström; E.': 'Hällström, E.',\n",
       " 'Irwin, HS; Souza, R; Santos; RR': 'Irwin, HS; Souza, R; Santos, RR',\n",
       " 'Kirkbride Junior, JH; Ono; E.K.M; et al.': 'Kirkbride Junior, JH; Ono, E.K.M; et al.',\n",
       " 'Quintiliano; F.J.; Colvéquia; L.P.T; Silva; D.R.': 'Quintiliano, F.J.; Colvéquia, L.P.T; Silva, D.R.',\n",
       " 'Silva; D.R.; Colvéquia; L.P.T': 'Silva, D.R.; Colvéquia, L.P.T',\n",
       " 'Sr. Air, Sr. Milton, Rodrigo': 'Sr. Air; Sr. Milton; Rodrigo',\n",
       " 'Sônia / Josefina': 'Sônia; Josefina',\n",
       " 'Yushun.; K.': 'Yushun., K.'}"
      ]
     },
     "execution_count": 14,
     "metadata": {},
     "output_type": "execute_result"
    }
   ],
   "source": [
    "na2._replaces"
   ]
  }
 ],
 "metadata": {
  "kernelspec": {
   "display_name": "Python 3",
   "language": "python",
   "name": "python3"
  },
  "language_info": {
   "codemirror_mode": {
    "name": "ipython",
    "version": 3
   },
   "file_extension": ".py",
   "mimetype": "text/x-python",
   "name": "python",
   "nbconvert_exporter": "python",
   "pygments_lexer": "ipython3",
   "version": "3.6.1"
  }
 },
 "nbformat": 4,
 "nbformat_minor": 2
}
